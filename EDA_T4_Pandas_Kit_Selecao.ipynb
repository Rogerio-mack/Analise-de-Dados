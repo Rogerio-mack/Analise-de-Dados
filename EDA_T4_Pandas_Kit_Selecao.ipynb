{
  "nbformat": 4,
  "nbformat_minor": 0,
  "metadata": {
    "colab": {
      "name": "EDA_T4_Pandas_Kit_Selecao.ipynb",
      "provenance": [],
      "collapsed_sections": [],
      "authorship_tag": "ABX9TyMQSqrdXNIFiB+Q2FxU5s8x",
      "include_colab_link": true
    },
    "kernelspec": {
      "name": "python3",
      "display_name": "Python 3"
    },
    "language_info": {
      "name": "python"
    }
  },
  "cells": [
    {
      "cell_type": "markdown",
      "metadata": {
        "id": "view-in-github",
        "colab_type": "text"
      },
      "source": [
        "<a href=\"https://colab.research.google.com/github/Rogerio-mack/Analise-de-Dados/blob/main/EDA_T4_Pandas_Kit_Selecao.ipynb\" target=\"_parent\"><img src=\"https://colab.research.google.com/assets/colab-badge.svg\" alt=\"Open In Colab\"/></a>"
      ]
    },
    {
      "cell_type": "markdown",
      "metadata": {
        "id": "bqXGIpvwnhQi"
      },
      "source": [
        "<head>\n",
        "  <meta name=\"author\" content=\"Rogério de Oliveira\">\n",
        "  <meta institution=\"author\" content=\"Universidade Presbiteriana Mackenzie\">\n",
        "</head>\n",
        "\n",
        "<img src=\"http://meusite.mackenzie.br/rogerio/mackenzie_logo/UPM.2_horizontal_vermelho.jpg\" width=300, align=\"right\"></a>\n",
        "<!-- <h1 align=left><font size = 6, style=\"color:rgb(200,0,0)\"> optional title </font></h1> -->\n"
      ]
    },
    {
      "cell_type": "markdown",
      "metadata": {
        "id": "KL4z4PmunhQj"
      },
      "source": [
        "<h1 align=left><font size = 6, style=\"color:rgb(200,0,0)\">Dataframes: Seleção de Dados</font></h1>\n",
        "<hr>"
      ]
    },
    {
      "cell_type": "markdown",
      "metadata": {
        "id": "HUDHeJrDd39v"
      },
      "source": [
        "# kit de seleção com dados da carteira do IBOVESPA\n",
        "\n",
        "http://www.b3.com.br/pt_br/market-data-e-indices/indices/indices-amplos/indice-ibovespa-ibovespa-composicao-da-carteira.htm"
      ]
    },
    {
      "cell_type": "code",
      "metadata": {
        "id": "XUD9uQTzOtUE"
      },
      "source": [
        "import pandas as pd\n",
        "import numpy as np\n",
        "\n",
        "df = pd.read_excel('http://meusite.mackenzie.br/rogerio/data_load/ibovespa.xlsx')\n"
      ],
      "execution_count": 1,
      "outputs": []
    },
    {
      "cell_type": "markdown",
      "metadata": {
        "id": "C3fN3Hy7RWL_"
      },
      "source": [
        "# Exploração da Estrutura dos Dados"
      ]
    },
    {
      "cell_type": "code",
      "metadata": {
        "colab": {
          "base_uri": "https://localhost:8080/",
          "height": 204
        },
        "id": "x68ddZcCI46s",
        "outputId": "84af48b3-aa71-46ca-f145-a2afb3dde13f"
      },
      "source": [
        "df.head()"
      ],
      "execution_count": 2,
      "outputs": [
        {
          "output_type": "execute_result",
          "data": {
            "text/html": [
              "<div>\n",
              "<style scoped>\n",
              "    .dataframe tbody tr th:only-of-type {\n",
              "        vertical-align: middle;\n",
              "    }\n",
              "\n",
              "    .dataframe tbody tr th {\n",
              "        vertical-align: top;\n",
              "    }\n",
              "\n",
              "    .dataframe thead th {\n",
              "        text-align: right;\n",
              "    }\n",
              "</style>\n",
              "<table border=\"1\" class=\"dataframe\">\n",
              "  <thead>\n",
              "    <tr style=\"text-align: right;\">\n",
              "      <th></th>\n",
              "      <th>Código</th>\n",
              "      <th>Ação</th>\n",
              "      <th>Tipo</th>\n",
              "      <th>Qtde. Teórica</th>\n",
              "      <th>Part. (%)</th>\n",
              "    </tr>\n",
              "  </thead>\n",
              "  <tbody>\n",
              "    <tr>\n",
              "      <th>0</th>\n",
              "      <td>ALPA4</td>\n",
              "      <td>ALPARGATAS</td>\n",
              "      <td>PN N1</td>\n",
              "      <td>167963777</td>\n",
              "      <td>0.426</td>\n",
              "    </tr>\n",
              "    <tr>\n",
              "      <th>1</th>\n",
              "      <td>ABEV3</td>\n",
              "      <td>AMBEV S/A</td>\n",
              "      <td>ON</td>\n",
              "      <td>4358814864</td>\n",
              "      <td>3.135</td>\n",
              "    </tr>\n",
              "    <tr>\n",
              "      <th>2</th>\n",
              "      <td>AMER3</td>\n",
              "      <td>AMERICANAS</td>\n",
              "      <td>ON NM</td>\n",
              "      <td>546064815</td>\n",
              "      <td>0.984</td>\n",
              "    </tr>\n",
              "    <tr>\n",
              "      <th>3</th>\n",
              "      <td>ASAI3</td>\n",
              "      <td>ASSAI</td>\n",
              "      <td>ON NM</td>\n",
              "      <td>794116430</td>\n",
              "      <td>0.637</td>\n",
              "    </tr>\n",
              "    <tr>\n",
              "      <th>4</th>\n",
              "      <td>AZUL4</td>\n",
              "      <td>AZUL</td>\n",
              "      <td>PN N2</td>\n",
              "      <td>327741172</td>\n",
              "      <td>0.505</td>\n",
              "    </tr>\n",
              "  </tbody>\n",
              "</table>\n",
              "</div>"
            ],
            "text/plain": [
              "  Código        Ação   Tipo  Qtde. Teórica  Part. (%)\n",
              "0  ALPA4  ALPARGATAS  PN N1      167963777      0.426\n",
              "1  ABEV3   AMBEV S/A     ON     4358814864      3.135\n",
              "2  AMER3  AMERICANAS  ON NM      546064815      0.984\n",
              "3  ASAI3       ASSAI  ON NM      794116430      0.637\n",
              "4  AZUL4        AZUL  PN N2      327741172      0.505"
            ]
          },
          "metadata": {},
          "execution_count": 2
        }
      ]
    },
    {
      "cell_type": "code",
      "metadata": {
        "colab": {
          "base_uri": "https://localhost:8080/"
        },
        "id": "8_hN1uxsI_qq",
        "outputId": "abd3e408-4116-4d61-bd0d-218f12559cb0"
      },
      "source": [
        "len(df)"
      ],
      "execution_count": 3,
      "outputs": [
        {
          "output_type": "execute_result",
          "data": {
            "text/plain": [
              "91"
            ]
          },
          "metadata": {},
          "execution_count": 3
        }
      ]
    },
    {
      "cell_type": "code",
      "metadata": {
        "colab": {
          "base_uri": "https://localhost:8080/"
        },
        "id": "QjVnFrSSJNLc",
        "outputId": "171ca1e5-5338-47a5-b730-8783cd09de20"
      },
      "source": [
        "df.shape"
      ],
      "execution_count": 4,
      "outputs": [
        {
          "output_type": "execute_result",
          "data": {
            "text/plain": [
              "(91, 5)"
            ]
          },
          "metadata": {},
          "execution_count": 4
        }
      ]
    },
    {
      "cell_type": "code",
      "metadata": {
        "colab": {
          "base_uri": "https://localhost:8080/",
          "height": 390
        },
        "id": "xzRnyWEJJgYi",
        "outputId": "95e835da-1fc0-404f-b909-18a591c817ad"
      },
      "source": [
        "df.describe(include='all')"
      ],
      "execution_count": 5,
      "outputs": [
        {
          "output_type": "execute_result",
          "data": {
            "text/html": [
              "<div>\n",
              "<style scoped>\n",
              "    .dataframe tbody tr th:only-of-type {\n",
              "        vertical-align: middle;\n",
              "    }\n",
              "\n",
              "    .dataframe tbody tr th {\n",
              "        vertical-align: top;\n",
              "    }\n",
              "\n",
              "    .dataframe thead th {\n",
              "        text-align: right;\n",
              "    }\n",
              "</style>\n",
              "<table border=\"1\" class=\"dataframe\">\n",
              "  <thead>\n",
              "    <tr style=\"text-align: right;\">\n",
              "      <th></th>\n",
              "      <th>Código</th>\n",
              "      <th>Ação</th>\n",
              "      <th>Tipo</th>\n",
              "      <th>Qtde. Teórica</th>\n",
              "      <th>Part. (%)</th>\n",
              "    </tr>\n",
              "  </thead>\n",
              "  <tbody>\n",
              "    <tr>\n",
              "      <th>count</th>\n",
              "      <td>91</td>\n",
              "      <td>91</td>\n",
              "      <td>91</td>\n",
              "      <td>9.100000e+01</td>\n",
              "      <td>91.000000</td>\n",
              "    </tr>\n",
              "    <tr>\n",
              "      <th>unique</th>\n",
              "      <td>91</td>\n",
              "      <td>87</td>\n",
              "      <td>14</td>\n",
              "      <td>NaN</td>\n",
              "      <td>NaN</td>\n",
              "    </tr>\n",
              "    <tr>\n",
              "      <th>top</th>\n",
              "      <td>LWSA3</td>\n",
              "      <td>PETROBRAS</td>\n",
              "      <td>ON NM</td>\n",
              "      <td>NaN</td>\n",
              "      <td>NaN</td>\n",
              "    </tr>\n",
              "    <tr>\n",
              "      <th>freq</th>\n",
              "      <td>1</td>\n",
              "      <td>2</td>\n",
              "      <td>54</td>\n",
              "      <td>NaN</td>\n",
              "      <td>NaN</td>\n",
              "    </tr>\n",
              "    <tr>\n",
              "      <th>mean</th>\n",
              "      <td>NaN</td>\n",
              "      <td>NaN</td>\n",
              "      <td>NaN</td>\n",
              "      <td>1.002543e+09</td>\n",
              "      <td>1.098901</td>\n",
              "    </tr>\n",
              "    <tr>\n",
              "      <th>std</th>\n",
              "      <td>NaN</td>\n",
              "      <td>NaN</td>\n",
              "      <td>NaN</td>\n",
              "      <td>1.207173e+09</td>\n",
              "      <td>1.752412</td>\n",
              "    </tr>\n",
              "    <tr>\n",
              "      <th>min</th>\n",
              "      <td>NaN</td>\n",
              "      <td>NaN</td>\n",
              "      <td>NaN</td>\n",
              "      <td>8.574828e+07</td>\n",
              "      <td>0.085000</td>\n",
              "    </tr>\n",
              "    <tr>\n",
              "      <th>25%</th>\n",
              "      <td>NaN</td>\n",
              "      <td>NaN</td>\n",
              "      <td>NaN</td>\n",
              "      <td>2.897075e+08</td>\n",
              "      <td>0.301000</td>\n",
              "    </tr>\n",
              "    <tr>\n",
              "      <th>50%</th>\n",
              "      <td>NaN</td>\n",
              "      <td>NaN</td>\n",
              "      <td>NaN</td>\n",
              "      <td>5.921146e+08</td>\n",
              "      <td>0.586000</td>\n",
              "    </tr>\n",
              "    <tr>\n",
              "      <th>75%</th>\n",
              "      <td>NaN</td>\n",
              "      <td>NaN</td>\n",
              "      <td>NaN</td>\n",
              "      <td>1.154481e+09</td>\n",
              "      <td>1.159500</td>\n",
              "    </tr>\n",
              "    <tr>\n",
              "      <th>max</th>\n",
              "      <td>NaN</td>\n",
              "      <td>NaN</td>\n",
              "      <td>NaN</td>\n",
              "      <td>6.079531e+09</td>\n",
              "      <td>13.912000</td>\n",
              "    </tr>\n",
              "  </tbody>\n",
              "</table>\n",
              "</div>"
            ],
            "text/plain": [
              "       Código       Ação   Tipo  Qtde. Teórica  Part. (%)\n",
              "count      91         91     91   9.100000e+01  91.000000\n",
              "unique     91         87     14            NaN        NaN\n",
              "top     LWSA3  PETROBRAS  ON NM            NaN        NaN\n",
              "freq        1          2     54            NaN        NaN\n",
              "mean      NaN        NaN    NaN   1.002543e+09   1.098901\n",
              "std       NaN        NaN    NaN   1.207173e+09   1.752412\n",
              "min       NaN        NaN    NaN   8.574828e+07   0.085000\n",
              "25%       NaN        NaN    NaN   2.897075e+08   0.301000\n",
              "50%       NaN        NaN    NaN   5.921146e+08   0.586000\n",
              "75%       NaN        NaN    NaN   1.154481e+09   1.159500\n",
              "max       NaN        NaN    NaN   6.079531e+09  13.912000"
            ]
          },
          "metadata": {},
          "execution_count": 5
        }
      ]
    },
    {
      "cell_type": "code",
      "metadata": {
        "colab": {
          "base_uri": "https://localhost:8080/"
        },
        "id": "zuqjvzggJ3BN",
        "outputId": "ed30422c-75d6-4c8d-cf60-c0c619f7daff"
      },
      "source": [
        "df.Tipo.value_counts()"
      ],
      "execution_count": 6,
      "outputs": [
        {
          "output_type": "execute_result",
          "data": {
            "text/plain": [
              "ON NM        54\n",
              "PN N1        10\n",
              "UNT N2        6\n",
              "PN N2         4\n",
              "ON            3\n",
              "PNB N1        2\n",
              "PNA N1        2\n",
              "ON N2         2\n",
              "ON EJ NM      2\n",
              "ON N1         2\n",
              "ON ED NM      1\n",
              "ON EDJ NM     1\n",
              "ON EB NM      1\n",
              "UNT           1\n",
              "Name: Tipo, dtype: int64"
            ]
          },
          "metadata": {},
          "execution_count": 6
        }
      ]
    },
    {
      "cell_type": "code",
      "metadata": {
        "colab": {
          "base_uri": "https://localhost:8080/",
          "height": 204
        },
        "id": "gvSPs9__KcTS",
        "outputId": "29f7de13-d3d4-4080-8816-9a26b47fdaed"
      },
      "source": [
        "df.nlargest(5,'Part. (%)')"
      ],
      "execution_count": 7,
      "outputs": [
        {
          "output_type": "execute_result",
          "data": {
            "text/html": [
              "<div>\n",
              "<style scoped>\n",
              "    .dataframe tbody tr th:only-of-type {\n",
              "        vertical-align: middle;\n",
              "    }\n",
              "\n",
              "    .dataframe tbody tr th {\n",
              "        vertical-align: top;\n",
              "    }\n",
              "\n",
              "    .dataframe thead th {\n",
              "        text-align: right;\n",
              "    }\n",
              "</style>\n",
              "<table border=\"1\" class=\"dataframe\">\n",
              "  <thead>\n",
              "    <tr style=\"text-align: right;\">\n",
              "      <th></th>\n",
              "      <th>Código</th>\n",
              "      <th>Ação</th>\n",
              "      <th>Tipo</th>\n",
              "      <th>Qtde. Teórica</th>\n",
              "      <th>Part. (%)</th>\n",
              "    </tr>\n",
              "  </thead>\n",
              "  <tbody>\n",
              "    <tr>\n",
              "      <th>87</th>\n",
              "      <td>VALE3</td>\n",
              "      <td>VALE</td>\n",
              "      <td>ON NM</td>\n",
              "      <td>3380233503</td>\n",
              "      <td>13.912</td>\n",
              "    </tr>\n",
              "    <tr>\n",
              "      <th>51</th>\n",
              "      <td>ITUB4</td>\n",
              "      <td>ITAUUNIBANCO</td>\n",
              "      <td>PN N1</td>\n",
              "      <td>4780002924</td>\n",
              "      <td>6.062</td>\n",
              "    </tr>\n",
              "    <tr>\n",
              "      <th>68</th>\n",
              "      <td>PETR4</td>\n",
              "      <td>PETROBRAS</td>\n",
              "      <td>PN N2</td>\n",
              "      <td>4566511125</td>\n",
              "      <td>5.170</td>\n",
              "    </tr>\n",
              "    <tr>\n",
              "      <th>12</th>\n",
              "      <td>BBDC4</td>\n",
              "      <td>BRADESCO</td>\n",
              "      <td>PN N1</td>\n",
              "      <td>4691427537</td>\n",
              "      <td>4.357</td>\n",
              "    </tr>\n",
              "    <tr>\n",
              "      <th>67</th>\n",
              "      <td>PETR3</td>\n",
              "      <td>PETROBRAS</td>\n",
              "      <td>ON N2</td>\n",
              "      <td>3426385188</td>\n",
              "      <td>3.999</td>\n",
              "    </tr>\n",
              "  </tbody>\n",
              "</table>\n",
              "</div>"
            ],
            "text/plain": [
              "   Código          Ação   Tipo  Qtde. Teórica  Part. (%)\n",
              "87  VALE3          VALE  ON NM     3380233503     13.912\n",
              "51  ITUB4  ITAUUNIBANCO  PN N1     4780002924      6.062\n",
              "68  PETR4     PETROBRAS  PN N2     4566511125      5.170\n",
              "12  BBDC4      BRADESCO  PN N1     4691427537      4.357\n",
              "67  PETR3     PETROBRAS  ON N2     3426385188      3.999"
            ]
          },
          "metadata": {},
          "execution_count": 7
        }
      ]
    },
    {
      "cell_type": "markdown",
      "metadata": {
        "id": "BE5eZlyMRcE1"
      },
      "source": [
        "# Seleção de Colunas"
      ]
    },
    {
      "cell_type": "code",
      "metadata": {
        "colab": {
          "base_uri": "https://localhost:8080/"
        },
        "id": "66NiZAXRLO2C",
        "outputId": "9facfdbb-3b02-4d1e-a47e-bf5e01f615bb"
      },
      "source": [
        "df.columns"
      ],
      "execution_count": 8,
      "outputs": [
        {
          "output_type": "execute_result",
          "data": {
            "text/plain": [
              "Index(['Código', 'Ação', 'Tipo', 'Qtde. Teórica', 'Part. (%)'], dtype='object')"
            ]
          },
          "metadata": {},
          "execution_count": 8
        }
      ]
    },
    {
      "cell_type": "markdown",
      "metadata": {
        "id": "dUQ4yv8sRqxo"
      },
      "source": [
        "## Uma coluna em `Serie`: `df.coluna` ou `df[ 'coluna' ]`"
      ]
    },
    {
      "cell_type": "code",
      "metadata": {
        "colab": {
          "base_uri": "https://localhost:8080/"
        },
        "id": "A7ufxQSKLYFc",
        "outputId": "4680fc41-0f3a-495b-c549-87634ea6ad78"
      },
      "source": [
        "df.Tipo"
      ],
      "execution_count": 9,
      "outputs": [
        {
          "output_type": "execute_result",
          "data": {
            "text/plain": [
              "0      PN N1\n",
              "1         ON\n",
              "2      ON NM\n",
              "3      ON NM\n",
              "4      PN N2\n",
              "       ...  \n",
              "86    PNA N1\n",
              "87     ON NM\n",
              "88     ON NM\n",
              "89     ON NM\n",
              "90     ON NM\n",
              "Name: Tipo, Length: 91, dtype: object"
            ]
          },
          "metadata": {},
          "execution_count": 9
        }
      ]
    },
    {
      "cell_type": "code",
      "metadata": {
        "colab": {
          "base_uri": "https://localhost:8080/"
        },
        "id": "pG0tVQPeMHIf",
        "outputId": "37b11836-7ea0-4021-deea-422fa671a951"
      },
      "source": [
        "df['Tipo']"
      ],
      "execution_count": 10,
      "outputs": [
        {
          "output_type": "execute_result",
          "data": {
            "text/plain": [
              "0      PN N1\n",
              "1         ON\n",
              "2      ON NM\n",
              "3      ON NM\n",
              "4      PN N2\n",
              "       ...  \n",
              "86    PNA N1\n",
              "87     ON NM\n",
              "88     ON NM\n",
              "89     ON NM\n",
              "90     ON NM\n",
              "Name: Tipo, Length: 91, dtype: object"
            ]
          },
          "metadata": {},
          "execution_count": 10
        }
      ]
    },
    {
      "cell_type": "code",
      "metadata": {
        "colab": {
          "base_uri": "https://localhost:8080/"
        },
        "id": "4xK8XZE2MUZK",
        "outputId": "92ea26dc-c9cb-4587-e5db-95b4ffd17253"
      },
      "source": [
        "df['Part. (%)']"
      ],
      "execution_count": 12,
      "outputs": [
        {
          "output_type": "execute_result",
          "data": {
            "text/plain": [
              "0      0.426\n",
              "1      3.135\n",
              "2      0.984\n",
              "3      0.637\n",
              "4      0.505\n",
              "       ...  \n",
              "86     0.353\n",
              "87    13.912\n",
              "88     0.632\n",
              "89     2.558\n",
              "90     0.326\n",
              "Name: Part. (%), Length: 91, dtype: float64"
            ]
          },
          "metadata": {},
          "execution_count": 12
        }
      ]
    },
    {
      "cell_type": "code",
      "metadata": {
        "colab": {
          "base_uri": "https://localhost:8080/"
        },
        "id": "ZvLMqBi8MkfM",
        "outputId": "d3c70402-4dcc-4ac3-f702-f06f67390b11"
      },
      "source": [
        "df['Part. (%)'].sum() # max(), min(), var(), ..."
      ],
      "execution_count": 13,
      "outputs": [
        {
          "output_type": "execute_result",
          "data": {
            "text/plain": [
              "100.0"
            ]
          },
          "metadata": {},
          "execution_count": 13
        }
      ]
    },
    {
      "cell_type": "code",
      "metadata": {
        "colab": {
          "base_uri": "https://localhost:8080/"
        },
        "id": "a1IYO5txM5JW",
        "outputId": "eff1b229-9604-4420-9562-922f7562b99c"
      },
      "source": [
        "df.Tipo.value_counts()"
      ],
      "execution_count": 16,
      "outputs": [
        {
          "output_type": "execute_result",
          "data": {
            "text/plain": [
              "ON NM        54\n",
              "PN N1        10\n",
              "UNT N2        6\n",
              "PN N2         4\n",
              "ON            3\n",
              "PNB N1        2\n",
              "PNA N1        2\n",
              "ON N2         2\n",
              "ON EJ NM      2\n",
              "ON N1         2\n",
              "ON ED NM      1\n",
              "ON EDJ NM     1\n",
              "ON EB NM      1\n",
              "UNT           1\n",
              "Name: Tipo, dtype: int64"
            ]
          },
          "metadata": {},
          "execution_count": 16
        }
      ]
    },
    {
      "cell_type": "markdown",
      "metadata": {
        "id": "P4nPTXM2Tpc1"
      },
      "source": [
        "## Mais que uma coluna `DataFrame`: `df[ ['coluna1','coluna2',... ] ]`"
      ]
    },
    {
      "cell_type": "code",
      "metadata": {
        "colab": {
          "base_uri": "https://localhost:8080/"
        },
        "id": "qpewe3W_OJFG",
        "outputId": "c914a6e7-ea67-49cf-d87d-d6243aa9a56e"
      },
      "source": [
        "df.columns"
      ],
      "execution_count": 17,
      "outputs": [
        {
          "output_type": "execute_result",
          "data": {
            "text/plain": [
              "Index(['Código', 'Ação', 'Tipo', 'Qtde. Teórica', 'Part. (%)'], dtype='object')"
            ]
          },
          "metadata": {},
          "execution_count": 17
        }
      ]
    },
    {
      "cell_type": "code",
      "metadata": {
        "colab": {
          "base_uri": "https://localhost:8080/",
          "height": 419
        },
        "id": "N4TKiLbyOL0N",
        "outputId": "8ce9a532-429b-4d2e-c6b5-5aea58d5b94b"
      },
      "source": [
        "df[ ['Código', 'Ação', 'Part. (%)'] ]"
      ],
      "execution_count": 18,
      "outputs": [
        {
          "output_type": "execute_result",
          "data": {
            "text/html": [
              "<div>\n",
              "<style scoped>\n",
              "    .dataframe tbody tr th:only-of-type {\n",
              "        vertical-align: middle;\n",
              "    }\n",
              "\n",
              "    .dataframe tbody tr th {\n",
              "        vertical-align: top;\n",
              "    }\n",
              "\n",
              "    .dataframe thead th {\n",
              "        text-align: right;\n",
              "    }\n",
              "</style>\n",
              "<table border=\"1\" class=\"dataframe\">\n",
              "  <thead>\n",
              "    <tr style=\"text-align: right;\">\n",
              "      <th></th>\n",
              "      <th>Código</th>\n",
              "      <th>Ação</th>\n",
              "      <th>Part. (%)</th>\n",
              "    </tr>\n",
              "  </thead>\n",
              "  <tbody>\n",
              "    <tr>\n",
              "      <th>0</th>\n",
              "      <td>ALPA4</td>\n",
              "      <td>ALPARGATAS</td>\n",
              "      <td>0.426</td>\n",
              "    </tr>\n",
              "    <tr>\n",
              "      <th>1</th>\n",
              "      <td>ABEV3</td>\n",
              "      <td>AMBEV S/A</td>\n",
              "      <td>3.135</td>\n",
              "    </tr>\n",
              "    <tr>\n",
              "      <th>2</th>\n",
              "      <td>AMER3</td>\n",
              "      <td>AMERICANAS</td>\n",
              "      <td>0.984</td>\n",
              "    </tr>\n",
              "    <tr>\n",
              "      <th>3</th>\n",
              "      <td>ASAI3</td>\n",
              "      <td>ASSAI</td>\n",
              "      <td>0.637</td>\n",
              "    </tr>\n",
              "    <tr>\n",
              "      <th>4</th>\n",
              "      <td>AZUL4</td>\n",
              "      <td>AZUL</td>\n",
              "      <td>0.505</td>\n",
              "    </tr>\n",
              "    <tr>\n",
              "      <th>...</th>\n",
              "      <td>...</td>\n",
              "      <td>...</td>\n",
              "      <td>...</td>\n",
              "    </tr>\n",
              "    <tr>\n",
              "      <th>86</th>\n",
              "      <td>USIM5</td>\n",
              "      <td>USIMINAS</td>\n",
              "      <td>0.353</td>\n",
              "    </tr>\n",
              "    <tr>\n",
              "      <th>87</th>\n",
              "      <td>VALE3</td>\n",
              "      <td>VALE</td>\n",
              "      <td>13.912</td>\n",
              "    </tr>\n",
              "    <tr>\n",
              "      <th>88</th>\n",
              "      <td>VIIA3</td>\n",
              "      <td>VIA</td>\n",
              "      <td>0.632</td>\n",
              "    </tr>\n",
              "    <tr>\n",
              "      <th>89</th>\n",
              "      <td>WEGE3</td>\n",
              "      <td>WEG</td>\n",
              "      <td>2.558</td>\n",
              "    </tr>\n",
              "    <tr>\n",
              "      <th>90</th>\n",
              "      <td>YDUQ3</td>\n",
              "      <td>YDUQS PART</td>\n",
              "      <td>0.326</td>\n",
              "    </tr>\n",
              "  </tbody>\n",
              "</table>\n",
              "<p>91 rows × 3 columns</p>\n",
              "</div>"
            ],
            "text/plain": [
              "   Código        Ação  Part. (%)\n",
              "0   ALPA4  ALPARGATAS      0.426\n",
              "1   ABEV3   AMBEV S/A      3.135\n",
              "2   AMER3  AMERICANAS      0.984\n",
              "3   ASAI3       ASSAI      0.637\n",
              "4   AZUL4        AZUL      0.505\n",
              "..    ...         ...        ...\n",
              "86  USIM5    USIMINAS      0.353\n",
              "87  VALE3        VALE     13.912\n",
              "88  VIIA3         VIA      0.632\n",
              "89  WEGE3         WEG      2.558\n",
              "90  YDUQ3  YDUQS PART      0.326\n",
              "\n",
              "[91 rows x 3 columns]"
            ]
          },
          "metadata": {},
          "execution_count": 18
        }
      ]
    },
    {
      "cell_type": "code",
      "metadata": {
        "colab": {
          "base_uri": "https://localhost:8080/",
          "height": 204
        },
        "id": "pwwfDNKeObZh",
        "outputId": "72b8d3e9-e9dd-4d7a-ea01-9e93e1b55764"
      },
      "source": [
        "df_resumo = df[ ['Código', 'Ação', 'Part. (%)'] ]\n",
        "\n",
        "df_resumo.head()"
      ],
      "execution_count": 22,
      "outputs": [
        {
          "output_type": "execute_result",
          "data": {
            "text/html": [
              "<div>\n",
              "<style scoped>\n",
              "    .dataframe tbody tr th:only-of-type {\n",
              "        vertical-align: middle;\n",
              "    }\n",
              "\n",
              "    .dataframe tbody tr th {\n",
              "        vertical-align: top;\n",
              "    }\n",
              "\n",
              "    .dataframe thead th {\n",
              "        text-align: right;\n",
              "    }\n",
              "</style>\n",
              "<table border=\"1\" class=\"dataframe\">\n",
              "  <thead>\n",
              "    <tr style=\"text-align: right;\">\n",
              "      <th></th>\n",
              "      <th>Código</th>\n",
              "      <th>Ação</th>\n",
              "      <th>Part. (%)</th>\n",
              "    </tr>\n",
              "  </thead>\n",
              "  <tbody>\n",
              "    <tr>\n",
              "      <th>0</th>\n",
              "      <td>ALPA4</td>\n",
              "      <td>ALPARGATAS</td>\n",
              "      <td>0.426</td>\n",
              "    </tr>\n",
              "    <tr>\n",
              "      <th>1</th>\n",
              "      <td>ABEV3</td>\n",
              "      <td>AMBEV S/A</td>\n",
              "      <td>3.135</td>\n",
              "    </tr>\n",
              "    <tr>\n",
              "      <th>2</th>\n",
              "      <td>AMER3</td>\n",
              "      <td>AMERICANAS</td>\n",
              "      <td>0.984</td>\n",
              "    </tr>\n",
              "    <tr>\n",
              "      <th>3</th>\n",
              "      <td>ASAI3</td>\n",
              "      <td>ASSAI</td>\n",
              "      <td>0.637</td>\n",
              "    </tr>\n",
              "    <tr>\n",
              "      <th>4</th>\n",
              "      <td>AZUL4</td>\n",
              "      <td>AZUL</td>\n",
              "      <td>0.505</td>\n",
              "    </tr>\n",
              "  </tbody>\n",
              "</table>\n",
              "</div>"
            ],
            "text/plain": [
              "  Código        Ação  Part. (%)\n",
              "0  ALPA4  ALPARGATAS      0.426\n",
              "1  ABEV3   AMBEV S/A      3.135\n",
              "2  AMER3  AMERICANAS      0.984\n",
              "3  ASAI3       ASSAI      0.637\n",
              "4  AZUL4        AZUL      0.505"
            ]
          },
          "metadata": {},
          "execution_count": 22
        }
      ]
    },
    {
      "cell_type": "code",
      "metadata": {
        "colab": {
          "base_uri": "https://localhost:8080/"
        },
        "id": "KhdNqhsiOhQW",
        "outputId": "a26b62ec-89d2-4c72-f2b0-8ed85911d4d0"
      },
      "source": [
        "len(df_resumo)"
      ],
      "execution_count": 20,
      "outputs": [
        {
          "output_type": "execute_result",
          "data": {
            "text/plain": [
              "91"
            ]
          },
          "metadata": {},
          "execution_count": 20
        }
      ]
    },
    {
      "cell_type": "markdown",
      "metadata": {
        "id": "IlIbR6_yVMMl"
      },
      "source": [
        "## `df[ ['coluna'] ]` é igual a `df[ 'coluna' ]` ?"
      ]
    },
    {
      "cell_type": "code",
      "metadata": {
        "colab": {
          "base_uri": "https://localhost:8080/"
        },
        "id": "cQDtx0D0OvLN",
        "outputId": "61a8bae6-574d-47a4-de3a-b9a66f90ba48"
      },
      "source": [
        "df[ 'Tipo' ] "
      ],
      "execution_count": 28,
      "outputs": [
        {
          "output_type": "execute_result",
          "data": {
            "text/plain": [
              "0      PN N1\n",
              "1         ON\n",
              "2      ON NM\n",
              "3      ON NM\n",
              "4      PN N2\n",
              "       ...  \n",
              "86    PNA N1\n",
              "87     ON NM\n",
              "88     ON NM\n",
              "89     ON NM\n",
              "90     ON NM\n",
              "Name: Tipo, Length: 91, dtype: object"
            ]
          },
          "metadata": {},
          "execution_count": 28
        }
      ]
    },
    {
      "cell_type": "code",
      "metadata": {
        "colab": {
          "base_uri": "https://localhost:8080/",
          "height": 419
        },
        "id": "BMV2kNNHO0WO",
        "outputId": "6a4abdb7-cae3-47c2-c17f-8ae0322fc6a2"
      },
      "source": [
        "df[ ['Tipo'] ] "
      ],
      "execution_count": 30,
      "outputs": [
        {
          "output_type": "execute_result",
          "data": {
            "text/html": [
              "<div>\n",
              "<style scoped>\n",
              "    .dataframe tbody tr th:only-of-type {\n",
              "        vertical-align: middle;\n",
              "    }\n",
              "\n",
              "    .dataframe tbody tr th {\n",
              "        vertical-align: top;\n",
              "    }\n",
              "\n",
              "    .dataframe thead th {\n",
              "        text-align: right;\n",
              "    }\n",
              "</style>\n",
              "<table border=\"1\" class=\"dataframe\">\n",
              "  <thead>\n",
              "    <tr style=\"text-align: right;\">\n",
              "      <th></th>\n",
              "      <th>Tipo</th>\n",
              "    </tr>\n",
              "  </thead>\n",
              "  <tbody>\n",
              "    <tr>\n",
              "      <th>0</th>\n",
              "      <td>PN N1</td>\n",
              "    </tr>\n",
              "    <tr>\n",
              "      <th>1</th>\n",
              "      <td>ON</td>\n",
              "    </tr>\n",
              "    <tr>\n",
              "      <th>2</th>\n",
              "      <td>ON NM</td>\n",
              "    </tr>\n",
              "    <tr>\n",
              "      <th>3</th>\n",
              "      <td>ON NM</td>\n",
              "    </tr>\n",
              "    <tr>\n",
              "      <th>4</th>\n",
              "      <td>PN N2</td>\n",
              "    </tr>\n",
              "    <tr>\n",
              "      <th>...</th>\n",
              "      <td>...</td>\n",
              "    </tr>\n",
              "    <tr>\n",
              "      <th>86</th>\n",
              "      <td>PNA N1</td>\n",
              "    </tr>\n",
              "    <tr>\n",
              "      <th>87</th>\n",
              "      <td>ON NM</td>\n",
              "    </tr>\n",
              "    <tr>\n",
              "      <th>88</th>\n",
              "      <td>ON NM</td>\n",
              "    </tr>\n",
              "    <tr>\n",
              "      <th>89</th>\n",
              "      <td>ON NM</td>\n",
              "    </tr>\n",
              "    <tr>\n",
              "      <th>90</th>\n",
              "      <td>ON NM</td>\n",
              "    </tr>\n",
              "  </tbody>\n",
              "</table>\n",
              "<p>91 rows × 1 columns</p>\n",
              "</div>"
            ],
            "text/plain": [
              "      Tipo\n",
              "0    PN N1\n",
              "1       ON\n",
              "2    ON NM\n",
              "3    ON NM\n",
              "4    PN N2\n",
              "..     ...\n",
              "86  PNA N1\n",
              "87   ON NM\n",
              "88   ON NM\n",
              "89   ON NM\n",
              "90   ON NM\n",
              "\n",
              "[91 rows x 1 columns]"
            ]
          },
          "metadata": {},
          "execution_count": 30
        }
      ]
    },
    {
      "cell_type": "code",
      "metadata": {
        "id": "2XQ2NilNPiKG"
      },
      "source": [
        "df[ ['Tipo'] ].info()"
      ],
      "execution_count": null,
      "outputs": []
    },
    {
      "cell_type": "code",
      "metadata": {
        "colab": {
          "base_uri": "https://localhost:8080/"
        },
        "id": "LKQLVE58Px3l",
        "outputId": "8328ccc9-a240-4b8f-f8bf-e56de6b24841"
      },
      "source": [
        "df['Part. (%)'].sum()"
      ],
      "execution_count": 31,
      "outputs": [
        {
          "output_type": "execute_result",
          "data": {
            "text/plain": [
              "100.0"
            ]
          },
          "metadata": {},
          "execution_count": 31
        }
      ]
    },
    {
      "cell_type": "code",
      "metadata": {
        "colab": {
          "base_uri": "https://localhost:8080/"
        },
        "id": "-oPij3X7P3XJ",
        "outputId": "0a0ddc29-ec4f-42a3-d702-2b2db1b0e2fa"
      },
      "source": [
        "df[['Part. (%)']].sum()"
      ],
      "execution_count": 32,
      "outputs": [
        {
          "output_type": "execute_result",
          "data": {
            "text/plain": [
              "Part. (%)    100.0\n",
              "dtype: float64"
            ]
          },
          "metadata": {},
          "execution_count": 32
        }
      ]
    },
    {
      "cell_type": "markdown",
      "metadata": {
        "id": "C9GDfPbXWm6C"
      },
      "source": [
        "# Selecionando Linhas: `df[ <criterio> ]` ( `df[ df.tipo_sangue == 'A+' ]` )"
      ]
    },
    {
      "cell_type": "code",
      "metadata": {
        "colab": {
          "base_uri": "https://localhost:8080/",
          "height": 204
        },
        "id": "jhaTAyNTQLQK",
        "outputId": "5019a233-746a-4e16-c4f1-8f74c375937e"
      },
      "source": [
        "df.head()"
      ],
      "execution_count": 33,
      "outputs": [
        {
          "output_type": "execute_result",
          "data": {
            "text/html": [
              "<div>\n",
              "<style scoped>\n",
              "    .dataframe tbody tr th:only-of-type {\n",
              "        vertical-align: middle;\n",
              "    }\n",
              "\n",
              "    .dataframe tbody tr th {\n",
              "        vertical-align: top;\n",
              "    }\n",
              "\n",
              "    .dataframe thead th {\n",
              "        text-align: right;\n",
              "    }\n",
              "</style>\n",
              "<table border=\"1\" class=\"dataframe\">\n",
              "  <thead>\n",
              "    <tr style=\"text-align: right;\">\n",
              "      <th></th>\n",
              "      <th>Código</th>\n",
              "      <th>Ação</th>\n",
              "      <th>Tipo</th>\n",
              "      <th>Qtde. Teórica</th>\n",
              "      <th>Part. (%)</th>\n",
              "    </tr>\n",
              "  </thead>\n",
              "  <tbody>\n",
              "    <tr>\n",
              "      <th>0</th>\n",
              "      <td>ALPA4</td>\n",
              "      <td>ALPARGATAS</td>\n",
              "      <td>PN N1</td>\n",
              "      <td>167963777</td>\n",
              "      <td>0.426</td>\n",
              "    </tr>\n",
              "    <tr>\n",
              "      <th>1</th>\n",
              "      <td>ABEV3</td>\n",
              "      <td>AMBEV S/A</td>\n",
              "      <td>ON</td>\n",
              "      <td>4358814864</td>\n",
              "      <td>3.135</td>\n",
              "    </tr>\n",
              "    <tr>\n",
              "      <th>2</th>\n",
              "      <td>AMER3</td>\n",
              "      <td>AMERICANAS</td>\n",
              "      <td>ON NM</td>\n",
              "      <td>546064815</td>\n",
              "      <td>0.984</td>\n",
              "    </tr>\n",
              "    <tr>\n",
              "      <th>3</th>\n",
              "      <td>ASAI3</td>\n",
              "      <td>ASSAI</td>\n",
              "      <td>ON NM</td>\n",
              "      <td>794116430</td>\n",
              "      <td>0.637</td>\n",
              "    </tr>\n",
              "    <tr>\n",
              "      <th>4</th>\n",
              "      <td>AZUL4</td>\n",
              "      <td>AZUL</td>\n",
              "      <td>PN N2</td>\n",
              "      <td>327741172</td>\n",
              "      <td>0.505</td>\n",
              "    </tr>\n",
              "  </tbody>\n",
              "</table>\n",
              "</div>"
            ],
            "text/plain": [
              "  Código        Ação   Tipo  Qtde. Teórica  Part. (%)\n",
              "0  ALPA4  ALPARGATAS  PN N1      167963777      0.426\n",
              "1  ABEV3   AMBEV S/A     ON     4358814864      3.135\n",
              "2  AMER3  AMERICANAS  ON NM      546064815      0.984\n",
              "3  ASAI3       ASSAI  ON NM      794116430      0.637\n",
              "4  AZUL4        AZUL  PN N2      327741172      0.505"
            ]
          },
          "metadata": {},
          "execution_count": 33
        }
      ]
    },
    {
      "cell_type": "code",
      "metadata": {
        "colab": {
          "base_uri": "https://localhost:8080/",
          "height": 1000
        },
        "id": "bTwhoqt9QiCr",
        "outputId": "3cd4e060-1f32-49fd-d336-c63f2847f7eb"
      },
      "source": [
        "df[ df.Tipo == 'ON NM' ]"
      ],
      "execution_count": 35,
      "outputs": [
        {
          "output_type": "execute_result",
          "data": {
            "text/html": [
              "<div>\n",
              "<style scoped>\n",
              "    .dataframe tbody tr th:only-of-type {\n",
              "        vertical-align: middle;\n",
              "    }\n",
              "\n",
              "    .dataframe tbody tr th {\n",
              "        vertical-align: top;\n",
              "    }\n",
              "\n",
              "    .dataframe thead th {\n",
              "        text-align: right;\n",
              "    }\n",
              "</style>\n",
              "<table border=\"1\" class=\"dataframe\">\n",
              "  <thead>\n",
              "    <tr style=\"text-align: right;\">\n",
              "      <th></th>\n",
              "      <th>Código</th>\n",
              "      <th>Ação</th>\n",
              "      <th>Tipo</th>\n",
              "      <th>Qtde. Teórica</th>\n",
              "      <th>Part. (%)</th>\n",
              "    </tr>\n",
              "  </thead>\n",
              "  <tbody>\n",
              "    <tr>\n",
              "      <th>2</th>\n",
              "      <td>AMER3</td>\n",
              "      <td>AMERICANAS</td>\n",
              "      <td>ON NM</td>\n",
              "      <td>546064815</td>\n",
              "      <td>0.984</td>\n",
              "    </tr>\n",
              "    <tr>\n",
              "      <th>3</th>\n",
              "      <td>ASAI3</td>\n",
              "      <td>ASSAI</td>\n",
              "      <td>ON NM</td>\n",
              "      <td>794116430</td>\n",
              "      <td>0.637</td>\n",
              "    </tr>\n",
              "    <tr>\n",
              "      <th>5</th>\n",
              "      <td>B3SA3</td>\n",
              "      <td>B3</td>\n",
              "      <td>ON NM</td>\n",
              "      <td>6079530858</td>\n",
              "      <td>3.758</td>\n",
              "    </tr>\n",
              "    <tr>\n",
              "      <th>9</th>\n",
              "      <td>BBSE3</td>\n",
              "      <td>BBSEGURIDADE</td>\n",
              "      <td>ON NM</td>\n",
              "      <td>671629692</td>\n",
              "      <td>0.577</td>\n",
              "    </tr>\n",
              "    <tr>\n",
              "      <th>10</th>\n",
              "      <td>BRML3</td>\n",
              "      <td>BR MALLS PAR</td>\n",
              "      <td>ON NM</td>\n",
              "      <td>843728684</td>\n",
              "      <td>0.322</td>\n",
              "    </tr>\n",
              "    <tr>\n",
              "      <th>16</th>\n",
              "      <td>BRFS3</td>\n",
              "      <td>BRF SA</td>\n",
              "      <td>ON NM</td>\n",
              "      <td>811759800</td>\n",
              "      <td>0.848</td>\n",
              "    </tr>\n",
              "    <tr>\n",
              "      <th>18</th>\n",
              "      <td>CRFB3</td>\n",
              "      <td>CARREFOUR BR</td>\n",
              "      <td>ON NM</td>\n",
              "      <td>410988561</td>\n",
              "      <td>0.336</td>\n",
              "    </tr>\n",
              "    <tr>\n",
              "      <th>19</th>\n",
              "      <td>CCRO3</td>\n",
              "      <td>CCR SA</td>\n",
              "      <td>ON NM</td>\n",
              "      <td>1115693556</td>\n",
              "      <td>0.574</td>\n",
              "    </tr>\n",
              "    <tr>\n",
              "      <th>21</th>\n",
              "      <td>HGTX3</td>\n",
              "      <td>CIA HERING</td>\n",
              "      <td>ON NM</td>\n",
              "      <td>117608748</td>\n",
              "      <td>0.187</td>\n",
              "    </tr>\n",
              "    <tr>\n",
              "      <th>22</th>\n",
              "      <td>CIEL3</td>\n",
              "      <td>CIELO</td>\n",
              "      <td>ON NM</td>\n",
              "      <td>1144359228</td>\n",
              "      <td>0.122</td>\n",
              "    </tr>\n",
              "    <tr>\n",
              "      <th>23</th>\n",
              "      <td>COGN3</td>\n",
              "      <td>COGNA ON</td>\n",
              "      <td>ON NM</td>\n",
              "      <td>1847994874</td>\n",
              "      <td>0.257</td>\n",
              "    </tr>\n",
              "    <tr>\n",
              "      <th>25</th>\n",
              "      <td>CSAN3</td>\n",
              "      <td>COSAN</td>\n",
              "      <td>ON NM</td>\n",
              "      <td>1169237744</td>\n",
              "      <td>1.202</td>\n",
              "    </tr>\n",
              "    <tr>\n",
              "      <th>26</th>\n",
              "      <td>CPFE3</td>\n",
              "      <td>CPFL ENERGIA</td>\n",
              "      <td>ON NM</td>\n",
              "      <td>187732538</td>\n",
              "      <td>0.229</td>\n",
              "    </tr>\n",
              "    <tr>\n",
              "      <th>27</th>\n",
              "      <td>CVCB3</td>\n",
              "      <td>CVC BRASIL</td>\n",
              "      <td>ON NM</td>\n",
              "      <td>224571661</td>\n",
              "      <td>0.212</td>\n",
              "    </tr>\n",
              "    <tr>\n",
              "      <th>28</th>\n",
              "      <td>CYRE3</td>\n",
              "      <td>CYRELA REALT</td>\n",
              "      <td>ON NM</td>\n",
              "      <td>281609283</td>\n",
              "      <td>0.243</td>\n",
              "    </tr>\n",
              "    <tr>\n",
              "      <th>29</th>\n",
              "      <td>DXCO3</td>\n",
              "      <td>DEXCO</td>\n",
              "      <td>ON NM</td>\n",
              "      <td>272062873</td>\n",
              "      <td>0.221</td>\n",
              "    </tr>\n",
              "    <tr>\n",
              "      <th>30</th>\n",
              "      <td>ECOR3</td>\n",
              "      <td>ECORODOVIAS</td>\n",
              "      <td>ON NM</td>\n",
              "      <td>339237914</td>\n",
              "      <td>0.147</td>\n",
              "    </tr>\n",
              "    <tr>\n",
              "      <th>33</th>\n",
              "      <td>EMBR3</td>\n",
              "      <td>EMBRAER</td>\n",
              "      <td>ON NM</td>\n",
              "      <td>734558205</td>\n",
              "      <td>0.685</td>\n",
              "    </tr>\n",
              "    <tr>\n",
              "      <th>34</th>\n",
              "      <td>ENBR3</td>\n",
              "      <td>ENERGIAS BR</td>\n",
              "      <td>ON NM</td>\n",
              "      <td>231489471</td>\n",
              "      <td>0.184</td>\n",
              "    </tr>\n",
              "    <tr>\n",
              "      <th>36</th>\n",
              "      <td>ENEV3</td>\n",
              "      <td>ENEVA</td>\n",
              "      <td>ON NM</td>\n",
              "      <td>1261568398</td>\n",
              "      <td>0.934</td>\n",
              "    </tr>\n",
              "    <tr>\n",
              "      <th>37</th>\n",
              "      <td>EGIE3</td>\n",
              "      <td>ENGIE BRASIL</td>\n",
              "      <td>ON NM</td>\n",
              "      <td>255217329</td>\n",
              "      <td>0.439</td>\n",
              "    </tr>\n",
              "    <tr>\n",
              "      <th>38</th>\n",
              "      <td>EQTL3</td>\n",
              "      <td>EQUATORIAL</td>\n",
              "      <td>ON NM</td>\n",
              "      <td>1010511085</td>\n",
              "      <td>1.117</td>\n",
              "    </tr>\n",
              "    <tr>\n",
              "      <th>39</th>\n",
              "      <td>EZTC3</td>\n",
              "      <td>EZTEC</td>\n",
              "      <td>ON NM</td>\n",
              "      <td>101618236</td>\n",
              "      <td>0.116</td>\n",
              "    </tr>\n",
              "    <tr>\n",
              "      <th>40</th>\n",
              "      <td>FLRY3</td>\n",
              "      <td>FLEURY</td>\n",
              "      <td>ON NM</td>\n",
              "      <td>303005900</td>\n",
              "      <td>0.322</td>\n",
              "    </tr>\n",
              "    <tr>\n",
              "      <th>44</th>\n",
              "      <td>NTCO3</td>\n",
              "      <td>GRUPO NATURA</td>\n",
              "      <td>ON NM</td>\n",
              "      <td>843870809</td>\n",
              "      <td>1.844</td>\n",
              "    </tr>\n",
              "    <tr>\n",
              "      <th>45</th>\n",
              "      <td>HAPV3</td>\n",
              "      <td>HAPVIDA</td>\n",
              "      <td>ON NM</td>\n",
              "      <td>1306939210</td>\n",
              "      <td>0.871</td>\n",
              "    </tr>\n",
              "    <tr>\n",
              "      <th>46</th>\n",
              "      <td>HYPE3</td>\n",
              "      <td>HYPERA</td>\n",
              "      <td>ON NM</td>\n",
              "      <td>411803359</td>\n",
              "      <td>0.627</td>\n",
              "    </tr>\n",
              "    <tr>\n",
              "      <th>47</th>\n",
              "      <td>IGTA3</td>\n",
              "      <td>IGUATEMI</td>\n",
              "      <td>ON NM</td>\n",
              "      <td>85748277</td>\n",
              "      <td>0.123</td>\n",
              "    </tr>\n",
              "    <tr>\n",
              "      <th>48</th>\n",
              "      <td>GNDI3</td>\n",
              "      <td>INTERMEDICA</td>\n",
              "      <td>ON NM</td>\n",
              "      <td>592114608</td>\n",
              "      <td>2.194</td>\n",
              "    </tr>\n",
              "    <tr>\n",
              "      <th>49</th>\n",
              "      <td>IRBR3</td>\n",
              "      <td>IRBBRASIL RE</td>\n",
              "      <td>ON NM</td>\n",
              "      <td>1255286531</td>\n",
              "      <td>0.297</td>\n",
              "    </tr>\n",
              "    <tr>\n",
              "      <th>52</th>\n",
              "      <td>JBSS3</td>\n",
              "      <td>JBS</td>\n",
              "      <td>ON NM</td>\n",
              "      <td>1346828080</td>\n",
              "      <td>1.961</td>\n",
              "    </tr>\n",
              "    <tr>\n",
              "      <th>53</th>\n",
              "      <td>JHSF3</td>\n",
              "      <td>JHSF PART</td>\n",
              "      <td>ON NM</td>\n",
              "      <td>305915142</td>\n",
              "      <td>0.085</td>\n",
              "    </tr>\n",
              "    <tr>\n",
              "      <th>55</th>\n",
              "      <td>RENT3</td>\n",
              "      <td>LOCALIZA</td>\n",
              "      <td>ON NM</td>\n",
              "      <td>593944309</td>\n",
              "      <td>1.507</td>\n",
              "    </tr>\n",
              "    <tr>\n",
              "      <th>56</th>\n",
              "      <td>LCAM3</td>\n",
              "      <td>LOCAMERICA</td>\n",
              "      <td>ON NM</td>\n",
              "      <td>324522975</td>\n",
              "      <td>0.369</td>\n",
              "    </tr>\n",
              "    <tr>\n",
              "      <th>57</th>\n",
              "      <td>LWSA3</td>\n",
              "      <td>LOCAWEB</td>\n",
              "      <td>ON NM</td>\n",
              "      <td>431783548</td>\n",
              "      <td>0.478</td>\n",
              "    </tr>\n",
              "    <tr>\n",
              "      <th>59</th>\n",
              "      <td>LREN3</td>\n",
              "      <td>LOJAS RENNER</td>\n",
              "      <td>ON NM</td>\n",
              "      <td>889725318</td>\n",
              "      <td>1.455</td>\n",
              "    </tr>\n",
              "    <tr>\n",
              "      <th>60</th>\n",
              "      <td>MGLU3</td>\n",
              "      <td>MAGAZ LUIZA</td>\n",
              "      <td>ON NM</td>\n",
              "      <td>2820185158</td>\n",
              "      <td>2.101</td>\n",
              "    </tr>\n",
              "    <tr>\n",
              "      <th>63</th>\n",
              "      <td>BEEF3</td>\n",
              "      <td>MINERVA</td>\n",
              "      <td>ON NM</td>\n",
              "      <td>242962308</td>\n",
              "      <td>0.100</td>\n",
              "    </tr>\n",
              "    <tr>\n",
              "      <th>64</th>\n",
              "      <td>MRVE3</td>\n",
              "      <td>MRV</td>\n",
              "      <td>ON NM</td>\n",
              "      <td>294643879</td>\n",
              "      <td>0.181</td>\n",
              "    </tr>\n",
              "    <tr>\n",
              "      <th>66</th>\n",
              "      <td>PCAR3</td>\n",
              "      <td>P.ACUCAR-CBD</td>\n",
              "      <td>ON NM</td>\n",
              "      <td>156946474</td>\n",
              "      <td>0.192</td>\n",
              "    </tr>\n",
              "    <tr>\n",
              "      <th>70</th>\n",
              "      <td>PRIO3</td>\n",
              "      <td>PETRORIO</td>\n",
              "      <td>ON NM</td>\n",
              "      <td>839159130</td>\n",
              "      <td>0.721</td>\n",
              "    </tr>\n",
              "    <tr>\n",
              "      <th>71</th>\n",
              "      <td>PETZ3</td>\n",
              "      <td>PETZ</td>\n",
              "      <td>ON NM</td>\n",
              "      <td>258407844</td>\n",
              "      <td>0.305</td>\n",
              "    </tr>\n",
              "    <tr>\n",
              "      <th>72</th>\n",
              "      <td>QUAL3</td>\n",
              "      <td>QUALICORP</td>\n",
              "      <td>ON NM</td>\n",
              "      <td>283670037</td>\n",
              "      <td>0.290</td>\n",
              "    </tr>\n",
              "    <tr>\n",
              "      <th>73</th>\n",
              "      <td>RADL3</td>\n",
              "      <td>RAIADROGASIL</td>\n",
              "      <td>ON NM</td>\n",
              "      <td>1071076905</td>\n",
              "      <td>1.218</td>\n",
              "    </tr>\n",
              "    <tr>\n",
              "      <th>75</th>\n",
              "      <td>RAIL3</td>\n",
              "      <td>RUMO S.A.</td>\n",
              "      <td>ON NM</td>\n",
              "      <td>1216056103</td>\n",
              "      <td>0.980</td>\n",
              "    </tr>\n",
              "    <tr>\n",
              "      <th>76</th>\n",
              "      <td>SBSP3</td>\n",
              "      <td>SABESP</td>\n",
              "      <td>ON NM</td>\n",
              "      <td>340001934</td>\n",
              "      <td>0.522</td>\n",
              "    </tr>\n",
              "    <tr>\n",
              "      <th>80</th>\n",
              "      <td>SUZB3</td>\n",
              "      <td>SUZANO S.A.</td>\n",
              "      <td>ON NM</td>\n",
              "      <td>726779281</td>\n",
              "      <td>1.909</td>\n",
              "    </tr>\n",
              "    <tr>\n",
              "      <th>83</th>\n",
              "      <td>TIMS3</td>\n",
              "      <td>TIM</td>\n",
              "      <td>ON NM</td>\n",
              "      <td>808619532</td>\n",
              "      <td>0.431</td>\n",
              "    </tr>\n",
              "    <tr>\n",
              "      <th>84</th>\n",
              "      <td>TOTS3</td>\n",
              "      <td>TOTVS</td>\n",
              "      <td>ON NM</td>\n",
              "      <td>480960677</td>\n",
              "      <td>0.811</td>\n",
              "    </tr>\n",
              "    <tr>\n",
              "      <th>85</th>\n",
              "      <td>UGPA3</td>\n",
              "      <td>ULTRAPAR</td>\n",
              "      <td>ON NM</td>\n",
              "      <td>1084337016</td>\n",
              "      <td>0.688</td>\n",
              "    </tr>\n",
              "    <tr>\n",
              "      <th>87</th>\n",
              "      <td>VALE3</td>\n",
              "      <td>VALE</td>\n",
              "      <td>ON NM</td>\n",
              "      <td>3380233503</td>\n",
              "      <td>13.912</td>\n",
              "    </tr>\n",
              "    <tr>\n",
              "      <th>88</th>\n",
              "      <td>VIIA3</td>\n",
              "      <td>VIA</td>\n",
              "      <td>ON NM</td>\n",
              "      <td>1595895585</td>\n",
              "      <td>0.632</td>\n",
              "    </tr>\n",
              "    <tr>\n",
              "      <th>89</th>\n",
              "      <td>WEGE3</td>\n",
              "      <td>WEG</td>\n",
              "      <td>ON NM</td>\n",
              "      <td>1484859030</td>\n",
              "      <td>2.558</td>\n",
              "    </tr>\n",
              "    <tr>\n",
              "      <th>90</th>\n",
              "      <td>YDUQ3</td>\n",
              "      <td>YDUQS PART</td>\n",
              "      <td>ON NM</td>\n",
              "      <td>300833122</td>\n",
              "      <td>0.326</td>\n",
              "    </tr>\n",
              "  </tbody>\n",
              "</table>\n",
              "</div>"
            ],
            "text/plain": [
              "   Código          Ação   Tipo  Qtde. Teórica  Part. (%)\n",
              "2   AMER3    AMERICANAS  ON NM      546064815      0.984\n",
              "3   ASAI3         ASSAI  ON NM      794116430      0.637\n",
              "5   B3SA3            B3  ON NM     6079530858      3.758\n",
              "9   BBSE3  BBSEGURIDADE  ON NM      671629692      0.577\n",
              "10  BRML3  BR MALLS PAR  ON NM      843728684      0.322\n",
              "16  BRFS3        BRF SA  ON NM      811759800      0.848\n",
              "18  CRFB3  CARREFOUR BR  ON NM      410988561      0.336\n",
              "19  CCRO3        CCR SA  ON NM     1115693556      0.574\n",
              "21  HGTX3    CIA HERING  ON NM      117608748      0.187\n",
              "22  CIEL3         CIELO  ON NM     1144359228      0.122\n",
              "23  COGN3      COGNA ON  ON NM     1847994874      0.257\n",
              "25  CSAN3         COSAN  ON NM     1169237744      1.202\n",
              "26  CPFE3  CPFL ENERGIA  ON NM      187732538      0.229\n",
              "27  CVCB3    CVC BRASIL  ON NM      224571661      0.212\n",
              "28  CYRE3  CYRELA REALT  ON NM      281609283      0.243\n",
              "29  DXCO3         DEXCO  ON NM      272062873      0.221\n",
              "30  ECOR3   ECORODOVIAS  ON NM      339237914      0.147\n",
              "33  EMBR3       EMBRAER  ON NM      734558205      0.685\n",
              "34  ENBR3   ENERGIAS BR  ON NM      231489471      0.184\n",
              "36  ENEV3         ENEVA  ON NM     1261568398      0.934\n",
              "37  EGIE3  ENGIE BRASIL  ON NM      255217329      0.439\n",
              "38  EQTL3    EQUATORIAL  ON NM     1010511085      1.117\n",
              "39  EZTC3         EZTEC  ON NM      101618236      0.116\n",
              "40  FLRY3        FLEURY  ON NM      303005900      0.322\n",
              "44  NTCO3  GRUPO NATURA  ON NM      843870809      1.844\n",
              "45  HAPV3       HAPVIDA  ON NM     1306939210      0.871\n",
              "46  HYPE3        HYPERA  ON NM      411803359      0.627\n",
              "47  IGTA3      IGUATEMI  ON NM       85748277      0.123\n",
              "48  GNDI3   INTERMEDICA  ON NM      592114608      2.194\n",
              "49  IRBR3  IRBBRASIL RE  ON NM     1255286531      0.297\n",
              "52  JBSS3           JBS  ON NM     1346828080      1.961\n",
              "53  JHSF3     JHSF PART  ON NM      305915142      0.085\n",
              "55  RENT3      LOCALIZA  ON NM      593944309      1.507\n",
              "56  LCAM3    LOCAMERICA  ON NM      324522975      0.369\n",
              "57  LWSA3       LOCAWEB  ON NM      431783548      0.478\n",
              "59  LREN3  LOJAS RENNER  ON NM      889725318      1.455\n",
              "60  MGLU3   MAGAZ LUIZA  ON NM     2820185158      2.101\n",
              "63  BEEF3       MINERVA  ON NM      242962308      0.100\n",
              "64  MRVE3           MRV  ON NM      294643879      0.181\n",
              "66  PCAR3  P.ACUCAR-CBD  ON NM      156946474      0.192\n",
              "70  PRIO3      PETRORIO  ON NM      839159130      0.721\n",
              "71  PETZ3          PETZ  ON NM      258407844      0.305\n",
              "72  QUAL3     QUALICORP  ON NM      283670037      0.290\n",
              "73  RADL3  RAIADROGASIL  ON NM     1071076905      1.218\n",
              "75  RAIL3     RUMO S.A.  ON NM     1216056103      0.980\n",
              "76  SBSP3        SABESP  ON NM      340001934      0.522\n",
              "80  SUZB3   SUZANO S.A.  ON NM      726779281      1.909\n",
              "83  TIMS3           TIM  ON NM      808619532      0.431\n",
              "84  TOTS3         TOTVS  ON NM      480960677      0.811\n",
              "85  UGPA3      ULTRAPAR  ON NM     1084337016      0.688\n",
              "87  VALE3          VALE  ON NM     3380233503     13.912\n",
              "88  VIIA3           VIA  ON NM     1595895585      0.632\n",
              "89  WEGE3           WEG  ON NM     1484859030      2.558\n",
              "90  YDUQ3    YDUQS PART  ON NM      300833122      0.326"
            ]
          },
          "metadata": {},
          "execution_count": 35
        }
      ]
    },
    {
      "cell_type": "code",
      "metadata": {
        "colab": {
          "base_uri": "https://localhost:8080/",
          "height": 204
        },
        "id": "pG2N4S0IRAJu",
        "outputId": "79861765-9098-4f93-f0b5-e7e038013d3a"
      },
      "source": [
        "df_ONNM = df[ df.Tipo == 'ON NM' ]\n",
        "\n",
        "df_ONNM.head()"
      ],
      "execution_count": 40,
      "outputs": [
        {
          "output_type": "execute_result",
          "data": {
            "text/html": [
              "<div>\n",
              "<style scoped>\n",
              "    .dataframe tbody tr th:only-of-type {\n",
              "        vertical-align: middle;\n",
              "    }\n",
              "\n",
              "    .dataframe tbody tr th {\n",
              "        vertical-align: top;\n",
              "    }\n",
              "\n",
              "    .dataframe thead th {\n",
              "        text-align: right;\n",
              "    }\n",
              "</style>\n",
              "<table border=\"1\" class=\"dataframe\">\n",
              "  <thead>\n",
              "    <tr style=\"text-align: right;\">\n",
              "      <th></th>\n",
              "      <th>Código</th>\n",
              "      <th>Ação</th>\n",
              "      <th>Tipo</th>\n",
              "      <th>Qtde. Teórica</th>\n",
              "      <th>Part. (%)</th>\n",
              "    </tr>\n",
              "  </thead>\n",
              "  <tbody>\n",
              "    <tr>\n",
              "      <th>2</th>\n",
              "      <td>AMER3</td>\n",
              "      <td>AMERICANAS</td>\n",
              "      <td>ON NM</td>\n",
              "      <td>546064815</td>\n",
              "      <td>0.984</td>\n",
              "    </tr>\n",
              "    <tr>\n",
              "      <th>3</th>\n",
              "      <td>ASAI3</td>\n",
              "      <td>ASSAI</td>\n",
              "      <td>ON NM</td>\n",
              "      <td>794116430</td>\n",
              "      <td>0.637</td>\n",
              "    </tr>\n",
              "    <tr>\n",
              "      <th>5</th>\n",
              "      <td>B3SA3</td>\n",
              "      <td>B3</td>\n",
              "      <td>ON NM</td>\n",
              "      <td>6079530858</td>\n",
              "      <td>3.758</td>\n",
              "    </tr>\n",
              "    <tr>\n",
              "      <th>9</th>\n",
              "      <td>BBSE3</td>\n",
              "      <td>BBSEGURIDADE</td>\n",
              "      <td>ON NM</td>\n",
              "      <td>671629692</td>\n",
              "      <td>0.577</td>\n",
              "    </tr>\n",
              "    <tr>\n",
              "      <th>10</th>\n",
              "      <td>BRML3</td>\n",
              "      <td>BR MALLS PAR</td>\n",
              "      <td>ON NM</td>\n",
              "      <td>843728684</td>\n",
              "      <td>0.322</td>\n",
              "    </tr>\n",
              "  </tbody>\n",
              "</table>\n",
              "</div>"
            ],
            "text/plain": [
              "   Código          Ação   Tipo  Qtde. Teórica  Part. (%)\n",
              "2   AMER3    AMERICANAS  ON NM      546064815      0.984\n",
              "3   ASAI3         ASSAI  ON NM      794116430      0.637\n",
              "5   B3SA3            B3  ON NM     6079530858      3.758\n",
              "9   BBSE3  BBSEGURIDADE  ON NM      671629692      0.577\n",
              "10  BRML3  BR MALLS PAR  ON NM      843728684      0.322"
            ]
          },
          "metadata": {},
          "execution_count": 40
        }
      ]
    },
    {
      "cell_type": "code",
      "metadata": {
        "colab": {
          "base_uri": "https://localhost:8080/",
          "height": 204
        },
        "id": "WyE-Pfg5RdRD",
        "outputId": "522ce3d6-235b-45a5-8ff6-e305c9ad0b0a"
      },
      "source": [
        "df[ df.Tipo == 'ON NM' ].head()"
      ],
      "execution_count": 41,
      "outputs": [
        {
          "output_type": "execute_result",
          "data": {
            "text/html": [
              "<div>\n",
              "<style scoped>\n",
              "    .dataframe tbody tr th:only-of-type {\n",
              "        vertical-align: middle;\n",
              "    }\n",
              "\n",
              "    .dataframe tbody tr th {\n",
              "        vertical-align: top;\n",
              "    }\n",
              "\n",
              "    .dataframe thead th {\n",
              "        text-align: right;\n",
              "    }\n",
              "</style>\n",
              "<table border=\"1\" class=\"dataframe\">\n",
              "  <thead>\n",
              "    <tr style=\"text-align: right;\">\n",
              "      <th></th>\n",
              "      <th>Código</th>\n",
              "      <th>Ação</th>\n",
              "      <th>Tipo</th>\n",
              "      <th>Qtde. Teórica</th>\n",
              "      <th>Part. (%)</th>\n",
              "    </tr>\n",
              "  </thead>\n",
              "  <tbody>\n",
              "    <tr>\n",
              "      <th>2</th>\n",
              "      <td>AMER3</td>\n",
              "      <td>AMERICANAS</td>\n",
              "      <td>ON NM</td>\n",
              "      <td>546064815</td>\n",
              "      <td>0.984</td>\n",
              "    </tr>\n",
              "    <tr>\n",
              "      <th>3</th>\n",
              "      <td>ASAI3</td>\n",
              "      <td>ASSAI</td>\n",
              "      <td>ON NM</td>\n",
              "      <td>794116430</td>\n",
              "      <td>0.637</td>\n",
              "    </tr>\n",
              "    <tr>\n",
              "      <th>5</th>\n",
              "      <td>B3SA3</td>\n",
              "      <td>B3</td>\n",
              "      <td>ON NM</td>\n",
              "      <td>6079530858</td>\n",
              "      <td>3.758</td>\n",
              "    </tr>\n",
              "    <tr>\n",
              "      <th>9</th>\n",
              "      <td>BBSE3</td>\n",
              "      <td>BBSEGURIDADE</td>\n",
              "      <td>ON NM</td>\n",
              "      <td>671629692</td>\n",
              "      <td>0.577</td>\n",
              "    </tr>\n",
              "    <tr>\n",
              "      <th>10</th>\n",
              "      <td>BRML3</td>\n",
              "      <td>BR MALLS PAR</td>\n",
              "      <td>ON NM</td>\n",
              "      <td>843728684</td>\n",
              "      <td>0.322</td>\n",
              "    </tr>\n",
              "  </tbody>\n",
              "</table>\n",
              "</div>"
            ],
            "text/plain": [
              "   Código          Ação   Tipo  Qtde. Teórica  Part. (%)\n",
              "2   AMER3    AMERICANAS  ON NM      546064815      0.984\n",
              "3   ASAI3         ASSAI  ON NM      794116430      0.637\n",
              "5   B3SA3            B3  ON NM     6079530858      3.758\n",
              "9   BBSE3  BBSEGURIDADE  ON NM      671629692      0.577\n",
              "10  BRML3  BR MALLS PAR  ON NM      843728684      0.322"
            ]
          },
          "metadata": {},
          "execution_count": 41
        }
      ]
    },
    {
      "cell_type": "code",
      "metadata": {
        "colab": {
          "base_uri": "https://localhost:8080/"
        },
        "id": "6dRL-fw_RiXv",
        "outputId": "7a6f979b-11b1-4332-cd8d-bed6949f9d13"
      },
      "source": [
        "len(df_ONNM)"
      ],
      "execution_count": 42,
      "outputs": [
        {
          "output_type": "execute_result",
          "data": {
            "text/plain": [
              "54"
            ]
          },
          "metadata": {},
          "execution_count": 42
        }
      ]
    },
    {
      "cell_type": "code",
      "metadata": {
        "colab": {
          "base_uri": "https://localhost:8080/"
        },
        "id": "S7WUur5iRqBO",
        "outputId": "88f31774-1266-47e2-9bb9-10ae76c94d32"
      },
      "source": [
        "len( df[ df.Tipo == 'ON NM' ] )"
      ],
      "execution_count": 43,
      "outputs": [
        {
          "output_type": "execute_result",
          "data": {
            "text/plain": [
              "54"
            ]
          },
          "metadata": {},
          "execution_count": 43
        }
      ]
    },
    {
      "cell_type": "markdown",
      "metadata": {
        "id": "K-QK_lDAZETp"
      },
      "source": [
        "## Percentual de linhas"
      ]
    },
    {
      "cell_type": "code",
      "metadata": {
        "colab": {
          "base_uri": "https://localhost:8080/"
        },
        "id": "puwUrkHzSZzb",
        "outputId": "6255e8c8-02f5-45d0-d312-c42c50a037bc"
      },
      "source": [
        "len( df[ df.Tipo == 'ON NM' ] )"
      ],
      "execution_count": 44,
      "outputs": [
        {
          "output_type": "execute_result",
          "data": {
            "text/plain": [
              "54"
            ]
          },
          "metadata": {},
          "execution_count": 44
        }
      ]
    },
    {
      "cell_type": "code",
      "metadata": {
        "colab": {
          "base_uri": "https://localhost:8080/"
        },
        "id": "rdTRoyijScR2",
        "outputId": "38eb0314-8ebd-4c0c-fb3d-1a663baa7604"
      },
      "source": [
        "len( df )"
      ],
      "execution_count": 45,
      "outputs": [
        {
          "output_type": "execute_result",
          "data": {
            "text/plain": [
              "91"
            ]
          },
          "metadata": {},
          "execution_count": 45
        }
      ]
    },
    {
      "cell_type": "code",
      "metadata": {
        "colab": {
          "base_uri": "https://localhost:8080/"
        },
        "id": "UeT32v-JSPhm",
        "outputId": "4bc76ef4-4f0d-42d3-daa6-769ec9f9fca8"
      },
      "source": [
        "len( df[ df.Tipo == 'ON NM' ] )  /  len( df )"
      ],
      "execution_count": 46,
      "outputs": [
        {
          "output_type": "execute_result",
          "data": {
            "text/plain": [
              "0.5934065934065934"
            ]
          },
          "metadata": {},
          "execution_count": 46
        }
      ]
    },
    {
      "cell_type": "markdown",
      "metadata": {
        "id": "XbA6zp6xZI4m"
      },
      "source": [
        "## Selecionando Linhas e Colunas: `df[ <criterio> ][ <colunas> ]`"
      ]
    },
    {
      "cell_type": "code",
      "metadata": {
        "colab": {
          "base_uri": "https://localhost:8080/",
          "height": 204
        },
        "id": "PE4YUO0DSo67",
        "outputId": "d91c27e4-cfc9-4409-9954-9645ba9bccd1"
      },
      "source": [
        "df[ (df.Tipo == 'ON NM') & (df['Part. (%)'] > 2) ][['Código', 'Ação', 'Part. (%)']]"
      ],
      "execution_count": 53,
      "outputs": [
        {
          "output_type": "execute_result",
          "data": {
            "text/html": [
              "<div>\n",
              "<style scoped>\n",
              "    .dataframe tbody tr th:only-of-type {\n",
              "        vertical-align: middle;\n",
              "    }\n",
              "\n",
              "    .dataframe tbody tr th {\n",
              "        vertical-align: top;\n",
              "    }\n",
              "\n",
              "    .dataframe thead th {\n",
              "        text-align: right;\n",
              "    }\n",
              "</style>\n",
              "<table border=\"1\" class=\"dataframe\">\n",
              "  <thead>\n",
              "    <tr style=\"text-align: right;\">\n",
              "      <th></th>\n",
              "      <th>Código</th>\n",
              "      <th>Ação</th>\n",
              "      <th>Part. (%)</th>\n",
              "    </tr>\n",
              "  </thead>\n",
              "  <tbody>\n",
              "    <tr>\n",
              "      <th>5</th>\n",
              "      <td>B3SA3</td>\n",
              "      <td>B3</td>\n",
              "      <td>3.758</td>\n",
              "    </tr>\n",
              "    <tr>\n",
              "      <th>48</th>\n",
              "      <td>GNDI3</td>\n",
              "      <td>INTERMEDICA</td>\n",
              "      <td>2.194</td>\n",
              "    </tr>\n",
              "    <tr>\n",
              "      <th>60</th>\n",
              "      <td>MGLU3</td>\n",
              "      <td>MAGAZ LUIZA</td>\n",
              "      <td>2.101</td>\n",
              "    </tr>\n",
              "    <tr>\n",
              "      <th>87</th>\n",
              "      <td>VALE3</td>\n",
              "      <td>VALE</td>\n",
              "      <td>13.912</td>\n",
              "    </tr>\n",
              "    <tr>\n",
              "      <th>89</th>\n",
              "      <td>WEGE3</td>\n",
              "      <td>WEG</td>\n",
              "      <td>2.558</td>\n",
              "    </tr>\n",
              "  </tbody>\n",
              "</table>\n",
              "</div>"
            ],
            "text/plain": [
              "   Código         Ação  Part. (%)\n",
              "5   B3SA3           B3      3.758\n",
              "48  GNDI3  INTERMEDICA      2.194\n",
              "60  MGLU3  MAGAZ LUIZA      2.101\n",
              "87  VALE3         VALE     13.912\n",
              "89  WEGE3          WEG      2.558"
            ]
          },
          "metadata": {},
          "execution_count": 53
        }
      ]
    },
    {
      "cell_type": "code",
      "metadata": {
        "colab": {
          "base_uri": "https://localhost:8080/"
        },
        "id": "ym1xaF4_TZ0P",
        "outputId": "1858d5e3-4cd0-4854-8687-fb8219e4e6a1"
      },
      "source": [
        "df[ (df.Tipo == 'ON NM') & (df['Part. (%)'] > 2) ]['Tipo']"
      ],
      "execution_count": 54,
      "outputs": [
        {
          "output_type": "execute_result",
          "data": {
            "text/plain": [
              "5     ON NM\n",
              "48    ON NM\n",
              "60    ON NM\n",
              "87    ON NM\n",
              "89    ON NM\n",
              "Name: Tipo, dtype: object"
            ]
          },
          "metadata": {},
          "execution_count": 54
        }
      ]
    },
    {
      "cell_type": "code",
      "metadata": {
        "colab": {
          "base_uri": "https://localhost:8080/"
        },
        "id": "7JTHpbfnThrs",
        "outputId": "229d1423-bbe8-476b-f41c-8b69f7504cfb"
      },
      "source": [
        "df[ (df.Tipo == 'ON NM') & (df['Part. (%)'] > 2) ].Tipo"
      ],
      "execution_count": 55,
      "outputs": [
        {
          "output_type": "execute_result",
          "data": {
            "text/plain": [
              "5     ON NM\n",
              "48    ON NM\n",
              "60    ON NM\n",
              "87    ON NM\n",
              "89    ON NM\n",
              "Name: Tipo, dtype: object"
            ]
          },
          "metadata": {},
          "execution_count": 55
        }
      ]
    }
  ]
}