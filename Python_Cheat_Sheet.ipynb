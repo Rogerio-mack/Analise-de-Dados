{
  "nbformat": 4,
  "nbformat_minor": 0,
  "metadata": {
    "kernelspec": {
      "display_name": "Python 3",
      "language": "python",
      "name": "python3"
    },
    "language_info": {
      "codemirror_mode": {
        "name": "ipython",
        "version": 3
      },
      "file_extension": ".py",
      "mimetype": "text/x-python",
      "name": "python",
      "nbconvert_exporter": "python",
      "pygments_lexer": "ipython3",
      "version": "3.7.4"
    },
    "colab": {
      "name": "Python_Cheat_Sheet.ipynb",
      "provenance": [],
      "collapsed_sections": [
        "j3S7qoJTouUb",
        "bBO8cKayouUr",
        "MwYZaE9rd2Pm",
        "cqEHUc5houU-",
        "LbKjbRuaouVL",
        "tECT16U2ouVX",
        "Zn4bWeeuouVp",
        "JcPX8YNQouVu",
        "dNZwe3jMouV2",
        "1fJXhUmiouV8",
        "pFNaHFSEtNow",
        "fDIvl1BCouWM",
        "5incAwfJouWS",
        "hlt2vO94ouWa",
        "JKDJ6cQwouWg",
        "8w1oh4cIouWn",
        "yCSClyJ8ouWs"
      ],
      "include_colab_link": true
    }
  },
  "cells": [
    {
      "cell_type": "markdown",
      "metadata": {
        "id": "view-in-github",
        "colab_type": "text"
      },
      "source": [
        "<a href=\"https://colab.research.google.com/github/Rogerio-mack/Analise-de-Dados/blob/main/Python_Cheat_Sheet.ipynb\" target=\"_parent\"><img src=\"https://colab.research.google.com/assets/colab-badge.svg\" alt=\"Open In Colab\"/></a>"
      ]
    },
    {
      "cell_type": "markdown",
      "metadata": {
        "id": "SlUTfujvouT_"
      },
      "source": [
        "<head>\n",
        "  <meta name=\"author\" content=\"Rogério de Oliveira\">\n",
        "  <meta institution=\"author\" content=\"Universidade Presbiteriana Mackenzie\">\n",
        "</head>\n",
        "\n",
        "<img src=\"http://meusite.mackenzie.br/rogerio/mackenzie_logo/UPM.2_horizontal_vermelho.jpg\" width=300, align=\"right\"></a>\n",
        "<!-- <h1 align=left><font size = 6, style=\"color:rgb(200,0,0)\"> optional title </font></h1> -->\n"
      ]
    },
    {
      "cell_type": "markdown",
      "metadata": {
        "id": "qfi9IKjQouUE"
      },
      "source": [
        "# Python Cheat Sheet\n"
      ]
    },
    {
      "cell_type": "markdown",
      "metadata": {
        "id": "obQtfILGouUI"
      },
      "source": [
        "\n",
        "## Referência rápida\n",
        "> https://www.w3schools.com/ <br> \n",
        "\n",
        "## Documentação\n",
        "> https://www.python.org/ <br>\n",
        "> https://docs.python.org/3/tutorial/index.html <br>\n",
        "\n",
        "\n",
        "\n"
      ]
    },
    {
      "cell_type": "markdown",
      "metadata": {
        "id": "j3S7qoJTouUb"
      },
      "source": [
        "## Print & Input\n",
        "\n"
      ]
    },
    {
      "cell_type": "code",
      "metadata": {
        "id": "AajnwWcebwRB",
        "colab": {
          "base_uri": "https://localhost:8080/",
          "height": 85
        },
        "outputId": "7ab067d3-5950-4f9e-d289-a91741685c62"
      },
      "source": [
        "# Print & Input...\n",
        "text = input('Entre com um texto: ')\n",
        "numero = float(input('Entre com um número: '))\n",
        "\n",
        "print('Seu texto: ', text, '\\n', 'Seu número: ', numero)"
      ],
      "execution_count": null,
      "outputs": [
        {
          "output_type": "stream",
          "text": [
            "Entre com um texto: oi\n",
            "Entre com um número: 2\n",
            "Seu texto:  oi \n",
            " Seu número:  2.0\n"
          ],
          "name": "stdout"
        }
      ]
    },
    {
      "cell_type": "markdown",
      "metadata": {
        "id": "bBO8cKayouUr"
      },
      "source": [
        "## Integer, Float-point, Boolean "
      ]
    },
    {
      "cell_type": "code",
      "metadata": {
        "id": "PwIVdvKBouUt"
      },
      "source": [
        "\"\"\"\n",
        "String, Integer, Float-point, Boolean\n",
        "\n",
        "\"\"\"\n",
        "print(3 * 4, 3 + 4, 3 - 4, 3 / 4, 3.14, 4.2e-4 ) \n",
        "print(type(3 * 4), type(3.14), type(4.2e-4) ) \n",
        "print(3 ** 2, 3 // 4, 3 % 4 ) \n",
        "print(4 > 3, 4 >= 3, 3 == 3.0, 3 != 4, 3 <= 4 )\n",
        "print(1 < 2 < 9) # boolean\n",
        "\n"
      ],
      "execution_count": null,
      "outputs": []
    },
    {
      "cell_type": "markdown",
      "metadata": {
        "id": "MwYZaE9rd2Pm"
      },
      "source": [
        "## Math functions"
      ]
    },
    {
      "cell_type": "code",
      "metadata": {
        "id": "Ud0GcfPXouUy",
        "colab": {
          "base_uri": "https://localhost:8080/",
          "height": 51
        },
        "outputId": "3b8a1a99-aef8-40a4-cfd1-e26468328a0a"
      },
      "source": [
        "import math as ma              \n",
        "# also in math module: pi, exp, log, sin, cos, tan, ceil, floor, and more\n",
        "\n",
        "print(math.pi)            # pi \n",
        "print(math.exp(1))        # e\n",
        "\n"
      ],
      "execution_count": null,
      "outputs": [
        {
          "output_type": "stream",
          "text": [
            "3.141592653589793\n",
            "2.718281828459045\n"
          ],
          "name": "stdout"
        }
      ]
    },
    {
      "cell_type": "markdown",
      "metadata": {
        "id": "cqEHUc5houU-"
      },
      "source": [
        "## Strings\n"
      ]
    },
    {
      "cell_type": "code",
      "metadata": {
        "id": "-XwT5qW4ejyv",
        "colab": {
          "base_uri": "https://localhost:8080/",
          "height": 119
        },
        "outputId": "dc9ec9d9-fecb-42e0-a622-08f43619387d"
      },
      "source": [
        "text = 'Beatles'\n",
        "print(text)\n",
        "\n",
        "# String are immutable\n",
        "# text[0] = 'T' # TypeError: 'str' object does not support item assignment\n",
        "\n",
        "tex2 = '012345'\n",
        "print(text[0:1])      # B\n",
        "print(text[0:2])      # Be\n",
        "print(tex2[0:2])      # 01\n",
        "print(text[1:3])      # ea\n",
        "print(tex2[1:3])      # 12\n",
        "\n",
        "# print(text[<inicio>, <inicio>+<quantidade>])\n",
        "# print(text[<inicio>, <fim>+1])\n"
      ],
      "execution_count": null,
      "outputs": [
        {
          "output_type": "stream",
          "text": [
            "Beatles\n",
            "B\n",
            "Be\n",
            "01\n",
            "ea\n",
            "12\n"
          ],
          "name": "stdout"
        }
      ]
    },
    {
      "cell_type": "markdown",
      "metadata": {
        "id": "LbKjbRuaouVL"
      },
      "source": [
        "#### String Operations"
      ]
    },
    {
      "cell_type": "code",
      "metadata": {
        "scrolled": true,
        "id": "Pugx1dQpouVM",
        "colab": {
          "base_uri": "https://localhost:8080/",
          "height": 136
        },
        "outputId": "67183dc9-c11e-41d0-9896-2448cef324e8"
      },
      "source": [
        "str1 ='A arte existe porque a vida não basta. – Ferreira Gullar'\n",
        "\n",
        "print(str1.find('arte'))\n",
        "print(str1.lower())\n",
        "str2 = str1.replace('arte','life')\n",
        "print(str2)\n",
        "\n",
        "print(str(4.2e-4)) \n",
        "\n",
        "str1 = 'love'\n",
        "str2 = 'hate'\n",
        "print(str1 is str2) \n",
        "str1 = str2\n",
        "print(str1 == str2)\n",
        "print(str1 is str2) # e por isso imutável\n"
      ],
      "execution_count": null,
      "outputs": [
        {
          "output_type": "stream",
          "text": [
            "2\n",
            "a arte existe porque a vida não basta. – ferreira gullar\n",
            "A life existe porque a vida não basta. – Ferreira Gullar\n",
            "0.00042\n",
            "False\n",
            "True\n",
            "True\n"
          ],
          "name": "stdout"
        }
      ]
    },
    {
      "cell_type": "markdown",
      "metadata": {
        "id": "tECT16U2ouVX"
      },
      "source": [
        "## Lists\n",
        "\n",
        "Lista (**list**) é uma coleção que é ordenada e mutável. Permite membros duplicados."
      ]
    },
    {
      "cell_type": "code",
      "metadata": {
        "id": "EkLCApTBouVe",
        "colab": {
          "base_uri": "https://localhost:8080/",
          "height": 102
        },
        "outputId": "298bbf86-25b6-426f-ea93-fe52dc1717f6"
      },
      "source": [
        "mylist = ['A', 'B', 'C', 'A', 'B']\n",
        "\n",
        "mylist.count('B')\n",
        "\n",
        "mylist.index('B')\n",
        "mylist.index('B', 2)  \n",
        "\n",
        "mylist.append('D')\n",
        "\n",
        "mylist.sort()\n",
        "mylist.pop()\n",
        "mylist.insert(1,'X') \n",
        "\n",
        "del mylist[0:1] # o mesmo que del fruits[0]\n",
        "mylist.remove('B') # somente o primeiro elemento\n",
        "\n",
        "mylist[1] = 'ZZ'\n",
        "\n",
        "mylist = [[1,2,3], [11,22,33], [9,9,9]]\n",
        "print(mylist[1])  # [11,22,33]\n",
        "print(mylist[1][0])  # 11\n",
        "\n",
        "mylist = ['A', 'B', 'C', 'A', 'B']\n",
        "\n",
        "mylist1 = mylist            # NÃO USE\n",
        "mylist2 = mylist.copy()     # USE\n",
        "mylist.remove('B')\n",
        "print(mylist1) # ['A', 'C', 'A', 'B']\n",
        "print(mylist2) # ['A', 'B', 'C', 'A', 'B']\n",
        "\n",
        "print('A' in mylist)"
      ],
      "execution_count": null,
      "outputs": [
        {
          "output_type": "stream",
          "text": [
            "[11, 22, 33]\n",
            "11\n",
            "['A', 'C', 'A', 'B']\n",
            "['A', 'B', 'C', 'A', 'B']\n",
            "True\n"
          ],
          "name": "stdout"
        }
      ]
    },
    {
      "cell_type": "markdown",
      "metadata": {
        "id": "Zn4bWeeuouVp"
      },
      "source": [
        "## Percorrendo uma lista\n",
        "\n"
      ]
    },
    {
      "cell_type": "code",
      "metadata": {
        "id": "L2nN1HjGouVq",
        "colab": {
          "base_uri": "https://localhost:8080/",
          "height": 187
        },
        "outputId": "042b3bfe-f42d-4ed7-a79a-09d2a649b5a4"
      },
      "source": [
        "mylist = ['A', 'B', 'C', 'A', 'B']\n",
        " \n",
        "for i in range(len(mylist)):\n",
        "    print(mylist[i])\n",
        "\n",
        "for item in mylist:\n",
        "    print(item) \n",
        "    \n",
        "   "
      ],
      "execution_count": null,
      "outputs": [
        {
          "output_type": "stream",
          "text": [
            "A\n",
            "B\n",
            "C\n",
            "A\n",
            "B\n",
            "A\n",
            "B\n",
            "C\n",
            "A\n",
            "B\n"
          ],
          "name": "stdout"
        }
      ]
    },
    {
      "cell_type": "markdown",
      "metadata": {
        "id": "JcPX8YNQouVu"
      },
      "source": [
        "## Tuples\n",
        "\n",
        "Tupla (**tuple**) é uma coleção que é ordenada e imutável. Permite membros duplicados. No mais para nossos propósito Listas e Tuplas são bastante semelhantes"
      ]
    },
    {
      "cell_type": "code",
      "metadata": {
        "id": "UR5dJFxLouVw",
        "colab": {
          "base_uri": "https://localhost:8080/",
          "height": 34
        },
        "outputId": "4f12ed5b-e567-4a7f-8983-5257b16ad779"
      },
      "source": [
        "mytuple = ('A', 'B', 'C', 'A', 'B')\n",
        "\n",
        "mytuple.count('B')\n",
        "# mytuple[1] = 'X' # TypeError: 'tuple' object does not support item assignment\n",
        "\n",
        "print('A' in mytuple)"
      ],
      "execution_count": null,
      "outputs": [
        {
          "output_type": "stream",
          "text": [
            "True\n"
          ],
          "name": "stdout"
        }
      ]
    },
    {
      "cell_type": "markdown",
      "metadata": {
        "id": "dNZwe3jMouV2"
      },
      "source": [
        "## Sets\n",
        "\n",
        "- Conjunto (**set**) é uma coleção não ordenada e não indexada. Nenhum membro duplicado. Para **Sets** são implementadas a funções conhecidas de conjuntos como união, intersecção etc."
      ]
    },
    {
      "cell_type": "code",
      "metadata": {
        "id": "f_wdVG5WouV4",
        "colab": {
          "base_uri": "https://localhost:8080/",
          "height": 51
        },
        "outputId": "5ed338a6-dae6-437c-8de2-920086d2a827"
      },
      "source": [
        "myset = {'A', 'B', 'C', 'A', 'B'}\n",
        "\n",
        "print(myset) # {'C', 'A', 'B'}\n",
        "\n",
        "print('A' in myset)\n"
      ],
      "execution_count": null,
      "outputs": [
        {
          "output_type": "stream",
          "text": [
            "{'C', 'A', 'B'}\n",
            "True\n"
          ],
          "name": "stdout"
        }
      ]
    },
    {
      "cell_type": "markdown",
      "metadata": {
        "id": "1fJXhUmiouV8"
      },
      "source": [
        "## Dictionary\n",
        "\n",
        "Dicionário (**dictionary**) é uma coleção desordenada, mutável e indexada. Nenhum membro duplicado. Você já teve algum contato com uma estrutura de dados `JSON` essa uma estrutura bastante semelhante em Python."
      ]
    },
    {
      "cell_type": "code",
      "metadata": {
        "id": "_k8p8tFDouV9",
        "colab": {
          "base_uri": "https://localhost:8080/",
          "height": 136
        },
        "outputId": "beacebbc-9630-4828-cef0-a68efd8e84d6"
      },
      "source": [
        "mydict = {'A':2,'B':2,'C':1} \n",
        "  \n",
        "print(mydict.keys())\n",
        "\n",
        "print(mydict['B'])   \n",
        "print(mydict.get('B'))  \n",
        "\n",
        "for item in mydict:\n",
        "    print(item, mydict[item])\n",
        "    \n",
        "if 'X' not in mydict.keys():      # Se não está no dicionário acrescenta\n",
        "  mydict['X'] = 1\n",
        "print(mydict)"
      ],
      "execution_count": null,
      "outputs": [
        {
          "output_type": "stream",
          "text": [
            "dict_keys(['A', 'B', 'C'])\n",
            "2\n",
            "2\n",
            "A 2\n",
            "B 2\n",
            "C 1\n",
            "{'A': 2, 'B': 2, 'C': 1, 'X': 0}\n"
          ],
          "name": "stdout"
        }
      ]
    },
    {
      "cell_type": "markdown",
      "metadata": {
        "id": "pFNaHFSEtNow"
      },
      "source": [
        "## If-Then-Else"
      ]
    },
    {
      "cell_type": "code",
      "metadata": {
        "id": "10t2mTyQouWI",
        "colab": {
          "base_uri": "https://localhost:8080/",
          "height": 34
        },
        "outputId": "cdec37ea-0ebf-46b7-f3b8-1fc3364ad4a3"
      },
      "source": [
        "a = 1964\n",
        "b = 1984\n",
        "if b > a:\n",
        "  print(\"b is greater than a\")\n",
        "elif a == b:\n",
        "  print(\"a and b are equal\")\n",
        "else:\n",
        "  print(\"a is greater than b\")\n",
        "  \n",
        "\n",
        "  \n",
        "\n",
        "\n",
        "\n"
      ],
      "execution_count": null,
      "outputs": [
        {
          "output_type": "stream",
          "text": [
            "b is greater than a\n"
          ],
          "name": "stdout"
        }
      ]
    },
    {
      "cell_type": "markdown",
      "metadata": {
        "id": "fDIvl1BCouWM"
      },
      "source": [
        "## For & While\n",
        "\n"
      ]
    },
    {
      "cell_type": "code",
      "metadata": {
        "id": "f4JG3Y2AouWO",
        "colab": {
          "base_uri": "https://localhost:8080/",
          "height": 187
        },
        "outputId": "a713df49-80e3-4fe4-adcf-c17bb0002179"
      },
      "source": [
        "\n",
        "i = 1\n",
        "while i < 6:\n",
        "  print(i)\n",
        "  if i == 3:\n",
        "    break\n",
        "  i += 1\n",
        "\n",
        "for i in range(5): \n",
        "  print(i)\n",
        "  if i == 3:\n",
        "    break\n",
        "\n",
        "for i in [12,18,84]:\n",
        "    print(i)\n",
        "  \n"
      ],
      "execution_count": null,
      "outputs": [
        {
          "output_type": "stream",
          "text": [
            "1\n",
            "2\n",
            "3\n",
            "0\n",
            "1\n",
            "2\n",
            "3\n",
            "12\n",
            "18\n",
            "84\n"
          ],
          "name": "stdout"
        }
      ]
    },
    {
      "cell_type": "markdown",
      "metadata": {
        "id": "5incAwfJouWS"
      },
      "source": [
        "## Funções\n",
        "\n"
      ]
    },
    {
      "cell_type": "code",
      "metadata": {
        "id": "43Mk7FeNouWU",
        "colab": {
          "base_uri": "https://localhost:8080/",
          "height": 34
        },
        "outputId": "7a295374-02c4-4bf7-ca1a-237e23dc5a76"
      },
      "source": [
        "\n",
        "def mymax(a,b):\n",
        "  if a > b:\n",
        "    return a\n",
        "  else:\n",
        "    return b\n",
        "\n",
        "mymax(1984,1964)"
      ],
      "execution_count": null,
      "outputs": [
        {
          "output_type": "execute_result",
          "data": {
            "text/plain": [
              "1984"
            ]
          },
          "metadata": {
            "tags": []
          },
          "execution_count": 43
        }
      ]
    },
    {
      "cell_type": "markdown",
      "metadata": {
        "id": "hlt2vO94ouWa"
      },
      "source": [
        "## File Handling\n",
        "\n"
      ]
    },
    {
      "cell_type": "code",
      "metadata": {
        "id": "DEet1o7iouWc",
        "colab": {
          "base_uri": "https://localhost:8080/",
          "height": 34
        },
        "outputId": "0c4a3108-56a2-460f-a20f-b3056570b6ac"
      },
      "source": [
        "note = ['This is a note'] \n",
        "\n",
        "f = open(\"note.txt\", \"w\") \n",
        "for line in note:\n",
        "    f.write(line)\n",
        "f.close()\n",
        "\n",
        "f = open(\"note.txt\", \"r\")\n",
        "for line in f:\n",
        "    print(line)\n",
        "    \n"
      ],
      "execution_count": null,
      "outputs": [
        {
          "output_type": "stream",
          "text": [
            "This is a note\n"
          ],
          "name": "stdout"
        }
      ]
    },
    {
      "cell_type": "markdown",
      "metadata": {
        "id": "JKDJ6cQwouWg"
      },
      "source": [
        "### Acesso dados Web \n",
        "\n"
      ]
    },
    {
      "cell_type": "code",
      "metadata": {
        "id": "eQhcsWvHouWj",
        "colab": {
          "base_uri": "https://localhost:8080/",
          "height": 527
        },
        "outputId": "9563c8b8-681c-4973-c0d2-73de3bdc4beb"
      },
      "source": [
        "import urllib.request  \n",
        "\n",
        "data = urllib.request.urlopen('http://meusite.mackenzie.br/rogerio/TIC/PlayBallcsv.csv')\n",
        "\n",
        "for line in data:\n",
        "    print(line.decode('utf-8'))"
      ],
      "execution_count": null,
      "outputs": [
        {
          "output_type": "stream",
          "text": [
            "Day,Outlook,Temperature,Humidity,Wind,Play ball\r\n",
            "\n",
            "D1,Sunny,Hot,High,Weak,No\r\n",
            "\n",
            "D2,Sunny,Hot,High,Strong,No\r\n",
            "\n",
            "D3,Overcast,Hot,High,Weak,Yes\r\n",
            "\n",
            "D4,Rain,Mild,High,Weak,Yes\r\n",
            "\n",
            "D5,Rain,Cool,Normal,Weak,Yes\r\n",
            "\n",
            "D6,Rain,Cool,Normal,Strong,No\r\n",
            "\n",
            "D7,Overcast,Cool,Normal,Strong,Yes\r\n",
            "\n",
            "D8,Sunny,Mild,High,Weak,No\r\n",
            "\n",
            "D9,Sunny,Cool,Normal,Weak,Yes\r\n",
            "\n",
            "D10,Rain,Mild,Normal,Weak,Yes\r\n",
            "\n",
            "D11,Sunny,Mild,Normal,Strong,Yes\r\n",
            "\n",
            "D12,Overcast,Mild,High,Strong,Yes\r\n",
            "\n",
            "D13,Overcast,Hot,Normal,Weak,Yes\r\n",
            "\n",
            "D14,Rain,Mild,High,Strong,No\r\n",
            "\n"
          ],
          "name": "stdout"
        }
      ]
    },
    {
      "cell_type": "markdown",
      "metadata": {
        "id": "8w1oh4cIouWn"
      },
      "source": [
        "## Basic imports\n"
      ]
    },
    {
      "cell_type": "code",
      "metadata": {
        "id": "3xjE5hJPouWo",
        "colab": {
          "base_uri": "https://localhost:8080/",
          "height": 190
        },
        "outputId": "fa41c8f0-7106-483f-d24a-74cab5200ff0"
      },
      "source": [
        "import math\n",
        "print(dir(math))\n",
        "help(math.pow)\n",
        "import numpy as np\n",
        "import pandas as pd \n",
        "import os          \n",
        "os.getcwd() \n"
      ],
      "execution_count": null,
      "outputs": [
        {
          "output_type": "stream",
          "text": [
            "['__doc__', '__loader__', '__name__', '__package__', '__spec__', 'acos', 'acosh', 'asin', 'asinh', 'atan', 'atan2', 'atanh', 'ceil', 'copysign', 'cos', 'cosh', 'degrees', 'e', 'erf', 'erfc', 'exp', 'expm1', 'fabs', 'factorial', 'floor', 'fmod', 'frexp', 'fsum', 'gamma', 'gcd', 'hypot', 'inf', 'isclose', 'isfinite', 'isinf', 'isnan', 'ldexp', 'lgamma', 'log', 'log10', 'log1p', 'log2', 'modf', 'nan', 'pi', 'pow', 'radians', 'sin', 'sinh', 'sqrt', 'tan', 'tanh', 'tau', 'trunc']\n",
            "Help on built-in function pow in module math:\n",
            "\n",
            "pow(...)\n",
            "    pow(x, y)\n",
            "    \n",
            "    Return x**y (x to the power of y).\n",
            "\n"
          ],
          "name": "stdout"
        },
        {
          "output_type": "execute_result",
          "data": {
            "text/plain": [
              "'/content'"
            ]
          },
          "metadata": {
            "tags": []
          },
          "execution_count": 46
        }
      ]
    },
    {
      "cell_type": "markdown",
      "metadata": {
        "id": "yCSClyJ8ouWs"
      },
      "source": [
        "## Numpy & `Seed`"
      ]
    },
    {
      "cell_type": "code",
      "metadata": {
        "id": "5YLuCzPDouWt",
        "colab": {
          "base_uri": "https://localhost:8080/",
          "height": 51
        },
        "outputId": "d0217d0c-0212-4b09-ec76-3920c303de98"
      },
      "source": [
        "import numpy as np\n",
        "\n",
        "x = np.array([1,2,3])\n",
        "x_list = x.tolist()\n",
        "\n",
        "x = x * 2 + 1\n",
        "# x_list = x_list * 2 + 1 # TypeError: can only concatenate list (not \"int\") to list\n",
        "\n",
        "np.random.seed(1984) # semente de geração aleatória\n",
        "x = np.array(np.random.randint(low=1, high=6, size=10))\n",
        "print(x)\n",
        "\n",
        "x = np.array([1,2,3])\n",
        "np.mean(x)\n",
        "np.sum(x)\n",
        "\n",
        "x = np.insert(x,len(x),4) # Note: NÂO FAZ INPLACE\n",
        "x = np.delete(x,len(x)-1) # Note: NÂO FAZ INPLACE\n",
        "x = np.append(x,[4,5,6])\n",
        "x[0] = 9 \n",
        "x\n"
      ],
      "execution_count": null,
      "outputs": [
        {
          "output_type": "stream",
          "text": [
            "[5 4 2 1 1 3 3 2 3 1]\n"
          ],
          "name": "stdout"
        },
        {
          "output_type": "execute_result",
          "data": {
            "text/plain": [
              "array([9, 2, 3, 4, 5, 6])"
            ]
          },
          "metadata": {
            "tags": []
          },
          "execution_count": 79
        }
      ]
    }
  ]
}