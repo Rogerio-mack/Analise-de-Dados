{
  "nbformat": 4,
  "nbformat_minor": 0,
  "metadata": {
    "colab": {
      "name": "AED_2.ipynb",
      "provenance": [],
      "authorship_tag": "ABX9TyOZYJE6QZYEGXwd94YZuMyr",
      "include_colab_link": true
    },
    "kernelspec": {
      "name": "ir",
      "display_name": "R"
    },
    "language_info": {
      "name": "R"
    }
  },
  "cells": [
    {
      "cell_type": "markdown",
      "metadata": {
        "id": "view-in-github",
        "colab_type": "text"
      },
      "source": [
        "<a href=\"https://colab.research.google.com/github/Rogerio-mack/Analise-de-Dados/blob/main/AED_2.ipynb\" target=\"_parent\"><img src=\"https://colab.research.google.com/assets/colab-badge.svg\" alt=\"Open In Colab\"/></a>"
      ]
    },
    {
      "cell_type": "markdown",
      "metadata": {
        "id": "a6ef8c8a"
      },
      "source": [
        "<img src=\"http://meusite.mackenzie.br/rogerio/mackenzie_logo/UPM.2_horizontal_vermelho.jpg\"  width=300, align=\"right\">\n",
        "<br>\n",
        "<br>\n",
        "<br>\n",
        "<br>\n",
        "<br>"
      ]
    },
    {
      "cell_type": "markdown",
      "metadata": {
        "id": "2d9fdcde"
      },
      "source": [
        "# Programação em R\n",
        "---"
      ]
    },
    {
      "cell_type": "markdown",
      "metadata": {
        "id": "sEdNnyQE_1Dc"
      },
      "source": [
        "Nesta aula você aprenderá os conceitos de programação R e como lidar com dados tabulares para desenvolver análises de dados. Você aprenderá sobre:\n",
        "\n",
        "* Variáveis e Tipos de Dados em R\n",
        "* Estruturas de Controle de Fluxo\n",
        "* Organização de Dados em Tabelas (Tidy)\n",
        "* Aquisição e Seleção de Dados em R (dataframes)\n"
      ]
    },
    {
      "cell_type": "markdown",
      "metadata": {
        "id": "b3440760"
      },
      "source": [
        "# Introdução ao R"
      ]
    },
    {
      "cell_type": "markdown",
      "metadata": {
        "id": "481b0121"
      },
      "source": [
        "Neste ponto é esperado que você já tenha familiaridade com alguma linguagem de programação como (Python, C++, Java) e editores de programação. Assim faremos uma introdução baseada em exemplos, assumindo que você já tem os conceitos básicos como variáveis, tipos de dados, atribuição, controles de fluxo em programas etc.\n",
        "\n",
        "Todos os códigos aqui foram desenvolvidos e executados no ambiente Colab e você pode acessar diretamente os códigos em https://github.com/Rogerio-mack/Analise_Exploratoria_de_Dados para editar e executar os programas.\n",
        "\n",
        "> Lembre-se, a execução de notebooks R no Colab requer que você inicie o Colab com http://colab.to/r para abrir os arquivos .ipynb com código R. Você pode verificar se a sua sessão Colab está setada para executar programas R entrando na barra de ferramentas em `Runtime > Change runtime type`, na qual deverá aparecer a opção R como abaixo.\n",
        "\n",
        "\n",
        "<br>\n",
        "\n",
        "<img src=\"https://github.com/Rogerio-mack/Analise_Exploratoria_de_Dados/blob/main/figuras/ColabRType.png?raw=true\"  width=200, align=\"center\">\n",
        "<br>\n",
        "<br>\n"
      ]
    },
    {
      "cell_type": "markdown",
      "metadata": {
        "id": "TadLPk9_nplM"
      },
      "source": [
        "## Hello World! e R Version"
      ]
    },
    {
      "cell_type": "markdown",
      "metadata": {
        "id": "aSQ9Cn1hn0K0"
      },
      "source": [
        "Esse é o primeiro programa que aprendemos em qualquer linguagem e não poderia faltar aqui também."
      ]
    },
    {
      "cell_type": "code",
      "metadata": {
        "colab": {
          "base_uri": "https://localhost:8080/",
          "height": 0
        },
        "id": "-h19eX5WnpHF",
        "outputId": "3227819e-3a6a-48a5-ad87-500d7d2d3e07"
      },
      "source": [
        "print('Hello!')"
      ],
      "execution_count": 7,
      "outputs": [
        {
          "output_type": "stream",
          "text": [
            "[1] \"Hello!\"\n"
          ],
          "name": "stdout"
        }
      ]
    },
    {
      "cell_type": "markdown",
      "metadata": {
        "id": "kLl1C8XIoPX1"
      },
      "source": [
        "Mas esse comando é o mesmo para Python e R. Se você estiver executando esse código no Google Colab pode ser interessante, então, executar o comando abaixo para verificar que você está empregando o Kernel de R e qual a versão de R empregada. "
      ]
    },
    {
      "cell_type": "code",
      "metadata": {
        "colab": {
          "base_uri": "https://localhost:8080/",
          "height": 272
        },
        "id": "ipd-0gN5oGBU",
        "outputId": "9e842c7f-a3ab-4042-8c3f-3167a1718511"
      },
      "source": [
        "R.version"
      ],
      "execution_count": 8,
      "outputs": [
        {
          "output_type": "display_data",
          "data": {
            "text/plain": [
              "               _                           \n",
              "platform       x86_64-pc-linux-gnu         \n",
              "arch           x86_64                      \n",
              "os             linux-gnu                   \n",
              "system         x86_64, linux-gnu           \n",
              "status                                     \n",
              "major          4                           \n",
              "minor          1.1                         \n",
              "year           2021                        \n",
              "month          08                          \n",
              "day            10                          \n",
              "svn rev        80725                       \n",
              "language       R                           \n",
              "version.string R version 4.1.1 (2021-08-10)\n",
              "nickname       Kick Things                 "
            ]
          },
          "metadata": {}
        }
      ]
    },
    {
      "cell_type": "markdown",
      "metadata": {
        "id": "o1e66FQKopdM"
      },
      "source": [
        "A versão aqui é a versão R version 4.1.1 (2021-08-10) e podemos ter certeza de estar executando um Kernel de R."
      ]
    },
    {
      "cell_type": "markdown",
      "metadata": {
        "id": "5c100e9b"
      },
      "source": [
        "## Recursos e Help\n",
        "\n",
        "Se você já tem alguma familiaridade com Linguagens de Programação sabe da importância de consultarmos guias de referência rápida, tutoriais e a documentação da linguagem para criação de programas. Aqui alguns recursos que serão bastante úteis para você nessa jornada de aprendizado do R.\n",
        "\n",
        "* https://cran.r-project.org/manuals.html\n",
        "\n",
        "> A documentação do R é bastante extensa e útil em muitos casos. O uso do help  inserindo `?<comando>` ou `help(<comando>)`, ou o nome parcial do comando,  exibe no prompt da console a documentação do <comando> R incluindo vários exemplos. Essa opção, entretanto, é mais útil empregando o RStudio, local ou em nuvem. Para uso no Colab, embora você possa executar o comando, a exibição é bastante limitada e é preferível consultar a documentação no site.\n",
        "\n",
        "* https://www.w3schools.com/r/default.asp\n",
        "\n",
        "> Este pode ser empregao como um guia de referência rápida. É bastante útil e prático e conta com a vantagem de podermos empregá-lo também para Python. Ele, entretanto, não cobre uma parte importante da linguagem e que trataremos aqui, os dataframes R. \n",
        "\n",
        "* http://www.r-tutor.com/\n",
        "* https://www.statmethods.net/\n",
        "\n",
        "> Esses são dois sites que você vai adorar! Eles apresentam os principais comandos em R voltados exatamente para exploração de dados. Eles são econômicos na linguagem, apresentam exemplos claros e tratam boa parte dos assuntos que iremos cobrir neste curso. \n",
        "\n",
        "* Hadley Wickham, Garrett Grolemund, **R for Data Science: Import, Tidy, Transform, Visualize, and Model Data**.\n",
        "\n",
        "> Essa é uma referência obrigatória para quem quer aprender Análise de Dados com R e está disponível online com vários códigos exemplos. Entretanto é um texto mais avançado e em vários pontos emprega pacotes de dados mais elaborados como o `tidyverse`, `dplyr` e `ggplot2` que não empregaremos aqui."
      ]
    },
    {
      "cell_type": "markdown",
      "metadata": {
        "id": "2nj72KWaqG89"
      },
      "source": [
        "<img src=\"https://d33wubrfki0l68.cloudfront.net/b88ef926a004b0fce72b2526b0b5c4413666a4cb/24a30/cover.png\" width=\"250\"/>\n",
        "\n",
        "[Book](https://r4ds.had.co.nz/index.html) Acesse aqui (https://r4ds.had.co.nz/index.html)"
      ]
    },
    {
      "cell_type": "markdown",
      "metadata": {
        "id": "62ad64a3"
      },
      "source": [
        "##  Aritmética com R\n",
        "\n",
        "Em sua forma mais básica, R pode ser usado como uma calculadora simples empregando os operadores  `+, -, *, /, ^` (potência) ou `%%` (módulo).\n",
        "\n",
        "E você pode executar esses comandos na console:"
      ]
    },
    {
      "cell_type": "code",
      "metadata": {
        "kernel": "R",
        "tags": [
          "report_cell"
        ],
        "id": "ec2f015a",
        "colab": {
          "base_uri": "https://localhost:8080/",
          "height": 85
        },
        "outputId": "3588d1f8-2ec8-4155-f8b2-3797ed4cea97"
      },
      "source": [
        "# Uma adição\n",
        "5  +  3\n",
        "# Uma subtração\n",
        "5  -  3\n",
        "# Uma multiplicação\n",
        "3  *  5\n",
        "# Uma divisão\n",
        "( 5  +  5 ) /  2"
      ],
      "execution_count": 9,
      "outputs": [
        {
          "output_type": "display_data",
          "data": {
            "text/plain": [
              "[1] 8"
            ],
            "text/latex": "8",
            "text/markdown": "8",
            "text/html": [
              "8"
            ]
          },
          "metadata": {}
        },
        {
          "output_type": "display_data",
          "data": {
            "text/plain": [
              "[1] 2"
            ],
            "text/latex": "2",
            "text/markdown": "2",
            "text/html": [
              "2"
            ]
          },
          "metadata": {}
        },
        {
          "output_type": "display_data",
          "data": {
            "text/plain": [
              "[1] 15"
            ],
            "text/latex": "15",
            "text/markdown": "15",
            "text/html": [
              "15"
            ]
          },
          "metadata": {}
        },
        {
          "output_type": "display_data",
          "data": {
            "text/plain": [
              "[1] 5"
            ],
            "text/latex": "5",
            "text/markdown": "5",
            "text/html": [
              "5"
            ]
          },
          "metadata": {}
        }
      ]
    },
    {
      "cell_type": "markdown",
      "metadata": {
        "id": "894ef6d3"
      },
      "source": [
        "##  Atribuições a uma Variável\n",
        "\n",
        "Uma variável, como em outras linguagens, permite que você armazene um valor ou um objeto e empregar o nome dessa variável para acesso aos valores armazenados. Os valores são atribuídos com `<-`, ou **indiferentemente**, com `=` (a partir de todas as versões mais recentes de R). Prefira empregar o `=`."
      ]
    },
    {
      "cell_type": "code",
      "metadata": {
        "kernel": "R",
        "tags": [
          "report_cell"
        ],
        "id": "9c6819a2"
      },
      "source": [
        "# São equivalentes\n",
        "my_var1 <- 4\n",
        "my_var2 = 4"
      ],
      "execution_count": 10,
      "outputs": []
    },
    {
      "cell_type": "markdown",
      "metadata": {
        "id": "627d4be5"
      },
      "source": [
        "O R implementa, **tipos fracos** de dados, a exemplo do Python em que o tipo da variável é definido dinamicamente sem a necessidade de declaração da variável.\n",
        "\n",
        "Os valores podem ser exibidos automaticamente a partir do nome da variável. Mas somente a última saída é exibida."
      ]
    },
    {
      "cell_type": "code",
      "metadata": {
        "kernel": "R",
        "tags": [
          "report_cell"
        ],
        "id": "a2425a0f",
        "colab": {
          "base_uri": "https://localhost:8080/",
          "height": 51
        },
        "outputId": "621ec34c-369f-4682-e834-000c10400687"
      },
      "source": [
        "my_var1\n",
        "my_var2"
      ],
      "execution_count": 11,
      "outputs": [
        {
          "output_type": "display_data",
          "data": {
            "text/plain": [
              "[1] 4"
            ],
            "text/latex": "4",
            "text/markdown": "4",
            "text/html": [
              "4"
            ]
          },
          "metadata": {}
        },
        {
          "output_type": "display_data",
          "data": {
            "text/plain": [
              "[1] 4"
            ],
            "text/latex": "4",
            "text/markdown": "4",
            "text/html": [
              "4"
            ]
          },
          "metadata": {}
        }
      ]
    },
    {
      "cell_type": "markdown",
      "metadata": {
        "id": "dda753e4"
      },
      "source": [
        "Ou você pode optar pelo print dos valores."
      ]
    },
    {
      "cell_type": "code",
      "metadata": {
        "kernel": "R",
        "tags": [
          "report_cell"
        ],
        "id": "af077d10",
        "colab": {
          "base_uri": "https://localhost:8080/",
          "height": 0
        },
        "outputId": "cd1228e7-67b0-42ca-d053-6035062eff59"
      },
      "source": [
        "print(my_var1)\n",
        "print(my_var2)"
      ],
      "execution_count": 12,
      "outputs": [
        {
          "output_type": "stream",
          "text": [
            "[1] 4\n",
            "[1] 4\n"
          ],
          "name": "stdout"
        }
      ]
    },
    {
      "cell_type": "markdown",
      "metadata": {
        "id": "d244b650"
      },
      "source": [
        "Observe que o R é sensível a maiúsculas e minúsculas! Assim:"
      ]
    },
    {
      "cell_type": "code",
      "metadata": {
        "kernel": "R",
        "tags": [
          "report_cell"
        ],
        "id": "7f568f43",
        "colab": {
          "base_uri": "https://localhost:8080/",
          "height": 0
        },
        "outputId": "73d16683-a50f-48b5-e31c-8cf369581b66"
      },
      "source": [
        "My_var = 5\n",
        "my_var = 4\n",
        "print(My_var == my_var)"
      ],
      "execution_count": 13,
      "outputs": [
        {
          "output_type": "stream",
          "text": [
            "[1] FALSE\n"
          ],
          "name": "stdout"
        }
      ]
    },
    {
      "cell_type": "markdown",
      "metadata": {
        "id": "e5df0610"
      },
      "source": [
        "##  Tipos de dados básicos em R\n",
        "\n",
        "\n",
        "Alguns dos tipos mais básicos são:"
      ]
    },
    {
      "cell_type": "code",
      "metadata": {
        "kernel": "R",
        "tags": [
          "report_cell"
        ],
        "id": "b7fdd996",
        "colab": {
          "base_uri": "https://localhost:8080/",
          "height": 51
        },
        "outputId": "d7c600d4-8104-4966-cb4e-24910a58e2d9"
      },
      "source": [
        "my_numeric  =  42.55\n",
        "\n",
        "my_text = \"algum texto\"\n",
        "\n",
        "my_caracter = 'a'\n",
        "\n",
        "my_logical  = TRUE # Boolean\n",
        "\n",
        "sprintf(\"Valores = %s , %s , %s , %d\", my_numeric, my_text, my_caracter, my_logical)\n",
        "\n",
        "sprintf(\"Tipos = %s , %s , %s , %s\", class(my_numeric), class(my_text), class(my_caracter), class(my_logical))"
      ],
      "execution_count": 14,
      "outputs": [
        {
          "output_type": "display_data",
          "data": {
            "text/plain": [
              "[1] \"Valores = 42.55 , algum texto , a , 1\""
            ],
            "text/latex": "'Valores = 42.55 , algum texto , a , 1'",
            "text/markdown": "'Valores = 42.55 , algum texto , a , 1'",
            "text/html": [
              "'Valores = 42.55 , algum texto , a , 1'"
            ]
          },
          "metadata": {}
        },
        {
          "output_type": "display_data",
          "data": {
            "text/plain": [
              "[1] \"Tipos = numeric , character , character , logical\""
            ],
            "text/latex": "'Tipos = numeric , character , character , logical'",
            "text/markdown": "'Tipos = numeric , character , character , logical'",
            "text/html": [
              "'Tipos = numeric , character , character , logical'"
            ]
          },
          "metadata": {}
        }
      ]
    },
    {
      "cell_type": "markdown",
      "metadata": {
        "id": "7d82e6f2"
      },
      "source": [
        "Aspas simples ou duplas são usadas indiferentemente. O comando `sprintf` permite a formatação da saída em C-Style e o comando `class` pode ser empregado para exibir a classe ou tipo de dado."
      ]
    },
    {
      "cell_type": "markdown",
      "metadata": {
        "id": "ed54da58"
      },
      "source": [
        "## Coleções: Vetores\n",
        "\n",
        "Um tipo de dado essencial em R são os vetores. Lembre-se, o R é uma linguagem para trabalhar com coleções de dados, e a coleção mais simples são os vetores. Para criar esses vetores você pode empregar o comando `c( )`, que significa **combine**, e são estruturas bastante semelhantes as listas em Python (embora não possuam os mesmos métodos)."
      ]
    },
    {
      "cell_type": "code",
      "metadata": {
        "kernel": "R",
        "tags": [
          "report_cell"
        ],
        "id": "d3ac542c",
        "colab": {
          "base_uri": "https://localhost:8080/"
        },
        "outputId": "27c83356-69c6-4164-e0a4-b0d3cdcbee53"
      },
      "source": [
        "vetor_numerico = c(1, 2, 3)\n",
        "\n",
        "vetor_caracter = c(\"a\", \"b\", \"c\")\n",
        "\n",
        "vetor_mix = c(1, 'a', TRUE)\n",
        "\n",
        "cat('Tipos = ', class(vetor_numerico), class(vetor_caracter), class(vetor_mix))\n",
        "\n"
      ],
      "execution_count": 42,
      "outputs": [
        {
          "output_type": "stream",
          "text": [
            "Tipos =  numeric character character"
          ],
          "name": "stdout"
        }
      ]
    },
    {
      "cell_type": "markdown",
      "metadata": {
        "id": "80fdde2a"
      },
      "source": [
        "Como você pode ver acima os vetores podem ter vários tipos de dados e assumem o tipo mais abrangente. O comando `cat( )` 'Concatenate and Print' é empregado aqui para exibir os tipos de dados como alternativa ao `print()` e `sprintf()` usados anteriormente.\n",
        "\n",
        "Como nos arrays de outras liguagens os vetores são listas ordenadas e indexadas e você pode acessar e alterar os valores referenciando o índice dos elementos."
      ]
    },
    {
      "cell_type": "code",
      "metadata": {
        "kernel": "R",
        "tags": [
          "report_cell"
        ],
        "id": "62607906",
        "colab": {
          "base_uri": "https://localhost:8080/",
          "height": 0
        },
        "outputId": "53aff222-29f4-49fd-9ab7-c60cbe86a84f"
      },
      "source": [
        "cat('Antes: ', vetor_numerico, '\\n')\n",
        "vetor_numerico[2] = 99\n",
        "cat('Depois: ', vetor_numerico, '\\n')\n",
        "\n",
        "for (i in 1:3) cat('\\n', vetor_numerico[i])"
      ],
      "execution_count": 16,
      "outputs": [
        {
          "output_type": "stream",
          "text": [
            "Antes:  1 2 3 \n",
            "Depois:  1 99 3 \n",
            "\n",
            " 1\n",
            " 99\n",
            " 3"
          ],
          "name": "stdout"
        }
      ]
    },
    {
      "cell_type": "markdown",
      "metadata": {
        "id": "93b68d24"
      },
      "source": [
        "Você deve notar que os índices começam por 1 (diferentemente de listas em Python que iniciam com 0), e abaixo você encontra algumas formas que serão úteis para inicializar vetores."
      ]
    },
    {
      "cell_type": "code",
      "metadata": {
        "kernel": "R",
        "tags": [
          "report_cell"
        ],
        "id": "a6199630",
        "colab": {
          "base_uri": "https://localhost:8080/",
          "height": 0
        },
        "outputId": "230b413a-6333-4ef0-8d84-51d2fb040c00"
      },
      "source": [
        "x = c(1,-2,3)\n",
        "y = seq(1,10,0.5)\n",
        "z = c(1:10)\n",
        "t = rep(c(1,2),each=3) # bem sofisticado aqui... :-)\n",
        "\n",
        "cat('x= ', x, '\\ny= ', y, '\\nz= ', z, '\\nt= ', t)"
      ],
      "execution_count": 17,
      "outputs": [
        {
          "output_type": "stream",
          "text": [
            "x=  1 -2 3 \n",
            "y=  1 1.5 2 2.5 3 3.5 4 4.5 5 5.5 6 6.5 7 7.5 8 8.5 9 9.5 10 \n",
            "z=  1 2 3 4 5 6 7 8 9 10 \n",
            "t=  1 1 1 2 2 2"
          ],
          "name": "stdout"
        }
      ]
    },
    {
      "cell_type": "markdown",
      "metadata": {
        "id": "b03d9914"
      },
      "source": [
        "O R, muito mais orientado a trabalhar com coleções de dados que com variáveis simples, permite que uma série de funções sejam aplicadas diretamente às coleções sem a necessidade de iterações (loops), sendo assim mais próximo do comportamento de listas em Python do que o que seria como seria comum em arrays de C++ ou Java.\n",
        "\n",
        "Assim, no lugar de:"
      ]
    },
    {
      "cell_type": "code",
      "metadata": {
        "kernel": "R",
        "tags": [
          "report_cell"
        ],
        "id": "a0d2981c",
        "colab": {
          "base_uri": "https://localhost:8080/",
          "height": 0
        },
        "outputId": "bdaae6f9-06aa-49d6-b8da-5d04506e9196"
      },
      "source": [
        "x = seq(1,10,1)\n",
        "cat('Antes ', x)\n",
        "\n",
        "for (i in 1:10){           # C++ e Java arrays funcionam desse modo\n",
        "  x[i] = x[i] + 1\n",
        "}\n",
        "\n",
        "cat('\\nDepois ', x)"
      ],
      "execution_count": 18,
      "outputs": [
        {
          "output_type": "stream",
          "text": [
            "Antes  1 2 3 4 5 6 7 8 9 10\n",
            "Depois  2 3 4 5 6 7 8 9 10 11"
          ],
          "name": "stdout"
        }
      ]
    },
    {
      "cell_type": "markdown",
      "metadata": {
        "id": "b7591758"
      },
      "source": [
        "Você pode simplesmente pode escrever:"
      ]
    },
    {
      "cell_type": "code",
      "metadata": {
        "kernel": "R",
        "tags": [
          "report_cell"
        ],
        "id": "e23e2625",
        "colab": {
          "base_uri": "https://localhost:8080/",
          "height": 0
        },
        "outputId": "712da370-6719-4e57-b1e8-68ed35d9532e"
      },
      "source": [
        "x = seq(1,10,1)\n",
        "cat('Antes ', x)\n",
        "\n",
        "x = x + 1                  # em R a operação + é feita para todos elementos da coleção sem a necessidade das iterações\n",
        "\n",
        "cat('\\nDepois ', x)"
      ],
      "execution_count": 19,
      "outputs": [
        {
          "output_type": "stream",
          "text": [
            "Antes  1 2 3 4 5 6 7 8 9 10\n",
            "Depois  2 3 4 5 6 7 8 9 10 11"
          ],
          "name": "stdout"
        }
      ]
    },
    {
      "cell_type": "markdown",
      "metadata": {
        "id": "ee7cab19"
      },
      "source": [
        "E de modo análogo outras operações:"
      ]
    },
    {
      "cell_type": "code",
      "metadata": {
        "kernel": "R",
        "tags": [
          "report_cell"
        ],
        "id": "6553df89",
        "colab": {
          "base_uri": "https://localhost:8080/",
          "height": 0
        },
        "outputId": "0cbfee95-aa35-4b00-f734-144ddd3583d2"
      },
      "source": [
        "x = seq(1,10,1)\n",
        "cat('Antes ', x)\n",
        "\n",
        "cat('\\nDepois... \\n')\n",
        "\n",
        "print(2*x)\n",
        "print(x+1)\n",
        "print(sum(x))\n",
        "print(max(x), min(x))\n",
        "print(sqrt(x))"
      ],
      "execution_count": 20,
      "outputs": [
        {
          "output_type": "stream",
          "text": [
            "Antes  1 2 3 4 5 6 7 8 9 10\n",
            "Depois... \n",
            " [1]  2  4  6  8 10 12 14 16 18 20\n",
            " [1]  2  3  4  5  6  7  8  9 10 11\n",
            "[1] 55\n",
            "[1] 10\n",
            " [1] 1.000000 1.414214 1.732051 2.000000 2.236068 2.449490 2.645751 2.828427\n",
            " [9] 3.000000 3.162278\n"
          ],
          "name": "stdout"
        }
      ]
    },
    {
      "cell_type": "markdown",
      "metadata": {
        "id": "3ace9d24"
      },
      "source": [
        "O que se aplica também para funções lógicas:"
      ]
    },
    {
      "cell_type": "code",
      "metadata": {
        "kernel": "R",
        "tags": [
          "report_cell"
        ],
        "id": "34a6faab",
        "colab": {
          "base_uri": "https://localhost:8080/",
          "height": 0
        },
        "outputId": "758abe7c-fd05-4d18-fd17-53fc47fbcda1"
      },
      "source": [
        "x = seq(1,10,1)\n",
        "\n",
        "print(x > 5)"
      ],
      "execution_count": 21,
      "outputs": [
        {
          "output_type": "stream",
          "text": [
            " [1] FALSE FALSE FALSE FALSE FALSE  TRUE  TRUE  TRUE  TRUE  TRUE\n"
          ],
          "name": "stdout"
        }
      ]
    },
    {
      "cell_type": "markdown",
      "metadata": {
        "id": "4ebc6dc2"
      },
      "source": [
        "o que fornece uma forma bastante prática para você fazer a seleção de valores em uma coleção:"
      ]
    },
    {
      "cell_type": "code",
      "metadata": {
        "kernel": "R",
        "tags": [
          "report_cell"
        ],
        "id": "5c2140b2",
        "colab": {
          "base_uri": "https://localhost:8080/",
          "height": 0
        },
        "outputId": "a29c5f92-6de6-4baa-aee5-0913e62aa8c5"
      },
      "source": [
        "x = seq(1,10,1)\n",
        "\n",
        "L = x > 5          # vetor lógico selecionando os índices que correspondem a valores > 5\n",
        "\n",
        "print(x[L])"
      ],
      "execution_count": 22,
      "outputs": [
        {
          "output_type": "stream",
          "text": [
            "[1]  6  7  8  9 10\n"
          ],
          "name": "stdout"
        }
      ]
    },
    {
      "cell_type": "markdown",
      "metadata": {
        "id": "3759ca2c"
      },
      "source": [
        "## Matrizes e Arrays\n",
        "\n",
        "Matrizes e Arrays também podem ser criados. As matrizes são coleções de 2 dimensões, enquanto os arrays são generalizações de matrizes para mais (ou menos) de 2 dimensões. Mas essas estruturas serão pouco empregadas aqui, sendo muito mais frequente o uso de vetores."
      ]
    },
    {
      "cell_type": "code",
      "metadata": {
        "kernel": "R",
        "tags": [
          "report_cell"
        ],
        "id": "0d8c1437",
        "colab": {
          "base_uri": "https://localhost:8080/",
          "height": 147
        },
        "outputId": "89278af1-cf20-49be-ea04-7d79eead70d8"
      },
      "source": [
        "X = matrix(c(1,2,3,4,5,6),nrow=2,ncol=3); X                # Uma matriz 2x3\n",
        "\n",
        "X = array(c(1,2,3,4,5,6,7,8,9,10,1,1),dim=c(3,2,2)); X     # Um array: 2 matrizes 3x2"
      ],
      "execution_count": 23,
      "outputs": [
        {
          "output_type": "display_data",
          "data": {
            "text/plain": [
              "     [,1] [,2] [,3]\n",
              "[1,] 1    3    5   \n",
              "[2,] 2    4    6   "
            ],
            "text/latex": "A matrix: 2 × 3 of type dbl\n\\begin{tabular}{lll}\n\t 1 & 3 & 5\\\\\n\t 2 & 4 & 6\\\\\n\\end{tabular}\n",
            "text/markdown": "\nA matrix: 2 × 3 of type dbl\n\n| 1 | 3 | 5 |\n| 2 | 4 | 6 |\n\n",
            "text/html": [
              "<table class=\"dataframe\">\n",
              "<caption>A matrix: 2 × 3 of type dbl</caption>\n",
              "<tbody>\n",
              "\t<tr><td>1</td><td>3</td><td>5</td></tr>\n",
              "\t<tr><td>2</td><td>4</td><td>6</td></tr>\n",
              "</tbody>\n",
              "</table>\n"
            ]
          },
          "metadata": {}
        },
        {
          "output_type": "display_data",
          "data": {
            "text/plain": [
              ", , 1\n",
              "\n",
              "     [,1] [,2]\n",
              "[1,]    1    4\n",
              "[2,]    2    5\n",
              "[3,]    3    6\n",
              "\n",
              ", , 2\n",
              "\n",
              "     [,1] [,2]\n",
              "[1,]    7   10\n",
              "[2,]    8    1\n",
              "[3,]    9    1\n"
            ],
            "text/latex": "\\begin{enumerate*}\n\\item 1\n\\item 2\n\\item 3\n\\item 4\n\\item 5\n\\item 6\n\\item 7\n\\item 8\n\\item 9\n\\item 10\n\\item 1\n\\item 1\n\\end{enumerate*}\n",
            "text/markdown": "1. 1\n2. 2\n3. 3\n4. 4\n5. 5\n6. 6\n7. 7\n8. 8\n9. 9\n10. 10\n11. 1\n12. 1\n\n\n",
            "text/html": [
              "<style>\n",
              ".list-inline {list-style: none; margin:0; padding: 0}\n",
              ".list-inline>li {display: inline-block}\n",
              ".list-inline>li:not(:last-child)::after {content: \"\\00b7\"; padding: 0 .5ex}\n",
              "</style>\n",
              "<ol class=list-inline><li>1</li><li>2</li><li>3</li><li>4</li><li>5</li><li>6</li><li>7</li><li>8</li><li>9</li><li>10</li><li>1</li><li>1</li></ol>\n"
            ]
          },
          "metadata": {}
        }
      ]
    },
    {
      "cell_type": "markdown",
      "metadata": {
        "id": "33f8d5c3"
      },
      "source": [
        "## Fatores\n",
        "\n",
        "Para lidar com medições nas escalas nominais e ordinais o R fornece vetores de tipo fator. Um fator é uma variável que pode assumir apenas um número discreto (finito) de valores distintos (os `levels`). Para criar um fator você pode aplicar a função `factor` a um vetor de qualquer classe:"
      ]
    },
    {
      "cell_type": "code",
      "metadata": {
        "kernel": "R",
        "tags": [
          "report_cell"
        ],
        "id": "252c866c",
        "colab": {
          "base_uri": "https://localhost:8080/",
          "height": 153
        },
        "outputId": "734d5eb8-75e0-44cd-c863-2f01bc05413d"
      },
      "source": [
        "# gender com 5 \"male\" e 10 \"female\"\n",
        "gender = c(rep(\"male\",5), rep(\"female\", 10))\n",
        "\n",
        "sprintf(gender, '\\n', class(gender) , '\\n')                   # como vetor\n",
        "\n",
        "gender = factor(gender)                                       # como factor\n",
        "sprintf(as.character(gender), '\\n', class(gender) , '\\n')\n",
        "\n",
        "# factor faz com que os valores sejam armazenados internamente 1=female, 2=male internally (ordem alfabética) e o R tratará gender como uma variável nominal e não como caracteres!\n",
        "\n",
        "cat(gender, '\\n')\n",
        "summary(gender)"
      ],
      "execution_count": 24,
      "outputs": [
        {
          "output_type": "stream",
          "text": [
            "Warning message in sprintf(gender, \"\\n\", class(gender), \"\\n\"):\n",
            "“3 arguments not used by format”\n"
          ],
          "name": "stderr"
        },
        {
          "output_type": "display_data",
          "data": {
            "text/plain": [
              " [1] \"male\"   \"male\"   \"male\"   \"male\"   \"male\"   \"female\" \"female\" \"female\"\n",
              " [9] \"female\" \"female\" \"female\" \"female\" \"female\" \"female\" \"female\""
            ],
            "text/latex": "\\begin{enumerate*}\n\\item 'male'\n\\item 'male'\n\\item 'male'\n\\item 'male'\n\\item 'male'\n\\item 'female'\n\\item 'female'\n\\item 'female'\n\\item 'female'\n\\item 'female'\n\\item 'female'\n\\item 'female'\n\\item 'female'\n\\item 'female'\n\\item 'female'\n\\end{enumerate*}\n",
            "text/markdown": "1. 'male'\n2. 'male'\n3. 'male'\n4. 'male'\n5. 'male'\n6. 'female'\n7. 'female'\n8. 'female'\n9. 'female'\n10. 'female'\n11. 'female'\n12. 'female'\n13. 'female'\n14. 'female'\n15. 'female'\n\n\n",
            "text/html": [
              "<style>\n",
              ".list-inline {list-style: none; margin:0; padding: 0}\n",
              ".list-inline>li {display: inline-block}\n",
              ".list-inline>li:not(:last-child)::after {content: \"\\00b7\"; padding: 0 .5ex}\n",
              "</style>\n",
              "<ol class=list-inline><li>'male'</li><li>'male'</li><li>'male'</li><li>'male'</li><li>'male'</li><li>'female'</li><li>'female'</li><li>'female'</li><li>'female'</li><li>'female'</li><li>'female'</li><li>'female'</li><li>'female'</li><li>'female'</li><li>'female'</li></ol>\n"
            ]
          },
          "metadata": {}
        },
        {
          "output_type": "stream",
          "text": [
            "Warning message in sprintf(as.character(gender), \"\\n\", class(gender), \"\\n\"):\n",
            "“3 arguments not used by format”\n"
          ],
          "name": "stderr"
        },
        {
          "output_type": "display_data",
          "data": {
            "text/plain": [
              " [1] \"male\"   \"male\"   \"male\"   \"male\"   \"male\"   \"female\" \"female\" \"female\"\n",
              " [9] \"female\" \"female\" \"female\" \"female\" \"female\" \"female\" \"female\""
            ],
            "text/latex": "\\begin{enumerate*}\n\\item 'male'\n\\item 'male'\n\\item 'male'\n\\item 'male'\n\\item 'male'\n\\item 'female'\n\\item 'female'\n\\item 'female'\n\\item 'female'\n\\item 'female'\n\\item 'female'\n\\item 'female'\n\\item 'female'\n\\item 'female'\n\\item 'female'\n\\end{enumerate*}\n",
            "text/markdown": "1. 'male'\n2. 'male'\n3. 'male'\n4. 'male'\n5. 'male'\n6. 'female'\n7. 'female'\n8. 'female'\n9. 'female'\n10. 'female'\n11. 'female'\n12. 'female'\n13. 'female'\n14. 'female'\n15. 'female'\n\n\n",
            "text/html": [
              "<style>\n",
              ".list-inline {list-style: none; margin:0; padding: 0}\n",
              ".list-inline>li {display: inline-block}\n",
              ".list-inline>li:not(:last-child)::after {content: \"\\00b7\"; padding: 0 .5ex}\n",
              "</style>\n",
              "<ol class=list-inline><li>'male'</li><li>'male'</li><li>'male'</li><li>'male'</li><li>'male'</li><li>'female'</li><li>'female'</li><li>'female'</li><li>'female'</li><li>'female'</li><li>'female'</li><li>'female'</li><li>'female'</li><li>'female'</li><li>'female'</li></ol>\n"
            ]
          },
          "metadata": {}
        },
        {
          "output_type": "stream",
          "text": [
            "2 2 2 2 2 1 1 1 1 1 1 1 1 1 1 \n"
          ],
          "name": "stdout"
        },
        {
          "output_type": "display_data",
          "data": {
            "text/plain": [
              "female   male \n",
              "    10      5 "
            ],
            "text/latex": "\\begin{description*}\n\\item[female] 10\n\\item[male] 5\n\\end{description*}\n",
            "text/markdown": "female\n:   10male\n:   5\n\n",
            "text/html": [
              "<style>\n",
              ".dl-inline {width: auto; margin:0; padding: 0}\n",
              ".dl-inline>dt, .dl-inline>dd {float: none; width: auto; display: inline-block}\n",
              ".dl-inline>dt::after {content: \":\\0020\"; padding-right: .5ex}\n",
              ".dl-inline>dt:not(:first-of-type) {padding-left: .5ex}\n",
              "</style><dl class=dl-inline><dt>female</dt><dd>10</dd><dt>male</dt><dd>5</dd></dl>\n"
            ]
          },
          "metadata": {}
        }
      ]
    },
    {
      "cell_type": "markdown",
      "metadata": {
        "id": "3479a2f3"
      },
      "source": [
        "O uso de fatores envolve uma série detalhes e por hora é suficiente você saber que existem essas coleções que criam valores nominais e ordinais."
      ]
    },
    {
      "cell_type": "code",
      "metadata": {
        "kernel": "R",
        "tags": [
          "report_cell"
        ],
        "id": "80461ff2",
        "colab": {
          "base_uri": "https://localhost:8080/",
          "height": 0
        },
        "outputId": "ba0e1974-f8bb-44d7-db58-575b697dd7c0"
      },
      "source": [
        "rating = c(rep(\"large\",1), rep(\"medium\",2), rep(\"small\",3))\n",
        "rating = ordered(rating)\n",
        "print(rating)"
      ],
      "execution_count": 25,
      "outputs": [
        {
          "output_type": "stream",
          "text": [
            "[1] large  medium medium small  small  small \n",
            "Levels: large < medium < small\n"
          ],
          "name": "stdout"
        }
      ]
    },
    {
      "cell_type": "markdown",
      "metadata": {
        "id": "635be070"
      },
      "source": [
        "## Caracteres\n",
        "\n",
        "Vale a pena também você olhar algumas funções úteis para a manipulação de caracteres em R como a conversão para caracteres, a concatenação de strings e substrings:"
      ]
    },
    {
      "cell_type": "code",
      "metadata": {
        "kernel": "R",
        "tags": [
          "report_cell"
        ],
        "id": "b8f4db9f",
        "colab": {
          "base_uri": "https://localhost:8080/",
          "height": 0
        },
        "outputId": "838bb100-bb50-4b59-dbb8-e25f61bb16e2"
      },
      "source": [
        "x = as.character(3.14) # converte para caracteres\n",
        "cat(x, class(x), '\\n')\n",
        "\n",
        "y = paste('Universidade','Presbiteriana','Mackenzie') # concatena strings\n",
        "print(y)\n",
        "\n",
        "print( substr (y, start = 14, stop = 26) ) # substring"
      ],
      "execution_count": 26,
      "outputs": [
        {
          "output_type": "stream",
          "text": [
            "3.14 character \n",
            "[1] \"Universidade Presbiteriana Mackenzie\"\n",
            "[1] \"Presbiteriana\"\n"
          ],
          "name": "stdout"
        }
      ]
    },
    {
      "cell_type": "markdown",
      "metadata": {
        "id": "5efb06e5"
      },
      "source": [
        "## Input pelo teclado"
      ]
    },
    {
      "cell_type": "code",
      "metadata": {
        "jupyter": {
          "source_hidden": true
        },
        "kernel": "R",
        "tags": [
          "report_cell"
        ],
        "id": "8851fd95",
        "colab": {
          "base_uri": "https://localhost:8080/",
          "height": 0
        },
        "outputId": "a3502606-786b-4c6a-9c75-afbf028d5b68"
      },
      "source": [
        "nome =  readline(prompt=\"Entre com seu nome: \")\n",
        "idade =  as.numeric(readline(prompt=\"Entre com sua idade: \"))\n",
        "\n",
        "cat('nome: ', nome, 'idade: ', idade, '\\n')"
      ],
      "execution_count": 28,
      "outputs": [
        {
          "output_type": "stream",
          "text": [
            "Entre com seu nome: Adriana\n",
            "Entre com sua idade: 1984\n",
            "nome:  Adriana idade:  1984 \n"
          ],
          "name": "stdout"
        }
      ]
    },
    {
      "cell_type": "markdown",
      "metadata": {
        "id": "0a47f3f1"
      },
      "source": [
        "## Estruturas de Controle de Fluxo\n",
        "\n",
        "Estruturas e controle de fluxo como `for, while, if` são bastante análogas às outras linguagens inclusive na sintaxe:\n",
        "\n",
        "```\n",
        "if(cond) expr\n",
        "if(cond) cons.expr  else  alt.expr\n",
        "\n",
        "for(var in seq) expr\n",
        "\n",
        "while(cond) expr\n",
        "\n",
        "repeat expr\n",
        "\n",
        "break\n",
        "next\n",
        "```\n",
        "\n",
        "Você pode ver alguns exemplos abaixo, mas vamos deixar para você explorar melhor esses comandos sugerindo que você comece pelo `help('for')`."
      ]
    },
    {
      "cell_type": "code",
      "metadata": {
        "kernel": "R",
        "tags": [
          "report_cell"
        ],
        "id": "f359f034",
        "colab": {
          "base_uri": "https://localhost:8080/",
          "height": 0
        },
        "outputId": "d470892b-d5fb-4209-c87d-14f24178e0d5"
      },
      "source": [
        "for(i in 1:5) print(1:i)\n",
        "\n",
        "for(n in c(2,5,10,20,50)) {\n",
        "   x = stats::rnorm(n)\n",
        "   cat(n, \": \", sum(x^2), \"\\n\", sep = \"\")\n",
        "}\n",
        "\n",
        "f = factor(sample(letters[1:5], 10, replace = TRUE))\n",
        "for(i in unique(f)) print(i)\n",
        "\n",
        "a = 5; b = 6\n",
        "if (a < b) print('menor') else print('maior')"
      ],
      "execution_count": 29,
      "outputs": [
        {
          "output_type": "stream",
          "text": [
            "[1] 1\n",
            "[1] 1 2\n",
            "[1] 1 2 3\n",
            "[1] 1 2 3 4\n",
            "[1] 1 2 3 4 5\n",
            "2: 1.256652\n",
            "5: 6.95564\n",
            "10: 11.0504\n",
            "20: 14.42704\n",
            "50: 51.29902\n",
            "[1] \"e\"\n",
            "[1] \"d\"\n",
            "[1] \"a\"\n",
            "[1] \"menor\"\n"
          ],
          "name": "stdout"
        }
      ]
    },
    {
      "cell_type": "markdown",
      "metadata": {
        "id": "e7d67219"
      },
      "source": [
        "E você pode empregar `{}` para definir blocos de instruções que são executadas em conjunto."
      ]
    },
    {
      "cell_type": "markdown",
      "metadata": {
        "id": "fb14ebc3"
      },
      "source": [
        "## Pacotes\n",
        "\n",
        "Existem muitos pacotes que implementam funcionalidades adicionais ao R e você empregará alguns deles ao longo do curso. Você deve empregar o comando `library()` para 'importar' as funcionalidades de uma biblioteca já instalada. Caso o pacote ainda não tenha sido instalado você deverá usar o `install.packages()`, mas este último comando, em geral, precisa ser feito uma única vez no seu ambiente."
      ]
    },
    {
      "cell_type": "code",
      "metadata": {
        "kernel": "R",
        "tags": [
          "report_cell"
        ],
        "id": "63572c86"
      },
      "source": [
        "# install.packages('ggplot2')  # comentado aqui\n",
        "library(ggplot2)"
      ],
      "execution_count": 30,
      "outputs": []
    },
    {
      "cell_type": "markdown",
      "metadata": {
        "id": "1a3f4ed5"
      },
      "source": [
        "O comando acima instala e importa um pacote bastante popular para gráficos e visualização de dados em R."
      ]
    },
    {
      "cell_type": "markdown",
      "metadata": {
        "id": "a6a23818"
      },
      "source": [
        "## Outros recursos\n",
        "\n",
        "O R possui ainda muito mais recursos do quê você aprendeu aqui, como recursos para orientação a objetos, suporte a operações em arquivos etc. Mas o aprendizado de uma linguagem, assim como aprender uma língua, não pode ser feito de uma única vez e requer o uso e a prática, e aqui você tem mais do que o suficiente para prosseguir no uso do R. É também importante você notar que nosso propósito é o de empregar R para a Análise de Dados e, sendo um propósito específico, alguns aspectos da linguagem não serão aqui de interesse."
      ]
    },
    {
      "cell_type": "markdown",
      "metadata": {
        "id": "7HMl5m_gzvG3"
      },
      "source": [
        "# Organização dos Dados\n",
        "\n",
        "É importante ao trabalharmos com dados empregar uma forma  consistente de organização dos dados. Colocar os dados neste formato pode requerer um grande trabalho, mas é essencial para desenvolvermos correta Análise dos Dados. \n",
        "\n",
        "Aqui nós iremos trabalhar essencialmente com dados tabulares, isto é, no formato de tabelas. Mesmo se pensarmos unicamente em tabelas existem várias formas de organizarmos um mesmo conjunto de dados. \n",
        "\n",
        "> Por exemplo, as tabelas abaixo trazem 4 diferentes formas de organizar os mesmos dados de país, população, ano e número de casos de Tuberculose documentados pela Organização Mundial de Sáude para o Afeganistão, Brasil e China entre os anos de 1999 e 2000. "
      ]
    },
    {
      "cell_type": "code",
      "metadata": {
        "colab": {
          "base_uri": "https://localhost:8080/"
        },
        "id": "MIHfgKzA0gVZ",
        "outputId": "282ce95b-0b9f-4142-8ec8-a4f0ff0c2b72"
      },
      "source": [
        "library(tidyverse)"
      ],
      "execution_count": 43,
      "outputs": [
        {
          "output_type": "stream",
          "text": [
            "Warning message in system(\"timedatectl\", intern = TRUE):\n",
            "“running command 'timedatectl' had status 1”\n",
            "── \u001b[1mAttaching packages\u001b[22m ─────────────────────────────────────── tidyverse 1.3.1 ──\n",
            "\n",
            "\u001b[32m✔\u001b[39m \u001b[34mtibble \u001b[39m 3.1.3     \u001b[32m✔\u001b[39m \u001b[34mdplyr  \u001b[39m 1.0.7\n",
            "\u001b[32m✔\u001b[39m \u001b[34mtidyr  \u001b[39m 1.1.3     \u001b[32m✔\u001b[39m \u001b[34mstringr\u001b[39m 1.4.0\n",
            "\u001b[32m✔\u001b[39m \u001b[34mreadr  \u001b[39m 2.0.1     \u001b[32m✔\u001b[39m \u001b[34mforcats\u001b[39m 0.5.1\n",
            "\u001b[32m✔\u001b[39m \u001b[34mpurrr  \u001b[39m 0.3.4     \n",
            "\n",
            "── \u001b[1mConflicts\u001b[22m ────────────────────────────────────────── tidyverse_conflicts() ──\n",
            "\u001b[31m✖\u001b[39m \u001b[34mdplyr\u001b[39m::\u001b[32mfilter()\u001b[39m masks \u001b[34mstats\u001b[39m::filter()\n",
            "\u001b[31m✖\u001b[39m \u001b[34mdplyr\u001b[39m::\u001b[32mlag()\u001b[39m    masks \u001b[34mstats\u001b[39m::lag()\n",
            "\n"
          ],
          "name": "stderr"
        }
      ]
    },
    {
      "cell_type": "code",
      "metadata": {
        "colab": {
          "base_uri": "https://localhost:8080/",
          "height": 283
        },
        "id": "Xnb4eWbm0irY",
        "outputId": "aabb6c03-0eaf-4c8a-bf24-d2a0dafcceda"
      },
      "source": [
        "table1"
      ],
      "execution_count": 44,
      "outputs": [
        {
          "output_type": "display_data",
          "data": {
            "text/plain": [
              "  country     year cases  population\n",
              "1 Afghanistan 1999    745   19987071\n",
              "2 Afghanistan 2000   2666   20595360\n",
              "3 Brazil      1999  37737  172006362\n",
              "4 Brazil      2000  80488  174504898\n",
              "5 China       1999 212258 1272915272\n",
              "6 China       2000 213766 1280428583"
            ],
            "text/latex": "A tibble: 6 × 4\n\\begin{tabular}{llll}\n country & year & cases & population\\\\\n <chr> & <int> & <int> & <int>\\\\\n\\hline\n\t Afghanistan & 1999 &    745 &   19987071\\\\\n\t Afghanistan & 2000 &   2666 &   20595360\\\\\n\t Brazil      & 1999 &  37737 &  172006362\\\\\n\t Brazil      & 2000 &  80488 &  174504898\\\\\n\t China       & 1999 & 212258 & 1272915272\\\\\n\t China       & 2000 & 213766 & 1280428583\\\\\n\\end{tabular}\n",
            "text/markdown": "\nA tibble: 6 × 4\n\n| country &lt;chr&gt; | year &lt;int&gt; | cases &lt;int&gt; | population &lt;int&gt; |\n|---|---|---|---|\n| Afghanistan | 1999 |    745 |   19987071 |\n| Afghanistan | 2000 |   2666 |   20595360 |\n| Brazil      | 1999 |  37737 |  172006362 |\n| Brazil      | 2000 |  80488 |  174504898 |\n| China       | 1999 | 212258 | 1272915272 |\n| China       | 2000 | 213766 | 1280428583 |\n\n",
            "text/html": [
              "<table class=\"dataframe\">\n",
              "<caption>A tibble: 6 × 4</caption>\n",
              "<thead>\n",
              "\t<tr><th scope=col>country</th><th scope=col>year</th><th scope=col>cases</th><th scope=col>population</th></tr>\n",
              "\t<tr><th scope=col>&lt;chr&gt;</th><th scope=col>&lt;int&gt;</th><th scope=col>&lt;int&gt;</th><th scope=col>&lt;int&gt;</th></tr>\n",
              "</thead>\n",
              "<tbody>\n",
              "\t<tr><td>Afghanistan</td><td>1999</td><td>   745</td><td>  19987071</td></tr>\n",
              "\t<tr><td>Afghanistan</td><td>2000</td><td>  2666</td><td>  20595360</td></tr>\n",
              "\t<tr><td>Brazil     </td><td>1999</td><td> 37737</td><td> 172006362</td></tr>\n",
              "\t<tr><td>Brazil     </td><td>2000</td><td> 80488</td><td> 174504898</td></tr>\n",
              "\t<tr><td>China      </td><td>1999</td><td>212258</td><td>1272915272</td></tr>\n",
              "\t<tr><td>China      </td><td>2000</td><td>213766</td><td>1280428583</td></tr>\n",
              "</tbody>\n",
              "</table>\n"
            ]
          },
          "metadata": {}
        }
      ]
    },
    {
      "cell_type": "code",
      "metadata": {
        "colab": {
          "base_uri": "https://localhost:8080/",
          "height": 469
        },
        "id": "HThEDXmF0lGG",
        "outputId": "4645085f-abbf-4c0c-f422-85db1295be77"
      },
      "source": [
        "table2"
      ],
      "execution_count": 45,
      "outputs": [
        {
          "output_type": "display_data",
          "data": {
            "text/plain": [
              "   country     year type       count     \n",
              "1  Afghanistan 1999 cases             745\n",
              "2  Afghanistan 1999 population   19987071\n",
              "3  Afghanistan 2000 cases            2666\n",
              "4  Afghanistan 2000 population   20595360\n",
              "5  Brazil      1999 cases           37737\n",
              "6  Brazil      1999 population  172006362\n",
              "7  Brazil      2000 cases           80488\n",
              "8  Brazil      2000 population  174504898\n",
              "9  China       1999 cases          212258\n",
              "10 China       1999 population 1272915272\n",
              "11 China       2000 cases          213766\n",
              "12 China       2000 population 1280428583"
            ],
            "text/latex": "A tibble: 12 × 4\n\\begin{tabular}{llll}\n country & year & type & count\\\\\n <chr> & <int> & <chr> & <int>\\\\\n\\hline\n\t Afghanistan & 1999 & cases      &        745\\\\\n\t Afghanistan & 1999 & population &   19987071\\\\\n\t Afghanistan & 2000 & cases      &       2666\\\\\n\t Afghanistan & 2000 & population &   20595360\\\\\n\t Brazil      & 1999 & cases      &      37737\\\\\n\t Brazil      & 1999 & population &  172006362\\\\\n\t Brazil      & 2000 & cases      &      80488\\\\\n\t Brazil      & 2000 & population &  174504898\\\\\n\t China       & 1999 & cases      &     212258\\\\\n\t China       & 1999 & population & 1272915272\\\\\n\t China       & 2000 & cases      &     213766\\\\\n\t China       & 2000 & population & 1280428583\\\\\n\\end{tabular}\n",
            "text/markdown": "\nA tibble: 12 × 4\n\n| country &lt;chr&gt; | year &lt;int&gt; | type &lt;chr&gt; | count &lt;int&gt; |\n|---|---|---|---|\n| Afghanistan | 1999 | cases      |        745 |\n| Afghanistan | 1999 | population |   19987071 |\n| Afghanistan | 2000 | cases      |       2666 |\n| Afghanistan | 2000 | population |   20595360 |\n| Brazil      | 1999 | cases      |      37737 |\n| Brazil      | 1999 | population |  172006362 |\n| Brazil      | 2000 | cases      |      80488 |\n| Brazil      | 2000 | population |  174504898 |\n| China       | 1999 | cases      |     212258 |\n| China       | 1999 | population | 1272915272 |\n| China       | 2000 | cases      |     213766 |\n| China       | 2000 | population | 1280428583 |\n\n",
            "text/html": [
              "<table class=\"dataframe\">\n",
              "<caption>A tibble: 12 × 4</caption>\n",
              "<thead>\n",
              "\t<tr><th scope=col>country</th><th scope=col>year</th><th scope=col>type</th><th scope=col>count</th></tr>\n",
              "\t<tr><th scope=col>&lt;chr&gt;</th><th scope=col>&lt;int&gt;</th><th scope=col>&lt;chr&gt;</th><th scope=col>&lt;int&gt;</th></tr>\n",
              "</thead>\n",
              "<tbody>\n",
              "\t<tr><td>Afghanistan</td><td>1999</td><td>cases     </td><td>       745</td></tr>\n",
              "\t<tr><td>Afghanistan</td><td>1999</td><td>population</td><td>  19987071</td></tr>\n",
              "\t<tr><td>Afghanistan</td><td>2000</td><td>cases     </td><td>      2666</td></tr>\n",
              "\t<tr><td>Afghanistan</td><td>2000</td><td>population</td><td>  20595360</td></tr>\n",
              "\t<tr><td>Brazil     </td><td>1999</td><td>cases     </td><td>     37737</td></tr>\n",
              "\t<tr><td>Brazil     </td><td>1999</td><td>population</td><td> 172006362</td></tr>\n",
              "\t<tr><td>Brazil     </td><td>2000</td><td>cases     </td><td>     80488</td></tr>\n",
              "\t<tr><td>Brazil     </td><td>2000</td><td>population</td><td> 174504898</td></tr>\n",
              "\t<tr><td>China      </td><td>1999</td><td>cases     </td><td>    212258</td></tr>\n",
              "\t<tr><td>China      </td><td>1999</td><td>population</td><td>1272915272</td></tr>\n",
              "\t<tr><td>China      </td><td>2000</td><td>cases     </td><td>    213766</td></tr>\n",
              "\t<tr><td>China      </td><td>2000</td><td>population</td><td>1280428583</td></tr>\n",
              "</tbody>\n",
              "</table>\n"
            ]
          },
          "metadata": {}
        }
      ]
    },
    {
      "cell_type": "code",
      "metadata": {
        "colab": {
          "base_uri": "https://localhost:8080/",
          "height": 283
        },
        "id": "zHO9RWmI0wFm",
        "outputId": "bc0d55b1-a498-4636-8b21-f15365f1a66f"
      },
      "source": [
        "table3"
      ],
      "execution_count": 46,
      "outputs": [
        {
          "output_type": "display_data",
          "data": {
            "text/plain": [
              "  country     year rate             \n",
              "1 Afghanistan 1999 745/19987071     \n",
              "2 Afghanistan 2000 2666/20595360    \n",
              "3 Brazil      1999 37737/172006362  \n",
              "4 Brazil      2000 80488/174504898  \n",
              "5 China       1999 212258/1272915272\n",
              "6 China       2000 213766/1280428583"
            ],
            "text/latex": "A tibble: 6 × 3\n\\begin{tabular}{r|lll}\n  & country & year & rate\\\\\n  & <chr> & <int> & <chr>\\\\\n\\hline\n\t1 & Afghanistan & 1999 & 745/19987071     \\\\\n\t2 & Afghanistan & 2000 & 2666/20595360    \\\\\n\t3 & Brazil      & 1999 & 37737/172006362  \\\\\n\t4 & Brazil      & 2000 & 80488/174504898  \\\\\n\t5 & China       & 1999 & 212258/1272915272\\\\\n\t6 & China       & 2000 & 213766/1280428583\\\\\n\\end{tabular}\n",
            "text/markdown": "\nA tibble: 6 × 3\n\n| <!--/--> | country &lt;chr&gt; | year &lt;int&gt; | rate &lt;chr&gt; |\n|---|---|---|---|\n| 1 | Afghanistan | 1999 | 745/19987071      |\n| 2 | Afghanistan | 2000 | 2666/20595360     |\n| 3 | Brazil      | 1999 | 37737/172006362   |\n| 4 | Brazil      | 2000 | 80488/174504898   |\n| 5 | China       | 1999 | 212258/1272915272 |\n| 6 | China       | 2000 | 213766/1280428583 |\n\n",
            "text/html": [
              "<table class=\"dataframe\">\n",
              "<caption>A tibble: 6 × 3</caption>\n",
              "<thead>\n",
              "\t<tr><th></th><th scope=col>country</th><th scope=col>year</th><th scope=col>rate</th></tr>\n",
              "\t<tr><th></th><th scope=col>&lt;chr&gt;</th><th scope=col>&lt;int&gt;</th><th scope=col>&lt;chr&gt;</th></tr>\n",
              "</thead>\n",
              "<tbody>\n",
              "\t<tr><th scope=row>1</th><td>Afghanistan</td><td>1999</td><td>745/19987071     </td></tr>\n",
              "\t<tr><th scope=row>2</th><td>Afghanistan</td><td>2000</td><td>2666/20595360    </td></tr>\n",
              "\t<tr><th scope=row>3</th><td>Brazil     </td><td>1999</td><td>37737/172006362  </td></tr>\n",
              "\t<tr><th scope=row>4</th><td>Brazil     </td><td>2000</td><td>80488/174504898  </td></tr>\n",
              "\t<tr><th scope=row>5</th><td>China      </td><td>1999</td><td>212258/1272915272</td></tr>\n",
              "\t<tr><th scope=row>6</th><td>China      </td><td>2000</td><td>213766/1280428583</td></tr>\n",
              "</tbody>\n",
              "</table>\n"
            ]
          },
          "metadata": {}
        }
      ]
    },
    {
      "cell_type": "code",
      "metadata": {
        "colab": {
          "base_uri": "https://localhost:8080/",
          "height": 363
        },
        "id": "NxLUOTBX0x0v",
        "outputId": "d3a1f0c2-28bc-45cf-93bb-04e910ce112b"
      },
      "source": [
        "table4a\n",
        "table4b"
      ],
      "execution_count": 47,
      "outputs": [
        {
          "output_type": "display_data",
          "data": {
            "text/plain": [
              "  country     1999   2000  \n",
              "1 Afghanistan    745   2666\n",
              "2 Brazil       37737  80488\n",
              "3 China       212258 213766"
            ],
            "text/latex": "A tibble: 3 × 3\n\\begin{tabular}{r|lll}\n  & country & 1999 & 2000\\\\\n  & <chr> & <int> & <int>\\\\\n\\hline\n\t1 & Afghanistan &    745 &   2666\\\\\n\t2 & Brazil      &  37737 &  80488\\\\\n\t3 & China       & 212258 & 213766\\\\\n\\end{tabular}\n",
            "text/markdown": "\nA tibble: 3 × 3\n\n| <!--/--> | country &lt;chr&gt; | 1999 &lt;int&gt; | 2000 &lt;int&gt; |\n|---|---|---|---|\n| 1 | Afghanistan |    745 |   2666 |\n| 2 | Brazil      |  37737 |  80488 |\n| 3 | China       | 212258 | 213766 |\n\n",
            "text/html": [
              "<table class=\"dataframe\">\n",
              "<caption>A tibble: 3 × 3</caption>\n",
              "<thead>\n",
              "\t<tr><th></th><th scope=col>country</th><th scope=col>1999</th><th scope=col>2000</th></tr>\n",
              "\t<tr><th></th><th scope=col>&lt;chr&gt;</th><th scope=col>&lt;int&gt;</th><th scope=col>&lt;int&gt;</th></tr>\n",
              "</thead>\n",
              "<tbody>\n",
              "\t<tr><th scope=row>1</th><td>Afghanistan</td><td>   745</td><td>  2666</td></tr>\n",
              "\t<tr><th scope=row>2</th><td>Brazil     </td><td> 37737</td><td> 80488</td></tr>\n",
              "\t<tr><th scope=row>3</th><td>China      </td><td>212258</td><td>213766</td></tr>\n",
              "</tbody>\n",
              "</table>\n"
            ]
          },
          "metadata": {}
        },
        {
          "output_type": "display_data",
          "data": {
            "text/plain": [
              "  country     1999       2000      \n",
              "1 Afghanistan   19987071   20595360\n",
              "2 Brazil       172006362  174504898\n",
              "3 China       1272915272 1280428583"
            ],
            "text/latex": "A tibble: 3 × 3\n\\begin{tabular}{r|lll}\n  & country & 1999 & 2000\\\\\n  & <chr> & <int> & <int>\\\\\n\\hline\n\t1 & Afghanistan &   19987071 &   20595360\\\\\n\t2 & Brazil      &  172006362 &  174504898\\\\\n\t3 & China       & 1272915272 & 1280428583\\\\\n\\end{tabular}\n",
            "text/markdown": "\nA tibble: 3 × 3\n\n| <!--/--> | country &lt;chr&gt; | 1999 &lt;int&gt; | 2000 &lt;int&gt; |\n|---|---|---|---|\n| 1 | Afghanistan |   19987071 |   20595360 |\n| 2 | Brazil      |  172006362 |  174504898 |\n| 3 | China       | 1272915272 | 1280428583 |\n\n",
            "text/html": [
              "<table class=\"dataframe\">\n",
              "<caption>A tibble: 3 × 3</caption>\n",
              "<thead>\n",
              "\t<tr><th></th><th scope=col>country</th><th scope=col>1999</th><th scope=col>2000</th></tr>\n",
              "\t<tr><th></th><th scope=col>&lt;chr&gt;</th><th scope=col>&lt;int&gt;</th><th scope=col>&lt;int&gt;</th></tr>\n",
              "</thead>\n",
              "<tbody>\n",
              "\t<tr><th scope=row>1</th><td>Afghanistan</td><td>  19987071</td><td>  20595360</td></tr>\n",
              "\t<tr><th scope=row>2</th><td>Brazil     </td><td> 172006362</td><td> 174504898</td></tr>\n",
              "\t<tr><th scope=row>3</th><td>China      </td><td>1272915272</td><td>1280428583</td></tr>\n",
              "</tbody>\n",
              "</table>\n"
            ]
          },
          "metadata": {}
        }
      ]
    },
    {
      "cell_type": "markdown",
      "metadata": {
        "id": "SgiVUZUR3ygX"
      },
      "source": [
        "> São os mesmos dados mas nem todas as representações, ainda que no formato de tabelas, são igualmente fáceis de usar. \n",
        "\n",
        "A ideia é que um conjunto de dados organizado em um formato Tidy será muito mais fácil de trabalhar. Um formato de tabela Tidy é construído de forma a atender 3 regras: \n",
        "\n",
        "1. Cada variável deve ter sua própria coluna.\n",
        "2. Cada observação, caso ou instância de dados, deve ter sua própria linha.\n",
        "3. Cada valor deve ter sua própria célula.\n",
        "\n",
        "representadas abaixo.\n",
        "<br>\n",
        "<br>\n",
        "<img src=\"https://d33wubrfki0l68.cloudfront.net/6f1ddb544fc5c69a2478e444ab8112fb0eea23f8/91adc/images/tidy-1.png\"  width=600, align=\"center\">\n",
        "<br>\n",
        "<br>\n",
        "\n",
        "> Uma forma mais formal de definirmos esse formato poderia ser *um conjunto multivariado de dados está na forma de uma matriz de dados (Tidy) se linhas correspondem aos indivíduos da amostra e as colunas às variáveis, de modo que a entrada na i-ésima linha e j-ésima coluna dá o valor da j-ésima variável conforme medido ou observado no i-ésimo indivíduo.* Mas realmente o formato Tidy aparece forma bastante natural para um grande número de conjuntos de dados e é suficiente verificarmos as 3 regras acima. \n",
        "\n",
        "Dos conjuntos de dados do exemplo anterior você poderá verificar que somente `table1` atende as 3 regras e, portanto, organiza adequamente os dados: \n",
        "\n",
        "1. Cada variável deve ter sua própria coluna: `country`,\t`year`,\t`cases` e\t`population`.\n",
        "2. Cada observação deve ter sua própria linha: de fato a população e casos observados aparece para cada país e ano em uma única linha da tabela. \n",
        "3. Cada valor deve ter sua própria célula: cada valor encontra-se em uma única célula, linha $\\times$ coluna."
      ]
    },
    {
      "cell_type": "code",
      "metadata": {
        "colab": {
          "base_uri": "https://localhost:8080/",
          "height": 283
        },
        "id": "3BEnRlg46ggY",
        "outputId": "f61d29b4-5c03-4ea7-effa-719f1fb6ea70"
      },
      "source": [
        "table1"
      ],
      "execution_count": 49,
      "outputs": [
        {
          "output_type": "display_data",
          "data": {
            "text/plain": [
              "  country     year cases  population\n",
              "1 Afghanistan 1999    745   19987071\n",
              "2 Afghanistan 2000   2666   20595360\n",
              "3 Brazil      1999  37737  172006362\n",
              "4 Brazil      2000  80488  174504898\n",
              "5 China       1999 212258 1272915272\n",
              "6 China       2000 213766 1280428583"
            ],
            "text/latex": "A tibble: 6 × 4\n\\begin{tabular}{llll}\n country & year & cases & population\\\\\n <chr> & <int> & <int> & <int>\\\\\n\\hline\n\t Afghanistan & 1999 &    745 &   19987071\\\\\n\t Afghanistan & 2000 &   2666 &   20595360\\\\\n\t Brazil      & 1999 &  37737 &  172006362\\\\\n\t Brazil      & 2000 &  80488 &  174504898\\\\\n\t China       & 1999 & 212258 & 1272915272\\\\\n\t China       & 2000 & 213766 & 1280428583\\\\\n\\end{tabular}\n",
            "text/markdown": "\nA tibble: 6 × 4\n\n| country &lt;chr&gt; | year &lt;int&gt; | cases &lt;int&gt; | population &lt;int&gt; |\n|---|---|---|---|\n| Afghanistan | 1999 |    745 |   19987071 |\n| Afghanistan | 2000 |   2666 |   20595360 |\n| Brazil      | 1999 |  37737 |  172006362 |\n| Brazil      | 2000 |  80488 |  174504898 |\n| China       | 1999 | 212258 | 1272915272 |\n| China       | 2000 | 213766 | 1280428583 |\n\n",
            "text/html": [
              "<table class=\"dataframe\">\n",
              "<caption>A tibble: 6 × 4</caption>\n",
              "<thead>\n",
              "\t<tr><th scope=col>country</th><th scope=col>year</th><th scope=col>cases</th><th scope=col>population</th></tr>\n",
              "\t<tr><th scope=col>&lt;chr&gt;</th><th scope=col>&lt;int&gt;</th><th scope=col>&lt;int&gt;</th><th scope=col>&lt;int&gt;</th></tr>\n",
              "</thead>\n",
              "<tbody>\n",
              "\t<tr><td>Afghanistan</td><td>1999</td><td>   745</td><td>  19987071</td></tr>\n",
              "\t<tr><td>Afghanistan</td><td>2000</td><td>  2666</td><td>  20595360</td></tr>\n",
              "\t<tr><td>Brazil     </td><td>1999</td><td> 37737</td><td> 172006362</td></tr>\n",
              "\t<tr><td>Brazil     </td><td>2000</td><td> 80488</td><td> 174504898</td></tr>\n",
              "\t<tr><td>China      </td><td>1999</td><td>212258</td><td>1272915272</td></tr>\n",
              "\t<tr><td>China      </td><td>2000</td><td>213766</td><td>1280428583</td></tr>\n",
              "</tbody>\n",
              "</table>\n"
            ]
          },
          "metadata": {}
        }
      ]
    },
    {
      "cell_type": "markdown",
      "metadata": {
        "id": "up8uWK6Q7OF3"
      },
      "source": [
        "Essa organização de dados encontra uma representação própria em R conhecida como `dataframe` e que deu origem a outras estrutura dados semelhantes como os dataframes do pacote Pandas do Python."
      ]
    },
    {
      "cell_type": "markdown",
      "metadata": {
        "id": "79e5cbf4"
      },
      "source": [
        "# Dataframes em R"
      ]
    },
    {
      "cell_type": "markdown",
      "metadata": {
        "id": "95a45711"
      },
      "source": [
        "Os dataframes em R (a função é `data.frame`) são o formato de dados mais importante e empregado do R para Análise de Dados tabulares. Nele cada coluna pode então representar uma variável e cada linha uma observação respeitando o formato Tidy dos dados que vimos acima. Os dataframes em R permitem importar dados tabulares de vários formatos como .csv, excel, json, sql, SAS, SPSS etc. Aqui vamos nos concentrar em empregar dados *built-in* do R e seus pacotes (dados que já constam da base do pacote R ou de outros pacotes como as tabelas do pacote `tidyverse` que  empregamos acima) ou dados em formato .csv, e você pode consultar a documentação do R se estiver interessado em explorar dados em outros formatos. \n",
        "\n",
        "## Criando data.frame\n",
        "\n",
        "Um Dataframe (vamos empregar aqui o nome no lugar da função R) pode ser criado explicitamente como abaixo e isso é útil para criarmos novos conjuntos de dados que  podem ser então gravados e exportados para os mesmos formatos que citamos antes (.csv, excel, json, sql, SAS, SPSS etc.)."
      ]
    },
    {
      "cell_type": "code",
      "metadata": {
        "kernel": "R",
        "tags": [
          "report_cell"
        ],
        "id": "7fb83529",
        "colab": {
          "base_uri": "https://localhost:8080/",
          "height": 0
        },
        "outputId": "694834af-90cf-4146-b638-d504dd85bfa3"
      },
      "source": [
        "nr = c(1, 2, 3)\n",
        "nome = c(\"Ana\", \"Adriana\", \"Daniel\")\n",
        "estudante = c(TRUE, FALSE, TRUE)\n",
        "idade = c(15, 18, 17)\n",
        "df = data.frame (nr, nome, estudante, idade)\n",
        "\n",
        "print(df)"
      ],
      "execution_count": 31,
      "outputs": [
        {
          "output_type": "stream",
          "text": [
            "  nr    nome estudante idade\n",
            "1  1     Ana      TRUE    15\n",
            "2  2 Adriana     FALSE    18\n",
            "3  3  Daniel      TRUE    17\n"
          ],
          "name": "stdout"
        }
      ]
    },
    {
      "cell_type": "markdown",
      "metadata": {
        "id": "5e114b58"
      },
      "source": [
        "### Vetor de Coluna\n",
        "\n",
        "De modo semelhante ao SQL você pode referenciar os atributos (as colunas) a partir do nome da coluna como vetores."
      ]
    },
    {
      "cell_type": "code",
      "metadata": {
        "kernel": "R",
        "tags": [
          "report_cell"
        ],
        "id": "978d6ef1",
        "colab": {
          "base_uri": "https://localhost:8080/",
          "height": 0
        },
        "outputId": "46cd45e3-3816-42c5-ecb2-714b3e26e7c2"
      },
      "source": [
        "print(df$nome)\n",
        "print(df$idade)"
      ],
      "execution_count": 32,
      "outputs": [
        {
          "output_type": "stream",
          "text": [
            "[1] \"Ana\"     \"Adriana\" \"Daniel\" \n",
            "[1] 15 18 17\n"
          ],
          "name": "stdout"
        }
      ]
    },
    {
      "cell_type": "markdown",
      "metadata": {
        "id": "40192e1a"
      },
      "source": [
        "Note que em R empregamos o símbolo '$' referenciar o atributo no lugar de '.', como é empregado em geral para fazer referências de objetos.\n",
        "\n",
        "Cada atributo sendo um vetor você pode aplicar todas as funções que são aplicáveis a vetores para esses atributos, e você pode ver algumas das funções que empregamos anteriormente aqui:"
      ]
    },
    {
      "cell_type": "code",
      "metadata": {
        "kernel": "R",
        "tags": [
          "report_cell"
        ],
        "id": "b9bc3f54",
        "colab": {
          "base_uri": "https://localhost:8080/",
          "height": 221
        },
        "outputId": "fbfc4df8-b91e-452b-b23a-cb98eb26fc08"
      },
      "source": [
        "sprintf('Idade mínima: %d', min(df$idade))\n",
        "sprintf('Idade média: %.2f', mean(df$idade))\n",
        "\n",
        "print('Antes: ')\n",
        "print(df)\n",
        "\n",
        "# Somando 1 na idade\n",
        "df$idade = df$idade + 1\n",
        "\n",
        "print('Depois: ')\n",
        "print(df)"
      ],
      "execution_count": 33,
      "outputs": [
        {
          "output_type": "display_data",
          "data": {
            "text/plain": [
              "[1] \"Idade mínima: 15\""
            ],
            "text/latex": "'Idade mínima: 15'",
            "text/markdown": "'Idade mínima: 15'",
            "text/html": [
              "'Idade mínima: 15'"
            ]
          },
          "metadata": {}
        },
        {
          "output_type": "display_data",
          "data": {
            "text/plain": [
              "[1] \"Idade média: 16.67\""
            ],
            "text/latex": "'Idade média: 16.67'",
            "text/markdown": "'Idade média: 16.67'",
            "text/html": [
              "'Idade média: 16.67'"
            ]
          },
          "metadata": {}
        },
        {
          "output_type": "stream",
          "text": [
            "[1] \"Antes: \"\n",
            "  nr    nome estudante idade\n",
            "1  1     Ana      TRUE    15\n",
            "2  2 Adriana     FALSE    18\n",
            "3  3  Daniel      TRUE    17\n",
            "[1] \"Depois: \"\n",
            "  nr    nome estudante idade\n",
            "1  1     Ana      TRUE    16\n",
            "2  2 Adriana     FALSE    19\n",
            "3  3  Daniel      TRUE    18\n"
          ],
          "name": "stdout"
        }
      ]
    },
    {
      "cell_type": "markdown",
      "metadata": {
        "id": "8de78ec4"
      },
      "source": [
        "Ou ainda operações lógicas:"
      ]
    },
    {
      "cell_type": "code",
      "metadata": {
        "kernel": "R",
        "tags": [
          "report_cell"
        ],
        "id": "97dc4dea",
        "colab": {
          "base_uri": "https://localhost:8080/",
          "height": 0
        },
        "outputId": "cf9de23f-9e15-4a8d-8030-e8c83411a145"
      },
      "source": [
        "print(df$idade >= 18)"
      ],
      "execution_count": 34,
      "outputs": [
        {
          "output_type": "stream",
          "text": [
            "[1] FALSE  TRUE  TRUE\n"
          ],
          "name": "stdout"
        }
      ]
    },
    {
      "cell_type": "markdown",
      "metadata": {
        "id": "6b75d838"
      },
      "source": [
        "e você verá como empregar isso abaixo para a seleção de linhas de uma tabela."
      ]
    },
    {
      "cell_type": "markdown",
      "metadata": {
        "id": "06m7bqcV98pp"
      },
      "source": [
        "Esse é foi exemplo bastante simples. Na maior parte dos casos aqui não iremos construir conjuntos de dados, mas estaremos interessados em acessar um conjunto de dados, por exemplo os dados sobre casos de Tuberculose nos países ou dados com características e preço de Veículos, sobre os quais estaremos interessados na análise.  "
      ]
    },
    {
      "cell_type": "markdown",
      "metadata": {
        "id": "-_3M0TS0AmPg"
      },
      "source": [
        "## Exploração Inicial da Estrutura dos Dados\n",
        "\n",
        "> Nos exemplos a seguir vamos empregar o `mtcars` um dos [datasets built-in](http://stat.ethz.ch/R-manual/R-patched/library/datasets/html/00Index.html) (http://stat.ethz.ch/R-manual/R-patched/library/datasets/html/00Index.html) do R. Mais adiante você aprenderá a importar dados de fontes próprias.\n",
        "\n",
        "Antes de você começar a trabalhar qualquer conjunto de dados é importante que você conheça os dados que tem em mãos."
      ]
    },
    {
      "cell_type": "markdown",
      "metadata": {
        "id": "3ae33ec4"
      },
      "source": [
        "Os comandos abaixo permitem explorar a estrutura básica de um dataset, como o número de linhas, colunas, tipos de dados etc. e você provavelmente começará uma exploração de dados por esses comandos para entender a estrutura dos dados em mãos antes de selecionar e analisar de fato os dados.\n",
        "\n",
        "Você pode executar cada um dos comandos em separado para exibir suas saídas."
      ]
    },
    {
      "cell_type": "code",
      "metadata": {
        "kernel": "R",
        "tags": [
          "report_cell"
        ],
        "id": "4b91b374",
        "colab": {
          "base_uri": "https://localhost:8080/",
          "height": 1229
        },
        "outputId": "71c43e80-ff23-43ff-a488-18dbb147639b"
      },
      "source": [
        "# execute cada um dos comandos isoladamente\n",
        "head(mtcars)     # cabeçalho do dataframe\n",
        "tail(mtcars)     # final do dataframe\n",
        "dim(mtcars)      # Dimensões\n",
        "ncol(mtcars)     # nr de colunas\n",
        "nrow(mtcars)     # nr de linhas\n",
        "names(mtcars)    # nome das colunas\n",
        "rownames(mtcars) # nome das linhas\n",
        "str(mtcars)      # Estrutura dos dados, como exibido no RStudio na janela superior direita\n",
        "summary(mtcars)  # Summary statistics"
      ],
      "execution_count": 35,
      "outputs": [
        {
          "output_type": "display_data",
          "data": {
            "text/plain": [
              "                  mpg  cyl disp hp  drat wt    qsec  vs am gear carb\n",
              "Mazda RX4         21.0 6   160  110 3.90 2.620 16.46 0  1  4    4   \n",
              "Mazda RX4 Wag     21.0 6   160  110 3.90 2.875 17.02 0  1  4    4   \n",
              "Datsun 710        22.8 4   108   93 3.85 2.320 18.61 1  1  4    1   \n",
              "Hornet 4 Drive    21.4 6   258  110 3.08 3.215 19.44 1  0  3    1   \n",
              "Hornet Sportabout 18.7 8   360  175 3.15 3.440 17.02 0  0  3    2   \n",
              "Valiant           18.1 6   225  105 2.76 3.460 20.22 1  0  3    1   "
            ],
            "text/latex": "A data.frame: 6 × 11\n\\begin{tabular}{r|lllllllllll}\n  & mpg & cyl & disp & hp & drat & wt & qsec & vs & am & gear & carb\\\\\n  & <dbl> & <dbl> & <dbl> & <dbl> & <dbl> & <dbl> & <dbl> & <dbl> & <dbl> & <dbl> & <dbl>\\\\\n\\hline\n\tMazda RX4 & 21.0 & 6 & 160 & 110 & 3.90 & 2.620 & 16.46 & 0 & 1 & 4 & 4\\\\\n\tMazda RX4 Wag & 21.0 & 6 & 160 & 110 & 3.90 & 2.875 & 17.02 & 0 & 1 & 4 & 4\\\\\n\tDatsun 710 & 22.8 & 4 & 108 &  93 & 3.85 & 2.320 & 18.61 & 1 & 1 & 4 & 1\\\\\n\tHornet 4 Drive & 21.4 & 6 & 258 & 110 & 3.08 & 3.215 & 19.44 & 1 & 0 & 3 & 1\\\\\n\tHornet Sportabout & 18.7 & 8 & 360 & 175 & 3.15 & 3.440 & 17.02 & 0 & 0 & 3 & 2\\\\\n\tValiant & 18.1 & 6 & 225 & 105 & 2.76 & 3.460 & 20.22 & 1 & 0 & 3 & 1\\\\\n\\end{tabular}\n",
            "text/markdown": "\nA data.frame: 6 × 11\n\n| <!--/--> | mpg &lt;dbl&gt; | cyl &lt;dbl&gt; | disp &lt;dbl&gt; | hp &lt;dbl&gt; | drat &lt;dbl&gt; | wt &lt;dbl&gt; | qsec &lt;dbl&gt; | vs &lt;dbl&gt; | am &lt;dbl&gt; | gear &lt;dbl&gt; | carb &lt;dbl&gt; |\n|---|---|---|---|---|---|---|---|---|---|---|---|\n| Mazda RX4 | 21.0 | 6 | 160 | 110 | 3.90 | 2.620 | 16.46 | 0 | 1 | 4 | 4 |\n| Mazda RX4 Wag | 21.0 | 6 | 160 | 110 | 3.90 | 2.875 | 17.02 | 0 | 1 | 4 | 4 |\n| Datsun 710 | 22.8 | 4 | 108 |  93 | 3.85 | 2.320 | 18.61 | 1 | 1 | 4 | 1 |\n| Hornet 4 Drive | 21.4 | 6 | 258 | 110 | 3.08 | 3.215 | 19.44 | 1 | 0 | 3 | 1 |\n| Hornet Sportabout | 18.7 | 8 | 360 | 175 | 3.15 | 3.440 | 17.02 | 0 | 0 | 3 | 2 |\n| Valiant | 18.1 | 6 | 225 | 105 | 2.76 | 3.460 | 20.22 | 1 | 0 | 3 | 1 |\n\n",
            "text/html": [
              "<table class=\"dataframe\">\n",
              "<caption>A data.frame: 6 × 11</caption>\n",
              "<thead>\n",
              "\t<tr><th></th><th scope=col>mpg</th><th scope=col>cyl</th><th scope=col>disp</th><th scope=col>hp</th><th scope=col>drat</th><th scope=col>wt</th><th scope=col>qsec</th><th scope=col>vs</th><th scope=col>am</th><th scope=col>gear</th><th scope=col>carb</th></tr>\n",
              "\t<tr><th></th><th scope=col>&lt;dbl&gt;</th><th scope=col>&lt;dbl&gt;</th><th scope=col>&lt;dbl&gt;</th><th scope=col>&lt;dbl&gt;</th><th scope=col>&lt;dbl&gt;</th><th scope=col>&lt;dbl&gt;</th><th scope=col>&lt;dbl&gt;</th><th scope=col>&lt;dbl&gt;</th><th scope=col>&lt;dbl&gt;</th><th scope=col>&lt;dbl&gt;</th><th scope=col>&lt;dbl&gt;</th></tr>\n",
              "</thead>\n",
              "<tbody>\n",
              "\t<tr><th scope=row>Mazda RX4</th><td>21.0</td><td>6</td><td>160</td><td>110</td><td>3.90</td><td>2.620</td><td>16.46</td><td>0</td><td>1</td><td>4</td><td>4</td></tr>\n",
              "\t<tr><th scope=row>Mazda RX4 Wag</th><td>21.0</td><td>6</td><td>160</td><td>110</td><td>3.90</td><td>2.875</td><td>17.02</td><td>0</td><td>1</td><td>4</td><td>4</td></tr>\n",
              "\t<tr><th scope=row>Datsun 710</th><td>22.8</td><td>4</td><td>108</td><td> 93</td><td>3.85</td><td>2.320</td><td>18.61</td><td>1</td><td>1</td><td>4</td><td>1</td></tr>\n",
              "\t<tr><th scope=row>Hornet 4 Drive</th><td>21.4</td><td>6</td><td>258</td><td>110</td><td>3.08</td><td>3.215</td><td>19.44</td><td>1</td><td>0</td><td>3</td><td>1</td></tr>\n",
              "\t<tr><th scope=row>Hornet Sportabout</th><td>18.7</td><td>8</td><td>360</td><td>175</td><td>3.15</td><td>3.440</td><td>17.02</td><td>0</td><td>0</td><td>3</td><td>2</td></tr>\n",
              "\t<tr><th scope=row>Valiant</th><td>18.1</td><td>6</td><td>225</td><td>105</td><td>2.76</td><td>3.460</td><td>20.22</td><td>1</td><td>0</td><td>3</td><td>1</td></tr>\n",
              "</tbody>\n",
              "</table>\n"
            ]
          },
          "metadata": {}
        },
        {
          "output_type": "display_data",
          "data": {
            "text/plain": [
              "               mpg  cyl disp  hp  drat wt    qsec vs am gear carb\n",
              "Porsche 914-2  26.0 4   120.3  91 4.43 2.140 16.7 0  1  5    2   \n",
              "Lotus Europa   30.4 4    95.1 113 3.77 1.513 16.9 1  1  5    2   \n",
              "Ford Pantera L 15.8 8   351.0 264 4.22 3.170 14.5 0  1  5    4   \n",
              "Ferrari Dino   19.7 6   145.0 175 3.62 2.770 15.5 0  1  5    6   \n",
              "Maserati Bora  15.0 8   301.0 335 3.54 3.570 14.6 0  1  5    8   \n",
              "Volvo 142E     21.4 4   121.0 109 4.11 2.780 18.6 1  1  4    2   "
            ],
            "text/latex": "A data.frame: 6 × 11\n\\begin{tabular}{r|lllllllllll}\n  & mpg & cyl & disp & hp & drat & wt & qsec & vs & am & gear & carb\\\\\n  & <dbl> & <dbl> & <dbl> & <dbl> & <dbl> & <dbl> & <dbl> & <dbl> & <dbl> & <dbl> & <dbl>\\\\\n\\hline\n\tPorsche 914-2 & 26.0 & 4 & 120.3 &  91 & 4.43 & 2.140 & 16.7 & 0 & 1 & 5 & 2\\\\\n\tLotus Europa & 30.4 & 4 &  95.1 & 113 & 3.77 & 1.513 & 16.9 & 1 & 1 & 5 & 2\\\\\n\tFord Pantera L & 15.8 & 8 & 351.0 & 264 & 4.22 & 3.170 & 14.5 & 0 & 1 & 5 & 4\\\\\n\tFerrari Dino & 19.7 & 6 & 145.0 & 175 & 3.62 & 2.770 & 15.5 & 0 & 1 & 5 & 6\\\\\n\tMaserati Bora & 15.0 & 8 & 301.0 & 335 & 3.54 & 3.570 & 14.6 & 0 & 1 & 5 & 8\\\\\n\tVolvo 142E & 21.4 & 4 & 121.0 & 109 & 4.11 & 2.780 & 18.6 & 1 & 1 & 4 & 2\\\\\n\\end{tabular}\n",
            "text/markdown": "\nA data.frame: 6 × 11\n\n| <!--/--> | mpg &lt;dbl&gt; | cyl &lt;dbl&gt; | disp &lt;dbl&gt; | hp &lt;dbl&gt; | drat &lt;dbl&gt; | wt &lt;dbl&gt; | qsec &lt;dbl&gt; | vs &lt;dbl&gt; | am &lt;dbl&gt; | gear &lt;dbl&gt; | carb &lt;dbl&gt; |\n|---|---|---|---|---|---|---|---|---|---|---|---|\n| Porsche 914-2 | 26.0 | 4 | 120.3 |  91 | 4.43 | 2.140 | 16.7 | 0 | 1 | 5 | 2 |\n| Lotus Europa | 30.4 | 4 |  95.1 | 113 | 3.77 | 1.513 | 16.9 | 1 | 1 | 5 | 2 |\n| Ford Pantera L | 15.8 | 8 | 351.0 | 264 | 4.22 | 3.170 | 14.5 | 0 | 1 | 5 | 4 |\n| Ferrari Dino | 19.7 | 6 | 145.0 | 175 | 3.62 | 2.770 | 15.5 | 0 | 1 | 5 | 6 |\n| Maserati Bora | 15.0 | 8 | 301.0 | 335 | 3.54 | 3.570 | 14.6 | 0 | 1 | 5 | 8 |\n| Volvo 142E | 21.4 | 4 | 121.0 | 109 | 4.11 | 2.780 | 18.6 | 1 | 1 | 4 | 2 |\n\n",
            "text/html": [
              "<table class=\"dataframe\">\n",
              "<caption>A data.frame: 6 × 11</caption>\n",
              "<thead>\n",
              "\t<tr><th></th><th scope=col>mpg</th><th scope=col>cyl</th><th scope=col>disp</th><th scope=col>hp</th><th scope=col>drat</th><th scope=col>wt</th><th scope=col>qsec</th><th scope=col>vs</th><th scope=col>am</th><th scope=col>gear</th><th scope=col>carb</th></tr>\n",
              "\t<tr><th></th><th scope=col>&lt;dbl&gt;</th><th scope=col>&lt;dbl&gt;</th><th scope=col>&lt;dbl&gt;</th><th scope=col>&lt;dbl&gt;</th><th scope=col>&lt;dbl&gt;</th><th scope=col>&lt;dbl&gt;</th><th scope=col>&lt;dbl&gt;</th><th scope=col>&lt;dbl&gt;</th><th scope=col>&lt;dbl&gt;</th><th scope=col>&lt;dbl&gt;</th><th scope=col>&lt;dbl&gt;</th></tr>\n",
              "</thead>\n",
              "<tbody>\n",
              "\t<tr><th scope=row>Porsche 914-2</th><td>26.0</td><td>4</td><td>120.3</td><td> 91</td><td>4.43</td><td>2.140</td><td>16.7</td><td>0</td><td>1</td><td>5</td><td>2</td></tr>\n",
              "\t<tr><th scope=row>Lotus Europa</th><td>30.4</td><td>4</td><td> 95.1</td><td>113</td><td>3.77</td><td>1.513</td><td>16.9</td><td>1</td><td>1</td><td>5</td><td>2</td></tr>\n",
              "\t<tr><th scope=row>Ford Pantera L</th><td>15.8</td><td>8</td><td>351.0</td><td>264</td><td>4.22</td><td>3.170</td><td>14.5</td><td>0</td><td>1</td><td>5</td><td>4</td></tr>\n",
              "\t<tr><th scope=row>Ferrari Dino</th><td>19.7</td><td>6</td><td>145.0</td><td>175</td><td>3.62</td><td>2.770</td><td>15.5</td><td>0</td><td>1</td><td>5</td><td>6</td></tr>\n",
              "\t<tr><th scope=row>Maserati Bora</th><td>15.0</td><td>8</td><td>301.0</td><td>335</td><td>3.54</td><td>3.570</td><td>14.6</td><td>0</td><td>1</td><td>5</td><td>8</td></tr>\n",
              "\t<tr><th scope=row>Volvo 142E</th><td>21.4</td><td>4</td><td>121.0</td><td>109</td><td>4.11</td><td>2.780</td><td>18.6</td><td>1</td><td>1</td><td>4</td><td>2</td></tr>\n",
              "</tbody>\n",
              "</table>\n"
            ]
          },
          "metadata": {}
        },
        {
          "output_type": "display_data",
          "data": {
            "text/plain": [
              "[1] 32 11"
            ],
            "text/latex": "\\begin{enumerate*}\n\\item 32\n\\item 11\n\\end{enumerate*}\n",
            "text/markdown": "1. 32\n2. 11\n\n\n",
            "text/html": [
              "<style>\n",
              ".list-inline {list-style: none; margin:0; padding: 0}\n",
              ".list-inline>li {display: inline-block}\n",
              ".list-inline>li:not(:last-child)::after {content: \"\\00b7\"; padding: 0 .5ex}\n",
              "</style>\n",
              "<ol class=list-inline><li>32</li><li>11</li></ol>\n"
            ]
          },
          "metadata": {}
        },
        {
          "output_type": "display_data",
          "data": {
            "text/plain": [
              "[1] 11"
            ],
            "text/latex": "11",
            "text/markdown": "11",
            "text/html": [
              "11"
            ]
          },
          "metadata": {}
        },
        {
          "output_type": "display_data",
          "data": {
            "text/plain": [
              "[1] 32"
            ],
            "text/latex": "32",
            "text/markdown": "32",
            "text/html": [
              "32"
            ]
          },
          "metadata": {}
        },
        {
          "output_type": "display_data",
          "data": {
            "text/plain": [
              " [1] \"mpg\"  \"cyl\"  \"disp\" \"hp\"   \"drat\" \"wt\"   \"qsec\" \"vs\"   \"am\"   \"gear\"\n",
              "[11] \"carb\""
            ],
            "text/latex": "\\begin{enumerate*}\n\\item 'mpg'\n\\item 'cyl'\n\\item 'disp'\n\\item 'hp'\n\\item 'drat'\n\\item 'wt'\n\\item 'qsec'\n\\item 'vs'\n\\item 'am'\n\\item 'gear'\n\\item 'carb'\n\\end{enumerate*}\n",
            "text/markdown": "1. 'mpg'\n2. 'cyl'\n3. 'disp'\n4. 'hp'\n5. 'drat'\n6. 'wt'\n7. 'qsec'\n8. 'vs'\n9. 'am'\n10. 'gear'\n11. 'carb'\n\n\n",
            "text/html": [
              "<style>\n",
              ".list-inline {list-style: none; margin:0; padding: 0}\n",
              ".list-inline>li {display: inline-block}\n",
              ".list-inline>li:not(:last-child)::after {content: \"\\00b7\"; padding: 0 .5ex}\n",
              "</style>\n",
              "<ol class=list-inline><li>'mpg'</li><li>'cyl'</li><li>'disp'</li><li>'hp'</li><li>'drat'</li><li>'wt'</li><li>'qsec'</li><li>'vs'</li><li>'am'</li><li>'gear'</li><li>'carb'</li></ol>\n"
            ]
          },
          "metadata": {}
        },
        {
          "output_type": "display_data",
          "data": {
            "text/plain": [
              " [1] \"Mazda RX4\"           \"Mazda RX4 Wag\"       \"Datsun 710\"         \n",
              " [4] \"Hornet 4 Drive\"      \"Hornet Sportabout\"   \"Valiant\"            \n",
              " [7] \"Duster 360\"          \"Merc 240D\"           \"Merc 230\"           \n",
              "[10] \"Merc 280\"            \"Merc 280C\"           \"Merc 450SE\"         \n",
              "[13] \"Merc 450SL\"          \"Merc 450SLC\"         \"Cadillac Fleetwood\" \n",
              "[16] \"Lincoln Continental\" \"Chrysler Imperial\"   \"Fiat 128\"           \n",
              "[19] \"Honda Civic\"         \"Toyota Corolla\"      \"Toyota Corona\"      \n",
              "[22] \"Dodge Challenger\"    \"AMC Javelin\"         \"Camaro Z28\"         \n",
              "[25] \"Pontiac Firebird\"    \"Fiat X1-9\"           \"Porsche 914-2\"      \n",
              "[28] \"Lotus Europa\"        \"Ford Pantera L\"      \"Ferrari Dino\"       \n",
              "[31] \"Maserati Bora\"       \"Volvo 142E\"         "
            ],
            "text/latex": "\\begin{enumerate*}\n\\item 'Mazda RX4'\n\\item 'Mazda RX4 Wag'\n\\item 'Datsun 710'\n\\item 'Hornet 4 Drive'\n\\item 'Hornet Sportabout'\n\\item 'Valiant'\n\\item 'Duster 360'\n\\item 'Merc 240D'\n\\item 'Merc 230'\n\\item 'Merc 280'\n\\item 'Merc 280C'\n\\item 'Merc 450SE'\n\\item 'Merc 450SL'\n\\item 'Merc 450SLC'\n\\item 'Cadillac Fleetwood'\n\\item 'Lincoln Continental'\n\\item 'Chrysler Imperial'\n\\item 'Fiat 128'\n\\item 'Honda Civic'\n\\item 'Toyota Corolla'\n\\item 'Toyota Corona'\n\\item 'Dodge Challenger'\n\\item 'AMC Javelin'\n\\item 'Camaro Z28'\n\\item 'Pontiac Firebird'\n\\item 'Fiat X1-9'\n\\item 'Porsche 914-2'\n\\item 'Lotus Europa'\n\\item 'Ford Pantera L'\n\\item 'Ferrari Dino'\n\\item 'Maserati Bora'\n\\item 'Volvo 142E'\n\\end{enumerate*}\n",
            "text/markdown": "1. 'Mazda RX4'\n2. 'Mazda RX4 Wag'\n3. 'Datsun 710'\n4. 'Hornet 4 Drive'\n5. 'Hornet Sportabout'\n6. 'Valiant'\n7. 'Duster 360'\n8. 'Merc 240D'\n9. 'Merc 230'\n10. 'Merc 280'\n11. 'Merc 280C'\n12. 'Merc 450SE'\n13. 'Merc 450SL'\n14. 'Merc 450SLC'\n15. 'Cadillac Fleetwood'\n16. 'Lincoln Continental'\n17. 'Chrysler Imperial'\n18. 'Fiat 128'\n19. 'Honda Civic'\n20. 'Toyota Corolla'\n21. 'Toyota Corona'\n22. 'Dodge Challenger'\n23. 'AMC Javelin'\n24. 'Camaro Z28'\n25. 'Pontiac Firebird'\n26. 'Fiat X1-9'\n27. 'Porsche 914-2'\n28. 'Lotus Europa'\n29. 'Ford Pantera L'\n30. 'Ferrari Dino'\n31. 'Maserati Bora'\n32. 'Volvo 142E'\n\n\n",
            "text/html": [
              "<style>\n",
              ".list-inline {list-style: none; margin:0; padding: 0}\n",
              ".list-inline>li {display: inline-block}\n",
              ".list-inline>li:not(:last-child)::after {content: \"\\00b7\"; padding: 0 .5ex}\n",
              "</style>\n",
              "<ol class=list-inline><li>'Mazda RX4'</li><li>'Mazda RX4 Wag'</li><li>'Datsun 710'</li><li>'Hornet 4 Drive'</li><li>'Hornet Sportabout'</li><li>'Valiant'</li><li>'Duster 360'</li><li>'Merc 240D'</li><li>'Merc 230'</li><li>'Merc 280'</li><li>'Merc 280C'</li><li>'Merc 450SE'</li><li>'Merc 450SL'</li><li>'Merc 450SLC'</li><li>'Cadillac Fleetwood'</li><li>'Lincoln Continental'</li><li>'Chrysler Imperial'</li><li>'Fiat 128'</li><li>'Honda Civic'</li><li>'Toyota Corolla'</li><li>'Toyota Corona'</li><li>'Dodge Challenger'</li><li>'AMC Javelin'</li><li>'Camaro Z28'</li><li>'Pontiac Firebird'</li><li>'Fiat X1-9'</li><li>'Porsche 914-2'</li><li>'Lotus Europa'</li><li>'Ford Pantera L'</li><li>'Ferrari Dino'</li><li>'Maserati Bora'</li><li>'Volvo 142E'</li></ol>\n"
            ]
          },
          "metadata": {}
        },
        {
          "output_type": "stream",
          "text": [
            "'data.frame':\t32 obs. of  11 variables:\n",
            " $ mpg : num  21 21 22.8 21.4 18.7 18.1 14.3 24.4 22.8 19.2 ...\n",
            " $ cyl : num  6 6 4 6 8 6 8 4 4 6 ...\n",
            " $ disp: num  160 160 108 258 360 ...\n",
            " $ hp  : num  110 110 93 110 175 105 245 62 95 123 ...\n",
            " $ drat: num  3.9 3.9 3.85 3.08 3.15 2.76 3.21 3.69 3.92 3.92 ...\n",
            " $ wt  : num  2.62 2.88 2.32 3.21 3.44 ...\n",
            " $ qsec: num  16.5 17 18.6 19.4 17 ...\n",
            " $ vs  : num  0 0 1 1 0 1 0 1 1 1 ...\n",
            " $ am  : num  1 1 1 0 0 0 0 0 0 0 ...\n",
            " $ gear: num  4 4 4 3 3 3 3 4 4 4 ...\n",
            " $ carb: num  4 4 1 1 2 1 4 2 2 4 ...\n"
          ],
          "name": "stdout"
        },
        {
          "output_type": "display_data",
          "data": {
            "text/plain": [
              "      mpg             cyl             disp             hp       \n",
              " Min.   :10.40   Min.   :4.000   Min.   : 71.1   Min.   : 52.0  \n",
              " 1st Qu.:15.43   1st Qu.:4.000   1st Qu.:120.8   1st Qu.: 96.5  \n",
              " Median :19.20   Median :6.000   Median :196.3   Median :123.0  \n",
              " Mean   :20.09   Mean   :6.188   Mean   :230.7   Mean   :146.7  \n",
              " 3rd Qu.:22.80   3rd Qu.:8.000   3rd Qu.:326.0   3rd Qu.:180.0  \n",
              " Max.   :33.90   Max.   :8.000   Max.   :472.0   Max.   :335.0  \n",
              "      drat             wt             qsec             vs        \n",
              " Min.   :2.760   Min.   :1.513   Min.   :14.50   Min.   :0.0000  \n",
              " 1st Qu.:3.080   1st Qu.:2.581   1st Qu.:16.89   1st Qu.:0.0000  \n",
              " Median :3.695   Median :3.325   Median :17.71   Median :0.0000  \n",
              " Mean   :3.597   Mean   :3.217   Mean   :17.85   Mean   :0.4375  \n",
              " 3rd Qu.:3.920   3rd Qu.:3.610   3rd Qu.:18.90   3rd Qu.:1.0000  \n",
              " Max.   :4.930   Max.   :5.424   Max.   :22.90   Max.   :1.0000  \n",
              "       am              gear            carb      \n",
              " Min.   :0.0000   Min.   :3.000   Min.   :1.000  \n",
              " 1st Qu.:0.0000   1st Qu.:3.000   1st Qu.:2.000  \n",
              " Median :0.0000   Median :4.000   Median :2.000  \n",
              " Mean   :0.4062   Mean   :3.688   Mean   :2.812  \n",
              " 3rd Qu.:1.0000   3rd Qu.:4.000   3rd Qu.:4.000  \n",
              " Max.   :1.0000   Max.   :5.000   Max.   :8.000  "
            ]
          },
          "metadata": {}
        }
      ]
    },
    {
      "cell_type": "markdown",
      "metadata": {
        "id": "g3G3KWe7BTHA"
      },
      "source": [
        "Depois de analisar essas informações você pode então prosseguir com outras análises de mais refinadas e de interesse.\n",
        "\n",
        "> Um aspecto importante dos dados é sobre seu significado, a *semântica* dos dados. Nos dados acima o significado de cada atributo parece bastante óbvio para maior parte dos atributos. Mas o que seria o atributo `wt`? Em que unidade é medido? Você pode então buscar na documentação https://stat.ethz.ch/R-manual/R-patched/library/datasets/html/mtcars.html a descrição de cada atributo e verificar que `wt`\té peso do veículo (Weight) e encontra-se em número de (1000 lbs) ou ainda descobrir que `am` refere-se ao veículo possuir ou não transmissão automática (0 = automatic, 1 = manual). Esses dados precisam em geral ser fornecidos para você, não podem ser obtidos por análise ou inspeção (exceto para casos muito óbvios) e por isso sempre vamos assumir que temos acesso a essas informações para procedermos as análises. De qualquer modo, em casos reais de Análise de Dados, é importante que você começe entendendo o significado de cada dado ou informação. "
      ]
    },
    {
      "cell_type": "markdown",
      "metadata": {
        "id": "SlWBxsS_ybxO"
      },
      "source": [
        "## Selecionando Dados\n",
        "\n",
        "Seleções dos dados são bastante importantes. Você nem sempre estará interessado em todos os dados. Por exemplo você pode ter dados de produção de várias unidades de uma fábrica, mas estar interessado somente em dados das unidades de São Paulo (seleção de linhas ou casos). Ou você pode ter dados de vendas com diversas informações dos produtos (cor, modelo etc.) e dos clientes (nome, CPF etc.) e querer apenas dados de peso e dimensões do produto, e da origem e destino da compra para analisar os preços de frete (seleção de colunas ou atributos). Mais frequentemente ainda você vai realizar as duas seleções criando *slices* dos dados.\n",
        "\n",
        "De um modo geral estaremos interessados em fazer 3 tipos de seleções de dados: \n",
        "\n",
        "> ### Seleção de Colunas, Seleção de Linhas e de Linhas e Colunas\n",
        "\n",
        "<img src=\"https://pandas.pydata.org/docs/_images/03_subset_columns.svg\" width=320, align=\"center\">\n",
        "<img src=\"https://pandas.pydata.org/docs/_images/03_subset_rows.svg\" width=320, align=\"center\">\n",
        "<img src=\"https://pandas.pydata.org/docs/_images/03_subset_columns_rows.svg\" width=320, align=\"center\">\n",
        "\n",
        "\n",
        "Sendo uma estrutura de duas dimensões os dados de um dataframe podem ser referenciados do seguinte modo:\n",
        "\n",
        "```\n",
        "dataframe [ linhas , colunas ]\n",
        "```\n",
        "\n",
        "Onde `linhas` e `colunas` podem conter uma ou mais posições (uma seleção de dados). É comum também nos referirmos à seleção de dados como 'slice' (fatias) de dados."
      ]
    },
    {
      "cell_type": "markdown",
      "metadata": {
        "id": "GG_zHqt4lbUt"
      },
      "source": [
        "### Seleção de Colunas ou Atributos\n",
        "\n",
        "<img src=\"https://pandas.pydata.org/docs/_images/03_subset_columns.svg\" width=320, align=\"center\">\n",
        "\n"
      ]
    },
    {
      "cell_type": "markdown",
      "metadata": {
        "id": "de1ad13a"
      },
      "source": [
        "A seleção de colunas pode ser feita referenciando o nome ou a posição dos atributos. E você deve notar a vírgula indicando que, neste caso, não há nenhum filtro para linhas. Você deve executar isoladamente cada um dos comandos abaixo para exibir as saídas. As 3 seleções de `mtcars` produzem a mesma seleção de atributos."
      ]
    },
    {
      "cell_type": "code",
      "metadata": {
        "kernel": "R",
        "tags": [
          "report_cell"
        ],
        "id": "780675de",
        "colab": {
          "base_uri": "https://localhost:8080/",
          "height": 3267
        },
        "outputId": "c79a55d2-e716-4879-d5f3-0c6c86f2af02"
      },
      "source": [
        "# execute cada um dos comandos isoladamente\n",
        "print(names(mtcars))\n",
        "mtcars[ , c('cyl','disp','hp')]\n",
        "mtcars[ , c(2,3,4)]\n",
        "mtcars[ , c(2:4)]"
      ],
      "execution_count": 36,
      "outputs": [
        {
          "output_type": "stream",
          "text": [
            " [1] \"mpg\"  \"cyl\"  \"disp\" \"hp\"   \"drat\" \"wt\"   \"qsec\" \"vs\"   \"am\"   \"gear\"\n",
            "[11] \"carb\"\n"
          ],
          "name": "stdout"
        },
        {
          "output_type": "display_data",
          "data": {
            "text/plain": [
              "                    cyl disp  hp \n",
              "Mazda RX4           6   160.0 110\n",
              "Mazda RX4 Wag       6   160.0 110\n",
              "Datsun 710          4   108.0  93\n",
              "Hornet 4 Drive      6   258.0 110\n",
              "Hornet Sportabout   8   360.0 175\n",
              "Valiant             6   225.0 105\n",
              "Duster 360          8   360.0 245\n",
              "Merc 240D           4   146.7  62\n",
              "Merc 230            4   140.8  95\n",
              "Merc 280            6   167.6 123\n",
              "Merc 280C           6   167.6 123\n",
              "Merc 450SE          8   275.8 180\n",
              "Merc 450SL          8   275.8 180\n",
              "Merc 450SLC         8   275.8 180\n",
              "Cadillac Fleetwood  8   472.0 205\n",
              "Lincoln Continental 8   460.0 215\n",
              "Chrysler Imperial   8   440.0 230\n",
              "Fiat 128            4    78.7  66\n",
              "Honda Civic         4    75.7  52\n",
              "Toyota Corolla      4    71.1  65\n",
              "Toyota Corona       4   120.1  97\n",
              "Dodge Challenger    8   318.0 150\n",
              "AMC Javelin         8   304.0 150\n",
              "Camaro Z28          8   350.0 245\n",
              "Pontiac Firebird    8   400.0 175\n",
              "Fiat X1-9           4    79.0  66\n",
              "Porsche 914-2       4   120.3  91\n",
              "Lotus Europa        4    95.1 113\n",
              "Ford Pantera L      8   351.0 264\n",
              "Ferrari Dino        6   145.0 175\n",
              "Maserati Bora       8   301.0 335\n",
              "Volvo 142E          4   121.0 109"
            ],
            "text/latex": "A data.frame: 32 × 3\n\\begin{tabular}{r|lll}\n  & cyl & disp & hp\\\\\n  & <dbl> & <dbl> & <dbl>\\\\\n\\hline\n\tMazda RX4 & 6 & 160.0 & 110\\\\\n\tMazda RX4 Wag & 6 & 160.0 & 110\\\\\n\tDatsun 710 & 4 & 108.0 &  93\\\\\n\tHornet 4 Drive & 6 & 258.0 & 110\\\\\n\tHornet Sportabout & 8 & 360.0 & 175\\\\\n\tValiant & 6 & 225.0 & 105\\\\\n\tDuster 360 & 8 & 360.0 & 245\\\\\n\tMerc 240D & 4 & 146.7 &  62\\\\\n\tMerc 230 & 4 & 140.8 &  95\\\\\n\tMerc 280 & 6 & 167.6 & 123\\\\\n\tMerc 280C & 6 & 167.6 & 123\\\\\n\tMerc 450SE & 8 & 275.8 & 180\\\\\n\tMerc 450SL & 8 & 275.8 & 180\\\\\n\tMerc 450SLC & 8 & 275.8 & 180\\\\\n\tCadillac Fleetwood & 8 & 472.0 & 205\\\\\n\tLincoln Continental & 8 & 460.0 & 215\\\\\n\tChrysler Imperial & 8 & 440.0 & 230\\\\\n\tFiat 128 & 4 &  78.7 &  66\\\\\n\tHonda Civic & 4 &  75.7 &  52\\\\\n\tToyota Corolla & 4 &  71.1 &  65\\\\\n\tToyota Corona & 4 & 120.1 &  97\\\\\n\tDodge Challenger & 8 & 318.0 & 150\\\\\n\tAMC Javelin & 8 & 304.0 & 150\\\\\n\tCamaro Z28 & 8 & 350.0 & 245\\\\\n\tPontiac Firebird & 8 & 400.0 & 175\\\\\n\tFiat X1-9 & 4 &  79.0 &  66\\\\\n\tPorsche 914-2 & 4 & 120.3 &  91\\\\\n\tLotus Europa & 4 &  95.1 & 113\\\\\n\tFord Pantera L & 8 & 351.0 & 264\\\\\n\tFerrari Dino & 6 & 145.0 & 175\\\\\n\tMaserati Bora & 8 & 301.0 & 335\\\\\n\tVolvo 142E & 4 & 121.0 & 109\\\\\n\\end{tabular}\n",
            "text/markdown": "\nA data.frame: 32 × 3\n\n| <!--/--> | cyl &lt;dbl&gt; | disp &lt;dbl&gt; | hp &lt;dbl&gt; |\n|---|---|---|---|\n| Mazda RX4 | 6 | 160.0 | 110 |\n| Mazda RX4 Wag | 6 | 160.0 | 110 |\n| Datsun 710 | 4 | 108.0 |  93 |\n| Hornet 4 Drive | 6 | 258.0 | 110 |\n| Hornet Sportabout | 8 | 360.0 | 175 |\n| Valiant | 6 | 225.0 | 105 |\n| Duster 360 | 8 | 360.0 | 245 |\n| Merc 240D | 4 | 146.7 |  62 |\n| Merc 230 | 4 | 140.8 |  95 |\n| Merc 280 | 6 | 167.6 | 123 |\n| Merc 280C | 6 | 167.6 | 123 |\n| Merc 450SE | 8 | 275.8 | 180 |\n| Merc 450SL | 8 | 275.8 | 180 |\n| Merc 450SLC | 8 | 275.8 | 180 |\n| Cadillac Fleetwood | 8 | 472.0 | 205 |\n| Lincoln Continental | 8 | 460.0 | 215 |\n| Chrysler Imperial | 8 | 440.0 | 230 |\n| Fiat 128 | 4 |  78.7 |  66 |\n| Honda Civic | 4 |  75.7 |  52 |\n| Toyota Corolla | 4 |  71.1 |  65 |\n| Toyota Corona | 4 | 120.1 |  97 |\n| Dodge Challenger | 8 | 318.0 | 150 |\n| AMC Javelin | 8 | 304.0 | 150 |\n| Camaro Z28 | 8 | 350.0 | 245 |\n| Pontiac Firebird | 8 | 400.0 | 175 |\n| Fiat X1-9 | 4 |  79.0 |  66 |\n| Porsche 914-2 | 4 | 120.3 |  91 |\n| Lotus Europa | 4 |  95.1 | 113 |\n| Ford Pantera L | 8 | 351.0 | 264 |\n| Ferrari Dino | 6 | 145.0 | 175 |\n| Maserati Bora | 8 | 301.0 | 335 |\n| Volvo 142E | 4 | 121.0 | 109 |\n\n",
            "text/html": [
              "<table class=\"dataframe\">\n",
              "<caption>A data.frame: 32 × 3</caption>\n",
              "<thead>\n",
              "\t<tr><th></th><th scope=col>cyl</th><th scope=col>disp</th><th scope=col>hp</th></tr>\n",
              "\t<tr><th></th><th scope=col>&lt;dbl&gt;</th><th scope=col>&lt;dbl&gt;</th><th scope=col>&lt;dbl&gt;</th></tr>\n",
              "</thead>\n",
              "<tbody>\n",
              "\t<tr><th scope=row>Mazda RX4</th><td>6</td><td>160.0</td><td>110</td></tr>\n",
              "\t<tr><th scope=row>Mazda RX4 Wag</th><td>6</td><td>160.0</td><td>110</td></tr>\n",
              "\t<tr><th scope=row>Datsun 710</th><td>4</td><td>108.0</td><td> 93</td></tr>\n",
              "\t<tr><th scope=row>Hornet 4 Drive</th><td>6</td><td>258.0</td><td>110</td></tr>\n",
              "\t<tr><th scope=row>Hornet Sportabout</th><td>8</td><td>360.0</td><td>175</td></tr>\n",
              "\t<tr><th scope=row>Valiant</th><td>6</td><td>225.0</td><td>105</td></tr>\n",
              "\t<tr><th scope=row>Duster 360</th><td>8</td><td>360.0</td><td>245</td></tr>\n",
              "\t<tr><th scope=row>Merc 240D</th><td>4</td><td>146.7</td><td> 62</td></tr>\n",
              "\t<tr><th scope=row>Merc 230</th><td>4</td><td>140.8</td><td> 95</td></tr>\n",
              "\t<tr><th scope=row>Merc 280</th><td>6</td><td>167.6</td><td>123</td></tr>\n",
              "\t<tr><th scope=row>Merc 280C</th><td>6</td><td>167.6</td><td>123</td></tr>\n",
              "\t<tr><th scope=row>Merc 450SE</th><td>8</td><td>275.8</td><td>180</td></tr>\n",
              "\t<tr><th scope=row>Merc 450SL</th><td>8</td><td>275.8</td><td>180</td></tr>\n",
              "\t<tr><th scope=row>Merc 450SLC</th><td>8</td><td>275.8</td><td>180</td></tr>\n",
              "\t<tr><th scope=row>Cadillac Fleetwood</th><td>8</td><td>472.0</td><td>205</td></tr>\n",
              "\t<tr><th scope=row>Lincoln Continental</th><td>8</td><td>460.0</td><td>215</td></tr>\n",
              "\t<tr><th scope=row>Chrysler Imperial</th><td>8</td><td>440.0</td><td>230</td></tr>\n",
              "\t<tr><th scope=row>Fiat 128</th><td>4</td><td> 78.7</td><td> 66</td></tr>\n",
              "\t<tr><th scope=row>Honda Civic</th><td>4</td><td> 75.7</td><td> 52</td></tr>\n",
              "\t<tr><th scope=row>Toyota Corolla</th><td>4</td><td> 71.1</td><td> 65</td></tr>\n",
              "\t<tr><th scope=row>Toyota Corona</th><td>4</td><td>120.1</td><td> 97</td></tr>\n",
              "\t<tr><th scope=row>Dodge Challenger</th><td>8</td><td>318.0</td><td>150</td></tr>\n",
              "\t<tr><th scope=row>AMC Javelin</th><td>8</td><td>304.0</td><td>150</td></tr>\n",
              "\t<tr><th scope=row>Camaro Z28</th><td>8</td><td>350.0</td><td>245</td></tr>\n",
              "\t<tr><th scope=row>Pontiac Firebird</th><td>8</td><td>400.0</td><td>175</td></tr>\n",
              "\t<tr><th scope=row>Fiat X1-9</th><td>4</td><td> 79.0</td><td> 66</td></tr>\n",
              "\t<tr><th scope=row>Porsche 914-2</th><td>4</td><td>120.3</td><td> 91</td></tr>\n",
              "\t<tr><th scope=row>Lotus Europa</th><td>4</td><td> 95.1</td><td>113</td></tr>\n",
              "\t<tr><th scope=row>Ford Pantera L</th><td>8</td><td>351.0</td><td>264</td></tr>\n",
              "\t<tr><th scope=row>Ferrari Dino</th><td>6</td><td>145.0</td><td>175</td></tr>\n",
              "\t<tr><th scope=row>Maserati Bora</th><td>8</td><td>301.0</td><td>335</td></tr>\n",
              "\t<tr><th scope=row>Volvo 142E</th><td>4</td><td>121.0</td><td>109</td></tr>\n",
              "</tbody>\n",
              "</table>\n"
            ]
          },
          "metadata": {}
        },
        {
          "output_type": "display_data",
          "data": {
            "text/plain": [
              "                    cyl disp  hp \n",
              "Mazda RX4           6   160.0 110\n",
              "Mazda RX4 Wag       6   160.0 110\n",
              "Datsun 710          4   108.0  93\n",
              "Hornet 4 Drive      6   258.0 110\n",
              "Hornet Sportabout   8   360.0 175\n",
              "Valiant             6   225.0 105\n",
              "Duster 360          8   360.0 245\n",
              "Merc 240D           4   146.7  62\n",
              "Merc 230            4   140.8  95\n",
              "Merc 280            6   167.6 123\n",
              "Merc 280C           6   167.6 123\n",
              "Merc 450SE          8   275.8 180\n",
              "Merc 450SL          8   275.8 180\n",
              "Merc 450SLC         8   275.8 180\n",
              "Cadillac Fleetwood  8   472.0 205\n",
              "Lincoln Continental 8   460.0 215\n",
              "Chrysler Imperial   8   440.0 230\n",
              "Fiat 128            4    78.7  66\n",
              "Honda Civic         4    75.7  52\n",
              "Toyota Corolla      4    71.1  65\n",
              "Toyota Corona       4   120.1  97\n",
              "Dodge Challenger    8   318.0 150\n",
              "AMC Javelin         8   304.0 150\n",
              "Camaro Z28          8   350.0 245\n",
              "Pontiac Firebird    8   400.0 175\n",
              "Fiat X1-9           4    79.0  66\n",
              "Porsche 914-2       4   120.3  91\n",
              "Lotus Europa        4    95.1 113\n",
              "Ford Pantera L      8   351.0 264\n",
              "Ferrari Dino        6   145.0 175\n",
              "Maserati Bora       8   301.0 335\n",
              "Volvo 142E          4   121.0 109"
            ],
            "text/latex": "A data.frame: 32 × 3\n\\begin{tabular}{r|lll}\n  & cyl & disp & hp\\\\\n  & <dbl> & <dbl> & <dbl>\\\\\n\\hline\n\tMazda RX4 & 6 & 160.0 & 110\\\\\n\tMazda RX4 Wag & 6 & 160.0 & 110\\\\\n\tDatsun 710 & 4 & 108.0 &  93\\\\\n\tHornet 4 Drive & 6 & 258.0 & 110\\\\\n\tHornet Sportabout & 8 & 360.0 & 175\\\\\n\tValiant & 6 & 225.0 & 105\\\\\n\tDuster 360 & 8 & 360.0 & 245\\\\\n\tMerc 240D & 4 & 146.7 &  62\\\\\n\tMerc 230 & 4 & 140.8 &  95\\\\\n\tMerc 280 & 6 & 167.6 & 123\\\\\n\tMerc 280C & 6 & 167.6 & 123\\\\\n\tMerc 450SE & 8 & 275.8 & 180\\\\\n\tMerc 450SL & 8 & 275.8 & 180\\\\\n\tMerc 450SLC & 8 & 275.8 & 180\\\\\n\tCadillac Fleetwood & 8 & 472.0 & 205\\\\\n\tLincoln Continental & 8 & 460.0 & 215\\\\\n\tChrysler Imperial & 8 & 440.0 & 230\\\\\n\tFiat 128 & 4 &  78.7 &  66\\\\\n\tHonda Civic & 4 &  75.7 &  52\\\\\n\tToyota Corolla & 4 &  71.1 &  65\\\\\n\tToyota Corona & 4 & 120.1 &  97\\\\\n\tDodge Challenger & 8 & 318.0 & 150\\\\\n\tAMC Javelin & 8 & 304.0 & 150\\\\\n\tCamaro Z28 & 8 & 350.0 & 245\\\\\n\tPontiac Firebird & 8 & 400.0 & 175\\\\\n\tFiat X1-9 & 4 &  79.0 &  66\\\\\n\tPorsche 914-2 & 4 & 120.3 &  91\\\\\n\tLotus Europa & 4 &  95.1 & 113\\\\\n\tFord Pantera L & 8 & 351.0 & 264\\\\\n\tFerrari Dino & 6 & 145.0 & 175\\\\\n\tMaserati Bora & 8 & 301.0 & 335\\\\\n\tVolvo 142E & 4 & 121.0 & 109\\\\\n\\end{tabular}\n",
            "text/markdown": "\nA data.frame: 32 × 3\n\n| <!--/--> | cyl &lt;dbl&gt; | disp &lt;dbl&gt; | hp &lt;dbl&gt; |\n|---|---|---|---|\n| Mazda RX4 | 6 | 160.0 | 110 |\n| Mazda RX4 Wag | 6 | 160.0 | 110 |\n| Datsun 710 | 4 | 108.0 |  93 |\n| Hornet 4 Drive | 6 | 258.0 | 110 |\n| Hornet Sportabout | 8 | 360.0 | 175 |\n| Valiant | 6 | 225.0 | 105 |\n| Duster 360 | 8 | 360.0 | 245 |\n| Merc 240D | 4 | 146.7 |  62 |\n| Merc 230 | 4 | 140.8 |  95 |\n| Merc 280 | 6 | 167.6 | 123 |\n| Merc 280C | 6 | 167.6 | 123 |\n| Merc 450SE | 8 | 275.8 | 180 |\n| Merc 450SL | 8 | 275.8 | 180 |\n| Merc 450SLC | 8 | 275.8 | 180 |\n| Cadillac Fleetwood | 8 | 472.0 | 205 |\n| Lincoln Continental | 8 | 460.0 | 215 |\n| Chrysler Imperial | 8 | 440.0 | 230 |\n| Fiat 128 | 4 |  78.7 |  66 |\n| Honda Civic | 4 |  75.7 |  52 |\n| Toyota Corolla | 4 |  71.1 |  65 |\n| Toyota Corona | 4 | 120.1 |  97 |\n| Dodge Challenger | 8 | 318.0 | 150 |\n| AMC Javelin | 8 | 304.0 | 150 |\n| Camaro Z28 | 8 | 350.0 | 245 |\n| Pontiac Firebird | 8 | 400.0 | 175 |\n| Fiat X1-9 | 4 |  79.0 |  66 |\n| Porsche 914-2 | 4 | 120.3 |  91 |\n| Lotus Europa | 4 |  95.1 | 113 |\n| Ford Pantera L | 8 | 351.0 | 264 |\n| Ferrari Dino | 6 | 145.0 | 175 |\n| Maserati Bora | 8 | 301.0 | 335 |\n| Volvo 142E | 4 | 121.0 | 109 |\n\n",
            "text/html": [
              "<table class=\"dataframe\">\n",
              "<caption>A data.frame: 32 × 3</caption>\n",
              "<thead>\n",
              "\t<tr><th></th><th scope=col>cyl</th><th scope=col>disp</th><th scope=col>hp</th></tr>\n",
              "\t<tr><th></th><th scope=col>&lt;dbl&gt;</th><th scope=col>&lt;dbl&gt;</th><th scope=col>&lt;dbl&gt;</th></tr>\n",
              "</thead>\n",
              "<tbody>\n",
              "\t<tr><th scope=row>Mazda RX4</th><td>6</td><td>160.0</td><td>110</td></tr>\n",
              "\t<tr><th scope=row>Mazda RX4 Wag</th><td>6</td><td>160.0</td><td>110</td></tr>\n",
              "\t<tr><th scope=row>Datsun 710</th><td>4</td><td>108.0</td><td> 93</td></tr>\n",
              "\t<tr><th scope=row>Hornet 4 Drive</th><td>6</td><td>258.0</td><td>110</td></tr>\n",
              "\t<tr><th scope=row>Hornet Sportabout</th><td>8</td><td>360.0</td><td>175</td></tr>\n",
              "\t<tr><th scope=row>Valiant</th><td>6</td><td>225.0</td><td>105</td></tr>\n",
              "\t<tr><th scope=row>Duster 360</th><td>8</td><td>360.0</td><td>245</td></tr>\n",
              "\t<tr><th scope=row>Merc 240D</th><td>4</td><td>146.7</td><td> 62</td></tr>\n",
              "\t<tr><th scope=row>Merc 230</th><td>4</td><td>140.8</td><td> 95</td></tr>\n",
              "\t<tr><th scope=row>Merc 280</th><td>6</td><td>167.6</td><td>123</td></tr>\n",
              "\t<tr><th scope=row>Merc 280C</th><td>6</td><td>167.6</td><td>123</td></tr>\n",
              "\t<tr><th scope=row>Merc 450SE</th><td>8</td><td>275.8</td><td>180</td></tr>\n",
              "\t<tr><th scope=row>Merc 450SL</th><td>8</td><td>275.8</td><td>180</td></tr>\n",
              "\t<tr><th scope=row>Merc 450SLC</th><td>8</td><td>275.8</td><td>180</td></tr>\n",
              "\t<tr><th scope=row>Cadillac Fleetwood</th><td>8</td><td>472.0</td><td>205</td></tr>\n",
              "\t<tr><th scope=row>Lincoln Continental</th><td>8</td><td>460.0</td><td>215</td></tr>\n",
              "\t<tr><th scope=row>Chrysler Imperial</th><td>8</td><td>440.0</td><td>230</td></tr>\n",
              "\t<tr><th scope=row>Fiat 128</th><td>4</td><td> 78.7</td><td> 66</td></tr>\n",
              "\t<tr><th scope=row>Honda Civic</th><td>4</td><td> 75.7</td><td> 52</td></tr>\n",
              "\t<tr><th scope=row>Toyota Corolla</th><td>4</td><td> 71.1</td><td> 65</td></tr>\n",
              "\t<tr><th scope=row>Toyota Corona</th><td>4</td><td>120.1</td><td> 97</td></tr>\n",
              "\t<tr><th scope=row>Dodge Challenger</th><td>8</td><td>318.0</td><td>150</td></tr>\n",
              "\t<tr><th scope=row>AMC Javelin</th><td>8</td><td>304.0</td><td>150</td></tr>\n",
              "\t<tr><th scope=row>Camaro Z28</th><td>8</td><td>350.0</td><td>245</td></tr>\n",
              "\t<tr><th scope=row>Pontiac Firebird</th><td>8</td><td>400.0</td><td>175</td></tr>\n",
              "\t<tr><th scope=row>Fiat X1-9</th><td>4</td><td> 79.0</td><td> 66</td></tr>\n",
              "\t<tr><th scope=row>Porsche 914-2</th><td>4</td><td>120.3</td><td> 91</td></tr>\n",
              "\t<tr><th scope=row>Lotus Europa</th><td>4</td><td> 95.1</td><td>113</td></tr>\n",
              "\t<tr><th scope=row>Ford Pantera L</th><td>8</td><td>351.0</td><td>264</td></tr>\n",
              "\t<tr><th scope=row>Ferrari Dino</th><td>6</td><td>145.0</td><td>175</td></tr>\n",
              "\t<tr><th scope=row>Maserati Bora</th><td>8</td><td>301.0</td><td>335</td></tr>\n",
              "\t<tr><th scope=row>Volvo 142E</th><td>4</td><td>121.0</td><td>109</td></tr>\n",
              "</tbody>\n",
              "</table>\n"
            ]
          },
          "metadata": {}
        },
        {
          "output_type": "display_data",
          "data": {
            "text/plain": [
              "                    cyl disp  hp \n",
              "Mazda RX4           6   160.0 110\n",
              "Mazda RX4 Wag       6   160.0 110\n",
              "Datsun 710          4   108.0  93\n",
              "Hornet 4 Drive      6   258.0 110\n",
              "Hornet Sportabout   8   360.0 175\n",
              "Valiant             6   225.0 105\n",
              "Duster 360          8   360.0 245\n",
              "Merc 240D           4   146.7  62\n",
              "Merc 230            4   140.8  95\n",
              "Merc 280            6   167.6 123\n",
              "Merc 280C           6   167.6 123\n",
              "Merc 450SE          8   275.8 180\n",
              "Merc 450SL          8   275.8 180\n",
              "Merc 450SLC         8   275.8 180\n",
              "Cadillac Fleetwood  8   472.0 205\n",
              "Lincoln Continental 8   460.0 215\n",
              "Chrysler Imperial   8   440.0 230\n",
              "Fiat 128            4    78.7  66\n",
              "Honda Civic         4    75.7  52\n",
              "Toyota Corolla      4    71.1  65\n",
              "Toyota Corona       4   120.1  97\n",
              "Dodge Challenger    8   318.0 150\n",
              "AMC Javelin         8   304.0 150\n",
              "Camaro Z28          8   350.0 245\n",
              "Pontiac Firebird    8   400.0 175\n",
              "Fiat X1-9           4    79.0  66\n",
              "Porsche 914-2       4   120.3  91\n",
              "Lotus Europa        4    95.1 113\n",
              "Ford Pantera L      8   351.0 264\n",
              "Ferrari Dino        6   145.0 175\n",
              "Maserati Bora       8   301.0 335\n",
              "Volvo 142E          4   121.0 109"
            ],
            "text/latex": "A data.frame: 32 × 3\n\\begin{tabular}{r|lll}\n  & cyl & disp & hp\\\\\n  & <dbl> & <dbl> & <dbl>\\\\\n\\hline\n\tMazda RX4 & 6 & 160.0 & 110\\\\\n\tMazda RX4 Wag & 6 & 160.0 & 110\\\\\n\tDatsun 710 & 4 & 108.0 &  93\\\\\n\tHornet 4 Drive & 6 & 258.0 & 110\\\\\n\tHornet Sportabout & 8 & 360.0 & 175\\\\\n\tValiant & 6 & 225.0 & 105\\\\\n\tDuster 360 & 8 & 360.0 & 245\\\\\n\tMerc 240D & 4 & 146.7 &  62\\\\\n\tMerc 230 & 4 & 140.8 &  95\\\\\n\tMerc 280 & 6 & 167.6 & 123\\\\\n\tMerc 280C & 6 & 167.6 & 123\\\\\n\tMerc 450SE & 8 & 275.8 & 180\\\\\n\tMerc 450SL & 8 & 275.8 & 180\\\\\n\tMerc 450SLC & 8 & 275.8 & 180\\\\\n\tCadillac Fleetwood & 8 & 472.0 & 205\\\\\n\tLincoln Continental & 8 & 460.0 & 215\\\\\n\tChrysler Imperial & 8 & 440.0 & 230\\\\\n\tFiat 128 & 4 &  78.7 &  66\\\\\n\tHonda Civic & 4 &  75.7 &  52\\\\\n\tToyota Corolla & 4 &  71.1 &  65\\\\\n\tToyota Corona & 4 & 120.1 &  97\\\\\n\tDodge Challenger & 8 & 318.0 & 150\\\\\n\tAMC Javelin & 8 & 304.0 & 150\\\\\n\tCamaro Z28 & 8 & 350.0 & 245\\\\\n\tPontiac Firebird & 8 & 400.0 & 175\\\\\n\tFiat X1-9 & 4 &  79.0 &  66\\\\\n\tPorsche 914-2 & 4 & 120.3 &  91\\\\\n\tLotus Europa & 4 &  95.1 & 113\\\\\n\tFord Pantera L & 8 & 351.0 & 264\\\\\n\tFerrari Dino & 6 & 145.0 & 175\\\\\n\tMaserati Bora & 8 & 301.0 & 335\\\\\n\tVolvo 142E & 4 & 121.0 & 109\\\\\n\\end{tabular}\n",
            "text/markdown": "\nA data.frame: 32 × 3\n\n| <!--/--> | cyl &lt;dbl&gt; | disp &lt;dbl&gt; | hp &lt;dbl&gt; |\n|---|---|---|---|\n| Mazda RX4 | 6 | 160.0 | 110 |\n| Mazda RX4 Wag | 6 | 160.0 | 110 |\n| Datsun 710 | 4 | 108.0 |  93 |\n| Hornet 4 Drive | 6 | 258.0 | 110 |\n| Hornet Sportabout | 8 | 360.0 | 175 |\n| Valiant | 6 | 225.0 | 105 |\n| Duster 360 | 8 | 360.0 | 245 |\n| Merc 240D | 4 | 146.7 |  62 |\n| Merc 230 | 4 | 140.8 |  95 |\n| Merc 280 | 6 | 167.6 | 123 |\n| Merc 280C | 6 | 167.6 | 123 |\n| Merc 450SE | 8 | 275.8 | 180 |\n| Merc 450SL | 8 | 275.8 | 180 |\n| Merc 450SLC | 8 | 275.8 | 180 |\n| Cadillac Fleetwood | 8 | 472.0 | 205 |\n| Lincoln Continental | 8 | 460.0 | 215 |\n| Chrysler Imperial | 8 | 440.0 | 230 |\n| Fiat 128 | 4 |  78.7 |  66 |\n| Honda Civic | 4 |  75.7 |  52 |\n| Toyota Corolla | 4 |  71.1 |  65 |\n| Toyota Corona | 4 | 120.1 |  97 |\n| Dodge Challenger | 8 | 318.0 | 150 |\n| AMC Javelin | 8 | 304.0 | 150 |\n| Camaro Z28 | 8 | 350.0 | 245 |\n| Pontiac Firebird | 8 | 400.0 | 175 |\n| Fiat X1-9 | 4 |  79.0 |  66 |\n| Porsche 914-2 | 4 | 120.3 |  91 |\n| Lotus Europa | 4 |  95.1 | 113 |\n| Ford Pantera L | 8 | 351.0 | 264 |\n| Ferrari Dino | 6 | 145.0 | 175 |\n| Maserati Bora | 8 | 301.0 | 335 |\n| Volvo 142E | 4 | 121.0 | 109 |\n\n",
            "text/html": [
              "<table class=\"dataframe\">\n",
              "<caption>A data.frame: 32 × 3</caption>\n",
              "<thead>\n",
              "\t<tr><th></th><th scope=col>cyl</th><th scope=col>disp</th><th scope=col>hp</th></tr>\n",
              "\t<tr><th></th><th scope=col>&lt;dbl&gt;</th><th scope=col>&lt;dbl&gt;</th><th scope=col>&lt;dbl&gt;</th></tr>\n",
              "</thead>\n",
              "<tbody>\n",
              "\t<tr><th scope=row>Mazda RX4</th><td>6</td><td>160.0</td><td>110</td></tr>\n",
              "\t<tr><th scope=row>Mazda RX4 Wag</th><td>6</td><td>160.0</td><td>110</td></tr>\n",
              "\t<tr><th scope=row>Datsun 710</th><td>4</td><td>108.0</td><td> 93</td></tr>\n",
              "\t<tr><th scope=row>Hornet 4 Drive</th><td>6</td><td>258.0</td><td>110</td></tr>\n",
              "\t<tr><th scope=row>Hornet Sportabout</th><td>8</td><td>360.0</td><td>175</td></tr>\n",
              "\t<tr><th scope=row>Valiant</th><td>6</td><td>225.0</td><td>105</td></tr>\n",
              "\t<tr><th scope=row>Duster 360</th><td>8</td><td>360.0</td><td>245</td></tr>\n",
              "\t<tr><th scope=row>Merc 240D</th><td>4</td><td>146.7</td><td> 62</td></tr>\n",
              "\t<tr><th scope=row>Merc 230</th><td>4</td><td>140.8</td><td> 95</td></tr>\n",
              "\t<tr><th scope=row>Merc 280</th><td>6</td><td>167.6</td><td>123</td></tr>\n",
              "\t<tr><th scope=row>Merc 280C</th><td>6</td><td>167.6</td><td>123</td></tr>\n",
              "\t<tr><th scope=row>Merc 450SE</th><td>8</td><td>275.8</td><td>180</td></tr>\n",
              "\t<tr><th scope=row>Merc 450SL</th><td>8</td><td>275.8</td><td>180</td></tr>\n",
              "\t<tr><th scope=row>Merc 450SLC</th><td>8</td><td>275.8</td><td>180</td></tr>\n",
              "\t<tr><th scope=row>Cadillac Fleetwood</th><td>8</td><td>472.0</td><td>205</td></tr>\n",
              "\t<tr><th scope=row>Lincoln Continental</th><td>8</td><td>460.0</td><td>215</td></tr>\n",
              "\t<tr><th scope=row>Chrysler Imperial</th><td>8</td><td>440.0</td><td>230</td></tr>\n",
              "\t<tr><th scope=row>Fiat 128</th><td>4</td><td> 78.7</td><td> 66</td></tr>\n",
              "\t<tr><th scope=row>Honda Civic</th><td>4</td><td> 75.7</td><td> 52</td></tr>\n",
              "\t<tr><th scope=row>Toyota Corolla</th><td>4</td><td> 71.1</td><td> 65</td></tr>\n",
              "\t<tr><th scope=row>Toyota Corona</th><td>4</td><td>120.1</td><td> 97</td></tr>\n",
              "\t<tr><th scope=row>Dodge Challenger</th><td>8</td><td>318.0</td><td>150</td></tr>\n",
              "\t<tr><th scope=row>AMC Javelin</th><td>8</td><td>304.0</td><td>150</td></tr>\n",
              "\t<tr><th scope=row>Camaro Z28</th><td>8</td><td>350.0</td><td>245</td></tr>\n",
              "\t<tr><th scope=row>Pontiac Firebird</th><td>8</td><td>400.0</td><td>175</td></tr>\n",
              "\t<tr><th scope=row>Fiat X1-9</th><td>4</td><td> 79.0</td><td> 66</td></tr>\n",
              "\t<tr><th scope=row>Porsche 914-2</th><td>4</td><td>120.3</td><td> 91</td></tr>\n",
              "\t<tr><th scope=row>Lotus Europa</th><td>4</td><td> 95.1</td><td>113</td></tr>\n",
              "\t<tr><th scope=row>Ford Pantera L</th><td>8</td><td>351.0</td><td>264</td></tr>\n",
              "\t<tr><th scope=row>Ferrari Dino</th><td>6</td><td>145.0</td><td>175</td></tr>\n",
              "\t<tr><th scope=row>Maserati Bora</th><td>8</td><td>301.0</td><td>335</td></tr>\n",
              "\t<tr><th scope=row>Volvo 142E</th><td>4</td><td>121.0</td><td>109</td></tr>\n",
              "</tbody>\n",
              "</table>\n"
            ]
          },
          "metadata": {}
        }
      ]
    },
    {
      "cell_type": "markdown",
      "metadata": {
        "id": "po5uC6C1El0A"
      },
      "source": [
        "Um caso especial de bastante interesse é a seleção de um único atributo. Neste caso você pode preferir empregar a seguinte notação:"
      ]
    },
    {
      "cell_type": "code",
      "metadata": {
        "colab": {
          "base_uri": "https://localhost:8080/",
          "height": 34
        },
        "id": "QcH1ctqdExnB",
        "outputId": "cf66a825-1f3a-4b17-e0c3-d73c65b4956e"
      },
      "source": [
        "mtcars$mpg"
      ],
      "execution_count": 50,
      "outputs": [
        {
          "output_type": "display_data",
          "data": {
            "text/plain": [
              " [1] 21.0 21.0 22.8 21.4 18.7 18.1 14.3 24.4 22.8 19.2 17.8 16.4 17.3 15.2 10.4\n",
              "[16] 10.4 14.7 32.4 30.4 33.9 21.5 15.5 15.2 13.3 19.2 27.3 26.0 30.4 15.8 19.7\n",
              "[31] 15.0 21.4"
            ],
            "text/latex": "\\begin{enumerate*}\n\\item 21\n\\item 21\n\\item 22.8\n\\item 21.4\n\\item 18.7\n\\item 18.1\n\\item 14.3\n\\item 24.4\n\\item 22.8\n\\item 19.2\n\\item 17.8\n\\item 16.4\n\\item 17.3\n\\item 15.2\n\\item 10.4\n\\item 10.4\n\\item 14.7\n\\item 32.4\n\\item 30.4\n\\item 33.9\n\\item 21.5\n\\item 15.5\n\\item 15.2\n\\item 13.3\n\\item 19.2\n\\item 27.3\n\\item 26\n\\item 30.4\n\\item 15.8\n\\item 19.7\n\\item 15\n\\item 21.4\n\\end{enumerate*}\n",
            "text/markdown": "1. 21\n2. 21\n3. 22.8\n4. 21.4\n5. 18.7\n6. 18.1\n7. 14.3\n8. 24.4\n9. 22.8\n10. 19.2\n11. 17.8\n12. 16.4\n13. 17.3\n14. 15.2\n15. 10.4\n16. 10.4\n17. 14.7\n18. 32.4\n19. 30.4\n20. 33.9\n21. 21.5\n22. 15.5\n23. 15.2\n24. 13.3\n25. 19.2\n26. 27.3\n27. 26\n28. 30.4\n29. 15.8\n30. 19.7\n31. 15\n32. 21.4\n\n\n",
            "text/html": [
              "<style>\n",
              ".list-inline {list-style: none; margin:0; padding: 0}\n",
              ".list-inline>li {display: inline-block}\n",
              ".list-inline>li:not(:last-child)::after {content: \"\\00b7\"; padding: 0 .5ex}\n",
              "</style>\n",
              "<ol class=list-inline><li>21</li><li>21</li><li>22.8</li><li>21.4</li><li>18.7</li><li>18.1</li><li>14.3</li><li>24.4</li><li>22.8</li><li>19.2</li><li>17.8</li><li>16.4</li><li>17.3</li><li>15.2</li><li>10.4</li><li>10.4</li><li>14.7</li><li>32.4</li><li>30.4</li><li>33.9</li><li>21.5</li><li>15.5</li><li>15.2</li><li>13.3</li><li>19.2</li><li>27.3</li><li>26</li><li>30.4</li><li>15.8</li><li>19.7</li><li>15</li><li>21.4</li></ol>\n"
            ]
          },
          "metadata": {}
        }
      ]
    },
    {
      "cell_type": "markdown",
      "metadata": {
        "id": "nr4kYhrME1tI"
      },
      "source": [
        "O que aprensenta o mesmo resultado dos comandos:"
      ]
    },
    {
      "cell_type": "code",
      "metadata": {
        "colab": {
          "base_uri": "https://localhost:8080/",
          "height": 68
        },
        "id": "8wOQ_SIzE4mZ",
        "outputId": "7696f449-dd26-4fea-ae13-2978a63872c5"
      },
      "source": [
        "mtcars[,1]\n",
        "mtcars[,c(1)]\n",
        "mtcars[,c('mpg')]"
      ],
      "execution_count": 52,
      "outputs": [
        {
          "output_type": "display_data",
          "data": {
            "text/plain": [
              " [1] 21.0 21.0 22.8 21.4 18.7 18.1 14.3 24.4 22.8 19.2 17.8 16.4 17.3 15.2 10.4\n",
              "[16] 10.4 14.7 32.4 30.4 33.9 21.5 15.5 15.2 13.3 19.2 27.3 26.0 30.4 15.8 19.7\n",
              "[31] 15.0 21.4"
            ],
            "text/latex": "\\begin{enumerate*}\n\\item 21\n\\item 21\n\\item 22.8\n\\item 21.4\n\\item 18.7\n\\item 18.1\n\\item 14.3\n\\item 24.4\n\\item 22.8\n\\item 19.2\n\\item 17.8\n\\item 16.4\n\\item 17.3\n\\item 15.2\n\\item 10.4\n\\item 10.4\n\\item 14.7\n\\item 32.4\n\\item 30.4\n\\item 33.9\n\\item 21.5\n\\item 15.5\n\\item 15.2\n\\item 13.3\n\\item 19.2\n\\item 27.3\n\\item 26\n\\item 30.4\n\\item 15.8\n\\item 19.7\n\\item 15\n\\item 21.4\n\\end{enumerate*}\n",
            "text/markdown": "1. 21\n2. 21\n3. 22.8\n4. 21.4\n5. 18.7\n6. 18.1\n7. 14.3\n8. 24.4\n9. 22.8\n10. 19.2\n11. 17.8\n12. 16.4\n13. 17.3\n14. 15.2\n15. 10.4\n16. 10.4\n17. 14.7\n18. 32.4\n19. 30.4\n20. 33.9\n21. 21.5\n22. 15.5\n23. 15.2\n24. 13.3\n25. 19.2\n26. 27.3\n27. 26\n28. 30.4\n29. 15.8\n30. 19.7\n31. 15\n32. 21.4\n\n\n",
            "text/html": [
              "<style>\n",
              ".list-inline {list-style: none; margin:0; padding: 0}\n",
              ".list-inline>li {display: inline-block}\n",
              ".list-inline>li:not(:last-child)::after {content: \"\\00b7\"; padding: 0 .5ex}\n",
              "</style>\n",
              "<ol class=list-inline><li>21</li><li>21</li><li>22.8</li><li>21.4</li><li>18.7</li><li>18.1</li><li>14.3</li><li>24.4</li><li>22.8</li><li>19.2</li><li>17.8</li><li>16.4</li><li>17.3</li><li>15.2</li><li>10.4</li><li>10.4</li><li>14.7</li><li>32.4</li><li>30.4</li><li>33.9</li><li>21.5</li><li>15.5</li><li>15.2</li><li>13.3</li><li>19.2</li><li>27.3</li><li>26</li><li>30.4</li><li>15.8</li><li>19.7</li><li>15</li><li>21.4</li></ol>\n"
            ]
          },
          "metadata": {}
        },
        {
          "output_type": "display_data",
          "data": {
            "text/plain": [
              " [1] 21.0 21.0 22.8 21.4 18.7 18.1 14.3 24.4 22.8 19.2 17.8 16.4 17.3 15.2 10.4\n",
              "[16] 10.4 14.7 32.4 30.4 33.9 21.5 15.5 15.2 13.3 19.2 27.3 26.0 30.4 15.8 19.7\n",
              "[31] 15.0 21.4"
            ],
            "text/latex": "\\begin{enumerate*}\n\\item 21\n\\item 21\n\\item 22.8\n\\item 21.4\n\\item 18.7\n\\item 18.1\n\\item 14.3\n\\item 24.4\n\\item 22.8\n\\item 19.2\n\\item 17.8\n\\item 16.4\n\\item 17.3\n\\item 15.2\n\\item 10.4\n\\item 10.4\n\\item 14.7\n\\item 32.4\n\\item 30.4\n\\item 33.9\n\\item 21.5\n\\item 15.5\n\\item 15.2\n\\item 13.3\n\\item 19.2\n\\item 27.3\n\\item 26\n\\item 30.4\n\\item 15.8\n\\item 19.7\n\\item 15\n\\item 21.4\n\\end{enumerate*}\n",
            "text/markdown": "1. 21\n2. 21\n3. 22.8\n4. 21.4\n5. 18.7\n6. 18.1\n7. 14.3\n8. 24.4\n9. 22.8\n10. 19.2\n11. 17.8\n12. 16.4\n13. 17.3\n14. 15.2\n15. 10.4\n16. 10.4\n17. 14.7\n18. 32.4\n19. 30.4\n20. 33.9\n21. 21.5\n22. 15.5\n23. 15.2\n24. 13.3\n25. 19.2\n26. 27.3\n27. 26\n28. 30.4\n29. 15.8\n30. 19.7\n31. 15\n32. 21.4\n\n\n",
            "text/html": [
              "<style>\n",
              ".list-inline {list-style: none; margin:0; padding: 0}\n",
              ".list-inline>li {display: inline-block}\n",
              ".list-inline>li:not(:last-child)::after {content: \"\\00b7\"; padding: 0 .5ex}\n",
              "</style>\n",
              "<ol class=list-inline><li>21</li><li>21</li><li>22.8</li><li>21.4</li><li>18.7</li><li>18.1</li><li>14.3</li><li>24.4</li><li>22.8</li><li>19.2</li><li>17.8</li><li>16.4</li><li>17.3</li><li>15.2</li><li>10.4</li><li>10.4</li><li>14.7</li><li>32.4</li><li>30.4</li><li>33.9</li><li>21.5</li><li>15.5</li><li>15.2</li><li>13.3</li><li>19.2</li><li>27.3</li><li>26</li><li>30.4</li><li>15.8</li><li>19.7</li><li>15</li><li>21.4</li></ol>\n"
            ]
          },
          "metadata": {}
        },
        {
          "output_type": "display_data",
          "data": {
            "text/plain": [
              " [1] 21.0 21.0 22.8 21.4 18.7 18.1 14.3 24.4 22.8 19.2 17.8 16.4 17.3 15.2 10.4\n",
              "[16] 10.4 14.7 32.4 30.4 33.9 21.5 15.5 15.2 13.3 19.2 27.3 26.0 30.4 15.8 19.7\n",
              "[31] 15.0 21.4"
            ],
            "text/latex": "\\begin{enumerate*}\n\\item 21\n\\item 21\n\\item 22.8\n\\item 21.4\n\\item 18.7\n\\item 18.1\n\\item 14.3\n\\item 24.4\n\\item 22.8\n\\item 19.2\n\\item 17.8\n\\item 16.4\n\\item 17.3\n\\item 15.2\n\\item 10.4\n\\item 10.4\n\\item 14.7\n\\item 32.4\n\\item 30.4\n\\item 33.9\n\\item 21.5\n\\item 15.5\n\\item 15.2\n\\item 13.3\n\\item 19.2\n\\item 27.3\n\\item 26\n\\item 30.4\n\\item 15.8\n\\item 19.7\n\\item 15\n\\item 21.4\n\\end{enumerate*}\n",
            "text/markdown": "1. 21\n2. 21\n3. 22.8\n4. 21.4\n5. 18.7\n6. 18.1\n7. 14.3\n8. 24.4\n9. 22.8\n10. 19.2\n11. 17.8\n12. 16.4\n13. 17.3\n14. 15.2\n15. 10.4\n16. 10.4\n17. 14.7\n18. 32.4\n19. 30.4\n20. 33.9\n21. 21.5\n22. 15.5\n23. 15.2\n24. 13.3\n25. 19.2\n26. 27.3\n27. 26\n28. 30.4\n29. 15.8\n30. 19.7\n31. 15\n32. 21.4\n\n\n",
            "text/html": [
              "<style>\n",
              ".list-inline {list-style: none; margin:0; padding: 0}\n",
              ".list-inline>li {display: inline-block}\n",
              ".list-inline>li:not(:last-child)::after {content: \"\\00b7\"; padding: 0 .5ex}\n",
              "</style>\n",
              "<ol class=list-inline><li>21</li><li>21</li><li>22.8</li><li>21.4</li><li>18.7</li><li>18.1</li><li>14.3</li><li>24.4</li><li>22.8</li><li>19.2</li><li>17.8</li><li>16.4</li><li>17.3</li><li>15.2</li><li>10.4</li><li>10.4</li><li>14.7</li><li>32.4</li><li>30.4</li><li>33.9</li><li>21.5</li><li>15.5</li><li>15.2</li><li>13.3</li><li>19.2</li><li>27.3</li><li>26</li><li>30.4</li><li>15.8</li><li>19.7</li><li>15</li><li>21.4</li></ol>\n"
            ]
          },
          "metadata": {}
        }
      ]
    },
    {
      "cell_type": "markdown",
      "metadata": {
        "id": "z8VsuUm2FFvv"
      },
      "source": [
        "mas a notação com '$' é bastante útil pode ser empregada mais facilmente com inúmeras funções:"
      ]
    },
    {
      "cell_type": "code",
      "metadata": {
        "colab": {
          "base_uri": "https://localhost:8080/",
          "height": 68
        },
        "id": "76nlujERE0no",
        "outputId": "24ff1a79-f8c5-4ba0-cc59-35a2912cd93d"
      },
      "source": [
        "mean(mtcars$mpg)\n",
        "summary(mtcars$mpg)\n",
        "\n"
      ],
      "execution_count": 53,
      "outputs": [
        {
          "output_type": "display_data",
          "data": {
            "text/plain": [
              "[1] 20.09062"
            ],
            "text/latex": "20.090625",
            "text/markdown": "20.090625",
            "text/html": [
              "20.090625"
            ]
          },
          "metadata": {}
        },
        {
          "output_type": "display_data",
          "data": {
            "text/plain": [
              "   Min. 1st Qu.  Median    Mean 3rd Qu.    Max. \n",
              "  10.40   15.43   19.20   20.09   22.80   33.90 "
            ]
          },
          "metadata": {}
        }
      ]
    },
    {
      "cell_type": "markdown",
      "metadata": {
        "id": "tdhcbRo5ntzV"
      },
      "source": [
        "### Seleção de Linhas ou Casos \n",
        "\n",
        "<img src=\"https://pandas.pydata.org/docs/_images/03_subset_rows.svg\" width=320, align=\"center\">\n",
        "\n",
        "A seleção de linhas é mais interessante por que podemos especificar condições para os valores que buscamos. Por exemplo, você poderia indicar o tipo de peças que deseja ver em um DataFrame com dados de vários componentes, ou indicar a cidade das unidades de fábrica que você tem os dados de produção.\n",
        "\n"
      ]
    },
    {
      "cell_type": "markdown",
      "metadata": {
        "id": "7e149b08"
      },
      "source": [
        "A seleção de linhas pode ser feita indicando-se a posição da linha ou, o que é mais interessante, um predicado de seleção."
      ]
    },
    {
      "cell_type": "code",
      "metadata": {
        "kernel": "R",
        "tags": [
          "report_cell"
        ],
        "id": "36b43f12",
        "colab": {
          "base_uri": "https://localhost:8080/",
          "height": 797
        },
        "outputId": "e75236fe-b3a4-4520-ae44-8b9b34fac2a8"
      },
      "source": [
        "# execute cada um dos comandos isoladamente\n",
        "mtcars[ 1:6, ]                 # equivalente a head(mtcars)\n",
        "mtcars[ mtcars$cyl > 6, ]      # exibe somente veículos com mais de 6 cilindros"
      ],
      "execution_count": 37,
      "outputs": [
        {
          "output_type": "display_data",
          "data": {
            "text/plain": [
              "                  mpg  cyl disp hp  drat wt    qsec  vs am gear carb\n",
              "Mazda RX4         21.0 6   160  110 3.90 2.620 16.46 0  1  4    4   \n",
              "Mazda RX4 Wag     21.0 6   160  110 3.90 2.875 17.02 0  1  4    4   \n",
              "Datsun 710        22.8 4   108   93 3.85 2.320 18.61 1  1  4    1   \n",
              "Hornet 4 Drive    21.4 6   258  110 3.08 3.215 19.44 1  0  3    1   \n",
              "Hornet Sportabout 18.7 8   360  175 3.15 3.440 17.02 0  0  3    2   \n",
              "Valiant           18.1 6   225  105 2.76 3.460 20.22 1  0  3    1   "
            ],
            "text/latex": "A data.frame: 6 × 11\n\\begin{tabular}{r|lllllllllll}\n  & mpg & cyl & disp & hp & drat & wt & qsec & vs & am & gear & carb\\\\\n  & <dbl> & <dbl> & <dbl> & <dbl> & <dbl> & <dbl> & <dbl> & <dbl> & <dbl> & <dbl> & <dbl>\\\\\n\\hline\n\tMazda RX4 & 21.0 & 6 & 160 & 110 & 3.90 & 2.620 & 16.46 & 0 & 1 & 4 & 4\\\\\n\tMazda RX4 Wag & 21.0 & 6 & 160 & 110 & 3.90 & 2.875 & 17.02 & 0 & 1 & 4 & 4\\\\\n\tDatsun 710 & 22.8 & 4 & 108 &  93 & 3.85 & 2.320 & 18.61 & 1 & 1 & 4 & 1\\\\\n\tHornet 4 Drive & 21.4 & 6 & 258 & 110 & 3.08 & 3.215 & 19.44 & 1 & 0 & 3 & 1\\\\\n\tHornet Sportabout & 18.7 & 8 & 360 & 175 & 3.15 & 3.440 & 17.02 & 0 & 0 & 3 & 2\\\\\n\tValiant & 18.1 & 6 & 225 & 105 & 2.76 & 3.460 & 20.22 & 1 & 0 & 3 & 1\\\\\n\\end{tabular}\n",
            "text/markdown": "\nA data.frame: 6 × 11\n\n| <!--/--> | mpg &lt;dbl&gt; | cyl &lt;dbl&gt; | disp &lt;dbl&gt; | hp &lt;dbl&gt; | drat &lt;dbl&gt; | wt &lt;dbl&gt; | qsec &lt;dbl&gt; | vs &lt;dbl&gt; | am &lt;dbl&gt; | gear &lt;dbl&gt; | carb &lt;dbl&gt; |\n|---|---|---|---|---|---|---|---|---|---|---|---|\n| Mazda RX4 | 21.0 | 6 | 160 | 110 | 3.90 | 2.620 | 16.46 | 0 | 1 | 4 | 4 |\n| Mazda RX4 Wag | 21.0 | 6 | 160 | 110 | 3.90 | 2.875 | 17.02 | 0 | 1 | 4 | 4 |\n| Datsun 710 | 22.8 | 4 | 108 |  93 | 3.85 | 2.320 | 18.61 | 1 | 1 | 4 | 1 |\n| Hornet 4 Drive | 21.4 | 6 | 258 | 110 | 3.08 | 3.215 | 19.44 | 1 | 0 | 3 | 1 |\n| Hornet Sportabout | 18.7 | 8 | 360 | 175 | 3.15 | 3.440 | 17.02 | 0 | 0 | 3 | 2 |\n| Valiant | 18.1 | 6 | 225 | 105 | 2.76 | 3.460 | 20.22 | 1 | 0 | 3 | 1 |\n\n",
            "text/html": [
              "<table class=\"dataframe\">\n",
              "<caption>A data.frame: 6 × 11</caption>\n",
              "<thead>\n",
              "\t<tr><th></th><th scope=col>mpg</th><th scope=col>cyl</th><th scope=col>disp</th><th scope=col>hp</th><th scope=col>drat</th><th scope=col>wt</th><th scope=col>qsec</th><th scope=col>vs</th><th scope=col>am</th><th scope=col>gear</th><th scope=col>carb</th></tr>\n",
              "\t<tr><th></th><th scope=col>&lt;dbl&gt;</th><th scope=col>&lt;dbl&gt;</th><th scope=col>&lt;dbl&gt;</th><th scope=col>&lt;dbl&gt;</th><th scope=col>&lt;dbl&gt;</th><th scope=col>&lt;dbl&gt;</th><th scope=col>&lt;dbl&gt;</th><th scope=col>&lt;dbl&gt;</th><th scope=col>&lt;dbl&gt;</th><th scope=col>&lt;dbl&gt;</th><th scope=col>&lt;dbl&gt;</th></tr>\n",
              "</thead>\n",
              "<tbody>\n",
              "\t<tr><th scope=row>Mazda RX4</th><td>21.0</td><td>6</td><td>160</td><td>110</td><td>3.90</td><td>2.620</td><td>16.46</td><td>0</td><td>1</td><td>4</td><td>4</td></tr>\n",
              "\t<tr><th scope=row>Mazda RX4 Wag</th><td>21.0</td><td>6</td><td>160</td><td>110</td><td>3.90</td><td>2.875</td><td>17.02</td><td>0</td><td>1</td><td>4</td><td>4</td></tr>\n",
              "\t<tr><th scope=row>Datsun 710</th><td>22.8</td><td>4</td><td>108</td><td> 93</td><td>3.85</td><td>2.320</td><td>18.61</td><td>1</td><td>1</td><td>4</td><td>1</td></tr>\n",
              "\t<tr><th scope=row>Hornet 4 Drive</th><td>21.4</td><td>6</td><td>258</td><td>110</td><td>3.08</td><td>3.215</td><td>19.44</td><td>1</td><td>0</td><td>3</td><td>1</td></tr>\n",
              "\t<tr><th scope=row>Hornet Sportabout</th><td>18.7</td><td>8</td><td>360</td><td>175</td><td>3.15</td><td>3.440</td><td>17.02</td><td>0</td><td>0</td><td>3</td><td>2</td></tr>\n",
              "\t<tr><th scope=row>Valiant</th><td>18.1</td><td>6</td><td>225</td><td>105</td><td>2.76</td><td>3.460</td><td>20.22</td><td>1</td><td>0</td><td>3</td><td>1</td></tr>\n",
              "</tbody>\n",
              "</table>\n"
            ]
          },
          "metadata": {}
        },
        {
          "output_type": "display_data",
          "data": {
            "text/plain": [
              "                    mpg  cyl disp  hp  drat wt    qsec  vs am gear carb\n",
              "Hornet Sportabout   18.7 8   360.0 175 3.15 3.440 17.02 0  0  3    2   \n",
              "Duster 360          14.3 8   360.0 245 3.21 3.570 15.84 0  0  3    4   \n",
              "Merc 450SE          16.4 8   275.8 180 3.07 4.070 17.40 0  0  3    3   \n",
              "Merc 450SL          17.3 8   275.8 180 3.07 3.730 17.60 0  0  3    3   \n",
              "Merc 450SLC         15.2 8   275.8 180 3.07 3.780 18.00 0  0  3    3   \n",
              "Cadillac Fleetwood  10.4 8   472.0 205 2.93 5.250 17.98 0  0  3    4   \n",
              "Lincoln Continental 10.4 8   460.0 215 3.00 5.424 17.82 0  0  3    4   \n",
              "Chrysler Imperial   14.7 8   440.0 230 3.23 5.345 17.42 0  0  3    4   \n",
              "Dodge Challenger    15.5 8   318.0 150 2.76 3.520 16.87 0  0  3    2   \n",
              "AMC Javelin         15.2 8   304.0 150 3.15 3.435 17.30 0  0  3    2   \n",
              "Camaro Z28          13.3 8   350.0 245 3.73 3.840 15.41 0  0  3    4   \n",
              "Pontiac Firebird    19.2 8   400.0 175 3.08 3.845 17.05 0  0  3    2   \n",
              "Ford Pantera L      15.8 8   351.0 264 4.22 3.170 14.50 0  1  5    4   \n",
              "Maserati Bora       15.0 8   301.0 335 3.54 3.570 14.60 0  1  5    8   "
            ],
            "text/latex": "A data.frame: 14 × 11\n\\begin{tabular}{r|lllllllllll}\n  & mpg & cyl & disp & hp & drat & wt & qsec & vs & am & gear & carb\\\\\n  & <dbl> & <dbl> & <dbl> & <dbl> & <dbl> & <dbl> & <dbl> & <dbl> & <dbl> & <dbl> & <dbl>\\\\\n\\hline\n\tHornet Sportabout & 18.7 & 8 & 360.0 & 175 & 3.15 & 3.440 & 17.02 & 0 & 0 & 3 & 2\\\\\n\tDuster 360 & 14.3 & 8 & 360.0 & 245 & 3.21 & 3.570 & 15.84 & 0 & 0 & 3 & 4\\\\\n\tMerc 450SE & 16.4 & 8 & 275.8 & 180 & 3.07 & 4.070 & 17.40 & 0 & 0 & 3 & 3\\\\\n\tMerc 450SL & 17.3 & 8 & 275.8 & 180 & 3.07 & 3.730 & 17.60 & 0 & 0 & 3 & 3\\\\\n\tMerc 450SLC & 15.2 & 8 & 275.8 & 180 & 3.07 & 3.780 & 18.00 & 0 & 0 & 3 & 3\\\\\n\tCadillac Fleetwood & 10.4 & 8 & 472.0 & 205 & 2.93 & 5.250 & 17.98 & 0 & 0 & 3 & 4\\\\\n\tLincoln Continental & 10.4 & 8 & 460.0 & 215 & 3.00 & 5.424 & 17.82 & 0 & 0 & 3 & 4\\\\\n\tChrysler Imperial & 14.7 & 8 & 440.0 & 230 & 3.23 & 5.345 & 17.42 & 0 & 0 & 3 & 4\\\\\n\tDodge Challenger & 15.5 & 8 & 318.0 & 150 & 2.76 & 3.520 & 16.87 & 0 & 0 & 3 & 2\\\\\n\tAMC Javelin & 15.2 & 8 & 304.0 & 150 & 3.15 & 3.435 & 17.30 & 0 & 0 & 3 & 2\\\\\n\tCamaro Z28 & 13.3 & 8 & 350.0 & 245 & 3.73 & 3.840 & 15.41 & 0 & 0 & 3 & 4\\\\\n\tPontiac Firebird & 19.2 & 8 & 400.0 & 175 & 3.08 & 3.845 & 17.05 & 0 & 0 & 3 & 2\\\\\n\tFord Pantera L & 15.8 & 8 & 351.0 & 264 & 4.22 & 3.170 & 14.50 & 0 & 1 & 5 & 4\\\\\n\tMaserati Bora & 15.0 & 8 & 301.0 & 335 & 3.54 & 3.570 & 14.60 & 0 & 1 & 5 & 8\\\\\n\\end{tabular}\n",
            "text/markdown": "\nA data.frame: 14 × 11\n\n| <!--/--> | mpg &lt;dbl&gt; | cyl &lt;dbl&gt; | disp &lt;dbl&gt; | hp &lt;dbl&gt; | drat &lt;dbl&gt; | wt &lt;dbl&gt; | qsec &lt;dbl&gt; | vs &lt;dbl&gt; | am &lt;dbl&gt; | gear &lt;dbl&gt; | carb &lt;dbl&gt; |\n|---|---|---|---|---|---|---|---|---|---|---|---|\n| Hornet Sportabout | 18.7 | 8 | 360.0 | 175 | 3.15 | 3.440 | 17.02 | 0 | 0 | 3 | 2 |\n| Duster 360 | 14.3 | 8 | 360.0 | 245 | 3.21 | 3.570 | 15.84 | 0 | 0 | 3 | 4 |\n| Merc 450SE | 16.4 | 8 | 275.8 | 180 | 3.07 | 4.070 | 17.40 | 0 | 0 | 3 | 3 |\n| Merc 450SL | 17.3 | 8 | 275.8 | 180 | 3.07 | 3.730 | 17.60 | 0 | 0 | 3 | 3 |\n| Merc 450SLC | 15.2 | 8 | 275.8 | 180 | 3.07 | 3.780 | 18.00 | 0 | 0 | 3 | 3 |\n| Cadillac Fleetwood | 10.4 | 8 | 472.0 | 205 | 2.93 | 5.250 | 17.98 | 0 | 0 | 3 | 4 |\n| Lincoln Continental | 10.4 | 8 | 460.0 | 215 | 3.00 | 5.424 | 17.82 | 0 | 0 | 3 | 4 |\n| Chrysler Imperial | 14.7 | 8 | 440.0 | 230 | 3.23 | 5.345 | 17.42 | 0 | 0 | 3 | 4 |\n| Dodge Challenger | 15.5 | 8 | 318.0 | 150 | 2.76 | 3.520 | 16.87 | 0 | 0 | 3 | 2 |\n| AMC Javelin | 15.2 | 8 | 304.0 | 150 | 3.15 | 3.435 | 17.30 | 0 | 0 | 3 | 2 |\n| Camaro Z28 | 13.3 | 8 | 350.0 | 245 | 3.73 | 3.840 | 15.41 | 0 | 0 | 3 | 4 |\n| Pontiac Firebird | 19.2 | 8 | 400.0 | 175 | 3.08 | 3.845 | 17.05 | 0 | 0 | 3 | 2 |\n| Ford Pantera L | 15.8 | 8 | 351.0 | 264 | 4.22 | 3.170 | 14.50 | 0 | 1 | 5 | 4 |\n| Maserati Bora | 15.0 | 8 | 301.0 | 335 | 3.54 | 3.570 | 14.60 | 0 | 1 | 5 | 8 |\n\n",
            "text/html": [
              "<table class=\"dataframe\">\n",
              "<caption>A data.frame: 14 × 11</caption>\n",
              "<thead>\n",
              "\t<tr><th></th><th scope=col>mpg</th><th scope=col>cyl</th><th scope=col>disp</th><th scope=col>hp</th><th scope=col>drat</th><th scope=col>wt</th><th scope=col>qsec</th><th scope=col>vs</th><th scope=col>am</th><th scope=col>gear</th><th scope=col>carb</th></tr>\n",
              "\t<tr><th></th><th scope=col>&lt;dbl&gt;</th><th scope=col>&lt;dbl&gt;</th><th scope=col>&lt;dbl&gt;</th><th scope=col>&lt;dbl&gt;</th><th scope=col>&lt;dbl&gt;</th><th scope=col>&lt;dbl&gt;</th><th scope=col>&lt;dbl&gt;</th><th scope=col>&lt;dbl&gt;</th><th scope=col>&lt;dbl&gt;</th><th scope=col>&lt;dbl&gt;</th><th scope=col>&lt;dbl&gt;</th></tr>\n",
              "</thead>\n",
              "<tbody>\n",
              "\t<tr><th scope=row>Hornet Sportabout</th><td>18.7</td><td>8</td><td>360.0</td><td>175</td><td>3.15</td><td>3.440</td><td>17.02</td><td>0</td><td>0</td><td>3</td><td>2</td></tr>\n",
              "\t<tr><th scope=row>Duster 360</th><td>14.3</td><td>8</td><td>360.0</td><td>245</td><td>3.21</td><td>3.570</td><td>15.84</td><td>0</td><td>0</td><td>3</td><td>4</td></tr>\n",
              "\t<tr><th scope=row>Merc 450SE</th><td>16.4</td><td>8</td><td>275.8</td><td>180</td><td>3.07</td><td>4.070</td><td>17.40</td><td>0</td><td>0</td><td>3</td><td>3</td></tr>\n",
              "\t<tr><th scope=row>Merc 450SL</th><td>17.3</td><td>8</td><td>275.8</td><td>180</td><td>3.07</td><td>3.730</td><td>17.60</td><td>0</td><td>0</td><td>3</td><td>3</td></tr>\n",
              "\t<tr><th scope=row>Merc 450SLC</th><td>15.2</td><td>8</td><td>275.8</td><td>180</td><td>3.07</td><td>3.780</td><td>18.00</td><td>0</td><td>0</td><td>3</td><td>3</td></tr>\n",
              "\t<tr><th scope=row>Cadillac Fleetwood</th><td>10.4</td><td>8</td><td>472.0</td><td>205</td><td>2.93</td><td>5.250</td><td>17.98</td><td>0</td><td>0</td><td>3</td><td>4</td></tr>\n",
              "\t<tr><th scope=row>Lincoln Continental</th><td>10.4</td><td>8</td><td>460.0</td><td>215</td><td>3.00</td><td>5.424</td><td>17.82</td><td>0</td><td>0</td><td>3</td><td>4</td></tr>\n",
              "\t<tr><th scope=row>Chrysler Imperial</th><td>14.7</td><td>8</td><td>440.0</td><td>230</td><td>3.23</td><td>5.345</td><td>17.42</td><td>0</td><td>0</td><td>3</td><td>4</td></tr>\n",
              "\t<tr><th scope=row>Dodge Challenger</th><td>15.5</td><td>8</td><td>318.0</td><td>150</td><td>2.76</td><td>3.520</td><td>16.87</td><td>0</td><td>0</td><td>3</td><td>2</td></tr>\n",
              "\t<tr><th scope=row>AMC Javelin</th><td>15.2</td><td>8</td><td>304.0</td><td>150</td><td>3.15</td><td>3.435</td><td>17.30</td><td>0</td><td>0</td><td>3</td><td>2</td></tr>\n",
              "\t<tr><th scope=row>Camaro Z28</th><td>13.3</td><td>8</td><td>350.0</td><td>245</td><td>3.73</td><td>3.840</td><td>15.41</td><td>0</td><td>0</td><td>3</td><td>4</td></tr>\n",
              "\t<tr><th scope=row>Pontiac Firebird</th><td>19.2</td><td>8</td><td>400.0</td><td>175</td><td>3.08</td><td>3.845</td><td>17.05</td><td>0</td><td>0</td><td>3</td><td>2</td></tr>\n",
              "\t<tr><th scope=row>Ford Pantera L</th><td>15.8</td><td>8</td><td>351.0</td><td>264</td><td>4.22</td><td>3.170</td><td>14.50</td><td>0</td><td>1</td><td>5</td><td>4</td></tr>\n",
              "\t<tr><th scope=row>Maserati Bora</th><td>15.0</td><td>8</td><td>301.0</td><td>335</td><td>3.54</td><td>3.570</td><td>14.60</td><td>0</td><td>1</td><td>5</td><td>8</td></tr>\n",
              "</tbody>\n",
              "</table>\n"
            ]
          },
          "metadata": {}
        }
      ]
    },
    {
      "cell_type": "markdown",
      "metadata": {
        "id": "n1LfrxMUFvdy"
      },
      "source": [
        "e os predicados ainda podem ser combinados com operadores lógicos como & (e) e | (ou):"
      ]
    },
    {
      "cell_type": "code",
      "metadata": {
        "colab": {
          "base_uri": "https://localhost:8080/",
          "height": 159
        },
        "id": "jc5b84HcFutX",
        "outputId": "35d14b0e-720e-49d0-dfc7-d86415951ea9"
      },
      "source": [
        "mtcars[ mtcars$cyl <= 4 & mtcars$hp > 100, ] "
      ],
      "execution_count": 55,
      "outputs": [
        {
          "output_type": "display_data",
          "data": {
            "text/plain": [
              "             mpg  cyl disp  hp  drat wt    qsec vs am gear carb\n",
              "Lotus Europa 30.4 4    95.1 113 3.77 1.513 16.9 1  1  5    2   \n",
              "Volvo 142E   21.4 4   121.0 109 4.11 2.780 18.6 1  1  4    2   "
            ],
            "text/latex": "A data.frame: 2 × 11\n\\begin{tabular}{r|lllllllllll}\n  & mpg & cyl & disp & hp & drat & wt & qsec & vs & am & gear & carb\\\\\n  & <dbl> & <dbl> & <dbl> & <dbl> & <dbl> & <dbl> & <dbl> & <dbl> & <dbl> & <dbl> & <dbl>\\\\\n\\hline\n\tLotus Europa & 30.4 & 4 &  95.1 & 113 & 3.77 & 1.513 & 16.9 & 1 & 1 & 5 & 2\\\\\n\tVolvo 142E & 21.4 & 4 & 121.0 & 109 & 4.11 & 2.780 & 18.6 & 1 & 1 & 4 & 2\\\\\n\\end{tabular}\n",
            "text/markdown": "\nA data.frame: 2 × 11\n\n| <!--/--> | mpg &lt;dbl&gt; | cyl &lt;dbl&gt; | disp &lt;dbl&gt; | hp &lt;dbl&gt; | drat &lt;dbl&gt; | wt &lt;dbl&gt; | qsec &lt;dbl&gt; | vs &lt;dbl&gt; | am &lt;dbl&gt; | gear &lt;dbl&gt; | carb &lt;dbl&gt; |\n|---|---|---|---|---|---|---|---|---|---|---|---|\n| Lotus Europa | 30.4 | 4 |  95.1 | 113 | 3.77 | 1.513 | 16.9 | 1 | 1 | 5 | 2 |\n| Volvo 142E | 21.4 | 4 | 121.0 | 109 | 4.11 | 2.780 | 18.6 | 1 | 1 | 4 | 2 |\n\n",
            "text/html": [
              "<table class=\"dataframe\">\n",
              "<caption>A data.frame: 2 × 11</caption>\n",
              "<thead>\n",
              "\t<tr><th></th><th scope=col>mpg</th><th scope=col>cyl</th><th scope=col>disp</th><th scope=col>hp</th><th scope=col>drat</th><th scope=col>wt</th><th scope=col>qsec</th><th scope=col>vs</th><th scope=col>am</th><th scope=col>gear</th><th scope=col>carb</th></tr>\n",
              "\t<tr><th></th><th scope=col>&lt;dbl&gt;</th><th scope=col>&lt;dbl&gt;</th><th scope=col>&lt;dbl&gt;</th><th scope=col>&lt;dbl&gt;</th><th scope=col>&lt;dbl&gt;</th><th scope=col>&lt;dbl&gt;</th><th scope=col>&lt;dbl&gt;</th><th scope=col>&lt;dbl&gt;</th><th scope=col>&lt;dbl&gt;</th><th scope=col>&lt;dbl&gt;</th><th scope=col>&lt;dbl&gt;</th></tr>\n",
              "</thead>\n",
              "<tbody>\n",
              "\t<tr><th scope=row>Lotus Europa</th><td>30.4</td><td>4</td><td> 95.1</td><td>113</td><td>3.77</td><td>1.513</td><td>16.9</td><td>1</td><td>1</td><td>5</td><td>2</td></tr>\n",
              "\t<tr><th scope=row>Volvo 142E</th><td>21.4</td><td>4</td><td>121.0</td><td>109</td><td>4.11</td><td>2.780</td><td>18.6</td><td>1</td><td>1</td><td>4</td><td>2</td></tr>\n",
              "</tbody>\n",
              "</table>\n"
            ]
          },
          "metadata": {}
        }
      ]
    },
    {
      "cell_type": "markdown",
      "metadata": {
        "id": "M0cctjk2G0I7"
      },
      "source": [
        "A operação acima também pode ser reescrita empregando-se um vetor lógico:"
      ]
    },
    {
      "cell_type": "code",
      "metadata": {
        "colab": {
          "base_uri": "https://localhost:8080/",
          "height": 193
        },
        "id": "wCtk5BRiG6RB",
        "outputId": "6a70f02f-484e-49c0-ad3d-8147a3451505"
      },
      "source": [
        "L = mtcars$cyl <= 4 & mtcars$hp > 100\n",
        "L\n",
        "mtcars[ L , ] "
      ],
      "execution_count": 56,
      "outputs": [
        {
          "output_type": "display_data",
          "data": {
            "text/plain": [
              " [1] FALSE FALSE FALSE FALSE FALSE FALSE FALSE FALSE FALSE FALSE FALSE FALSE\n",
              "[13] FALSE FALSE FALSE FALSE FALSE FALSE FALSE FALSE FALSE FALSE FALSE FALSE\n",
              "[25] FALSE FALSE FALSE  TRUE FALSE FALSE FALSE  TRUE"
            ],
            "text/latex": "\\begin{enumerate*}\n\\item FALSE\n\\item FALSE\n\\item FALSE\n\\item FALSE\n\\item FALSE\n\\item FALSE\n\\item FALSE\n\\item FALSE\n\\item FALSE\n\\item FALSE\n\\item FALSE\n\\item FALSE\n\\item FALSE\n\\item FALSE\n\\item FALSE\n\\item FALSE\n\\item FALSE\n\\item FALSE\n\\item FALSE\n\\item FALSE\n\\item FALSE\n\\item FALSE\n\\item FALSE\n\\item FALSE\n\\item FALSE\n\\item FALSE\n\\item FALSE\n\\item TRUE\n\\item FALSE\n\\item FALSE\n\\item FALSE\n\\item TRUE\n\\end{enumerate*}\n",
            "text/markdown": "1. FALSE\n2. FALSE\n3. FALSE\n4. FALSE\n5. FALSE\n6. FALSE\n7. FALSE\n8. FALSE\n9. FALSE\n10. FALSE\n11. FALSE\n12. FALSE\n13. FALSE\n14. FALSE\n15. FALSE\n16. FALSE\n17. FALSE\n18. FALSE\n19. FALSE\n20. FALSE\n21. FALSE\n22. FALSE\n23. FALSE\n24. FALSE\n25. FALSE\n26. FALSE\n27. FALSE\n28. TRUE\n29. FALSE\n30. FALSE\n31. FALSE\n32. TRUE\n\n\n",
            "text/html": [
              "<style>\n",
              ".list-inline {list-style: none; margin:0; padding: 0}\n",
              ".list-inline>li {display: inline-block}\n",
              ".list-inline>li:not(:last-child)::after {content: \"\\00b7\"; padding: 0 .5ex}\n",
              "</style>\n",
              "<ol class=list-inline><li>FALSE</li><li>FALSE</li><li>FALSE</li><li>FALSE</li><li>FALSE</li><li>FALSE</li><li>FALSE</li><li>FALSE</li><li>FALSE</li><li>FALSE</li><li>FALSE</li><li>FALSE</li><li>FALSE</li><li>FALSE</li><li>FALSE</li><li>FALSE</li><li>FALSE</li><li>FALSE</li><li>FALSE</li><li>FALSE</li><li>FALSE</li><li>FALSE</li><li>FALSE</li><li>FALSE</li><li>FALSE</li><li>FALSE</li><li>FALSE</li><li>TRUE</li><li>FALSE</li><li>FALSE</li><li>FALSE</li><li>TRUE</li></ol>\n"
            ]
          },
          "metadata": {}
        },
        {
          "output_type": "display_data",
          "data": {
            "text/plain": [
              "             mpg  cyl disp  hp  drat wt    qsec vs am gear carb\n",
              "Lotus Europa 30.4 4    95.1 113 3.77 1.513 16.9 1  1  5    2   \n",
              "Volvo 142E   21.4 4   121.0 109 4.11 2.780 18.6 1  1  4    2   "
            ],
            "text/latex": "A data.frame: 2 × 11\n\\begin{tabular}{r|lllllllllll}\n  & mpg & cyl & disp & hp & drat & wt & qsec & vs & am & gear & carb\\\\\n  & <dbl> & <dbl> & <dbl> & <dbl> & <dbl> & <dbl> & <dbl> & <dbl> & <dbl> & <dbl> & <dbl>\\\\\n\\hline\n\tLotus Europa & 30.4 & 4 &  95.1 & 113 & 3.77 & 1.513 & 16.9 & 1 & 1 & 5 & 2\\\\\n\tVolvo 142E & 21.4 & 4 & 121.0 & 109 & 4.11 & 2.780 & 18.6 & 1 & 1 & 4 & 2\\\\\n\\end{tabular}\n",
            "text/markdown": "\nA data.frame: 2 × 11\n\n| <!--/--> | mpg &lt;dbl&gt; | cyl &lt;dbl&gt; | disp &lt;dbl&gt; | hp &lt;dbl&gt; | drat &lt;dbl&gt; | wt &lt;dbl&gt; | qsec &lt;dbl&gt; | vs &lt;dbl&gt; | am &lt;dbl&gt; | gear &lt;dbl&gt; | carb &lt;dbl&gt; |\n|---|---|---|---|---|---|---|---|---|---|---|---|\n| Lotus Europa | 30.4 | 4 |  95.1 | 113 | 3.77 | 1.513 | 16.9 | 1 | 1 | 5 | 2 |\n| Volvo 142E | 21.4 | 4 | 121.0 | 109 | 4.11 | 2.780 | 18.6 | 1 | 1 | 4 | 2 |\n\n",
            "text/html": [
              "<table class=\"dataframe\">\n",
              "<caption>A data.frame: 2 × 11</caption>\n",
              "<thead>\n",
              "\t<tr><th></th><th scope=col>mpg</th><th scope=col>cyl</th><th scope=col>disp</th><th scope=col>hp</th><th scope=col>drat</th><th scope=col>wt</th><th scope=col>qsec</th><th scope=col>vs</th><th scope=col>am</th><th scope=col>gear</th><th scope=col>carb</th></tr>\n",
              "\t<tr><th></th><th scope=col>&lt;dbl&gt;</th><th scope=col>&lt;dbl&gt;</th><th scope=col>&lt;dbl&gt;</th><th scope=col>&lt;dbl&gt;</th><th scope=col>&lt;dbl&gt;</th><th scope=col>&lt;dbl&gt;</th><th scope=col>&lt;dbl&gt;</th><th scope=col>&lt;dbl&gt;</th><th scope=col>&lt;dbl&gt;</th><th scope=col>&lt;dbl&gt;</th><th scope=col>&lt;dbl&gt;</th></tr>\n",
              "</thead>\n",
              "<tbody>\n",
              "\t<tr><th scope=row>Lotus Europa</th><td>30.4</td><td>4</td><td> 95.1</td><td>113</td><td>3.77</td><td>1.513</td><td>16.9</td><td>1</td><td>1</td><td>5</td><td>2</td></tr>\n",
              "\t<tr><th scope=row>Volvo 142E</th><td>21.4</td><td>4</td><td>121.0</td><td>109</td><td>4.11</td><td>2.780</td><td>18.6</td><td>1</td><td>1</td><td>4</td><td>2</td></tr>\n",
              "</tbody>\n",
              "</table>\n"
            ]
          },
          "metadata": {}
        }
      ]
    },
    {
      "cell_type": "markdown",
      "metadata": {
        "id": "Emv4w-B2HGUI"
      },
      "source": [
        "sendo exibidos somente as linhas com valores TRUE (surpreenda-se e experimente também executar `mtcars[ -L , ]`)."
      ]
    },
    {
      "cell_type": "markdown",
      "metadata": {
        "id": "AWXIM91FrMkH"
      },
      "source": [
        "### Seleção de Linhas e Colunas\n",
        "\n",
        "<img src=\"https://pandas.pydata.org/docs/_images/03_subset_columns_rows.svg\" width=320, align=\"center\">\n",
        "\n",
        "O uso mais geral é quando fazemos seleções de linhas e colunas dos dados, e às vezes nos referimos a esse Sub Conjunto dos Dados de *Slice* (Fatia dos Dados).\n",
        "\n"
      ]
    },
    {
      "cell_type": "markdown",
      "metadata": {
        "id": "f4a6ebb6"
      },
      "source": [
        "Para isso basta combinar a seleção de linhas e colunas para trazer quaisquer 'fatias' de seu interesse dos dados."
      ]
    },
    {
      "cell_type": "code",
      "metadata": {
        "kernel": "R",
        "tags": [
          "report_cell"
        ],
        "id": "ce01217a",
        "colab": {
          "base_uri": "https://localhost:8080/",
          "height": 159
        },
        "outputId": "54a8d4bc-c745-4c44-f452-2738cfff1f19"
      },
      "source": [
        "# execute cada um dos comandos isoladamente\n",
        "mtcars[ mtcars$cyl > 6 & mtcars$am == 1, c('cyl','mpg','am') ]      # exibe somente veículos com mais de 6 cilindros e transmissão am"
      ],
      "execution_count": 38,
      "outputs": [
        {
          "output_type": "display_data",
          "data": {
            "text/plain": [
              "               cyl mpg  am\n",
              "Ford Pantera L 8   15.8 1 \n",
              "Maserati Bora  8   15.0 1 "
            ],
            "text/latex": "A data.frame: 2 × 3\n\\begin{tabular}{r|lll}\n  & cyl & mpg & am\\\\\n  & <dbl> & <dbl> & <dbl>\\\\\n\\hline\n\tFord Pantera L & 8 & 15.8 & 1\\\\\n\tMaserati Bora & 8 & 15.0 & 1\\\\\n\\end{tabular}\n",
            "text/markdown": "\nA data.frame: 2 × 3\n\n| <!--/--> | cyl &lt;dbl&gt; | mpg &lt;dbl&gt; | am &lt;dbl&gt; |\n|---|---|---|---|\n| Ford Pantera L | 8 | 15.8 | 1 |\n| Maserati Bora | 8 | 15.0 | 1 |\n\n",
            "text/html": [
              "<table class=\"dataframe\">\n",
              "<caption>A data.frame: 2 × 3</caption>\n",
              "<thead>\n",
              "\t<tr><th></th><th scope=col>cyl</th><th scope=col>mpg</th><th scope=col>am</th></tr>\n",
              "\t<tr><th></th><th scope=col>&lt;dbl&gt;</th><th scope=col>&lt;dbl&gt;</th><th scope=col>&lt;dbl&gt;</th></tr>\n",
              "</thead>\n",
              "<tbody>\n",
              "\t<tr><th scope=row>Ford Pantera L</th><td>8</td><td>15.8</td><td>1</td></tr>\n",
              "\t<tr><th scope=row>Maserati Bora</th><td>8</td><td>15.0</td><td>1</td></tr>\n",
              "</tbody>\n",
              "</table>\n"
            ]
          },
          "metadata": {}
        }
      ]
    },
    {
      "cell_type": "markdown",
      "metadata": {
        "id": "c4bec7bb"
      },
      "source": [
        "Ou ainda selecionar um único vetor de dados desse modo:"
      ]
    },
    {
      "cell_type": "code",
      "metadata": {
        "kernel": "R",
        "tags": [
          "report_cell"
        ],
        "id": "77475995",
        "colab": {
          "base_uri": "https://localhost:8080/",
          "height": 34
        },
        "outputId": "a3650eb0-2933-442f-a5d7-cc7934944d7d"
      },
      "source": [
        "# execute cada um dos comandos isoladamente\n",
        "mtcars[ mtcars$cyl > 6 & mtcars$am == 1, ]$hp     # exibe somente o vetor de valores hp para veículos com mais de 6 cilindros e transmissão am"
      ],
      "execution_count": 39,
      "outputs": [
        {
          "output_type": "display_data",
          "data": {
            "text/plain": [
              "[1] 264 335"
            ],
            "text/latex": "\\begin{enumerate*}\n\\item 264\n\\item 335\n\\end{enumerate*}\n",
            "text/markdown": "1. 264\n2. 335\n\n\n",
            "text/html": [
              "<style>\n",
              ".list-inline {list-style: none; margin:0; padding: 0}\n",
              ".list-inline>li {display: inline-block}\n",
              ".list-inline>li:not(:last-child)::after {content: \"\\00b7\"; padding: 0 .5ex}\n",
              "</style>\n",
              "<ol class=list-inline><li>264</li><li>335</li></ol>\n"
            ]
          },
          "metadata": {}
        }
      ]
    },
    {
      "cell_type": "markdown",
      "metadata": {
        "id": "a7c561b3"
      },
      "source": [
        "Como a seleção de dados de um dataframe retorna também um dataframe, você pode empregar a seleção para produzir dataframes próprios com os seus dados de interesse."
      ]
    },
    {
      "cell_type": "code",
      "metadata": {
        "kernel": "R",
        "tags": [
          "report_cell"
        ],
        "id": "779a7961",
        "colab": {
          "base_uri": "https://localhost:8080/",
          "height": 329
        },
        "outputId": "8be9ac12-733a-46fd-eb21-0b6b0f6d3d03"
      },
      "source": [
        "# execute cada um dos comandos isoladamente\n",
        "\n",
        "my_mtcars = mtcars[ mtcars$cyl > 6 & mtcars$am == 1, c('cyl','mpg','am') ]\n",
        "\n",
        "head(my_mtcars)\n",
        "nrow(my_mtcars)\n",
        "summary(my_mtcars)\n",
        "\n",
        "print( my_mtcars[ my_mtcars$mpg > 15, ]) # todos os comandos aplicáveis a um dataframe são aplicáveis em my_mtcars"
      ],
      "execution_count": 40,
      "outputs": [
        {
          "output_type": "display_data",
          "data": {
            "text/plain": [
              "               cyl mpg  am\n",
              "Ford Pantera L 8   15.8 1 \n",
              "Maserati Bora  8   15.0 1 "
            ],
            "text/latex": "A data.frame: 2 × 3\n\\begin{tabular}{r|lll}\n  & cyl & mpg & am\\\\\n  & <dbl> & <dbl> & <dbl>\\\\\n\\hline\n\tFord Pantera L & 8 & 15.8 & 1\\\\\n\tMaserati Bora & 8 & 15.0 & 1\\\\\n\\end{tabular}\n",
            "text/markdown": "\nA data.frame: 2 × 3\n\n| <!--/--> | cyl &lt;dbl&gt; | mpg &lt;dbl&gt; | am &lt;dbl&gt; |\n|---|---|---|---|\n| Ford Pantera L | 8 | 15.8 | 1 |\n| Maserati Bora | 8 | 15.0 | 1 |\n\n",
            "text/html": [
              "<table class=\"dataframe\">\n",
              "<caption>A data.frame: 2 × 3</caption>\n",
              "<thead>\n",
              "\t<tr><th></th><th scope=col>cyl</th><th scope=col>mpg</th><th scope=col>am</th></tr>\n",
              "\t<tr><th></th><th scope=col>&lt;dbl&gt;</th><th scope=col>&lt;dbl&gt;</th><th scope=col>&lt;dbl&gt;</th></tr>\n",
              "</thead>\n",
              "<tbody>\n",
              "\t<tr><th scope=row>Ford Pantera L</th><td>8</td><td>15.8</td><td>1</td></tr>\n",
              "\t<tr><th scope=row>Maserati Bora</th><td>8</td><td>15.0</td><td>1</td></tr>\n",
              "</tbody>\n",
              "</table>\n"
            ]
          },
          "metadata": {}
        },
        {
          "output_type": "display_data",
          "data": {
            "text/plain": [
              "[1] 2"
            ],
            "text/latex": "2",
            "text/markdown": "2",
            "text/html": [
              "2"
            ]
          },
          "metadata": {}
        },
        {
          "output_type": "display_data",
          "data": {
            "text/plain": [
              "      cyl         mpg             am   \n",
              " Min.   :8   Min.   :15.0   Min.   :1  \n",
              " 1st Qu.:8   1st Qu.:15.2   1st Qu.:1  \n",
              " Median :8   Median :15.4   Median :1  \n",
              " Mean   :8   Mean   :15.4   Mean   :1  \n",
              " 3rd Qu.:8   3rd Qu.:15.6   3rd Qu.:1  \n",
              " Max.   :8   Max.   :15.8   Max.   :1  "
            ]
          },
          "metadata": {}
        },
        {
          "output_type": "stream",
          "text": [
            "               cyl  mpg am\n",
            "Ford Pantera L   8 15.8  1\n"
          ],
          "name": "stdout"
        }
      ]
    },
    {
      "cell_type": "markdown",
      "metadata": {
        "id": "1RQS9OuAGoZ5"
      },
      "source": [
        "e as duas operações abaixo trazem os mesmos resultados. "
      ]
    },
    {
      "cell_type": "code",
      "metadata": {
        "id": "3w_xdJb1GveQ"
      },
      "source": [
        "my_mtcars = mtcars[ mtcars$cyl > 6 & mtcars$am == 1, c('cyl','mpg','am') ]"
      ],
      "execution_count": null,
      "outputs": []
    },
    {
      "cell_type": "markdown",
      "metadata": {
        "id": "844c76d0"
      },
      "source": [
        "## Importando um dataframe\n",
        "\n",
        "O R permite importar dataframes de diferentes fontes de dados como bases SQL, arquivos .xlsx, .csv, .json etc. sendo necessário para alguns tipos de dados pacotes específicos para as funções e por hora vamos nos limitar a empregar arquivos com extensão .csv.\n",
        "\n",
        "Você poderá fazer acesso a eles indicando uma `url` de origem dos dados um diretório local na sua máquina. Se estiver empregando o RStudio.Cloud, lembre-se que sua máquina R encontra-se na nuvem e para o acesso 'local' é necessário o upload do arquivo."
      ]
    },
    {
      "cell_type": "code",
      "metadata": {
        "kernel": "R",
        "tags": [
          "report_cell"
        ],
        "id": "4ba6ec04",
        "colab": {
          "base_uri": "https://localhost:8080/",
          "height": 691
        },
        "outputId": "e0b9f9ba-3284-405e-97d3-c936fe553a49"
      },
      "source": [
        "surveys = read.csv(\"https://github.com/csc-training/da-with-r/raw/master/DataFiles/portal_data_joined.csv\")\n",
        "\n",
        "head(surveys)\n",
        "summary(surveys)"
      ],
      "execution_count": 41,
      "outputs": [
        {
          "output_type": "display_data",
          "data": {
            "text/plain": [
              "  record_id month day year plot_id species_id sex hindfoot_length weight\n",
              "1   1        7    16  1977 2       NL         M   32              NA    \n",
              "2  72        8    19  1977 2       NL         M   31              NA    \n",
              "3 224        9    13  1977 2       NL             NA              NA    \n",
              "4 266       10    16  1977 2       NL             NA              NA    \n",
              "5 349       11    12  1977 2       NL             NA              NA    \n",
              "6 363       11    12  1977 2       NL             NA              NA    \n",
              "  genus   species  taxa   plot_type\n",
              "1 Neotoma albigula Rodent Control  \n",
              "2 Neotoma albigula Rodent Control  \n",
              "3 Neotoma albigula Rodent Control  \n",
              "4 Neotoma albigula Rodent Control  \n",
              "5 Neotoma albigula Rodent Control  \n",
              "6 Neotoma albigula Rodent Control  "
            ],
            "text/latex": "A data.frame: 6 × 13\n\\begin{tabular}{r|lllllllllllll}\n  & record\\_id & month & day & year & plot\\_id & species\\_id & sex & hindfoot\\_length & weight & genus & species & taxa & plot\\_type\\\\\n  & <int> & <int> & <int> & <int> & <int> & <chr> & <chr> & <int> & <int> & <chr> & <chr> & <chr> & <chr>\\\\\n\\hline\n\t1 &   1 &  7 & 16 & 1977 & 2 & NL & M & 32 & NA & Neotoma & albigula & Rodent & Control\\\\\n\t2 &  72 &  8 & 19 & 1977 & 2 & NL & M & 31 & NA & Neotoma & albigula & Rodent & Control\\\\\n\t3 & 224 &  9 & 13 & 1977 & 2 & NL &   & NA & NA & Neotoma & albigula & Rodent & Control\\\\\n\t4 & 266 & 10 & 16 & 1977 & 2 & NL &   & NA & NA & Neotoma & albigula & Rodent & Control\\\\\n\t5 & 349 & 11 & 12 & 1977 & 2 & NL &   & NA & NA & Neotoma & albigula & Rodent & Control\\\\\n\t6 & 363 & 11 & 12 & 1977 & 2 & NL &   & NA & NA & Neotoma & albigula & Rodent & Control\\\\\n\\end{tabular}\n",
            "text/markdown": "\nA data.frame: 6 × 13\n\n| <!--/--> | record_id &lt;int&gt; | month &lt;int&gt; | day &lt;int&gt; | year &lt;int&gt; | plot_id &lt;int&gt; | species_id &lt;chr&gt; | sex &lt;chr&gt; | hindfoot_length &lt;int&gt; | weight &lt;int&gt; | genus &lt;chr&gt; | species &lt;chr&gt; | taxa &lt;chr&gt; | plot_type &lt;chr&gt; |\n|---|---|---|---|---|---|---|---|---|---|---|---|---|---|\n| 1 |   1 |  7 | 16 | 1977 | 2 | NL | M | 32 | NA | Neotoma | albigula | Rodent | Control |\n| 2 |  72 |  8 | 19 | 1977 | 2 | NL | M | 31 | NA | Neotoma | albigula | Rodent | Control |\n| 3 | 224 |  9 | 13 | 1977 | 2 | NL | <!----> | NA | NA | Neotoma | albigula | Rodent | Control |\n| 4 | 266 | 10 | 16 | 1977 | 2 | NL | <!----> | NA | NA | Neotoma | albigula | Rodent | Control |\n| 5 | 349 | 11 | 12 | 1977 | 2 | NL | <!----> | NA | NA | Neotoma | albigula | Rodent | Control |\n| 6 | 363 | 11 | 12 | 1977 | 2 | NL | <!----> | NA | NA | Neotoma | albigula | Rodent | Control |\n\n",
            "text/html": [
              "<table class=\"dataframe\">\n",
              "<caption>A data.frame: 6 × 13</caption>\n",
              "<thead>\n",
              "\t<tr><th></th><th scope=col>record_id</th><th scope=col>month</th><th scope=col>day</th><th scope=col>year</th><th scope=col>plot_id</th><th scope=col>species_id</th><th scope=col>sex</th><th scope=col>hindfoot_length</th><th scope=col>weight</th><th scope=col>genus</th><th scope=col>species</th><th scope=col>taxa</th><th scope=col>plot_type</th></tr>\n",
              "\t<tr><th></th><th scope=col>&lt;int&gt;</th><th scope=col>&lt;int&gt;</th><th scope=col>&lt;int&gt;</th><th scope=col>&lt;int&gt;</th><th scope=col>&lt;int&gt;</th><th scope=col>&lt;chr&gt;</th><th scope=col>&lt;chr&gt;</th><th scope=col>&lt;int&gt;</th><th scope=col>&lt;int&gt;</th><th scope=col>&lt;chr&gt;</th><th scope=col>&lt;chr&gt;</th><th scope=col>&lt;chr&gt;</th><th scope=col>&lt;chr&gt;</th></tr>\n",
              "</thead>\n",
              "<tbody>\n",
              "\t<tr><th scope=row>1</th><td>  1</td><td> 7</td><td>16</td><td>1977</td><td>2</td><td>NL</td><td>M</td><td>32</td><td>NA</td><td>Neotoma</td><td>albigula</td><td>Rodent</td><td>Control</td></tr>\n",
              "\t<tr><th scope=row>2</th><td> 72</td><td> 8</td><td>19</td><td>1977</td><td>2</td><td>NL</td><td>M</td><td>31</td><td>NA</td><td>Neotoma</td><td>albigula</td><td>Rodent</td><td>Control</td></tr>\n",
              "\t<tr><th scope=row>3</th><td>224</td><td> 9</td><td>13</td><td>1977</td><td>2</td><td>NL</td><td> </td><td>NA</td><td>NA</td><td>Neotoma</td><td>albigula</td><td>Rodent</td><td>Control</td></tr>\n",
              "\t<tr><th scope=row>4</th><td>266</td><td>10</td><td>16</td><td>1977</td><td>2</td><td>NL</td><td> </td><td>NA</td><td>NA</td><td>Neotoma</td><td>albigula</td><td>Rodent</td><td>Control</td></tr>\n",
              "\t<tr><th scope=row>5</th><td>349</td><td>11</td><td>12</td><td>1977</td><td>2</td><td>NL</td><td> </td><td>NA</td><td>NA</td><td>Neotoma</td><td>albigula</td><td>Rodent</td><td>Control</td></tr>\n",
              "\t<tr><th scope=row>6</th><td>363</td><td>11</td><td>12</td><td>1977</td><td>2</td><td>NL</td><td> </td><td>NA</td><td>NA</td><td>Neotoma</td><td>albigula</td><td>Rodent</td><td>Control</td></tr>\n",
              "</tbody>\n",
              "</table>\n"
            ]
          },
          "metadata": {}
        },
        {
          "output_type": "display_data",
          "data": {
            "text/plain": [
              "   record_id         month             day            year         plot_id     \n",
              " Min.   :    1   Min.   : 1.000   Min.   : 1.0   Min.   :1977   Min.   : 1.00  \n",
              " 1st Qu.: 8964   1st Qu.: 4.000   1st Qu.: 9.0   1st Qu.:1984   1st Qu.: 5.00  \n",
              " Median :17762   Median : 6.000   Median :16.0   Median :1990   Median :11.00  \n",
              " Mean   :17804   Mean   : 6.474   Mean   :16.1   Mean   :1990   Mean   :11.34  \n",
              " 3rd Qu.:26655   3rd Qu.:10.000   3rd Qu.:23.0   3rd Qu.:1997   3rd Qu.:17.00  \n",
              " Max.   :35548   Max.   :12.000   Max.   :31.0   Max.   :2002   Max.   :24.00  \n",
              "                                                                               \n",
              "  species_id            sex            hindfoot_length     weight      \n",
              " Length:34786       Length:34786       Min.   : 2.00   Min.   :  4.00  \n",
              " Class :character   Class :character   1st Qu.:21.00   1st Qu.: 20.00  \n",
              " Mode  :character   Mode  :character   Median :32.00   Median : 37.00  \n",
              "                                       Mean   :29.29   Mean   : 42.67  \n",
              "                                       3rd Qu.:36.00   3rd Qu.: 48.00  \n",
              "                                       Max.   :70.00   Max.   :280.00  \n",
              "                                       NA's   :3348    NA's   :2503    \n",
              "    genus             species              taxa            plot_type        \n",
              " Length:34786       Length:34786       Length:34786       Length:34786      \n",
              " Class :character   Class :character   Class :character   Class :character  \n",
              " Mode  :character   Mode  :character   Mode  :character   Mode  :character  \n",
              "                                                                            \n",
              "                                                                            \n",
              "                                                                            \n",
              "                                                                            "
            ]
          },
          "metadata": {}
        }
      ]
    },
    {
      "cell_type": "markdown",
      "metadata": {
        "id": "uEItucE3Iplp"
      },
      "source": [
        "# Para Saber Mais\n",
        "\n",
        "1. Leia o artigo Wickham, H. (2014). **Tidy Data**. Journal of Statistical Software, 59(10), 1 - 23. e entenda mais sobre a organização dos dados. O texto completo está disponível em: https://www.jstatsoft.org/article/view/v059i10.\n",
        "\n",
        "2. Acesse a página [datasets built-in](http://stat.ethz.ch/R-manual/R-patched/library/datasets/html/00Index.html) (http://stat.ethz.ch/R-manual/R-patched/library/datasets/html/00Index.html) e explore outros conjuntos de dados nativos do pacote R.\n",
        "\n",
        "3. Não deixe de explorar a documentação do R em https://cran.r-project.org/manuals.html e a parte de Introdução do R Tutorial em http://www.r-tutor.com/r-introduction. \n"
      ]
    },
    {
      "cell_type": "markdown",
      "metadata": {
        "id": "e1a68ff4"
      },
      "source": [
        "# Referências"
      ]
    },
    {
      "cell_type": "markdown",
      "metadata": {
        "id": "de177ca1"
      },
      "source": [
        "1. Hadley Wickham, Garrett Grolemund. **R for Data Science: Import, Tidy, Transform, Visualize, and Model Data.** O'Reilly Media Inc. (2017). (alternativamente disponível em: https://r4ds.had.co.nz/).\n",
        "\n",
        "2. Wickham, H. (2014). **Tidy Data**. Journal of Statistical Software, 59(10), 1 - 23. doi:http://dx.doi.org/10.18637/jss.v059.i10 Disponível em: https://www.jstatsoft.org/article/view/v059i10 Acesso em: 29 de Agosto de 2021.\n",
        "\n",
        "3. __. **The R Manuals.** Disponível em: https://cran.r-project.org/manuals.html Acesso em: 29 de Agosto de 2021.\n",
        "\n",
        "\n"
      ]
    }
  ]
}