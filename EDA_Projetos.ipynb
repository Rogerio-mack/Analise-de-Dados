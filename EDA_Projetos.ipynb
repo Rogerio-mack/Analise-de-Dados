{
  "nbformat": 4,
  "nbformat_minor": 0,
  "metadata": {
    "kernelspec": {
      "display_name": "Python 3",
      "language": "python",
      "name": "python3"
    },
    "language_info": {
      "codemirror_mode": {
        "name": "ipython",
        "version": 3
      },
      "file_extension": ".py",
      "mimetype": "text/x-python",
      "name": "python",
      "nbconvert_exporter": "python",
      "pygments_lexer": "ipython3",
      "version": "3.7.4"
    },
    "colab": {
      "name": "EDA_Projetos.ipynb",
      "provenance": [],
      "collapsed_sections": [],
      "include_colab_link": true
    }
  },
  "cells": [
    {
      "cell_type": "markdown",
      "metadata": {
        "id": "view-in-github",
        "colab_type": "text"
      },
      "source": [
        "<a href=\"https://colab.research.google.com/github/Rogerio-mack/Analise-de-Dados/blob/main/EDA_Projetos.ipynb\" target=\"_parent\"><img src=\"https://colab.research.google.com/assets/colab-badge.svg\" alt=\"Open In Colab\"/></a>"
      ]
    },
    {
      "cell_type": "markdown",
      "metadata": {
        "id": "40b90843"
      },
      "source": [
        "<img src=\"http://meusite.mackenzie.br/rogerio/mackenzie_logo/UPM.2_horizontal_vermelho.jpg\"  width=300, align=\"right\">\n",
        "<br>\n",
        "<br>\n",
        "<br>\n",
        "<br>\n",
        "<br>\n",
        "\n",
        "# Projetos de Análise Exploratória de Dados\n",
        "---"
      ]
    },
    {
      "cell_type": "markdown",
      "metadata": {
        "id": "yG9sFK9khO_I"
      },
      "source": [
        "# Objetivo\n",
        "\n",
        "Serão 2 projetos de EDA (Exploratory Data Analysis), um por bimestre envolvendo bases de dados definidas para cada grupo.\n",
        "\n",
        "<br>\n",
        "\n",
        "# Descrição do Projeto\n",
        "\n",
        "O trabalho deve ser original e desenvolvido em Python notebook com uma Análise e Exploração dos Dados, de um conjunto de dados definido. O Python notebook deve ser 100% executável (empregue os dados a partir dos links originais).\n",
        "\n",
        "<br>\n",
        "\n",
        "## EDA I (primeiro bimestre)\n",
        "\n",
        "Uma análise de dados incluindo estatísticas descritivas, seleções, transformações e agrupamentos de dados, respondendo ao menos 6 perguntas relevantes no contexto dos dados. **Não inclua nessa fase quaisquer visualizações de dados**, elas serão objeto do próximo bimestre.\n",
        "\n",
        "Data: **08/10/2021** (Entregas devem ser postadas por um único aluno do grupo)\n",
        "\n",
        "[Modelo Python Notebook](https://colab.research.google.com/github/Rogerio-mack/Analise-de-Dados/blob/main/EDA_Projeto1.ipynb) (*inclui os critérios de avaliação*)\n",
        "\n",
        "<br>\n",
        "\n",
        "## EDA II (segundo bimestre)\n",
        "\n",
        "Uma análise de dados incluindo estatísticas descritivas, seleções, transformações, agrupamentos de dados e exploração gráfica dos dados respondendo ao menos 6 perguntas relevantes no contexto dos dados. Deve ser entregue também um datafólio e uma apresentação em vídeo (até 10min) dos resultados.\n",
        "\n",
        "Data: TBD (Entregas devem ser postadas por um único aluno do grupo)\n",
        "\n",
        "[Modelo Python Notebook]((https://colab.research.google.com/github/Rogerio-mack/Analise-de-Dados/blob/main/EDA_Projeto2.ipynb) (*inclui os critérios de avaliação*)\n",
        " \n",
        "[Modelo Datafólio](http://meusite.mackenzie.br/rogerio/TIC/Datafolio_Template.pptx)\n",
        "\n",
        "<br>\n",
        "<br>\n",
        "<br>\n",
        "\n",
        "\n",
        "# Bases de Dados \n",
        "\n",
        "#### Grupo 1\n",
        "\n",
        "> * [European energy](https://github.com/rfordatascience/tidytuesday/tree/master/data/2020/2020-08-04)\n",
        "\n",
        "#### Grupo 2\n",
        "\n",
        "> * [Beer Production](https://github.com/rfordatascience/tidytuesday/blob/master/data/2020/2020-03-31/readme.md)\n",
        "\n",
        "#### Grupo 3\n",
        "\n",
        "> * [Global Crop Yields](https://github.com/rfordatascience/tidytuesday/blob/master/data/2020/2020-09-01/readme.md)\n",
        "\n",
        "#### Grupo 4\n",
        "\n",
        "> * [United States Department of Agriculture](https://github.com/rfordatascience/tidytuesday/tree/master/data/2019/2019-01-29)\n",
        "\n",
        "> * [Women in the Workforce](https://github.com/rfordatascience/tidytuesday/tree/master/data/2019/2019-03-05)\n",
        "\n"
      ]
    }
  ]
}