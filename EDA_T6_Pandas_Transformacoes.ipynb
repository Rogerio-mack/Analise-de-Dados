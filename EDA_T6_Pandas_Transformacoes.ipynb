{
  "nbformat": 4,
  "nbformat_minor": 0,
  "metadata": {
    "colab": {
      "name": "EDA_T6_Pandas_Transformacoes.ipynb",
      "provenance": [],
      "collapsed_sections": [
        "I77iaiVUzGZy",
        "Qe3ANBRkzMzL"
      ],
      "include_colab_link": true
    },
    "kernelspec": {
      "name": "python3",
      "display_name": "Python 3"
    },
    "language_info": {
      "name": "python"
    }
  },
  "cells": [
    {
      "cell_type": "markdown",
      "metadata": {
        "id": "view-in-github",
        "colab_type": "text"
      },
      "source": [
        "<a href=\"https://colab.research.google.com/github/Rogerio-mack/Analise-de-Dados/blob/main/EDA_T6_Pandas_Transformacoes.ipynb\" target=\"_parent\"><img src=\"https://colab.research.google.com/assets/colab-badge.svg\" alt=\"Open In Colab\"/></a>"
      ]
    },
    {
      "cell_type": "markdown",
      "metadata": {
        "id": "qCmfjAlPK-7b"
      },
      "source": [
        "<head>\n",
        "  <meta name=\"author\" content=\"Orlando Yesid Esparza Albarracin\">\n",
        "  <meta institution=\"author\" content=\"Universidade Presbiteriana Mackenzie\">\n",
        "</head>\n",
        "\n",
        "<img src=\"http://meusite.mackenzie.br/rogerio/mackenzie_logo/UPM.2_horizontal_vermelho.jpg\" width=300, align=\"right\">"
      ]
    },
    {
      "cell_type": "markdown",
      "metadata": {
        "id": "2RDyLZqSfOut"
      },
      "source": [
        "# Pandas Transformações"
      ]
    },
    {
      "cell_type": "code",
      "metadata": {
        "id": "xPHvqCVCip5s"
      },
      "source": [
        "import pandas as pd\n",
        "import numpy as np"
      ],
      "execution_count": null,
      "outputs": []
    },
    {
      "cell_type": "markdown",
      "metadata": {
        "id": "jfSiasH1BbQ8"
      },
      "source": [
        "# Função: Concat"
      ]
    },
    {
      "cell_type": "markdown",
      "metadata": {
        "id": "yAP31cWHLhEk"
      },
      "source": [
        "Podemos usar a função `concat` da biblioteca `Pandas` para concatenar ou unir duas bases de dados (DataFrames ou Series).\n",
        "\n",
        "<img src=\"http://www.orlandoalbarracin.com.br/phyton/concat.png\" width=750, align=\"center\">\n",
        "\n",
        "```\n",
        "pd.concat([df1, df2] ,axis= ,join=' ',keys=[\" \", \" \"])\n",
        "```\n",
        "\n"
      ]
    },
    {
      "cell_type": "markdown",
      "metadata": {
        "id": "jcXRZmabO6u_"
      },
      "source": [
        "### Exemplo"
      ]
    },
    {
      "cell_type": "code",
      "metadata": {
        "id": "GYWSvY_h6kNn"
      },
      "source": [
        "# Informações qualidade do ar (PM 2.5 - material particulado) de duas cidades A e B no mês de março de 2020.\n",
        "\n",
        "dfA = pd.DataFrame({\n",
        "                    'Dia':['01/03/2020','02/03/2020', '03/03/2020', '04/03/2020'], \n",
        "               'Min': [6,7,10,4],\n",
        "                 'Max': [104,111,116,143]}) \n",
        "\n",
        "dfB = pd.DataFrame({\n",
        "                    'Dia':['01/03/2020','02/03/2020', '03/03/2020', '04/03/2020' ,'05/03/2020'], \n",
        "               'Min': [9,8,4,6,9],\n",
        "               'Média': [60,76,70,65,57],\n",
        "                 'Max': [90,94,102,100,106]})"
      ],
      "execution_count": null,
      "outputs": []
    },
    {
      "cell_type": "code",
      "metadata": {
        "colab": {
          "base_uri": "https://localhost:8080/",
          "height": 197
        },
        "id": "EkHNujNDN5HR",
        "outputId": "25260d1c-3af5-460d-e9c2-81f8948b3353"
      },
      "source": [
        "pd.concat([dfA, dfB],axis=1,join='inner',keys=[\"SP\", \"RJ\"])"
      ],
      "execution_count": null,
      "outputs": [
        {
          "output_type": "execute_result",
          "data": {
            "text/html": [
              "<div>\n",
              "<style scoped>\n",
              "    .dataframe tbody tr th:only-of-type {\n",
              "        vertical-align: middle;\n",
              "    }\n",
              "\n",
              "    .dataframe tbody tr th {\n",
              "        vertical-align: top;\n",
              "    }\n",
              "\n",
              "    .dataframe thead tr th {\n",
              "        text-align: left;\n",
              "    }\n",
              "</style>\n",
              "<table border=\"1\" class=\"dataframe\">\n",
              "  <thead>\n",
              "    <tr>\n",
              "      <th></th>\n",
              "      <th colspan=\"3\" halign=\"left\">SP</th>\n",
              "      <th colspan=\"4\" halign=\"left\">RJ</th>\n",
              "    </tr>\n",
              "    <tr>\n",
              "      <th></th>\n",
              "      <th>Dia</th>\n",
              "      <th>Min</th>\n",
              "      <th>Max</th>\n",
              "      <th>Dia</th>\n",
              "      <th>Min</th>\n",
              "      <th>Média</th>\n",
              "      <th>Max</th>\n",
              "    </tr>\n",
              "  </thead>\n",
              "  <tbody>\n",
              "    <tr>\n",
              "      <th>0</th>\n",
              "      <td>01/03/2020</td>\n",
              "      <td>6</td>\n",
              "      <td>104</td>\n",
              "      <td>01/03/2020</td>\n",
              "      <td>9</td>\n",
              "      <td>60</td>\n",
              "      <td>90</td>\n",
              "    </tr>\n",
              "    <tr>\n",
              "      <th>1</th>\n",
              "      <td>02/03/2020</td>\n",
              "      <td>7</td>\n",
              "      <td>111</td>\n",
              "      <td>02/03/2020</td>\n",
              "      <td>8</td>\n",
              "      <td>76</td>\n",
              "      <td>94</td>\n",
              "    </tr>\n",
              "    <tr>\n",
              "      <th>2</th>\n",
              "      <td>03/03/2020</td>\n",
              "      <td>10</td>\n",
              "      <td>116</td>\n",
              "      <td>03/03/2020</td>\n",
              "      <td>4</td>\n",
              "      <td>70</td>\n",
              "      <td>102</td>\n",
              "    </tr>\n",
              "    <tr>\n",
              "      <th>3</th>\n",
              "      <td>04/03/2020</td>\n",
              "      <td>4</td>\n",
              "      <td>143</td>\n",
              "      <td>04/03/2020</td>\n",
              "      <td>6</td>\n",
              "      <td>65</td>\n",
              "      <td>100</td>\n",
              "    </tr>\n",
              "  </tbody>\n",
              "</table>\n",
              "</div>"
            ],
            "text/plain": [
              "           SP                   RJ               \n",
              "          Dia Min  Max         Dia Min Média  Max\n",
              "0  01/03/2020   6  104  01/03/2020   9    60   90\n",
              "1  02/03/2020   7  111  02/03/2020   8    76   94\n",
              "2  03/03/2020  10  116  03/03/2020   4    70  102\n",
              "3  04/03/2020   4  143  04/03/2020   6    65  100"
            ]
          },
          "metadata": {
            "tags": []
          },
          "execution_count": 212
        }
      ]
    },
    {
      "cell_type": "code",
      "metadata": {
        "colab": {
          "base_uri": "https://localhost:8080/",
          "height": 227
        },
        "id": "j1rJmh-MF9nW",
        "outputId": "fdc42e93-3187-4dc2-85b2-dd08e8d1b7ed"
      },
      "source": [
        "pd.concat([dfA, dfB],axis=1,join='outer',keys=[\"SP\", \"RJ\"])"
      ],
      "execution_count": null,
      "outputs": [
        {
          "output_type": "execute_result",
          "data": {
            "text/html": [
              "<div>\n",
              "<style scoped>\n",
              "    .dataframe tbody tr th:only-of-type {\n",
              "        vertical-align: middle;\n",
              "    }\n",
              "\n",
              "    .dataframe tbody tr th {\n",
              "        vertical-align: top;\n",
              "    }\n",
              "\n",
              "    .dataframe thead tr th {\n",
              "        text-align: left;\n",
              "    }\n",
              "</style>\n",
              "<table border=\"1\" class=\"dataframe\">\n",
              "  <thead>\n",
              "    <tr>\n",
              "      <th></th>\n",
              "      <th colspan=\"3\" halign=\"left\">SP</th>\n",
              "      <th colspan=\"4\" halign=\"left\">RJ</th>\n",
              "    </tr>\n",
              "    <tr>\n",
              "      <th></th>\n",
              "      <th>Dia</th>\n",
              "      <th>Min</th>\n",
              "      <th>Max</th>\n",
              "      <th>Dia</th>\n",
              "      <th>Min</th>\n",
              "      <th>Média</th>\n",
              "      <th>Max</th>\n",
              "    </tr>\n",
              "  </thead>\n",
              "  <tbody>\n",
              "    <tr>\n",
              "      <th>0</th>\n",
              "      <td>01/03/2020</td>\n",
              "      <td>6.0</td>\n",
              "      <td>104.0</td>\n",
              "      <td>01/03/2020</td>\n",
              "      <td>9</td>\n",
              "      <td>60</td>\n",
              "      <td>90</td>\n",
              "    </tr>\n",
              "    <tr>\n",
              "      <th>1</th>\n",
              "      <td>02/03/2020</td>\n",
              "      <td>7.0</td>\n",
              "      <td>111.0</td>\n",
              "      <td>02/03/2020</td>\n",
              "      <td>8</td>\n",
              "      <td>76</td>\n",
              "      <td>94</td>\n",
              "    </tr>\n",
              "    <tr>\n",
              "      <th>2</th>\n",
              "      <td>03/03/2020</td>\n",
              "      <td>10.0</td>\n",
              "      <td>116.0</td>\n",
              "      <td>03/03/2020</td>\n",
              "      <td>4</td>\n",
              "      <td>70</td>\n",
              "      <td>102</td>\n",
              "    </tr>\n",
              "    <tr>\n",
              "      <th>3</th>\n",
              "      <td>04/03/2020</td>\n",
              "      <td>4.0</td>\n",
              "      <td>143.0</td>\n",
              "      <td>04/03/2020</td>\n",
              "      <td>6</td>\n",
              "      <td>65</td>\n",
              "      <td>100</td>\n",
              "    </tr>\n",
              "    <tr>\n",
              "      <th>4</th>\n",
              "      <td>NaN</td>\n",
              "      <td>NaN</td>\n",
              "      <td>NaN</td>\n",
              "      <td>05/03/2020</td>\n",
              "      <td>9</td>\n",
              "      <td>57</td>\n",
              "      <td>106</td>\n",
              "    </tr>\n",
              "  </tbody>\n",
              "</table>\n",
              "</div>"
            ],
            "text/plain": [
              "           SP                       RJ               \n",
              "          Dia   Min    Max         Dia Min Média  Max\n",
              "0  01/03/2020   6.0  104.0  01/03/2020   9    60   90\n",
              "1  02/03/2020   7.0  111.0  02/03/2020   8    76   94\n",
              "2  03/03/2020  10.0  116.0  03/03/2020   4    70  102\n",
              "3  04/03/2020   4.0  143.0  04/03/2020   6    65  100\n",
              "4         NaN   NaN    NaN  05/03/2020   9    57  106"
            ]
          },
          "metadata": {
            "tags": []
          },
          "execution_count": 213
        }
      ]
    },
    {
      "cell_type": "code",
      "metadata": {
        "colab": {
          "base_uri": "https://localhost:8080/",
          "height": 317
        },
        "id": "HgOeVdT2GJQj",
        "outputId": "e28ed0d3-68f3-4396-d724-38b72890b36c"
      },
      "source": [
        "pd.concat([dfA, dfB],axis=0,join='inner',keys=[\"SP\", \"RJ\"])"
      ],
      "execution_count": null,
      "outputs": [
        {
          "output_type": "execute_result",
          "data": {
            "text/html": [
              "<div>\n",
              "<style scoped>\n",
              "    .dataframe tbody tr th:only-of-type {\n",
              "        vertical-align: middle;\n",
              "    }\n",
              "\n",
              "    .dataframe tbody tr th {\n",
              "        vertical-align: top;\n",
              "    }\n",
              "\n",
              "    .dataframe thead th {\n",
              "        text-align: right;\n",
              "    }\n",
              "</style>\n",
              "<table border=\"1\" class=\"dataframe\">\n",
              "  <thead>\n",
              "    <tr style=\"text-align: right;\">\n",
              "      <th></th>\n",
              "      <th></th>\n",
              "      <th>Dia</th>\n",
              "      <th>Min</th>\n",
              "      <th>Max</th>\n",
              "    </tr>\n",
              "  </thead>\n",
              "  <tbody>\n",
              "    <tr>\n",
              "      <th rowspan=\"4\" valign=\"top\">SP</th>\n",
              "      <th>0</th>\n",
              "      <td>01/03/2020</td>\n",
              "      <td>6</td>\n",
              "      <td>104</td>\n",
              "    </tr>\n",
              "    <tr>\n",
              "      <th>1</th>\n",
              "      <td>02/03/2020</td>\n",
              "      <td>7</td>\n",
              "      <td>111</td>\n",
              "    </tr>\n",
              "    <tr>\n",
              "      <th>2</th>\n",
              "      <td>03/03/2020</td>\n",
              "      <td>10</td>\n",
              "      <td>116</td>\n",
              "    </tr>\n",
              "    <tr>\n",
              "      <th>3</th>\n",
              "      <td>04/03/2020</td>\n",
              "      <td>4</td>\n",
              "      <td>143</td>\n",
              "    </tr>\n",
              "    <tr>\n",
              "      <th rowspan=\"5\" valign=\"top\">RJ</th>\n",
              "      <th>0</th>\n",
              "      <td>01/03/2020</td>\n",
              "      <td>9</td>\n",
              "      <td>90</td>\n",
              "    </tr>\n",
              "    <tr>\n",
              "      <th>1</th>\n",
              "      <td>02/03/2020</td>\n",
              "      <td>8</td>\n",
              "      <td>94</td>\n",
              "    </tr>\n",
              "    <tr>\n",
              "      <th>2</th>\n",
              "      <td>03/03/2020</td>\n",
              "      <td>4</td>\n",
              "      <td>102</td>\n",
              "    </tr>\n",
              "    <tr>\n",
              "      <th>3</th>\n",
              "      <td>04/03/2020</td>\n",
              "      <td>6</td>\n",
              "      <td>100</td>\n",
              "    </tr>\n",
              "    <tr>\n",
              "      <th>4</th>\n",
              "      <td>05/03/2020</td>\n",
              "      <td>9</td>\n",
              "      <td>106</td>\n",
              "    </tr>\n",
              "  </tbody>\n",
              "</table>\n",
              "</div>"
            ],
            "text/plain": [
              "             Dia  Min  Max\n",
              "SP 0  01/03/2020    6  104\n",
              "   1  02/03/2020    7  111\n",
              "   2  03/03/2020   10  116\n",
              "   3  04/03/2020    4  143\n",
              "RJ 0  01/03/2020    9   90\n",
              "   1  02/03/2020    8   94\n",
              "   2  03/03/2020    4  102\n",
              "   3  04/03/2020    6  100\n",
              "   4  05/03/2020    9  106"
            ]
          },
          "metadata": {
            "tags": []
          },
          "execution_count": 214
        }
      ]
    },
    {
      "cell_type": "code",
      "metadata": {
        "colab": {
          "base_uri": "https://localhost:8080/",
          "height": 317
        },
        "id": "mr_BUtHpOZOX",
        "outputId": "9bb89614-b6a6-4c3d-c1e6-fcc8c7a0f5f2"
      },
      "source": [
        "pd.concat([dfA, dfB],axis=0,join='outer',keys=[\"SP\", \"RJ\"])"
      ],
      "execution_count": null,
      "outputs": [
        {
          "output_type": "execute_result",
          "data": {
            "text/html": [
              "<div>\n",
              "<style scoped>\n",
              "    .dataframe tbody tr th:only-of-type {\n",
              "        vertical-align: middle;\n",
              "    }\n",
              "\n",
              "    .dataframe tbody tr th {\n",
              "        vertical-align: top;\n",
              "    }\n",
              "\n",
              "    .dataframe thead th {\n",
              "        text-align: right;\n",
              "    }\n",
              "</style>\n",
              "<table border=\"1\" class=\"dataframe\">\n",
              "  <thead>\n",
              "    <tr style=\"text-align: right;\">\n",
              "      <th></th>\n",
              "      <th></th>\n",
              "      <th>Dia</th>\n",
              "      <th>Min</th>\n",
              "      <th>Max</th>\n",
              "      <th>Média</th>\n",
              "    </tr>\n",
              "  </thead>\n",
              "  <tbody>\n",
              "    <tr>\n",
              "      <th rowspan=\"4\" valign=\"top\">SP</th>\n",
              "      <th>0</th>\n",
              "      <td>01/03/2020</td>\n",
              "      <td>6</td>\n",
              "      <td>104</td>\n",
              "      <td>NaN</td>\n",
              "    </tr>\n",
              "    <tr>\n",
              "      <th>1</th>\n",
              "      <td>02/03/2020</td>\n",
              "      <td>7</td>\n",
              "      <td>111</td>\n",
              "      <td>NaN</td>\n",
              "    </tr>\n",
              "    <tr>\n",
              "      <th>2</th>\n",
              "      <td>03/03/2020</td>\n",
              "      <td>10</td>\n",
              "      <td>116</td>\n",
              "      <td>NaN</td>\n",
              "    </tr>\n",
              "    <tr>\n",
              "      <th>3</th>\n",
              "      <td>04/03/2020</td>\n",
              "      <td>4</td>\n",
              "      <td>143</td>\n",
              "      <td>NaN</td>\n",
              "    </tr>\n",
              "    <tr>\n",
              "      <th rowspan=\"5\" valign=\"top\">RJ</th>\n",
              "      <th>0</th>\n",
              "      <td>01/03/2020</td>\n",
              "      <td>9</td>\n",
              "      <td>90</td>\n",
              "      <td>60.0</td>\n",
              "    </tr>\n",
              "    <tr>\n",
              "      <th>1</th>\n",
              "      <td>02/03/2020</td>\n",
              "      <td>8</td>\n",
              "      <td>94</td>\n",
              "      <td>76.0</td>\n",
              "    </tr>\n",
              "    <tr>\n",
              "      <th>2</th>\n",
              "      <td>03/03/2020</td>\n",
              "      <td>4</td>\n",
              "      <td>102</td>\n",
              "      <td>70.0</td>\n",
              "    </tr>\n",
              "    <tr>\n",
              "      <th>3</th>\n",
              "      <td>04/03/2020</td>\n",
              "      <td>6</td>\n",
              "      <td>100</td>\n",
              "      <td>65.0</td>\n",
              "    </tr>\n",
              "    <tr>\n",
              "      <th>4</th>\n",
              "      <td>05/03/2020</td>\n",
              "      <td>9</td>\n",
              "      <td>106</td>\n",
              "      <td>57.0</td>\n",
              "    </tr>\n",
              "  </tbody>\n",
              "</table>\n",
              "</div>"
            ],
            "text/plain": [
              "             Dia  Min  Max  Média\n",
              "SP 0  01/03/2020    6  104    NaN\n",
              "   1  02/03/2020    7  111    NaN\n",
              "   2  03/03/2020   10  116    NaN\n",
              "   3  04/03/2020    4  143    NaN\n",
              "RJ 0  01/03/2020    9   90   60.0\n",
              "   1  02/03/2020    8   94   76.0\n",
              "   2  03/03/2020    4  102   70.0\n",
              "   3  04/03/2020    6  100   65.0\n",
              "   4  05/03/2020    9  106   57.0"
            ]
          },
          "metadata": {
            "tags": []
          },
          "execution_count": 237
        }
      ]
    },
    {
      "cell_type": "markdown",
      "metadata": {
        "id": "yoP6_Wpm4DIb"
      },
      "source": [
        "# Função: Merge\n",
        "\n"
      ]
    },
    {
      "cell_type": "markdown",
      "metadata": {
        "id": "w3D3UePl644Q"
      },
      "source": [
        "Podemos usar a função `merge` da biblioteca `Pandas` para concatenar ou unir duas bases de dados (DataFrames ou Series).\n",
        "\n",
        "\n",
        "<img src=\"http://www.orlandoalbarracin.com.br/phyton/merge.png\" width=850, align=\"center\">\n",
        "\n",
        "**Exemplo (Tabela 1)**: pd.merge(df1,df2, how='inner', on='A')\n",
        "\n",
        "\n",
        "```\n",
        "pd.merge(df1,df2, how=' ', on=' ', suffixes='')\n",
        "```\n",
        "\n"
      ]
    },
    {
      "cell_type": "markdown",
      "metadata": {
        "id": "eDnXNiTM95Cy"
      },
      "source": [
        "### Exemplo 1"
      ]
    },
    {
      "cell_type": "code",
      "metadata": {
        "id": "HOLsOx_l4DZS"
      },
      "source": [
        "# Informações de cidadãos \n",
        "\n",
        "df_1 = pd.DataFrame({'Nomes': ['André', 'Samuel', 'Antônio', 'Andrea'],\n",
        "                    'telefone': [3162, 3112, 3004, 2410]})\n",
        "df_2 = pd.DataFrame({'Nomes': ['Sergio', 'Samuel', 'Maria', 'Andrea'],\n",
        "                    'Infração de trânsito': [\"sim\", \"não\", \"não\", \"sim\"]})"
      ],
      "execution_count": null,
      "outputs": []
    },
    {
      "cell_type": "markdown",
      "metadata": {
        "id": "BHvZZlciuQ3T"
      },
      "source": [
        "#### Inner\n",
        "Interseção dos *DataFrames* usando como referência as chaves definidas em `on`."
      ]
    },
    {
      "cell_type": "code",
      "metadata": {
        "colab": {
          "base_uri": "https://localhost:8080/",
          "height": 107
        },
        "id": "GX64kHcj4n6Z",
        "outputId": "7eb9c67e-3b78-4d1e-811b-f5b492a581a0"
      },
      "source": [
        "pd.merge(df_1,df_2, how='inner', on='Nomes')"
      ],
      "execution_count": null,
      "outputs": [
        {
          "output_type": "execute_result",
          "data": {
            "text/html": [
              "<div>\n",
              "<style scoped>\n",
              "    .dataframe tbody tr th:only-of-type {\n",
              "        vertical-align: middle;\n",
              "    }\n",
              "\n",
              "    .dataframe tbody tr th {\n",
              "        vertical-align: top;\n",
              "    }\n",
              "\n",
              "    .dataframe thead th {\n",
              "        text-align: right;\n",
              "    }\n",
              "</style>\n",
              "<table border=\"1\" class=\"dataframe\">\n",
              "  <thead>\n",
              "    <tr style=\"text-align: right;\">\n",
              "      <th></th>\n",
              "      <th>Nomes</th>\n",
              "      <th>telefone</th>\n",
              "      <th>Infração de trânsito</th>\n",
              "    </tr>\n",
              "  </thead>\n",
              "  <tbody>\n",
              "    <tr>\n",
              "      <th>0</th>\n",
              "      <td>Samuel</td>\n",
              "      <td>3112</td>\n",
              "      <td>não</td>\n",
              "    </tr>\n",
              "    <tr>\n",
              "      <th>1</th>\n",
              "      <td>Andrea</td>\n",
              "      <td>2410</td>\n",
              "      <td>sim</td>\n",
              "    </tr>\n",
              "  </tbody>\n",
              "</table>\n",
              "</div>"
            ],
            "text/plain": [
              "    Nomes  telefone Infração de trânsito\n",
              "0  Samuel      3112                  não\n",
              "1  Andrea      2410                  sim"
            ]
          },
          "metadata": {
            "tags": []
          },
          "execution_count": 217
        }
      ]
    },
    {
      "cell_type": "markdown",
      "metadata": {
        "id": "6megUGGUuUkR"
      },
      "source": [
        "#### Outer\n",
        "União dos *DataFrames* usando como referência as chaves definidas em `on`."
      ]
    },
    {
      "cell_type": "code",
      "metadata": {
        "colab": {
          "base_uri": "https://localhost:8080/",
          "height": 227
        },
        "id": "zbXK3xro7mih",
        "outputId": "70c3c302-039a-4d73-cd0e-1cdcfc9dfb89"
      },
      "source": [
        "pd.merge(df_1,df_2, how='outer', on='Nomes')"
      ],
      "execution_count": null,
      "outputs": [
        {
          "output_type": "execute_result",
          "data": {
            "text/html": [
              "<div>\n",
              "<style scoped>\n",
              "    .dataframe tbody tr th:only-of-type {\n",
              "        vertical-align: middle;\n",
              "    }\n",
              "\n",
              "    .dataframe tbody tr th {\n",
              "        vertical-align: top;\n",
              "    }\n",
              "\n",
              "    .dataframe thead th {\n",
              "        text-align: right;\n",
              "    }\n",
              "</style>\n",
              "<table border=\"1\" class=\"dataframe\">\n",
              "  <thead>\n",
              "    <tr style=\"text-align: right;\">\n",
              "      <th></th>\n",
              "      <th>Nomes</th>\n",
              "      <th>telefone</th>\n",
              "      <th>Infração de trânsito</th>\n",
              "    </tr>\n",
              "  </thead>\n",
              "  <tbody>\n",
              "    <tr>\n",
              "      <th>0</th>\n",
              "      <td>André</td>\n",
              "      <td>3162.0</td>\n",
              "      <td>NaN</td>\n",
              "    </tr>\n",
              "    <tr>\n",
              "      <th>1</th>\n",
              "      <td>Samuel</td>\n",
              "      <td>3112.0</td>\n",
              "      <td>não</td>\n",
              "    </tr>\n",
              "    <tr>\n",
              "      <th>2</th>\n",
              "      <td>Antônio</td>\n",
              "      <td>3004.0</td>\n",
              "      <td>NaN</td>\n",
              "    </tr>\n",
              "    <tr>\n",
              "      <th>3</th>\n",
              "      <td>Andrea</td>\n",
              "      <td>2410.0</td>\n",
              "      <td>sim</td>\n",
              "    </tr>\n",
              "    <tr>\n",
              "      <th>4</th>\n",
              "      <td>Sergio</td>\n",
              "      <td>NaN</td>\n",
              "      <td>sim</td>\n",
              "    </tr>\n",
              "    <tr>\n",
              "      <th>5</th>\n",
              "      <td>Maria</td>\n",
              "      <td>NaN</td>\n",
              "      <td>não</td>\n",
              "    </tr>\n",
              "  </tbody>\n",
              "</table>\n",
              "</div>"
            ],
            "text/plain": [
              "     Nomes  telefone Infração de trânsito\n",
              "0    André    3162.0                  NaN\n",
              "1   Samuel    3112.0                  não\n",
              "2  Antônio    3004.0                  NaN\n",
              "3   Andrea    2410.0                  sim\n",
              "4   Sergio       NaN                  sim\n",
              "5    Maria       NaN                  não"
            ]
          },
          "metadata": {
            "tags": []
          },
          "execution_count": 219
        }
      ]
    },
    {
      "cell_type": "markdown",
      "metadata": {
        "id": "t0RJLALxucWQ"
      },
      "source": [
        "#### Left\n",
        "União dos *DataFrames* considerando somemente os valores das chaves definidas em `on` do primeiro *DataFrames* (esquerda)."
      ]
    },
    {
      "cell_type": "code",
      "metadata": {
        "colab": {
          "base_uri": "https://localhost:8080/",
          "height": 167
        },
        "id": "-p7vNBLN8xiM",
        "outputId": "ae3777e2-c066-4494-934c-1ee3b2119831"
      },
      "source": [
        "pd.merge(df_1,df_2, how='left', on='Nomes' )"
      ],
      "execution_count": null,
      "outputs": [
        {
          "output_type": "execute_result",
          "data": {
            "text/html": [
              "<div>\n",
              "<style scoped>\n",
              "    .dataframe tbody tr th:only-of-type {\n",
              "        vertical-align: middle;\n",
              "    }\n",
              "\n",
              "    .dataframe tbody tr th {\n",
              "        vertical-align: top;\n",
              "    }\n",
              "\n",
              "    .dataframe thead th {\n",
              "        text-align: right;\n",
              "    }\n",
              "</style>\n",
              "<table border=\"1\" class=\"dataframe\">\n",
              "  <thead>\n",
              "    <tr style=\"text-align: right;\">\n",
              "      <th></th>\n",
              "      <th>Nomes</th>\n",
              "      <th>telefone</th>\n",
              "      <th>Infração de trânsito</th>\n",
              "    </tr>\n",
              "  </thead>\n",
              "  <tbody>\n",
              "    <tr>\n",
              "      <th>0</th>\n",
              "      <td>André</td>\n",
              "      <td>3162</td>\n",
              "      <td>NaN</td>\n",
              "    </tr>\n",
              "    <tr>\n",
              "      <th>1</th>\n",
              "      <td>Samuel</td>\n",
              "      <td>3112</td>\n",
              "      <td>não</td>\n",
              "    </tr>\n",
              "    <tr>\n",
              "      <th>2</th>\n",
              "      <td>Antônio</td>\n",
              "      <td>3004</td>\n",
              "      <td>NaN</td>\n",
              "    </tr>\n",
              "    <tr>\n",
              "      <th>3</th>\n",
              "      <td>Andrea</td>\n",
              "      <td>2410</td>\n",
              "      <td>sim</td>\n",
              "    </tr>\n",
              "  </tbody>\n",
              "</table>\n",
              "</div>"
            ],
            "text/plain": [
              "     Nomes  telefone Infração de trânsito\n",
              "0    André      3162                  NaN\n",
              "1   Samuel      3112                  não\n",
              "2  Antônio      3004                  NaN\n",
              "3   Andrea      2410                  sim"
            ]
          },
          "metadata": {
            "tags": []
          },
          "execution_count": 221
        }
      ]
    },
    {
      "cell_type": "markdown",
      "metadata": {
        "id": "1QSDv_Ibufvn"
      },
      "source": [
        "#### Right\n",
        "União dos *DataFrames* considerando somemente os valores das chaves definidas em `on` do segundo *DataFrames* (direita)."
      ]
    },
    {
      "cell_type": "code",
      "metadata": {
        "colab": {
          "base_uri": "https://localhost:8080/",
          "height": 167
        },
        "id": "JTxImDbj81yd",
        "outputId": "433e4f7d-2b04-4425-8f61-ae7044149429"
      },
      "source": [
        "pd.merge(df_1,df_2, how='right', on='Nomes')"
      ],
      "execution_count": null,
      "outputs": [
        {
          "output_type": "execute_result",
          "data": {
            "text/html": [
              "<div>\n",
              "<style scoped>\n",
              "    .dataframe tbody tr th:only-of-type {\n",
              "        vertical-align: middle;\n",
              "    }\n",
              "\n",
              "    .dataframe tbody tr th {\n",
              "        vertical-align: top;\n",
              "    }\n",
              "\n",
              "    .dataframe thead th {\n",
              "        text-align: right;\n",
              "    }\n",
              "</style>\n",
              "<table border=\"1\" class=\"dataframe\">\n",
              "  <thead>\n",
              "    <tr style=\"text-align: right;\">\n",
              "      <th></th>\n",
              "      <th>Nomes</th>\n",
              "      <th>telefone</th>\n",
              "      <th>Infração de trânsito</th>\n",
              "    </tr>\n",
              "  </thead>\n",
              "  <tbody>\n",
              "    <tr>\n",
              "      <th>0</th>\n",
              "      <td>Sergio</td>\n",
              "      <td>NaN</td>\n",
              "      <td>sim</td>\n",
              "    </tr>\n",
              "    <tr>\n",
              "      <th>1</th>\n",
              "      <td>Samuel</td>\n",
              "      <td>3112.0</td>\n",
              "      <td>não</td>\n",
              "    </tr>\n",
              "    <tr>\n",
              "      <th>2</th>\n",
              "      <td>Maria</td>\n",
              "      <td>NaN</td>\n",
              "      <td>não</td>\n",
              "    </tr>\n",
              "    <tr>\n",
              "      <th>3</th>\n",
              "      <td>Andrea</td>\n",
              "      <td>2410.0</td>\n",
              "      <td>sim</td>\n",
              "    </tr>\n",
              "  </tbody>\n",
              "</table>\n",
              "</div>"
            ],
            "text/plain": [
              "    Nomes  telefone Infração de trânsito\n",
              "0  Sergio       NaN                  sim\n",
              "1  Samuel    3112.0                  não\n",
              "2   Maria       NaN                  não\n",
              "3  Andrea    2410.0                  sim"
            ]
          },
          "metadata": {
            "tags": []
          },
          "execution_count": 222
        }
      ]
    },
    {
      "cell_type": "markdown",
      "metadata": {
        "id": "GI2Yujo98JAQ"
      },
      "source": [
        "### Exemplo 2"
      ]
    },
    {
      "cell_type": "code",
      "metadata": {
        "id": "svrfS87s-jki"
      },
      "source": [
        "dft = pd.DataFrame({'id': [1, 2, 3, 4], \n",
        "                        'Cidades': ['SP', 'BH', 'RJ', 'REC'],\n",
        "                    'Temperatura máxima (°C)': [20, 25, 23, 27]})\n",
        "dfu= pd.DataFrame({'id': [1, 2, 3, 4],\n",
        "                          'Cidades': ['SP', 'BH', 'RJ', 'REC'],\n",
        "                          'Umedade do ar(%)': [68, 53, 63, 71]})"
      ],
      "execution_count": null,
      "outputs": []
    },
    {
      "cell_type": "code",
      "metadata": {
        "colab": {
          "base_uri": "https://localhost:8080/",
          "height": 167
        },
        "id": "GtkDhh-O9KgO",
        "outputId": "0802e737-3b08-4cf4-fff5-b3690f800068"
      },
      "source": [
        "pd.merge(dft,dfu,how=\"outer\",on=[\"id\",\"Cidades\"])"
      ],
      "execution_count": null,
      "outputs": [
        {
          "output_type": "execute_result",
          "data": {
            "text/html": [
              "<div>\n",
              "<style scoped>\n",
              "    .dataframe tbody tr th:only-of-type {\n",
              "        vertical-align: middle;\n",
              "    }\n",
              "\n",
              "    .dataframe tbody tr th {\n",
              "        vertical-align: top;\n",
              "    }\n",
              "\n",
              "    .dataframe thead th {\n",
              "        text-align: right;\n",
              "    }\n",
              "</style>\n",
              "<table border=\"1\" class=\"dataframe\">\n",
              "  <thead>\n",
              "    <tr style=\"text-align: right;\">\n",
              "      <th></th>\n",
              "      <th>id</th>\n",
              "      <th>Cidades</th>\n",
              "      <th>Temperatura máxima (°C)</th>\n",
              "      <th>Umedade do ar(%)</th>\n",
              "    </tr>\n",
              "  </thead>\n",
              "  <tbody>\n",
              "    <tr>\n",
              "      <th>0</th>\n",
              "      <td>1</td>\n",
              "      <td>SP</td>\n",
              "      <td>20</td>\n",
              "      <td>68</td>\n",
              "    </tr>\n",
              "    <tr>\n",
              "      <th>1</th>\n",
              "      <td>2</td>\n",
              "      <td>BH</td>\n",
              "      <td>25</td>\n",
              "      <td>53</td>\n",
              "    </tr>\n",
              "    <tr>\n",
              "      <th>2</th>\n",
              "      <td>3</td>\n",
              "      <td>RJ</td>\n",
              "      <td>23</td>\n",
              "      <td>63</td>\n",
              "    </tr>\n",
              "    <tr>\n",
              "      <th>3</th>\n",
              "      <td>4</td>\n",
              "      <td>REC</td>\n",
              "      <td>27</td>\n",
              "      <td>71</td>\n",
              "    </tr>\n",
              "  </tbody>\n",
              "</table>\n",
              "</div>"
            ],
            "text/plain": [
              "   id Cidades  Temperatura máxima (°C)  Umedade do ar(%)\n",
              "0   1      SP                       20                68\n",
              "1   2      BH                       25                53\n",
              "2   3      RJ                       23                63\n",
              "3   4     REC                       27                71"
            ]
          },
          "metadata": {
            "tags": []
          },
          "execution_count": 224
        }
      ]
    },
    {
      "cell_type": "markdown",
      "metadata": {
        "id": "fljKL97g-Krl"
      },
      "source": [
        "### Exemplo 3"
      ]
    },
    {
      "cell_type": "code",
      "metadata": {
        "id": "LsgU4B63-J42"
      },
      "source": [
        "# dfh (Valores de hoje); dfo (valores de ontem)\n",
        "\n",
        "dfh = pd.DataFrame({ 'Cidades': ['BH','SP', 'RJ', 'REC','DF'],\n",
        "                    'Temp média(°C)': [20, 25, 23, 27,25]})\n",
        "dfo= pd.DataFrame({'Cidades': ['SP', 'BH', 'RJ', 'REC'],\n",
        "                          'Temp média(°C)': [23, 24, 26, 26]})"
      ],
      "execution_count": null,
      "outputs": []
    },
    {
      "cell_type": "code",
      "metadata": {
        "colab": {
          "base_uri": "https://localhost:8080/",
          "height": 197
        },
        "id": "4nAvx5UI9hh5",
        "outputId": "f50467e0-1073-4fd7-bfec-a8910e996dd4"
      },
      "source": [
        "pd.merge(dfh,dfo,how=\"outer\",on=[\"Cidades\"],suffixes=(\"_hoje\",\"_ontem\") )"
      ],
      "execution_count": null,
      "outputs": [
        {
          "output_type": "execute_result",
          "data": {
            "text/html": [
              "<div>\n",
              "<style scoped>\n",
              "    .dataframe tbody tr th:only-of-type {\n",
              "        vertical-align: middle;\n",
              "    }\n",
              "\n",
              "    .dataframe tbody tr th {\n",
              "        vertical-align: top;\n",
              "    }\n",
              "\n",
              "    .dataframe thead th {\n",
              "        text-align: right;\n",
              "    }\n",
              "</style>\n",
              "<table border=\"1\" class=\"dataframe\">\n",
              "  <thead>\n",
              "    <tr style=\"text-align: right;\">\n",
              "      <th></th>\n",
              "      <th>Cidades</th>\n",
              "      <th>Temp média(°C)_hoje</th>\n",
              "      <th>Temp média(°C)_ontem</th>\n",
              "    </tr>\n",
              "  </thead>\n",
              "  <tbody>\n",
              "    <tr>\n",
              "      <th>0</th>\n",
              "      <td>BH</td>\n",
              "      <td>20</td>\n",
              "      <td>24.0</td>\n",
              "    </tr>\n",
              "    <tr>\n",
              "      <th>1</th>\n",
              "      <td>SP</td>\n",
              "      <td>25</td>\n",
              "      <td>23.0</td>\n",
              "    </tr>\n",
              "    <tr>\n",
              "      <th>2</th>\n",
              "      <td>RJ</td>\n",
              "      <td>23</td>\n",
              "      <td>26.0</td>\n",
              "    </tr>\n",
              "    <tr>\n",
              "      <th>3</th>\n",
              "      <td>REC</td>\n",
              "      <td>27</td>\n",
              "      <td>26.0</td>\n",
              "    </tr>\n",
              "    <tr>\n",
              "      <th>4</th>\n",
              "      <td>DF</td>\n",
              "      <td>25</td>\n",
              "      <td>NaN</td>\n",
              "    </tr>\n",
              "  </tbody>\n",
              "</table>\n",
              "</div>"
            ],
            "text/plain": [
              "  Cidades  Temp média(°C)_hoje  Temp média(°C)_ontem\n",
              "0      BH                   20                  24.0\n",
              "1      SP                   25                  23.0\n",
              "2      RJ                   23                  26.0\n",
              "3     REC                   27                  26.0\n",
              "4      DF                   25                   NaN"
            ]
          },
          "metadata": {
            "tags": []
          },
          "execution_count": 226
        }
      ]
    },
    {
      "cell_type": "markdown",
      "metadata": {
        "id": "-ThJxeSQXQBR"
      },
      "source": [
        "# Função Melt"
      ]
    },
    {
      "cell_type": "markdown",
      "metadata": {
        "id": "ziu2xrW1DEq3"
      },
      "source": [
        "Podemos usar a função `melt` da biblioteca `Pandas` para reorganizar nossa base de dados.\n",
        "\n",
        "<img src=\"http://www.orlandoalbarracin.com.br/phyton/melt2.png\" width=650, align=\"center\"> \n",
        "\n",
        "```\n",
        "objeto.melt(id_vars=[\"chave_1\",...,\"chave_n\"], value_vars=[\"var 1\",..., \" var j\"], var_name=\" \", value_name=\" \")\n",
        "```\n",
        "Nota: Se não for especificado `value_vars`, consideram-se todas as variáveis (colunas) que não foram consideradas em `id_vars`."
      ]
    },
    {
      "cell_type": "markdown",
      "metadata": {
        "id": "H9_TwGTu6w3_"
      },
      "source": [
        "### Exemplo"
      ]
    },
    {
      "cell_type": "code",
      "metadata": {
        "colab": {
          "base_uri": "https://localhost:8080/",
          "height": 287
        },
        "id": "IZ8yW97j7MQe",
        "outputId": "5f1c5f41-3ede-48cf-8207-56d7abcd2aaf"
      },
      "source": [
        "# Exemplo: preços médios, em mil reais, de imóveis, segundo sua localização (zona e cidade) e seus metros quadrados (30,35,..,250)\n",
        "dfi = pd.DataFrame(\n",
        "{\"Zona\": [\"Central\", \"Norte\", \"Sul\", \"Leste\",\"Central\", \"Norte\", \"Sul\", \"Leste\"],\n",
        " \"cidade\":[\"c1\",\"c1\",\"c1\",\"c1\",\"c2\" ,\"c2\",\"c2\",\"c2\"],  \n",
        "   \"30\": [400, 300, 500, 250,320,280,430,201],  \n",
        "   \"35\": [460, 360, 615, 305,330,250,450,400],  \n",
        "   \"45\": [540, 420, 675, 420,400,390,600,370],  \n",
        "   \"55\": [620, 530, 760,490,500,440,800,700],  \n",
        "   \"100\":[800, 690, 930, 600,750,600,920,920], \n",
        "   \"250\":[1500,1050,1950,920,1300,970,2100,2120],  \n",
        "  })\n",
        "dfi"
      ],
      "execution_count": null,
      "outputs": [
        {
          "output_type": "execute_result",
          "data": {
            "text/html": [
              "<div>\n",
              "<style scoped>\n",
              "    .dataframe tbody tr th:only-of-type {\n",
              "        vertical-align: middle;\n",
              "    }\n",
              "\n",
              "    .dataframe tbody tr th {\n",
              "        vertical-align: top;\n",
              "    }\n",
              "\n",
              "    .dataframe thead th {\n",
              "        text-align: right;\n",
              "    }\n",
              "</style>\n",
              "<table border=\"1\" class=\"dataframe\">\n",
              "  <thead>\n",
              "    <tr style=\"text-align: right;\">\n",
              "      <th></th>\n",
              "      <th>Zona</th>\n",
              "      <th>cidade</th>\n",
              "      <th>30</th>\n",
              "      <th>35</th>\n",
              "      <th>45</th>\n",
              "      <th>55</th>\n",
              "      <th>100</th>\n",
              "      <th>250</th>\n",
              "    </tr>\n",
              "  </thead>\n",
              "  <tbody>\n",
              "    <tr>\n",
              "      <th>0</th>\n",
              "      <td>Central</td>\n",
              "      <td>c1</td>\n",
              "      <td>400</td>\n",
              "      <td>460</td>\n",
              "      <td>540</td>\n",
              "      <td>620</td>\n",
              "      <td>800</td>\n",
              "      <td>1500</td>\n",
              "    </tr>\n",
              "    <tr>\n",
              "      <th>1</th>\n",
              "      <td>Norte</td>\n",
              "      <td>c1</td>\n",
              "      <td>300</td>\n",
              "      <td>360</td>\n",
              "      <td>420</td>\n",
              "      <td>530</td>\n",
              "      <td>690</td>\n",
              "      <td>1050</td>\n",
              "    </tr>\n",
              "    <tr>\n",
              "      <th>2</th>\n",
              "      <td>Sul</td>\n",
              "      <td>c1</td>\n",
              "      <td>500</td>\n",
              "      <td>615</td>\n",
              "      <td>675</td>\n",
              "      <td>760</td>\n",
              "      <td>930</td>\n",
              "      <td>1950</td>\n",
              "    </tr>\n",
              "    <tr>\n",
              "      <th>3</th>\n",
              "      <td>Leste</td>\n",
              "      <td>c1</td>\n",
              "      <td>250</td>\n",
              "      <td>305</td>\n",
              "      <td>420</td>\n",
              "      <td>490</td>\n",
              "      <td>600</td>\n",
              "      <td>920</td>\n",
              "    </tr>\n",
              "    <tr>\n",
              "      <th>4</th>\n",
              "      <td>Central</td>\n",
              "      <td>c2</td>\n",
              "      <td>320</td>\n",
              "      <td>330</td>\n",
              "      <td>400</td>\n",
              "      <td>500</td>\n",
              "      <td>750</td>\n",
              "      <td>1300</td>\n",
              "    </tr>\n",
              "    <tr>\n",
              "      <th>5</th>\n",
              "      <td>Norte</td>\n",
              "      <td>c2</td>\n",
              "      <td>280</td>\n",
              "      <td>250</td>\n",
              "      <td>390</td>\n",
              "      <td>440</td>\n",
              "      <td>600</td>\n",
              "      <td>970</td>\n",
              "    </tr>\n",
              "    <tr>\n",
              "      <th>6</th>\n",
              "      <td>Sul</td>\n",
              "      <td>c2</td>\n",
              "      <td>430</td>\n",
              "      <td>450</td>\n",
              "      <td>600</td>\n",
              "      <td>800</td>\n",
              "      <td>920</td>\n",
              "      <td>2100</td>\n",
              "    </tr>\n",
              "    <tr>\n",
              "      <th>7</th>\n",
              "      <td>Leste</td>\n",
              "      <td>c2</td>\n",
              "      <td>201</td>\n",
              "      <td>400</td>\n",
              "      <td>370</td>\n",
              "      <td>700</td>\n",
              "      <td>920</td>\n",
              "      <td>2120</td>\n",
              "    </tr>\n",
              "  </tbody>\n",
              "</table>\n",
              "</div>"
            ],
            "text/plain": [
              "      Zona cidade   30   35   45   55  100   250\n",
              "0  Central     c1  400  460  540  620  800  1500\n",
              "1    Norte     c1  300  360  420  530  690  1050\n",
              "2      Sul     c1  500  615  675  760  930  1950\n",
              "3    Leste     c1  250  305  420  490  600   920\n",
              "4  Central     c2  320  330  400  500  750  1300\n",
              "5    Norte     c2  280  250  390  440  600   970\n",
              "6      Sul     c2  430  450  600  800  920  2100\n",
              "7    Leste     c2  201  400  370  700  920  2120"
            ]
          },
          "metadata": {
            "tags": []
          },
          "execution_count": 227
        }
      ]
    },
    {
      "cell_type": "markdown",
      "metadata": {
        "id": "TlLCkn140pG0"
      },
      "source": [
        "\n",
        "É necessário reorganizar a base de dados anterior se desejamos, por exemplo, ajustar um modelo de regressão para analisar os preços dos imóveis em função dos metros quadrados e da região em que estão localizados.\n",
        "\n",
        "```\n",
        "Estructura de um modelo de regressão:\n",
        "Preços = b0(Zona) + b1(mt2) + b2(cidade)+ erro, em que b0, b1 e b2 são parâmetros (valores) que devem ser estimados.\n",
        "```\n",
        "Note que é necessário ter colunas com as variáveis: preços, zona, mt2 e cidade. Uma opção para restruturar a base de dados é implementar a função `melt` de `Pandas`"
      ]
    },
    {
      "cell_type": "code",
      "metadata": {
        "colab": {
          "base_uri": "https://localhost:8080/",
          "height": 1000
        },
        "id": "q755BDOkANe-",
        "outputId": "9e3caa5d-d8ec-4430-cff0-88ee4d35606b"
      },
      "source": [
        "# Opção 1\n",
        "dfi.melt(id_vars=[\"Zona\",\"cidade\"],var_name=\"mt2\",value_name=\"preço\")"
      ],
      "execution_count": null,
      "outputs": [
        {
          "output_type": "execute_result",
          "data": {
            "text/html": [
              "<div>\n",
              "<style scoped>\n",
              "    .dataframe tbody tr th:only-of-type {\n",
              "        vertical-align: middle;\n",
              "    }\n",
              "\n",
              "    .dataframe tbody tr th {\n",
              "        vertical-align: top;\n",
              "    }\n",
              "\n",
              "    .dataframe thead th {\n",
              "        text-align: right;\n",
              "    }\n",
              "</style>\n",
              "<table border=\"1\" class=\"dataframe\">\n",
              "  <thead>\n",
              "    <tr style=\"text-align: right;\">\n",
              "      <th></th>\n",
              "      <th>Zona</th>\n",
              "      <th>cidade</th>\n",
              "      <th>mt2</th>\n",
              "      <th>preço</th>\n",
              "    </tr>\n",
              "  </thead>\n",
              "  <tbody>\n",
              "    <tr>\n",
              "      <th>0</th>\n",
              "      <td>Central</td>\n",
              "      <td>c1</td>\n",
              "      <td>30</td>\n",
              "      <td>400</td>\n",
              "    </tr>\n",
              "    <tr>\n",
              "      <th>1</th>\n",
              "      <td>Norte</td>\n",
              "      <td>c1</td>\n",
              "      <td>30</td>\n",
              "      <td>300</td>\n",
              "    </tr>\n",
              "    <tr>\n",
              "      <th>2</th>\n",
              "      <td>Sul</td>\n",
              "      <td>c1</td>\n",
              "      <td>30</td>\n",
              "      <td>500</td>\n",
              "    </tr>\n",
              "    <tr>\n",
              "      <th>3</th>\n",
              "      <td>Leste</td>\n",
              "      <td>c1</td>\n",
              "      <td>30</td>\n",
              "      <td>250</td>\n",
              "    </tr>\n",
              "    <tr>\n",
              "      <th>4</th>\n",
              "      <td>Central</td>\n",
              "      <td>c2</td>\n",
              "      <td>30</td>\n",
              "      <td>320</td>\n",
              "    </tr>\n",
              "    <tr>\n",
              "      <th>5</th>\n",
              "      <td>Norte</td>\n",
              "      <td>c2</td>\n",
              "      <td>30</td>\n",
              "      <td>280</td>\n",
              "    </tr>\n",
              "    <tr>\n",
              "      <th>6</th>\n",
              "      <td>Sul</td>\n",
              "      <td>c2</td>\n",
              "      <td>30</td>\n",
              "      <td>430</td>\n",
              "    </tr>\n",
              "    <tr>\n",
              "      <th>7</th>\n",
              "      <td>Leste</td>\n",
              "      <td>c2</td>\n",
              "      <td>30</td>\n",
              "      <td>201</td>\n",
              "    </tr>\n",
              "    <tr>\n",
              "      <th>8</th>\n",
              "      <td>Central</td>\n",
              "      <td>c1</td>\n",
              "      <td>35</td>\n",
              "      <td>460</td>\n",
              "    </tr>\n",
              "    <tr>\n",
              "      <th>9</th>\n",
              "      <td>Norte</td>\n",
              "      <td>c1</td>\n",
              "      <td>35</td>\n",
              "      <td>360</td>\n",
              "    </tr>\n",
              "    <tr>\n",
              "      <th>10</th>\n",
              "      <td>Sul</td>\n",
              "      <td>c1</td>\n",
              "      <td>35</td>\n",
              "      <td>615</td>\n",
              "    </tr>\n",
              "    <tr>\n",
              "      <th>11</th>\n",
              "      <td>Leste</td>\n",
              "      <td>c1</td>\n",
              "      <td>35</td>\n",
              "      <td>305</td>\n",
              "    </tr>\n",
              "    <tr>\n",
              "      <th>12</th>\n",
              "      <td>Central</td>\n",
              "      <td>c2</td>\n",
              "      <td>35</td>\n",
              "      <td>330</td>\n",
              "    </tr>\n",
              "    <tr>\n",
              "      <th>13</th>\n",
              "      <td>Norte</td>\n",
              "      <td>c2</td>\n",
              "      <td>35</td>\n",
              "      <td>250</td>\n",
              "    </tr>\n",
              "    <tr>\n",
              "      <th>14</th>\n",
              "      <td>Sul</td>\n",
              "      <td>c2</td>\n",
              "      <td>35</td>\n",
              "      <td>450</td>\n",
              "    </tr>\n",
              "    <tr>\n",
              "      <th>15</th>\n",
              "      <td>Leste</td>\n",
              "      <td>c2</td>\n",
              "      <td>35</td>\n",
              "      <td>400</td>\n",
              "    </tr>\n",
              "    <tr>\n",
              "      <th>16</th>\n",
              "      <td>Central</td>\n",
              "      <td>c1</td>\n",
              "      <td>45</td>\n",
              "      <td>540</td>\n",
              "    </tr>\n",
              "    <tr>\n",
              "      <th>17</th>\n",
              "      <td>Norte</td>\n",
              "      <td>c1</td>\n",
              "      <td>45</td>\n",
              "      <td>420</td>\n",
              "    </tr>\n",
              "    <tr>\n",
              "      <th>18</th>\n",
              "      <td>Sul</td>\n",
              "      <td>c1</td>\n",
              "      <td>45</td>\n",
              "      <td>675</td>\n",
              "    </tr>\n",
              "    <tr>\n",
              "      <th>19</th>\n",
              "      <td>Leste</td>\n",
              "      <td>c1</td>\n",
              "      <td>45</td>\n",
              "      <td>420</td>\n",
              "    </tr>\n",
              "    <tr>\n",
              "      <th>20</th>\n",
              "      <td>Central</td>\n",
              "      <td>c2</td>\n",
              "      <td>45</td>\n",
              "      <td>400</td>\n",
              "    </tr>\n",
              "    <tr>\n",
              "      <th>21</th>\n",
              "      <td>Norte</td>\n",
              "      <td>c2</td>\n",
              "      <td>45</td>\n",
              "      <td>390</td>\n",
              "    </tr>\n",
              "    <tr>\n",
              "      <th>22</th>\n",
              "      <td>Sul</td>\n",
              "      <td>c2</td>\n",
              "      <td>45</td>\n",
              "      <td>600</td>\n",
              "    </tr>\n",
              "    <tr>\n",
              "      <th>23</th>\n",
              "      <td>Leste</td>\n",
              "      <td>c2</td>\n",
              "      <td>45</td>\n",
              "      <td>370</td>\n",
              "    </tr>\n",
              "    <tr>\n",
              "      <th>24</th>\n",
              "      <td>Central</td>\n",
              "      <td>c1</td>\n",
              "      <td>55</td>\n",
              "      <td>620</td>\n",
              "    </tr>\n",
              "    <tr>\n",
              "      <th>25</th>\n",
              "      <td>Norte</td>\n",
              "      <td>c1</td>\n",
              "      <td>55</td>\n",
              "      <td>530</td>\n",
              "    </tr>\n",
              "    <tr>\n",
              "      <th>26</th>\n",
              "      <td>Sul</td>\n",
              "      <td>c1</td>\n",
              "      <td>55</td>\n",
              "      <td>760</td>\n",
              "    </tr>\n",
              "    <tr>\n",
              "      <th>27</th>\n",
              "      <td>Leste</td>\n",
              "      <td>c1</td>\n",
              "      <td>55</td>\n",
              "      <td>490</td>\n",
              "    </tr>\n",
              "    <tr>\n",
              "      <th>28</th>\n",
              "      <td>Central</td>\n",
              "      <td>c2</td>\n",
              "      <td>55</td>\n",
              "      <td>500</td>\n",
              "    </tr>\n",
              "    <tr>\n",
              "      <th>29</th>\n",
              "      <td>Norte</td>\n",
              "      <td>c2</td>\n",
              "      <td>55</td>\n",
              "      <td>440</td>\n",
              "    </tr>\n",
              "    <tr>\n",
              "      <th>30</th>\n",
              "      <td>Sul</td>\n",
              "      <td>c2</td>\n",
              "      <td>55</td>\n",
              "      <td>800</td>\n",
              "    </tr>\n",
              "    <tr>\n",
              "      <th>31</th>\n",
              "      <td>Leste</td>\n",
              "      <td>c2</td>\n",
              "      <td>55</td>\n",
              "      <td>700</td>\n",
              "    </tr>\n",
              "    <tr>\n",
              "      <th>32</th>\n",
              "      <td>Central</td>\n",
              "      <td>c1</td>\n",
              "      <td>100</td>\n",
              "      <td>800</td>\n",
              "    </tr>\n",
              "    <tr>\n",
              "      <th>33</th>\n",
              "      <td>Norte</td>\n",
              "      <td>c1</td>\n",
              "      <td>100</td>\n",
              "      <td>690</td>\n",
              "    </tr>\n",
              "    <tr>\n",
              "      <th>34</th>\n",
              "      <td>Sul</td>\n",
              "      <td>c1</td>\n",
              "      <td>100</td>\n",
              "      <td>930</td>\n",
              "    </tr>\n",
              "    <tr>\n",
              "      <th>35</th>\n",
              "      <td>Leste</td>\n",
              "      <td>c1</td>\n",
              "      <td>100</td>\n",
              "      <td>600</td>\n",
              "    </tr>\n",
              "    <tr>\n",
              "      <th>36</th>\n",
              "      <td>Central</td>\n",
              "      <td>c2</td>\n",
              "      <td>100</td>\n",
              "      <td>750</td>\n",
              "    </tr>\n",
              "    <tr>\n",
              "      <th>37</th>\n",
              "      <td>Norte</td>\n",
              "      <td>c2</td>\n",
              "      <td>100</td>\n",
              "      <td>600</td>\n",
              "    </tr>\n",
              "    <tr>\n",
              "      <th>38</th>\n",
              "      <td>Sul</td>\n",
              "      <td>c2</td>\n",
              "      <td>100</td>\n",
              "      <td>920</td>\n",
              "    </tr>\n",
              "    <tr>\n",
              "      <th>39</th>\n",
              "      <td>Leste</td>\n",
              "      <td>c2</td>\n",
              "      <td>100</td>\n",
              "      <td>920</td>\n",
              "    </tr>\n",
              "    <tr>\n",
              "      <th>40</th>\n",
              "      <td>Central</td>\n",
              "      <td>c1</td>\n",
              "      <td>250</td>\n",
              "      <td>1500</td>\n",
              "    </tr>\n",
              "    <tr>\n",
              "      <th>41</th>\n",
              "      <td>Norte</td>\n",
              "      <td>c1</td>\n",
              "      <td>250</td>\n",
              "      <td>1050</td>\n",
              "    </tr>\n",
              "    <tr>\n",
              "      <th>42</th>\n",
              "      <td>Sul</td>\n",
              "      <td>c1</td>\n",
              "      <td>250</td>\n",
              "      <td>1950</td>\n",
              "    </tr>\n",
              "    <tr>\n",
              "      <th>43</th>\n",
              "      <td>Leste</td>\n",
              "      <td>c1</td>\n",
              "      <td>250</td>\n",
              "      <td>920</td>\n",
              "    </tr>\n",
              "    <tr>\n",
              "      <th>44</th>\n",
              "      <td>Central</td>\n",
              "      <td>c2</td>\n",
              "      <td>250</td>\n",
              "      <td>1300</td>\n",
              "    </tr>\n",
              "    <tr>\n",
              "      <th>45</th>\n",
              "      <td>Norte</td>\n",
              "      <td>c2</td>\n",
              "      <td>250</td>\n",
              "      <td>970</td>\n",
              "    </tr>\n",
              "    <tr>\n",
              "      <th>46</th>\n",
              "      <td>Sul</td>\n",
              "      <td>c2</td>\n",
              "      <td>250</td>\n",
              "      <td>2100</td>\n",
              "    </tr>\n",
              "    <tr>\n",
              "      <th>47</th>\n",
              "      <td>Leste</td>\n",
              "      <td>c2</td>\n",
              "      <td>250</td>\n",
              "      <td>2120</td>\n",
              "    </tr>\n",
              "  </tbody>\n",
              "</table>\n",
              "</div>"
            ],
            "text/plain": [
              "       Zona cidade  mt2  preço\n",
              "0   Central     c1   30    400\n",
              "1     Norte     c1   30    300\n",
              "2       Sul     c1   30    500\n",
              "3     Leste     c1   30    250\n",
              "4   Central     c2   30    320\n",
              "5     Norte     c2   30    280\n",
              "6       Sul     c2   30    430\n",
              "7     Leste     c2   30    201\n",
              "8   Central     c1   35    460\n",
              "9     Norte     c1   35    360\n",
              "10      Sul     c1   35    615\n",
              "11    Leste     c1   35    305\n",
              "12  Central     c2   35    330\n",
              "13    Norte     c2   35    250\n",
              "14      Sul     c2   35    450\n",
              "15    Leste     c2   35    400\n",
              "16  Central     c1   45    540\n",
              "17    Norte     c1   45    420\n",
              "18      Sul     c1   45    675\n",
              "19    Leste     c1   45    420\n",
              "20  Central     c2   45    400\n",
              "21    Norte     c2   45    390\n",
              "22      Sul     c2   45    600\n",
              "23    Leste     c2   45    370\n",
              "24  Central     c1   55    620\n",
              "25    Norte     c1   55    530\n",
              "26      Sul     c1   55    760\n",
              "27    Leste     c1   55    490\n",
              "28  Central     c2   55    500\n",
              "29    Norte     c2   55    440\n",
              "30      Sul     c2   55    800\n",
              "31    Leste     c2   55    700\n",
              "32  Central     c1  100    800\n",
              "33    Norte     c1  100    690\n",
              "34      Sul     c1  100    930\n",
              "35    Leste     c1  100    600\n",
              "36  Central     c2  100    750\n",
              "37    Norte     c2  100    600\n",
              "38      Sul     c2  100    920\n",
              "39    Leste     c2  100    920\n",
              "40  Central     c1  250   1500\n",
              "41    Norte     c1  250   1050\n",
              "42      Sul     c1  250   1950\n",
              "43    Leste     c1  250    920\n",
              "44  Central     c2  250   1300\n",
              "45    Norte     c2  250    970\n",
              "46      Sul     c2  250   2100\n",
              "47    Leste     c2  250   2120"
            ]
          },
          "metadata": {
            "tags": []
          },
          "execution_count": 228
        }
      ]
    },
    {
      "cell_type": "markdown",
      "metadata": {
        "id": "eCUskNS2CkAE"
      },
      "source": [
        "Podemos estar interessados em analisar somente os imóveis com menos de 50 $mt^2$"
      ]
    },
    {
      "cell_type": "code",
      "metadata": {
        "colab": {
          "base_uri": "https://localhost:8080/"
        },
        "id": "-OKZQquf9IzX",
        "outputId": "8b0aa064-bce2-460c-de10-e62d04a5ddce"
      },
      "source": [
        "# Opção 2\n",
        "dfi.melt(id_vars=[\"Zona\",\"cidade\"],value_vars=[\"30\",\"35\", \"45\"],var_name=\"mt2\",value_name=\"preço\")"
      ],
      "execution_count": null,
      "outputs": [
        {
          "output_type": "execute_result",
          "data": {
            "text/html": [
              "<div>\n",
              "<style scoped>\n",
              "    .dataframe tbody tr th:only-of-type {\n",
              "        vertical-align: middle;\n",
              "    }\n",
              "\n",
              "    .dataframe tbody tr th {\n",
              "        vertical-align: top;\n",
              "    }\n",
              "\n",
              "    .dataframe thead th {\n",
              "        text-align: right;\n",
              "    }\n",
              "</style>\n",
              "<table border=\"1\" class=\"dataframe\">\n",
              "  <thead>\n",
              "    <tr style=\"text-align: right;\">\n",
              "      <th></th>\n",
              "      <th>Zona</th>\n",
              "      <th>cidade</th>\n",
              "      <th>mt2</th>\n",
              "      <th>preço</th>\n",
              "    </tr>\n",
              "  </thead>\n",
              "  <tbody>\n",
              "    <tr>\n",
              "      <th>0</th>\n",
              "      <td>Central</td>\n",
              "      <td>c1</td>\n",
              "      <td>30</td>\n",
              "      <td>400</td>\n",
              "    </tr>\n",
              "    <tr>\n",
              "      <th>1</th>\n",
              "      <td>Norte</td>\n",
              "      <td>c1</td>\n",
              "      <td>30</td>\n",
              "      <td>300</td>\n",
              "    </tr>\n",
              "    <tr>\n",
              "      <th>2</th>\n",
              "      <td>Sul</td>\n",
              "      <td>c1</td>\n",
              "      <td>30</td>\n",
              "      <td>500</td>\n",
              "    </tr>\n",
              "    <tr>\n",
              "      <th>3</th>\n",
              "      <td>Leste</td>\n",
              "      <td>c1</td>\n",
              "      <td>30</td>\n",
              "      <td>250</td>\n",
              "    </tr>\n",
              "    <tr>\n",
              "      <th>4</th>\n",
              "      <td>Central</td>\n",
              "      <td>c2</td>\n",
              "      <td>30</td>\n",
              "      <td>320</td>\n",
              "    </tr>\n",
              "    <tr>\n",
              "      <th>5</th>\n",
              "      <td>Norte</td>\n",
              "      <td>c2</td>\n",
              "      <td>30</td>\n",
              "      <td>280</td>\n",
              "    </tr>\n",
              "    <tr>\n",
              "      <th>6</th>\n",
              "      <td>Sul</td>\n",
              "      <td>c2</td>\n",
              "      <td>30</td>\n",
              "      <td>430</td>\n",
              "    </tr>\n",
              "    <tr>\n",
              "      <th>7</th>\n",
              "      <td>Leste</td>\n",
              "      <td>c2</td>\n",
              "      <td>30</td>\n",
              "      <td>201</td>\n",
              "    </tr>\n",
              "    <tr>\n",
              "      <th>8</th>\n",
              "      <td>Central</td>\n",
              "      <td>c1</td>\n",
              "      <td>35</td>\n",
              "      <td>460</td>\n",
              "    </tr>\n",
              "    <tr>\n",
              "      <th>9</th>\n",
              "      <td>Norte</td>\n",
              "      <td>c1</td>\n",
              "      <td>35</td>\n",
              "      <td>360</td>\n",
              "    </tr>\n",
              "    <tr>\n",
              "      <th>10</th>\n",
              "      <td>Sul</td>\n",
              "      <td>c1</td>\n",
              "      <td>35</td>\n",
              "      <td>615</td>\n",
              "    </tr>\n",
              "    <tr>\n",
              "      <th>11</th>\n",
              "      <td>Leste</td>\n",
              "      <td>c1</td>\n",
              "      <td>35</td>\n",
              "      <td>305</td>\n",
              "    </tr>\n",
              "    <tr>\n",
              "      <th>12</th>\n",
              "      <td>Central</td>\n",
              "      <td>c2</td>\n",
              "      <td>35</td>\n",
              "      <td>330</td>\n",
              "    </tr>\n",
              "    <tr>\n",
              "      <th>13</th>\n",
              "      <td>Norte</td>\n",
              "      <td>c2</td>\n",
              "      <td>35</td>\n",
              "      <td>250</td>\n",
              "    </tr>\n",
              "    <tr>\n",
              "      <th>14</th>\n",
              "      <td>Sul</td>\n",
              "      <td>c2</td>\n",
              "      <td>35</td>\n",
              "      <td>450</td>\n",
              "    </tr>\n",
              "    <tr>\n",
              "      <th>15</th>\n",
              "      <td>Leste</td>\n",
              "      <td>c2</td>\n",
              "      <td>35</td>\n",
              "      <td>400</td>\n",
              "    </tr>\n",
              "    <tr>\n",
              "      <th>16</th>\n",
              "      <td>Central</td>\n",
              "      <td>c1</td>\n",
              "      <td>45</td>\n",
              "      <td>540</td>\n",
              "    </tr>\n",
              "    <tr>\n",
              "      <th>17</th>\n",
              "      <td>Norte</td>\n",
              "      <td>c1</td>\n",
              "      <td>45</td>\n",
              "      <td>420</td>\n",
              "    </tr>\n",
              "    <tr>\n",
              "      <th>18</th>\n",
              "      <td>Sul</td>\n",
              "      <td>c1</td>\n",
              "      <td>45</td>\n",
              "      <td>675</td>\n",
              "    </tr>\n",
              "    <tr>\n",
              "      <th>19</th>\n",
              "      <td>Leste</td>\n",
              "      <td>c1</td>\n",
              "      <td>45</td>\n",
              "      <td>420</td>\n",
              "    </tr>\n",
              "    <tr>\n",
              "      <th>20</th>\n",
              "      <td>Central</td>\n",
              "      <td>c2</td>\n",
              "      <td>45</td>\n",
              "      <td>400</td>\n",
              "    </tr>\n",
              "    <tr>\n",
              "      <th>21</th>\n",
              "      <td>Norte</td>\n",
              "      <td>c2</td>\n",
              "      <td>45</td>\n",
              "      <td>390</td>\n",
              "    </tr>\n",
              "    <tr>\n",
              "      <th>22</th>\n",
              "      <td>Sul</td>\n",
              "      <td>c2</td>\n",
              "      <td>45</td>\n",
              "      <td>600</td>\n",
              "    </tr>\n",
              "    <tr>\n",
              "      <th>23</th>\n",
              "      <td>Leste</td>\n",
              "      <td>c2</td>\n",
              "      <td>45</td>\n",
              "      <td>370</td>\n",
              "    </tr>\n",
              "  </tbody>\n",
              "</table>\n",
              "</div>"
            ],
            "text/plain": [
              "       Zona cidade mt2  preço\n",
              "0   Central     c1  30    400\n",
              "1     Norte     c1  30    300\n",
              "2       Sul     c1  30    500\n",
              "3     Leste     c1  30    250\n",
              "4   Central     c2  30    320\n",
              "5     Norte     c2  30    280\n",
              "6       Sul     c2  30    430\n",
              "7     Leste     c2  30    201\n",
              "8   Central     c1  35    460\n",
              "9     Norte     c1  35    360\n",
              "10      Sul     c1  35    615\n",
              "11    Leste     c1  35    305\n",
              "12  Central     c2  35    330\n",
              "13    Norte     c2  35    250\n",
              "14      Sul     c2  35    450\n",
              "15    Leste     c2  35    400\n",
              "16  Central     c1  45    540\n",
              "17    Norte     c1  45    420\n",
              "18      Sul     c1  45    675\n",
              "19    Leste     c1  45    420\n",
              "20  Central     c2  45    400\n",
              "21    Norte     c2  45    390\n",
              "22      Sul     c2  45    600\n",
              "23    Leste     c2  45    370"
            ]
          },
          "metadata": {
            "tags": []
          },
          "execution_count": 229
        }
      ]
    },
    {
      "cell_type": "markdown",
      "metadata": {
        "id": "C3BhLNkFiFGG"
      },
      "source": [
        "# Função: Pivot"
      ]
    },
    {
      "cell_type": "markdown",
      "metadata": {
        "id": "JMPh1-Avj15h"
      },
      "source": [
        "Podemos usar a função `pivot` da biblioteca `Pandas` para reorganizar nossa base de dados. \n",
        "\n",
        "<img src=\"http://www.orlandoalbarracin.com.br/phyton/pivot2.png\" width=550, align=\"center\">\n",
        "\n",
        "```\n",
        "objeto.pivot(index=['chave_1,...,'chave_n'], columns=['var 1',..., 'Var j'], values='var k')\n",
        "```\n",
        "\n",
        "\n"
      ]
    },
    {
      "cell_type": "markdown",
      "metadata": {
        "id": "I77iaiVUzGZy"
      },
      "source": [
        "### Exemplo 1"
      ]
    },
    {
      "cell_type": "code",
      "metadata": {
        "id": "jd03DobyaYXJ",
        "colab": {
          "base_uri": "https://localhost:8080/",
          "height": 317
        },
        "outputId": "905337f9-e04a-483a-a556-24ba8e8fa1de"
      },
      "source": [
        "# Exemplo: Vendas realizadas, no mês, pelos empregados de uma loja.\n",
        "df = pd.DataFrame({'Vendedor': ['Juan','Juan','Juan','André','André','André','Maria','Maria','Maria' ],\n",
        "                   'Produto': ['Ref1','Ref2', 'Ref3','Ref1','Ref2', 'Ref3', 'Ref1','Ref2', 'Ref3'],\n",
        "                   'Vendas': [6,2,5,8,4,7,9,1,3],\n",
        "                   'Preços': [60,100,210,60,100,210,60,100,210]})\n",
        "df"
      ],
      "execution_count": null,
      "outputs": [
        {
          "output_type": "execute_result",
          "data": {
            "text/html": [
              "<div>\n",
              "<style scoped>\n",
              "    .dataframe tbody tr th:only-of-type {\n",
              "        vertical-align: middle;\n",
              "    }\n",
              "\n",
              "    .dataframe tbody tr th {\n",
              "        vertical-align: top;\n",
              "    }\n",
              "\n",
              "    .dataframe thead th {\n",
              "        text-align: right;\n",
              "    }\n",
              "</style>\n",
              "<table border=\"1\" class=\"dataframe\">\n",
              "  <thead>\n",
              "    <tr style=\"text-align: right;\">\n",
              "      <th></th>\n",
              "      <th>Vendedor</th>\n",
              "      <th>Produto</th>\n",
              "      <th>Vendas</th>\n",
              "      <th>Preços</th>\n",
              "    </tr>\n",
              "  </thead>\n",
              "  <tbody>\n",
              "    <tr>\n",
              "      <th>0</th>\n",
              "      <td>Juan</td>\n",
              "      <td>Ref1</td>\n",
              "      <td>6</td>\n",
              "      <td>60</td>\n",
              "    </tr>\n",
              "    <tr>\n",
              "      <th>1</th>\n",
              "      <td>Juan</td>\n",
              "      <td>Ref2</td>\n",
              "      <td>2</td>\n",
              "      <td>100</td>\n",
              "    </tr>\n",
              "    <tr>\n",
              "      <th>2</th>\n",
              "      <td>Juan</td>\n",
              "      <td>Ref3</td>\n",
              "      <td>5</td>\n",
              "      <td>210</td>\n",
              "    </tr>\n",
              "    <tr>\n",
              "      <th>3</th>\n",
              "      <td>André</td>\n",
              "      <td>Ref1</td>\n",
              "      <td>8</td>\n",
              "      <td>60</td>\n",
              "    </tr>\n",
              "    <tr>\n",
              "      <th>4</th>\n",
              "      <td>André</td>\n",
              "      <td>Ref2</td>\n",
              "      <td>4</td>\n",
              "      <td>100</td>\n",
              "    </tr>\n",
              "    <tr>\n",
              "      <th>5</th>\n",
              "      <td>André</td>\n",
              "      <td>Ref3</td>\n",
              "      <td>7</td>\n",
              "      <td>210</td>\n",
              "    </tr>\n",
              "    <tr>\n",
              "      <th>6</th>\n",
              "      <td>Maria</td>\n",
              "      <td>Ref1</td>\n",
              "      <td>9</td>\n",
              "      <td>60</td>\n",
              "    </tr>\n",
              "    <tr>\n",
              "      <th>7</th>\n",
              "      <td>Maria</td>\n",
              "      <td>Ref2</td>\n",
              "      <td>1</td>\n",
              "      <td>100</td>\n",
              "    </tr>\n",
              "    <tr>\n",
              "      <th>8</th>\n",
              "      <td>Maria</td>\n",
              "      <td>Ref3</td>\n",
              "      <td>3</td>\n",
              "      <td>210</td>\n",
              "    </tr>\n",
              "  </tbody>\n",
              "</table>\n",
              "</div>"
            ],
            "text/plain": [
              "  Vendedor Produto  Vendas  Preços\n",
              "0     Juan    Ref1       6      60\n",
              "1     Juan    Ref2       2     100\n",
              "2     Juan    Ref3       5     210\n",
              "3    André    Ref1       8      60\n",
              "4    André    Ref2       4     100\n",
              "5    André    Ref3       7     210\n",
              "6    Maria    Ref1       9      60\n",
              "7    Maria    Ref2       1     100\n",
              "8    Maria    Ref3       3     210"
            ]
          },
          "metadata": {
            "tags": []
          },
          "execution_count": 230
        }
      ]
    },
    {
      "cell_type": "code",
      "metadata": {
        "id": "kUhhItK9dpr4",
        "colab": {
          "base_uri": "https://localhost:8080/",
          "height": 167
        },
        "outputId": "6013a4a4-d305-4a88-c160-4e9edddb8516"
      },
      "source": [
        "df.pivot(index=['Produto'], columns=['Vendedor'], values='Vendas')"
      ],
      "execution_count": null,
      "outputs": [
        {
          "output_type": "execute_result",
          "data": {
            "text/html": [
              "<div>\n",
              "<style scoped>\n",
              "    .dataframe tbody tr th:only-of-type {\n",
              "        vertical-align: middle;\n",
              "    }\n",
              "\n",
              "    .dataframe tbody tr th {\n",
              "        vertical-align: top;\n",
              "    }\n",
              "\n",
              "    .dataframe thead th {\n",
              "        text-align: right;\n",
              "    }\n",
              "</style>\n",
              "<table border=\"1\" class=\"dataframe\">\n",
              "  <thead>\n",
              "    <tr style=\"text-align: right;\">\n",
              "      <th>Vendedor</th>\n",
              "      <th>André</th>\n",
              "      <th>Juan</th>\n",
              "      <th>Maria</th>\n",
              "    </tr>\n",
              "    <tr>\n",
              "      <th>Produto</th>\n",
              "      <th></th>\n",
              "      <th></th>\n",
              "      <th></th>\n",
              "    </tr>\n",
              "  </thead>\n",
              "  <tbody>\n",
              "    <tr>\n",
              "      <th>Ref1</th>\n",
              "      <td>8</td>\n",
              "      <td>6</td>\n",
              "      <td>9</td>\n",
              "    </tr>\n",
              "    <tr>\n",
              "      <th>Ref2</th>\n",
              "      <td>4</td>\n",
              "      <td>2</td>\n",
              "      <td>1</td>\n",
              "    </tr>\n",
              "    <tr>\n",
              "      <th>Ref3</th>\n",
              "      <td>7</td>\n",
              "      <td>5</td>\n",
              "      <td>3</td>\n",
              "    </tr>\n",
              "  </tbody>\n",
              "</table>\n",
              "</div>"
            ],
            "text/plain": [
              "Vendedor  André  Juan  Maria\n",
              "Produto                     \n",
              "Ref1          8     6      9\n",
              "Ref2          4     2      1\n",
              "Ref3          7     5      3"
            ]
          },
          "metadata": {
            "tags": []
          },
          "execution_count": 231
        }
      ]
    },
    {
      "cell_type": "code",
      "metadata": {
        "id": "2cYmqJNHPYNd",
        "colab": {
          "base_uri": "https://localhost:8080/",
          "height": 298
        },
        "outputId": "da7d05b7-d3ac-432e-9be0-729e6dae1c98"
      },
      "source": [
        "# Sempre é interessante fazer um gráfico\n",
        "\n",
        "df1=df.pivot(index=['Vendedor'], columns=['Produto'], values='Vendas')\n",
        "df1.plot(kind=\"bar\",stacked=True);"
      ],
      "execution_count": null,
      "outputs": [
        {
          "output_type": "display_data",
          "data": {
            "image/png": "[encoded data removed]",
            "text/plain": [
              "<Figure size 432x288 with 1 Axes>"
            ]
          },
          "metadata": {
            "tags": [],
            "needs_background": "light"
          }
        }
      ]
    },
    {
      "cell_type": "markdown",
      "metadata": {
        "id": "Qe3ANBRkzMzL"
      },
      "source": [
        "### Exemplo 2"
      ]
    },
    {
      "cell_type": "markdown",
      "metadata": {
        "id": "Rz1wRarytc6b"
      },
      "source": [
        "Uma das aplicações mais interessantes dessa função é para análisar séries temporais, isto é, observações que mudam ao longo do tempo."
      ]
    },
    {
      "cell_type": "code",
      "metadata": {
        "id": "7L1FxhVfkuSn",
        "colab": {
          "base_uri": "https://localhost:8080/",
          "height": 406
        },
        "outputId": "9b82601e-87ac-4e9d-d3b1-0ce935cebb2a"
      },
      "source": [
        "# Exemplo: Temperaturas diárias, por hora, das cidades Recife e Belo horizonte no mês de janeiro de 2020\n",
        "df_t=pd.read_excel(\"http://www.orlandoalbarracin.com.br/phyton/Temperatura.xlsx\")\n",
        "df_t"
      ],
      "execution_count": null,
      "outputs": [
        {
          "output_type": "execute_result",
          "data": {
            "text/html": [
              "<div>\n",
              "<style scoped>\n",
              "    .dataframe tbody tr th:only-of-type {\n",
              "        vertical-align: middle;\n",
              "    }\n",
              "\n",
              "    .dataframe tbody tr th {\n",
              "        vertical-align: top;\n",
              "    }\n",
              "\n",
              "    .dataframe thead th {\n",
              "        text-align: right;\n",
              "    }\n",
              "</style>\n",
              "<table border=\"1\" class=\"dataframe\">\n",
              "  <thead>\n",
              "    <tr style=\"text-align: right;\">\n",
              "      <th></th>\n",
              "      <th>Data</th>\n",
              "      <th>Hora</th>\n",
              "      <th>Cidade</th>\n",
              "      <th>Temp_Ar</th>\n",
              "      <th>Temp_max</th>\n",
              "      <th>Temp_min</th>\n",
              "    </tr>\n",
              "  </thead>\n",
              "  <tbody>\n",
              "    <tr>\n",
              "      <th>0</th>\n",
              "      <td>2020-01-01</td>\n",
              "      <td>0</td>\n",
              "      <td>BH</td>\n",
              "      <td>20.2</td>\n",
              "      <td>20.7</td>\n",
              "      <td>20.1</td>\n",
              "    </tr>\n",
              "    <tr>\n",
              "      <th>1</th>\n",
              "      <td>2020-01-01</td>\n",
              "      <td>0</td>\n",
              "      <td>REC</td>\n",
              "      <td>27.5</td>\n",
              "      <td>27.5</td>\n",
              "      <td>27.4</td>\n",
              "    </tr>\n",
              "    <tr>\n",
              "      <th>2</th>\n",
              "      <td>2020-01-01</td>\n",
              "      <td>1</td>\n",
              "      <td>BH</td>\n",
              "      <td>19.8</td>\n",
              "      <td>20.2</td>\n",
              "      <td>19.7</td>\n",
              "    </tr>\n",
              "    <tr>\n",
              "      <th>3</th>\n",
              "      <td>2020-01-01</td>\n",
              "      <td>1</td>\n",
              "      <td>REC</td>\n",
              "      <td>27.1</td>\n",
              "      <td>27.5</td>\n",
              "      <td>27.1</td>\n",
              "    </tr>\n",
              "    <tr>\n",
              "      <th>4</th>\n",
              "      <td>2020-01-01</td>\n",
              "      <td>2</td>\n",
              "      <td>BH</td>\n",
              "      <td>19.6</td>\n",
              "      <td>20.0</td>\n",
              "      <td>19.6</td>\n",
              "    </tr>\n",
              "    <tr>\n",
              "      <th>...</th>\n",
              "      <td>...</td>\n",
              "      <td>...</td>\n",
              "      <td>...</td>\n",
              "      <td>...</td>\n",
              "      <td>...</td>\n",
              "      <td>...</td>\n",
              "    </tr>\n",
              "    <tr>\n",
              "      <th>1483</th>\n",
              "      <td>2020-01-31</td>\n",
              "      <td>21</td>\n",
              "      <td>REC</td>\n",
              "      <td>28.9</td>\n",
              "      <td>28.2</td>\n",
              "      <td>69.0</td>\n",
              "    </tr>\n",
              "    <tr>\n",
              "      <th>1484</th>\n",
              "      <td>2020-01-31</td>\n",
              "      <td>22</td>\n",
              "      <td>BH</td>\n",
              "      <td>23.5</td>\n",
              "      <td>24.1</td>\n",
              "      <td>23.3</td>\n",
              "    </tr>\n",
              "    <tr>\n",
              "      <th>1485</th>\n",
              "      <td>2020-01-31</td>\n",
              "      <td>22</td>\n",
              "      <td>REC</td>\n",
              "      <td>28.3</td>\n",
              "      <td>27.6</td>\n",
              "      <td>73.0</td>\n",
              "    </tr>\n",
              "    <tr>\n",
              "      <th>1486</th>\n",
              "      <td>2020-01-31</td>\n",
              "      <td>23</td>\n",
              "      <td>BH</td>\n",
              "      <td>23.0</td>\n",
              "      <td>23.8</td>\n",
              "      <td>23.0</td>\n",
              "    </tr>\n",
              "    <tr>\n",
              "      <th>1487</th>\n",
              "      <td>2020-01-31</td>\n",
              "      <td>23</td>\n",
              "      <td>REC</td>\n",
              "      <td>28.1</td>\n",
              "      <td>27.7</td>\n",
              "      <td>73.0</td>\n",
              "    </tr>\n",
              "  </tbody>\n",
              "</table>\n",
              "<p>1488 rows × 6 columns</p>\n",
              "</div>"
            ],
            "text/plain": [
              "           Data  Hora Cidade  Temp_Ar  Temp_max  Temp_min\n",
              "0    2020-01-01     0     BH     20.2      20.7      20.1\n",
              "1    2020-01-01     0    REC     27.5      27.5      27.4\n",
              "2    2020-01-01     1     BH     19.8      20.2      19.7\n",
              "3    2020-01-01     1    REC     27.1      27.5      27.1\n",
              "4    2020-01-01     2     BH     19.6      20.0      19.6\n",
              "...         ...   ...    ...      ...       ...       ...\n",
              "1483 2020-01-31    21    REC     28.9      28.2      69.0\n",
              "1484 2020-01-31    22     BH     23.5      24.1      23.3\n",
              "1485 2020-01-31    22    REC     28.3      27.6      73.0\n",
              "1486 2020-01-31    23     BH     23.0      23.8      23.0\n",
              "1487 2020-01-31    23    REC     28.1      27.7      73.0\n",
              "\n",
              "[1488 rows x 6 columns]"
            ]
          },
          "metadata": {
            "tags": []
          },
          "execution_count": 233
        }
      ]
    },
    {
      "cell_type": "code",
      "metadata": {
        "id": "bY5ci0cLn5Sx"
      },
      "source": [
        "# Error: Index contains duplicate entries, cannot reshape\n",
        "df_t.pivot(index=['Data'], columns=[\"Cidade\"], values=['Temp_max'])"
      ],
      "execution_count": null,
      "outputs": []
    },
    {
      "cell_type": "code",
      "metadata": {
        "id": "yys9I1u6ttpt",
        "colab": {
          "base_uri": "https://localhost:8080/",
          "height": 466
        },
        "outputId": "9acee83e-efdc-4d0b-e465-311692ce0d46"
      },
      "source": [
        "df_t.pivot(index=['Data','Hora'], columns=['Cidade'], values=['Temp_max'])"
      ],
      "execution_count": null,
      "outputs": [
        {
          "output_type": "execute_result",
          "data": {
            "text/html": [
              "<div>\n",
              "<style scoped>\n",
              "    .dataframe tbody tr th:only-of-type {\n",
              "        vertical-align: middle;\n",
              "    }\n",
              "\n",
              "    .dataframe tbody tr th {\n",
              "        vertical-align: top;\n",
              "    }\n",
              "\n",
              "    .dataframe thead tr th {\n",
              "        text-align: left;\n",
              "    }\n",
              "\n",
              "    .dataframe thead tr:last-of-type th {\n",
              "        text-align: right;\n",
              "    }\n",
              "</style>\n",
              "<table border=\"1\" class=\"dataframe\">\n",
              "  <thead>\n",
              "    <tr>\n",
              "      <th></th>\n",
              "      <th></th>\n",
              "      <th colspan=\"2\" halign=\"left\">Temp_max</th>\n",
              "    </tr>\n",
              "    <tr>\n",
              "      <th></th>\n",
              "      <th>Cidade</th>\n",
              "      <th>BH</th>\n",
              "      <th>REC</th>\n",
              "    </tr>\n",
              "    <tr>\n",
              "      <th>Data</th>\n",
              "      <th>Hora</th>\n",
              "      <th></th>\n",
              "      <th></th>\n",
              "    </tr>\n",
              "  </thead>\n",
              "  <tbody>\n",
              "    <tr>\n",
              "      <th rowspan=\"5\" valign=\"top\">2020-01-01</th>\n",
              "      <th>0</th>\n",
              "      <td>20.7</td>\n",
              "      <td>27.5</td>\n",
              "    </tr>\n",
              "    <tr>\n",
              "      <th>1</th>\n",
              "      <td>20.2</td>\n",
              "      <td>27.5</td>\n",
              "    </tr>\n",
              "    <tr>\n",
              "      <th>2</th>\n",
              "      <td>20.0</td>\n",
              "      <td>27.3</td>\n",
              "    </tr>\n",
              "    <tr>\n",
              "      <th>3</th>\n",
              "      <td>19.6</td>\n",
              "      <td>27.0</td>\n",
              "    </tr>\n",
              "    <tr>\n",
              "      <th>4</th>\n",
              "      <td>19.2</td>\n",
              "      <td>26.4</td>\n",
              "    </tr>\n",
              "    <tr>\n",
              "      <th>...</th>\n",
              "      <th>...</th>\n",
              "      <td>...</td>\n",
              "      <td>...</td>\n",
              "    </tr>\n",
              "    <tr>\n",
              "      <th rowspan=\"5\" valign=\"top\">2020-01-31</th>\n",
              "      <th>19</th>\n",
              "      <td>26.3</td>\n",
              "      <td>29.8</td>\n",
              "    </tr>\n",
              "    <tr>\n",
              "      <th>20</th>\n",
              "      <td>28.3</td>\n",
              "      <td>28.8</td>\n",
              "    </tr>\n",
              "    <tr>\n",
              "      <th>21</th>\n",
              "      <td>26.8</td>\n",
              "      <td>28.2</td>\n",
              "    </tr>\n",
              "    <tr>\n",
              "      <th>22</th>\n",
              "      <td>24.1</td>\n",
              "      <td>27.6</td>\n",
              "    </tr>\n",
              "    <tr>\n",
              "      <th>23</th>\n",
              "      <td>23.8</td>\n",
              "      <td>27.7</td>\n",
              "    </tr>\n",
              "  </tbody>\n",
              "</table>\n",
              "<p>744 rows × 2 columns</p>\n",
              "</div>"
            ],
            "text/plain": [
              "                Temp_max      \n",
              "Cidade                BH   REC\n",
              "Data       Hora               \n",
              "2020-01-01 0        20.7  27.5\n",
              "           1        20.2  27.5\n",
              "           2        20.0  27.3\n",
              "           3        19.6  27.0\n",
              "           4        19.2  26.4\n",
              "...                  ...   ...\n",
              "2020-01-31 19       26.3  29.8\n",
              "           20       28.3  28.8\n",
              "           21       26.8  28.2\n",
              "           22       24.1  27.6\n",
              "           23       23.8  27.7\n",
              "\n",
              "[744 rows x 2 columns]"
            ]
          },
          "metadata": {
            "tags": []
          },
          "execution_count": 234
        }
      ]
    },
    {
      "cell_type": "code",
      "metadata": {
        "id": "F65SvsTB7AgK",
        "colab": {
          "base_uri": "https://localhost:8080/"
        },
        "outputId": "e3043dde-4e5d-4aa7-dd66-9f22c0a403ed"
      },
      "source": [
        "# Sempre é interessante fazer um gráfico\n",
        "\n",
        "df2=df_t.pivot(index=['Data','Hora'], columns=['Cidade'], values=['Temp_max'])\n",
        "df2.plot(figsize=(13,3)); "
      ],
      "execution_count": null,
      "outputs": [
        {
          "output_type": "display_data",
          "data": {
            "image/png": "[encoded data removed]",
            "text/plain": [
              "<Figure size 936x216 with 1 Axes>"
            ]
          },
          "metadata": {
            "tags": [],
            "needs_background": "light"
          }
        }
      ]
    },
    {
      "cell_type": "markdown",
      "metadata": {
        "id": "TAuaBrLl1zjp"
      },
      "source": [
        "No gráfico anterior, no eixo x, foi usando o `index=['Data','Hora']`\n",
        "cujo formato, por *default*, é \"2020-01-01 00:00:00, h\".\n",
        "Segue um código (opcional)  para melhorar o eixo x.\n",
        "\n",
        "Nota: Próximas aulas estudaremos uma *library* que nos permitirá fazer gráficos com mais opções.\n"
      ]
    },
    {
      "cell_type": "code",
      "metadata": {
        "id": "5QcfioEn5vZg",
        "colab": {
          "base_uri": "https://localhost:8080/"
        },
        "outputId": "2b700608-2572-45cd-c138-eef34f937915"
      },
      "source": [
        "# Modificando o index para melhorar o gráfico (É uma opção)\n",
        "df2.index=pd.date_range(start = \"2020-01-01 00:00:00\", end = \"2020-01-31 23:00:00\", freq = \"H\")\n",
        "df2.plot(figsize=(13,3),ylim=(16,36)).legend(bbox_to_anchor=(0.74, 0.74));"
      ],
      "execution_count": null,
      "outputs": [
        {
          "output_type": "display_data",
          "data": {
            "image/png": "[encoded data removed]",
            "text/plain": [
              "<Figure size 936x216 with 1 Axes>"
            ]
          },
          "metadata": {
            "tags": [],
            "needs_background": "light"
          }
        }
      ]
    },
    {
      "cell_type": "markdown",
      "metadata": {
        "id": "d1_3FmrNwaP_"
      },
      "source": [
        "# Exercícios"
      ]
    },
    {
      "cell_type": "markdown",
      "metadata": {
        "id": "trJfkbuclNjJ"
      },
      "source": [
        "## Exercício 1"
      ]
    },
    {
      "cell_type": "markdown",
      "metadata": {
        "id": "x14CRYKcljSc"
      },
      "source": [
        "A seguinte base de dados apresenta, para 142 países, no período de 1952 a 2007,  as seguintes variáveis: \n",
        "\n",
        "- Esperança de vida (Life expectancy) \\\n",
        "- PIB per capita (GDP per capita) \\\n",
        "- População  "
      ]
    },
    {
      "cell_type": "code",
      "metadata": {
        "id": "e0f7fkQkhTrH"
      },
      "source": [
        "link = \"https://goo.gl/ioc2Td\"\n",
        "Data = pd.read_csv(link)\n",
        "Data"
      ],
      "execution_count": null,
      "outputs": []
    },
    {
      "cell_type": "markdown",
      "metadata": {
        "id": "H82_FDOHmjbr"
      },
      "source": [
        "1.1. Crie três DataFrames, usando a função `melt`, com as seguintes variáveis (colunas):\n",
        "\n",
        "DataFrame1: Continent, country, year e life expectancy \\\n",
        "DataFrame2: Continent, country, year e GDP per capita \\\n",
        "DataFrame3: Continent, country, year e Population \\\n",
        "\n",
        "1.2 Usando a função `merge` junte, da melhor forma, os três `DataFrames` anteriores.\n",
        "\n",
        "1.3 Apresente o PIB per capita médio de 2007 segundo o continente"
      ]
    },
    {
      "cell_type": "code",
      "metadata": {
        "id": "g-4keQHJq51h"
      },
      "source": [
        "# Loc function, access a group of rows and columns by label(s) or a boolean array.\n",
        "# Retorna uma coluna inteira\n",
        "Data.loc[:,[\"country\"]]"
      ],
      "execution_count": null,
      "outputs": []
    },
    {
      "cell_type": "code",
      "metadata": {
        "id": "zBCx_vB1sHkf"
      },
      "source": [
        "# Colunas que contêm as palavras: lifeExp,continent,country. Resultado: a boolean array\n",
        "Data.columns.str.contains('continent|country|lifeExp')"
      ],
      "execution_count": null,
      "outputs": []
    },
    {
      "cell_type": "code",
      "metadata": {
        "id": "rhH517XChC8d"
      },
      "source": [
        "# Selecioando as colunas desejadas para o DataFrame1\n",
        "Dat_LE = Data.loc[:, Data.columns.str.contains('continent|country|lifeExp')]\n",
        "Dat_LE"
      ],
      "execution_count": null,
      "outputs": []
    },
    {
      "cell_type": "code",
      "metadata": {
        "id": "fI6EAZ2Ghivi"
      },
      "source": [
        "# Usando a função melt\n",
        "Df1=Dat_LE.melt(id_vars=[\"continent\",\"country\"],var_name=\"year\",value_name=\"life expectancy\")\n",
        "Df1"
      ],
      "execution_count": null,
      "outputs": []
    },
    {
      "cell_type": "code",
      "metadata": {
        "id": "1XhyHkjmkZ5E"
      },
      "source": [
        "# Eliminando a palavra \"lifeExp_\" e convertendo a coluna numa variável numérica\n",
        "Df1.year = Df1.year.str.replace(\"lifeExp_\",\"\").astype(int)\n",
        "Df1"
      ],
      "execution_count": null,
      "outputs": []
    },
    {
      "cell_type": "code",
      "metadata": {
        "id": "JY-hp_UtOe9M"
      },
      "source": [
        ""
      ],
      "execution_count": null,
      "outputs": []
    },
    {
      "cell_type": "markdown",
      "metadata": {
        "id": "f_qG660RATpI"
      },
      "source": [
        "## Exercício 2"
      ]
    },
    {
      "cell_type": "markdown",
      "metadata": {
        "id": "NEHxUMU7_7h8"
      },
      "source": [
        "Nas bases de dados \"Bdados1\" e \"Bdados2\" encontrará informações de funcionários de uma multinacional.\n",
        "\n",
        "2.1. Usando *Data1* calcule as idades médias e o número médio de filhos dos empregados, segundo o setor onde trabalham.\n",
        "\n",
        "2.2. Usando *Data2* calcule os salários médios e o os anos médios de experiência dos empregados, segundo o setor onde trabalham.\n",
        "\n",
        "2.3. Concatene, da melhor forma, os dois DataFrames anteriores (use a função `concat`)."
      ]
    },
    {
      "cell_type": "code",
      "metadata": {
        "id": "s8fex3Clz3ii"
      },
      "source": [
        "link1=\"http://www.orlandoalbarracin.com.br/phyton/BDados1.xlsx\"\n",
        "Data1=pd.read_excel(link1)\n",
        "link2=\"http://www.orlandoalbarracin.com.br/phyton/BDados2.xlsx\"\n",
        "Data2=pd.read_excel(link2)"
      ],
      "execution_count": null,
      "outputs": []
    },
    {
      "cell_type": "code",
      "metadata": {
        "id": "jWjMWDKkOlyD"
      },
      "source": [
        ""
      ],
      "execution_count": null,
      "outputs": []
    },
    {
      "cell_type": "markdown",
      "metadata": {
        "id": "wR17oK1VOhxR"
      },
      "source": [
        "## Exercício 3"
      ]
    },
    {
      "cell_type": "markdown",
      "metadata": {
        "id": "AWjtqp5_Kk0D"
      },
      "source": [
        "N0 arquivo \"Bdados3\" apresentam-se informações de 300 funcionários que participarão de uma pesquisa.\n",
        "\n",
        "link3=\"http://www.orlandoalbarracin.com.br/phyton/BDados3.xlsx\""
      ]
    },
    {
      "cell_type": "markdown",
      "metadata": {
        "id": "91VGS3ImX-8-"
      },
      "source": [
        "2.1. Concatene, da melhor forma, Data1 e Data3, usando a função `concat`. Verifique se é interessante analisar a \"união\" desses dados. \n",
        "\n",
        "2.2. Concatene, da melhor forma, Data1 e Data2, usando a função `concat`. Verifique se é interessante analisar a \"união\" desses dados. \n",
        "\n",
        "2.3. Usando o DataFrame do item anterior calcule a porcentagem de empregados que ganham pelo menos 5 mil reais segundo o Sexo e o Estado cívil."
      ]
    },
    {
      "cell_type": "code",
      "metadata": {
        "id": "cfNNqMfiOj2V"
      },
      "source": [
        "link3=\"http://www.orlandoalbarracin.com.br/phyton/BDados3.xlsx\"\n",
        "Data3=pd.read_excel(link3)\n",
        "Data3"
      ],
      "execution_count": null,
      "outputs": []
    },
    {
      "cell_type": "code",
      "metadata": {
        "id": "gtPbpHoqOoIo"
      },
      "source": [
        ""
      ],
      "execution_count": null,
      "outputs": []
    },
    {
      "cell_type": "markdown",
      "metadata": {
        "id": "gIyhCYLYJSsF"
      },
      "source": [
        "## Exercício 4"
      ]
    },
    {
      "cell_type": "markdown",
      "metadata": {
        "id": "uERffk5_KtjF"
      },
      "source": [
        "Use a função `merge` para fazer os seguinte itens\n",
        "\n",
        "4.1. Junte, da melhor forma, os DataFrames Data1 e Data3. Posteriormente, calcule o número de funcionários que participarão da pesquisa, segundo as variáveis Sexo e Filial\n",
        "\n",
        "O arquivo \"BDados4\" contêm informações dos empregados que serão promovidos. \n",
        "link4=\"http://www.orlandoalbarracin.com.br/phyton/BDados4.xlsx\"\n",
        "\n",
        "4.2. Quantos funcionários, que participarão da pesquisa, serão promovidos? Quantos deles têm mestrado?\n",
        "\n",
        "4.3 Apresente um DataFrame ou Serie com a Identidade funcional e os telefones dos funcionários que participarão da pesquisa e serão promovidos.\n"
      ]
    },
    {
      "cell_type": "code",
      "metadata": {
        "id": "iFNnCUvVOfp-"
      },
      "source": [
        "link4=\"http://www.orlandoalbarracin.com.br/phyton/BDados4.xlsx\"\n",
        "Data4=pd.read_excel(link4)"
      ],
      "execution_count": null,
      "outputs": []
    },
    {
      "cell_type": "code",
      "metadata": {
        "id": "9yTuEMivV-er"
      },
      "source": [
        ""
      ],
      "execution_count": null,
      "outputs": []
    },
    {
      "cell_type": "markdown",
      "metadata": {
        "id": "khWrITJ6UvzN"
      },
      "source": [
        "## Exercício 5"
      ]
    },
    {
      "cell_type": "markdown",
      "metadata": {
        "id": "Y0-diQiYWlAa"
      },
      "source": [
        "O arquivo \"USD_EUR\" apresenta as variáveis: Abertura, Máxima, Mínimo, Último, Var% do USD/BRL e EUR/BRL no período de 01/01/2020 a 01/04/2021.\n",
        "\n",
        "- Organize a base de dados usando a função `pivot`\n",
        "- Faça um gráfico dos valores últimos (Fechamento diários) do Dólar e do Euro"
      ]
    },
    {
      "cell_type": "code",
      "metadata": {
        "id": "D8NgDfb8RMnf"
      },
      "source": [
        "link5=\"http://www.orlandoalbarracin.com.br/phyton/USD_EUR.xlsx\"\n",
        "df_UE=pd.read_excel(link5)\n",
        "df_UE"
      ],
      "execution_count": null,
      "outputs": []
    },
    {
      "cell_type": "code",
      "metadata": {
        "id": "iM6NWM32Owop"
      },
      "source": [
        ""
      ],
      "execution_count": null,
      "outputs": []
    }
  ]
}