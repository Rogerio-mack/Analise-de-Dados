{
  "nbformat": 4,
  "nbformat_minor": 0,
  "metadata": {
    "kernelspec": {
      "display_name": "Python 3",
      "language": "python",
      "name": "python3"
    },
    "language_info": {
      "codemirror_mode": {
        "name": "ipython",
        "version": 3
      },
      "file_extension": ".py",
      "mimetype": "text/x-python",
      "name": "python",
      "nbconvert_exporter": "python",
      "pygments_lexer": "ipython3",
      "version": "3.7.4"
    },
    "colab": {
      "name": "EDA_Projeto1.ipynb",
      "provenance": [],
      "collapsed_sections": [],
      "include_colab_link": true
    }
  },
  "cells": [
    {
      "cell_type": "markdown",
      "metadata": {
        "id": "view-in-github",
        "colab_type": "text"
      },
      "source": [
        "<a href=\"https://colab.research.google.com/github/Rogerio-mack/Analise-de-Dados/blob/main/EDA_Projeto1.ipynb\" target=\"_parent\"><img src=\"https://colab.research.google.com/assets/colab-badge.svg\" alt=\"Open In Colab\"/></a>"
      ]
    },
    {
      "cell_type": "markdown",
      "metadata": {
        "id": "40b90843"
      },
      "source": [
        "<img src=\"http://meusite.mackenzie.br/rogerio/mackenzie_logo/UPM.2_horizontal_vermelho.jpg\"  width=300, align=\"right\">\n",
        "<br>\n",
        "<br>\n",
        "<br>\n",
        "<br>\n",
        "<br>\n",
        "\n",
        "# Projeto I de Análise Exploratória de Dados\n",
        "---"
      ]
    },
    {
      "cell_type": "markdown",
      "metadata": {
        "id": "guaxIf-ikrSX"
      },
      "source": [
        "<h1 align=left><font size = 6, style=\"color:rgb(200,0,0)\">Título do seu projeto</font></h1>\n",
        "<hr>"
      ]
    },
    {
      "cell_type": "code",
      "metadata": {
        "id": "rYx9D4GZA5o9",
        "cellView": "form"
      },
      "source": [
        "#@title Identificação\n",
        "\n",
        "#@markdown Turma\n",
        "Turma = '6P11' #@param {type:\"string\"}\n",
        "#@markdown Integrantes do Grupo\n",
        "Aluno1 = '' #@param {type:\"string\"}\n",
        "Aluno2 = '' #@param {type:\"string\"}\n",
        "Aluno3 = '' #@param {type:\"string\"}\n",
        "Aluno4 = '' #@param {type:\"string\"}\n",
        "\n"
      ],
      "execution_count": 37,
      "outputs": []
    },
    {
      "cell_type": "markdown",
      "metadata": {
        "id": "A4-f8AtfKAn2"
      },
      "source": [
        "# Problema \n",
        "  \n",
        "Descreva o Problema Proposto"
      ]
    },
    {
      "cell_type": "markdown",
      "metadata": {
        "id": "xGFJyOm1Kdtd"
      },
      "source": [
        "# Descrição e origem dos dados \n",
        "\n",
        "Descreva sumariamente os dados empregados e sua fonte. \n",
        "\n",
        "\n",
        "\n",
        "\n"
      ]
    },
    {
      "cell_type": "markdown",
      "metadata": {
        "id": "IRCz80MnLr7N"
      },
      "source": [
        "# Aquisição dos Dados\n",
        "\n",
        "Faça aqui a aquisição dos dados, justificando e incluindo aqui eventuais  reduções as efetuadas.\n",
        "\n",
        "Não deixe de descrever e justificar reduções (seleções) feitas nos dados originais para os seus propósitos (por exemplo, selecionou somente dados do último ano, somente dados de países da América Latina ou selecionou somente algumas tabelas dentre várias tabelas disponíveis). \n",
        "\n",
        "\n",
        "\n"
      ]
    },
    {
      "cell_type": "code",
      "metadata": {
        "id": "L4VHMKS6L4DQ"
      },
      "source": [
        "# Seu código"
      ],
      "execution_count": 38,
      "outputs": []
    },
    {
      "cell_type": "markdown",
      "metadata": {
        "id": "c8-GAboQLMaN"
      },
      "source": [
        "# Análise dos Dados\n"
      ]
    },
    {
      "cell_type": "markdown",
      "metadata": {
        "id": "9kwoGZeSLRsX"
      },
      "source": [
        "## Estrutura dos Dados\n",
        "\n",
        "Descreva resumidamente a estrutura dos dados."
      ]
    },
    {
      "cell_type": "code",
      "metadata": {
        "id": "TH7vYDWbMFBv"
      },
      "source": [
        "# Seu código"
      ],
      "execution_count": 39,
      "outputs": []
    },
    {
      "cell_type": "markdown",
      "metadata": {
        "id": "GNAtxa_RMWcZ"
      },
      "source": [
        "## Análise (pergunta) 1.\n",
        "\n",
        ">> *As perguntas que seguem são apenas exemplos para que você tenha uma ideia de como formular as peguntas e respostas*\n",
        "\n",
        "**Existe uma maior taxa de fatalidades nos acidentes noturnos das estradas?**\n",
        "\n",
        "**Não**. Apesar das piores condições de visibilidade e socorro no período da noite, **há um percentual bastante menor de vítimas e de ocorrências fatais (cerca de 15% menor)**. Isso pode ser explicado pelo menor número de veículos em circulação nas estradas nesse período (aproximadamente 50% menos veículos)."
      ]
    },
    {
      "cell_type": "code",
      "metadata": {
        "id": "Mi2ZSydwO0Qd",
        "cellView": "form"
      },
      "source": [
        "#@markdown ---\n",
        "#@title Q1. Aponte os principais recursos empregados nesta pergunta aqui:\n",
        "\n",
        "Q1a = \"Entre com estatísticas descritivas empregadas\" #@param [\"Entre com estatísticas descritivas empregadas\", \"Proporcoes dos dados\", \"Proporcoes de valores\", \"Medias e Desvio Padrao\", \"Quartis\", \"Frequencias Marginais dos Dados\"] {type:\"string\"}\n",
        "Q1b = \"Entre com uma transformacao de dados empregada\" #@param [\"Entre com uma transformacao de dados empregada\", \"Combinacao de dados (merge, join, concat)\", \"Mudancas de Formato (encode, substrings)\", \"Exclusao de Nulos (dropna)\", \"Adicao de Atributo Derivado\"] {type:\"string\"}\n",
        "Q1c = \"Entre com uma selecao de dados empregada\" #@param [\"Entre com uma selecao de dados empregada\", \"Agregacao simples\", \"Agregacao multipla\", \"nlargest/nsmallest\", \"Selecao de dados multicondicional\" , \"Selecao de dados simples\" ] {type:\"string\"}\n",
        "Q1f = \"\" #@param {type:\"string\"}\n"
      ],
      "execution_count": 40,
      "outputs": []
    },
    {
      "cell_type": "code",
      "metadata": {
        "id": "DXQN9xyFMWch"
      },
      "source": [
        "# Seu código"
      ],
      "execution_count": 41,
      "outputs": []
    },
    {
      "cell_type": "markdown",
      "metadata": {
        "id": "FhYkp1iiNvwU"
      },
      "source": [
        "## Análise (pergunta) 2.\n",
        "\n",
        "**É maior a velocidade média dos veículos nos acidentes fatais?**\n",
        "\n",
        "**Sim**. Os acidentes fatais tem em média uma velocidade 30% maior que os acidentes sem vítima."
      ]
    },
    {
      "cell_type": "code",
      "metadata": {
        "id": "CVRWBkG4Yc61",
        "cellView": "form"
      },
      "source": [
        "#@markdown ---\n",
        "#@title Q2. Aponte os principais recursos empregados nesta pergunta aqui:\n",
        "\n",
        "Q2a = \"Entre com estatísticas descritivas empregadas\" #@param [\"Entre com estatísticas descritivas empregadas\", \"Proporcoes dos dados\", \"Proporcoes de valores\", \"Medias e Desvio Padrao\", \"Quartis\", \"Frequencias Marginais dos Dados\"] {type:\"string\"}\n",
        "Q2b = \"Entre com uma transformacao de dados empregada\" #@param [\"Entre com uma transformacao de dados empregada\", \"Combinacao de dados (merge, join, concat)\", \"Mudancas de Formato (encode, substrings)\", \"Exclusao de Nulos (dropna)\", \"Adicao de Atributo Derivado\"] {type:\"string\"}\n",
        "Q2c = \"Entre com uma selecao de dados empregada\" #@param [\"Entre com uma selecao de dados empregada\", \"Agregacao simples\", \"Agregacao multipla\", \"nlargest/nsmallest\", \"Selecao de dados multicondicional\" , \"Selecao de dados simples\" ] {type:\"string\"}\n",
        "Q2f = \"\" #@param {type:\"string\"}\n"
      ],
      "execution_count": 42,
      "outputs": []
    },
    {
      "cell_type": "code",
      "metadata": {
        "id": "vREl8LFSNvwf"
      },
      "source": [
        "# Seu código"
      ],
      "execution_count": 43,
      "outputs": []
    },
    {
      "cell_type": "markdown",
      "metadata": {
        "id": "x-cBXhQ5ObW_"
      },
      "source": [
        "## Análise (pergunta) 3.\n",
        "\n",
        "**Considerando os acidentes de motoristas homens e mulheres. Há diferença no número de acidentes quando viajam sozinhos ou  acompanhados?**\n",
        "\n",
        "**...**. ..."
      ]
    },
    {
      "cell_type": "code",
      "metadata": {
        "id": "NDRy9XcYYdjz",
        "cellView": "form"
      },
      "source": [
        "#@markdown ---\n",
        "#@title Q3. Aponte os principais recursos empregados nesta pergunta aqui:\n",
        "\n",
        "Q3a = \"Entre com estatísticas descritivas empregadas\" #@param [\"Entre com estatísticas descritivas empregadas\", \"Proporcoes dos dados\", \"Proporcoes de valores\", \"Medias e Desvio Padrao\", \"Quartis\", \"Frequencias Marginais dos Dados\"] {type:\"string\"}\n",
        "Q3b = \"Entre com uma transformacao de dados empregada\" #@param [\"Entre com uma transformacao de dados empregada\", \"Combinacao de dados (merge, join, concat)\", \"Mudancas de Formato (encode, substrings)\", \"Exclusao de Nulos (dropna)\", \"Adicao de Atributo Derivado\"] {type:\"string\"}\n",
        "Q3c = \"Entre com uma selecao de dados empregada\" #@param [\"Entre com uma selecao de dados empregada\", \"Agregacao simples\", \"Agregacao multipla\", \"nlargest/nsmallest\", \"Selecao de dados multicondicional\" , \"Selecao de dados simples\" ] {type:\"string\"}\n",
        "Q3f = \"\" #@param {type:\"string\"}\n"
      ],
      "execution_count": 44,
      "outputs": []
    },
    {
      "cell_type": "code",
      "metadata": {
        "id": "zJUfgz3IObXI"
      },
      "source": [
        "# Seu código"
      ],
      "execution_count": 45,
      "outputs": []
    },
    {
      "cell_type": "markdown",
      "metadata": {
        "id": "Xf_2fvLPPbPV"
      },
      "source": [
        "## Análise (pergunta) 4.\n",
        "\n",
        "**Qual a distribuição dos acidentes ao longo do ano. Existe um período de mais concentração dos acidentes?**\n",
        "\n",
        "**...**. ..."
      ]
    },
    {
      "cell_type": "code",
      "metadata": {
        "id": "J4a_5i5fYeBi",
        "cellView": "form"
      },
      "source": [
        "#@markdown ---\n",
        "#@title Q4. Aponte os principais recursos empregados nesta pergunta aqui:\n",
        "\n",
        "Q4a = \"Entre com estatísticas descritivas empregadas\" #@param [\"Entre com estatísticas descritivas empregadas\", \"Proporcoes dos dados\", \"Proporcoes de valores\", \"Medias e Desvio Padrao\", \"Quartis\", \"Frequencias Marginais dos Dados\"] {type:\"string\"}\n",
        "Q4b = \"Entre com uma transformacao de dados empregada\" #@param [\"Entre com uma transformacao de dados empregada\", \"Combinacao de dados (merge, join, concat)\", \"Mudancas de Formato (encode, substrings)\", \"Exclusao de Nulos (dropna)\", \"Adicao de Atributo Derivado\"] {type:\"string\"}\n",
        "Q4c = \"Entre com uma selecao de dados empregada\" #@param [\"Entre com uma selecao de dados empregada\", \"Agregacao simples\", \"Agregacao multipla\", \"nlargest/nsmallest\", \"Selecao de dados multicondicional\" , \"Selecao de dados simples\" ] {type:\"string\"}\n",
        "Q4f = \"\" #@param {type:\"string\"}"
      ],
      "execution_count": 46,
      "outputs": []
    },
    {
      "cell_type": "code",
      "metadata": {
        "id": "LP9lCqRTPbPV"
      },
      "source": [
        "# Seu código"
      ],
      "execution_count": 47,
      "outputs": []
    },
    {
      "cell_type": "markdown",
      "metadata": {
        "id": "1Pr_xUW_PpVR"
      },
      "source": [
        "## Análise (pergunta) 5.\n",
        "\n",
        "**Entre os motoristas envolvidos em acidentes quais apresentam maior dispersão de idade, homens ou mulheres?**\n",
        "\n",
        "**...**. ..."
      ]
    },
    {
      "cell_type": "code",
      "metadata": {
        "id": "MKds5VYaYeky",
        "cellView": "form"
      },
      "source": [
        "#@markdown ---\n",
        "#@title Q5. Aponte os principais recursos empregados nesta pergunta aqui:\n",
        "\n",
        "Q5a = \"Entre com estatísticas descritivas empregadas\" #@param [\"Entre com estatísticas descritivas empregadas\", \"Proporcoes dos dados\", \"Proporcoes de valores\", \"Medias e Desvio Padrao\", \"Quartis\", \"Frequencias Marginais dos Dados\"] {type:\"string\"}\n",
        "Q5b = \"Entre com uma transformacao de dados empregada\" #@param [\"Entre com uma transformacao de dados empregada\", \"Combinacao de dados (merge, join, concat)\", \"Mudancas de Formato (encode, substrings)\", \"Exclusao de Nulos (dropna)\", \"Adicao de Atributo Derivado\"] {type:\"string\"}\n",
        "Q5c = \"Entre com uma selecao de dados empregada\" #@param [\"Entre com uma selecao de dados empregada\", \"Agregacao simples\", \"Agregacao multipla\", \"nlargest/nsmallest\", \"Selecao de dados multicondicional\" , \"Selecao de dados simples\" ] {type:\"string\"}\n",
        "Q5f = \"\" #@param {type:\"string\"}"
      ],
      "execution_count": 48,
      "outputs": []
    },
    {
      "cell_type": "code",
      "metadata": {
        "id": "pL0x4e94PpVS"
      },
      "source": [
        "# Seu código"
      ],
      "execution_count": 49,
      "outputs": []
    },
    {
      "cell_type": "markdown",
      "metadata": {
        "id": "56Lu4QWzQGuM"
      },
      "source": [
        "## Análise (pergunta) 6.\n",
        "\n",
        "**A soma das despesas da administradora da Rodovia com acidentes fatais é inferior às despesas com os demais acidentes?**\n",
        "\n",
        "**...**. ..."
      ]
    },
    {
      "cell_type": "code",
      "metadata": {
        "id": "jH_sUHK2YfAA",
        "cellView": "form"
      },
      "source": [
        "#@markdown ---\n",
        "#@title Q6. Aponte os principais recursos empregados nesta pergunta aqui:\n",
        "\n",
        "Q6a = \"Entre com estatísticas descritivas empregadas\" #@param [\"Entre com estatísticas descritivas empregadas\", \"Proporcoes dos dados\", \"Proporcoes de valores\", \"Medias e Desvio Padrao\", \"Quartis\", \"Frequencias Marginais dos Dados\"] {type:\"string\"}\n",
        "Q6b = \"Entre com uma transformacao de dados empregada\" #@param [\"Entre com uma transformacao de dados empregada\", \"Combinacao de dados (merge, join, concat)\", \"Mudancas de Formato (encode, substrings)\", \"Exclusao de Nulos (dropna)\", \"Adicao de Atributo Derivado\"] {type:\"string\"}\n",
        "Q6c = \"Entre com uma selecao de dados empregada\" #@param [\"Entre com uma selecao de dados empregada\", \"Agregacao simples\", \"Agregacao multipla\", \"nlargest/nsmallest\", \"Selecao de dados multicondicional\" , \"Selecao de dados simples\" ] {type:\"string\"}\n",
        "Q6f = \"\" #@param {type:\"string\"}\n"
      ],
      "execution_count": 50,
      "outputs": []
    },
    {
      "cell_type": "code",
      "metadata": {
        "id": "8_DuxVOJQGuN"
      },
      "source": [
        "# Seu código"
      ],
      "execution_count": 51,
      "outputs": []
    },
    {
      "cell_type": "markdown",
      "metadata": {
        "id": "844kaIoSQbHH"
      },
      "source": [
        "# Conclusão\n",
        "\n",
        "Com base nas suas análises o que você conclui? Essa é uma parte importante do seu trabalho. A análise de dados busca identificar aspectos e confirmar hipóteses sobre o dados para a tomada de decisões. Por exemplo, se em uma análise você chega a conclusão, a partir dos dados, que no período da noite existem mais acidentes fatais por excesso de velocidade, você pode propor aumentar o pedágio ou intensificar a fiscalização nesse horário. Ou em uma base de salários, se você identifica menores salários para as mulheres na empresa, por propor mudanças no recrutamento. Assim, não deixe de incluir nas suas conclusões recomendações ou decisões que você tomaria com base em suas análises e que resultados esperaria alcançar. Justifique, em todos os casos as suas conclusões."
      ]
    },
    {
      "cell_type": "markdown",
      "metadata": {
        "id": "8crUBC3IQ3U_"
      },
      "source": [
        "---"
      ]
    },
    {
      "cell_type": "code",
      "metadata": {
        "id": "BluFtfHuCGzm",
        "colab": {
          "base_uri": "https://localhost:8080/"
        },
        "cellView": "form",
        "outputId": "fc705686-2859-47a2-925d-ffb075fdf011"
      },
      "source": [
        "#@markdown ---\n",
        "#@title Notas\n",
        "Completo = 10 #@param {type:\"slider\", min:0, max:10, step:1}\n",
        "#@markdown São apresentadas todas as 6 perguntas e empregadas estatísticas descritivas, seleções simples e múltiplas, agrupamentos e transformações dos dados. \n",
        "Relevancia = 9 #@param {type:\"slider\", min:0, max:10, step:1}\n",
        "#@markdown O tema é abordado corretamente e as perguntas e análises pertinentes ao problema. \n",
        "Tecnicas = 10 #@param {type:\"slider\", min:0, max:10, step:1}\n",
        "#@markdown As técnicas de gadas estatíticas dos dados, seleções, agrupamentos e transformações são corretamente aplicadas\n",
        "Apresentacao = 5 #@param {type:\"slider\", min:0, max:10, step:1}\n",
        "#@markdown A apresentação dos resultados é clara e objetiva \n",
        "Conclusao = 3 #@param {type:\"slider\", min:0, max:10, step:1}\n",
        "#@markdown As conclusões são justificadas e relevantes\n",
        "Bonus = 0.5 #@param {type:\"slider\", min:0, max:1, step:0.5}\n",
        "#@markdown A critério do professor por inovações na abordagem e no uso de técnicas de Análise de Dados\n",
        "\n",
        "#@markdown ### Sumário \n",
        "#@markdown ---\n",
        "\n",
        "resumo = {}\n",
        "for q in range(1,7):\n",
        "  resumo[q] = []\n",
        "  for t in ['a','b','c','f']:\n",
        "    exec( 'resumo[q].append(Q' + str(q) + t + ')')\n",
        "\n",
        "for q, recurso in resumo.items():\n",
        "  for i in range(len(recurso)):\n",
        "    if recurso[i][0:5] == 'Entre':\n",
        "      recurso[i] = 'None'\n",
        "\n",
        "print('Resumo')\n",
        "print(60*'-')\n",
        "for q in resumo:\n",
        "  print('*** Questão: ', q)\n",
        "  for r in resumo[q]:\n",
        "    print(r)\n",
        "\n"
      ],
      "execution_count": 52,
      "outputs": [
        {
          "output_type": "stream",
          "name": "stdout",
          "text": [
            "Resumo\n",
            "------------------------------------------------------------\n",
            "*** Questão:  1\n",
            "None\n",
            "None\n",
            "None\n",
            "\n",
            "*** Questão:  2\n",
            "None\n",
            "None\n",
            "None\n",
            "\n",
            "*** Questão:  3\n",
            "None\n",
            "None\n",
            "None\n",
            "\n",
            "*** Questão:  4\n",
            "None\n",
            "None\n",
            "None\n",
            "\n",
            "*** Questão:  5\n",
            "None\n",
            "None\n",
            "None\n",
            "\n",
            "*** Questão:  6\n",
            "None\n",
            "None\n",
            "None\n",
            "\n"
          ]
        }
      ]
    },
    {
      "cell_type": "code",
      "metadata": {
        "colab": {
          "base_uri": "https://localhost:8080/"
        },
        "id": "2Gqw7hUZHyle",
        "cellView": "form",
        "outputId": "441e71e7-96e2-445a-f54b-3b19f9572865"
      },
      "source": [
        "#@markdown ### Nota Final\n",
        "Nota1 = Completo + Relevancia + Tecnicas + Apresentacao + Conclusao \n",
        "\n",
        "nota = Nota1 / 5 + Bonus\n",
        "\n",
        "print(f'Nota final do trabalho {nota :.2f}')\n",
        "\n"
      ],
      "execution_count": 53,
      "outputs": [
        {
          "output_type": "stream",
          "name": "stdout",
          "text": [
            "Nota final do trabalho 7.90\n"
          ]
        }
      ]
    }
  ]
}