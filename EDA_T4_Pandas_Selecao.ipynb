{
  "nbformat": 4,
  "nbformat_minor": 0,
  "metadata": {
    "kernelspec": {
      "display_name": "Python 3",
      "language": "python",
      "name": "python3"
    },
    "language_info": {
      "codemirror_mode": {
        "name": "ipython",
        "version": 3
      },
      "file_extension": ".py",
      "mimetype": "text/x-python",
      "name": "python",
      "nbconvert_exporter": "python",
      "pygments_lexer": "ipython3",
      "version": "3.7.4"
    },
    "colab": {
      "name": "EDA_T4_Pandas_Selecao.ipynb",
      "provenance": [],
      "collapsed_sections": [],
      "include_colab_link": true
    }
  },
  "cells": [
    {
      "cell_type": "markdown",
      "metadata": {
        "id": "view-in-github",
        "colab_type": "text"
      },
      "source": [
        "<a href=\"https://colab.research.google.com/github/Rogerio-mack/Analise-de-Dados/blob/main/EDA_T4_Pandas_Selecao.ipynb\" target=\"_parent\"><img src=\"https://colab.research.google.com/assets/colab-badge.svg\" alt=\"Open In Colab\"/></a>"
      ]
    },
    {
      "cell_type": "markdown",
      "metadata": {
        "id": "bqXGIpvwnhQi"
      },
      "source": [
        "<head>\n",
        "  <meta name=\"author\" content=\"Rogério de Oliveira\">\n",
        "  <meta institution=\"author\" content=\"Universidade Presbiteriana Mackenzie\">\n",
        "</head>\n",
        "\n",
        "<img src=\"http://meusite.mackenzie.br/rogerio/mackenzie_logo/UPM.2_horizontal_vermelho.jpg\" width=300, align=\"right\"></a>\n",
        "<!-- <h1 align=left><font size = 6, style=\"color:rgb(200,0,0)\"> optional title </font></h1> -->\n"
      ]
    },
    {
      "cell_type": "markdown",
      "metadata": {
        "id": "KL4z4PmunhQj"
      },
      "source": [
        "<h1 align=left><font size = 6, style=\"color:rgb(200,0,0)\">Dataframes: Seleção de Dados</font></h1>\n",
        "<hr>"
      ]
    },
    {
      "cell_type": "markdown",
      "metadata": {
        "id": "ryAtW_gxnhQk"
      },
      "source": [
        "# Recursos\n",
        "\n",
        "Os recursos abaixo podem ser úteis para você aprender e empregar o **Pandas**.\n",
        "\n",
        "> [Pandas](https://pandas.pydata.org/)\n",
        "\n",
        "> [Pandas Cheat Sheet](https://pandas.pydata.org/Pandas_Cheat_Sheet.pdf) \n",
        "\n",
        "\n",
        "\n",
        "\n"
      ]
    },
    {
      "cell_type": "markdown",
      "metadata": {
        "id": "EyFbZVilnhQp"
      },
      "source": [
        "\n",
        "# Selecionando Sub Conjuntos de Dados no Pandas\n",
        "\n",
        "Na trilha anterior você aprendeu como obter dados com o Pandas, acessar características básicas de um DataFrame, sumarizar estatísticas dos dados, e selecionar e alterar dados de uma coluna como `pd.Series` do Pandas.\n",
        "\n",
        "Aqui vamos continuar e aprender como selecionar Sub Conjuntos de Dados de interesse em um DataFrame. Como vimos na trilha anterior, seleções dos dados são bastante importantes pois você nem sempre estará interessado em todos os dados. Por exemplo você pode ter dados de produção de várias unidades de uma fábrica, mas estar interessado somente em dados das unidades de São Paulo (seleção de linhas ou casos). Ou você pode ter dados de vendas com diversas informações dos produtos (cor, modelo etc.) e dos clientes (nome, CPF etc.) e querer apenas dados de peso e dimensões do produto, e da origem e destino da compra para analisar os preços de frete (seleção de colunas ou atributos). Mais frequentemente ainda você vai realizar as duas seleções criando *slices* dos dados.\n",
        "\n",
        "\n",
        "\n",
        "\n"
      ]
    },
    {
      "cell_type": "markdown",
      "metadata": {
        "id": "Ptp8cLhN6pqK"
      },
      "source": [
        "# Seleção de Colunas, Seleção de Linhas e de Linhas e Colunas\n",
        "\n",
        "<img src=\"https://pandas.pydata.org/docs/_images/03_subset_columns.svg\" width=320, align=\"center\">\n",
        "<img src=\"https://pandas.pydata.org/docs/_images/03_subset_rows.svg\" width=320, align=\"center\">\n",
        "<img src=\"https://pandas.pydata.org/docs/_images/03_subset_columns_rows.svg\" width=320, align=\"center\">\n",
        "\n"
      ]
    },
    {
      "cell_type": "markdown",
      "metadata": {
        "id": "96GHLNV9nhQs"
      },
      "source": [
        "# Import da biblioteca"
      ]
    },
    {
      "cell_type": "code",
      "metadata": {
        "id": "5b3eOLDUnhQt"
      },
      "source": [
        "import pandas as pd\n",
        "import numpy as np"
      ],
      "execution_count": null,
      "outputs": []
    },
    {
      "cell_type": "markdown",
      "metadata": {
        "id": "tB7zA_ZX9wYl"
      },
      "source": [
        "# Acessando os Dados\n",
        "\n",
        "Vamos empregar o mesmo conjunto exemplo de dados da trilha anterior e explorar alguns casos de seleção."
      ]
    },
    {
      "cell_type": "code",
      "metadata": {
        "colab": {
          "base_uri": "https://localhost:8080/",
          "height": 204
        },
        "id": "8Q0wqVYHjJHt",
        "outputId": "99cbfa0b-5d2e-412a-9faf-2261ed1a787b"
      },
      "source": [
        "df = pd.read_csv('http://meusite.mackenzie.br/rogerio/data_load/tips.csv') \n",
        "\n",
        "df.head()"
      ],
      "execution_count": null,
      "outputs": [
        {
          "output_type": "execute_result",
          "data": {
            "text/html": [
              "<div>\n",
              "<style scoped>\n",
              "    .dataframe tbody tr th:only-of-type {\n",
              "        vertical-align: middle;\n",
              "    }\n",
              "\n",
              "    .dataframe tbody tr th {\n",
              "        vertical-align: top;\n",
              "    }\n",
              "\n",
              "    .dataframe thead th {\n",
              "        text-align: right;\n",
              "    }\n",
              "</style>\n",
              "<table border=\"1\" class=\"dataframe\">\n",
              "  <thead>\n",
              "    <tr style=\"text-align: right;\">\n",
              "      <th></th>\n",
              "      <th>total_bill</th>\n",
              "      <th>tip</th>\n",
              "      <th>sex</th>\n",
              "      <th>smoker</th>\n",
              "      <th>day</th>\n",
              "      <th>time</th>\n",
              "      <th>size</th>\n",
              "    </tr>\n",
              "  </thead>\n",
              "  <tbody>\n",
              "    <tr>\n",
              "      <th>0</th>\n",
              "      <td>16.99</td>\n",
              "      <td>1.01</td>\n",
              "      <td>Female</td>\n",
              "      <td>No</td>\n",
              "      <td>Sun</td>\n",
              "      <td>Dinner</td>\n",
              "      <td>2</td>\n",
              "    </tr>\n",
              "    <tr>\n",
              "      <th>1</th>\n",
              "      <td>10.34</td>\n",
              "      <td>1.66</td>\n",
              "      <td>Male</td>\n",
              "      <td>No</td>\n",
              "      <td>Sun</td>\n",
              "      <td>Dinner</td>\n",
              "      <td>3</td>\n",
              "    </tr>\n",
              "    <tr>\n",
              "      <th>2</th>\n",
              "      <td>21.01</td>\n",
              "      <td>3.50</td>\n",
              "      <td>Male</td>\n",
              "      <td>No</td>\n",
              "      <td>Sun</td>\n",
              "      <td>Dinner</td>\n",
              "      <td>3</td>\n",
              "    </tr>\n",
              "    <tr>\n",
              "      <th>3</th>\n",
              "      <td>23.68</td>\n",
              "      <td>3.31</td>\n",
              "      <td>Male</td>\n",
              "      <td>No</td>\n",
              "      <td>Sun</td>\n",
              "      <td>Dinner</td>\n",
              "      <td>2</td>\n",
              "    </tr>\n",
              "    <tr>\n",
              "      <th>4</th>\n",
              "      <td>24.59</td>\n",
              "      <td>3.61</td>\n",
              "      <td>Female</td>\n",
              "      <td>No</td>\n",
              "      <td>Sun</td>\n",
              "      <td>Dinner</td>\n",
              "      <td>4</td>\n",
              "    </tr>\n",
              "  </tbody>\n",
              "</table>\n",
              "</div>"
            ],
            "text/plain": [
              "   total_bill   tip     sex smoker  day    time  size\n",
              "0       16.99  1.01  Female     No  Sun  Dinner     2\n",
              "1       10.34  1.66    Male     No  Sun  Dinner     3\n",
              "2       21.01  3.50    Male     No  Sun  Dinner     3\n",
              "3       23.68  3.31    Male     No  Sun  Dinner     2\n",
              "4       24.59  3.61  Female     No  Sun  Dinner     4"
            ]
          },
          "metadata": {
            "tags": []
          },
          "execution_count": 92
        }
      ]
    },
    {
      "cell_type": "markdown",
      "metadata": {
        "id": "N2hFLfSukCzI"
      },
      "source": [
        "# Selecionando UMA COLUNA (= pd.Series)\n",
        "\n",
        "Vamos recordar como selecionar uma coluna de dados como uma Série de dados do Pandas. A sintaxe é a seguinte:\n",
        "\n",
        "```\n",
        "df.nome_coluna\n",
        "\n",
        "df [ 'nome_coluna' ]\n",
        "```\n",
        "\n",
        "A primeira é mais simples, mas a segunda forma permite a seleção de dados com nomes de colunas com caracteres especiais, brancos ou nomes reservados (**experimente selecionar** `df.size`). "
      ]
    },
    {
      "cell_type": "code",
      "metadata": {
        "id": "Dczy19qIkA5j",
        "colab": {
          "base_uri": "https://localhost:8080/"
        },
        "outputId": "b031a9bb-5701-4c8b-e2e4-a67fc7d2d2e0"
      },
      "source": [
        "valores_de_tip = df.tip\n",
        "print( type( valores_de_tip ) )\n",
        "print( valores_de_tip )\n"
      ],
      "execution_count": null,
      "outputs": [
        {
          "output_type": "stream",
          "text": [
            "<class 'pandas.core.series.Series'>\n",
            "0      1.01\n",
            "1      1.66\n",
            "2      3.50\n",
            "3      3.31\n",
            "4      3.61\n",
            "       ... \n",
            "239    5.92\n",
            "240    2.00\n",
            "241    2.00\n",
            "242    1.75\n",
            "243    3.00\n",
            "Name: tip, Length: 244, dtype: float64\n"
          ],
          "name": "stdout"
        }
      ]
    },
    {
      "cell_type": "code",
      "metadata": {
        "colab": {
          "base_uri": "https://localhost:8080/"
        },
        "id": "6gwspN_qk33p",
        "outputId": "667758a5-8623-4d2f-ce67-34af73bb0ac3"
      },
      "source": [
        "print( df.tip.mean(), df.tip.sum(), df.tip.std() )"
      ],
      "execution_count": null,
      "outputs": [
        {
          "output_type": "stream",
          "text": [
            "2.9982786885245902 731.5799999999999 1.3836381890011826\n"
          ],
          "name": "stdout"
        }
      ]
    },
    {
      "cell_type": "code",
      "metadata": {
        "colab": {
          "base_uri": "https://localhost:8080/"
        },
        "id": "7wNfbdy_lCX7",
        "outputId": "6677a717-7afd-48ae-f28e-923b8e4f4043"
      },
      "source": [
        "df['tip'].mean()"
      ],
      "execution_count": null,
      "outputs": [
        {
          "output_type": "execute_result",
          "data": {
            "text/plain": [
              "2.9982786885245902"
            ]
          },
          "metadata": {
            "tags": []
          },
          "execution_count": 7
        }
      ]
    },
    {
      "cell_type": "markdown",
      "metadata": {
        "id": "7z190p2r_Y-V"
      },
      "source": [
        "Selecionada uma Série você poderá obter quaisquer informações desse conjunto de dados ou mesmo exibi-lo em um gráfico como veremos nas próximas trilhas."
      ]
    },
    {
      "cell_type": "code",
      "metadata": {
        "colab": {
          "base_uri": "https://localhost:8080/",
          "height": 265
        },
        "id": "fBAYYvIQ_vNi",
        "outputId": "794a140c-316d-42e6-a85a-13a434b37241"
      },
      "source": [
        "import matplotlib.pyplot as plt\n",
        "\n",
        "plt.plot(df.tip)\n",
        "plt.plot(df.total_bill)\n",
        "plt.show()"
      ],
      "execution_count": null,
      "outputs": [
        {
          "output_type": "display_data",
          "data": {
            "image/png": "[encoded data removed]",
            "text/plain": [
              "<Figure size 432x288 with 1 Axes>"
            ]
          },
          "metadata": {
            "tags": [],
            "needs_background": "light"
          }
        }
      ]
    },
    {
      "cell_type": "markdown",
      "metadata": {
        "id": "GG_zHqt4lbUt"
      },
      "source": [
        "# Selecionando UMA OU MAIS COLUNAS (= pd.DataFrame)\n",
        "\n",
        "<img src=\"https://pandas.pydata.org/docs/_images/03_subset_columns.svg\" width=320, align=\"center\">\n",
        "\n",
        "Você pode, entretanto, estar interessado na seleção de mais de uma coluna. Para isso você pode simplesmente informar para o Pandas uma **lista de atributos** a serem selecionados. \n",
        "\n",
        "```\n",
        "\n",
        "df [ [ <lista-de-colunas> ] ]\n",
        "\n",
        "```\n",
        "\n",
        "Diferentemente da seleção anterior que retorna um Série do Pandas, a seleção desse modo (uma ou mais colunas informadas em uma lista) retorna um DataFrame. **Essa é uma diferença importante que você deve entender**."
      ]
    },
    {
      "cell_type": "code",
      "metadata": {
        "colab": {
          "base_uri": "https://localhost:8080/"
        },
        "id": "RA9rcn_vlmc1",
        "outputId": "e4e1182d-d6f3-4c1a-c73d-227d82571e0f"
      },
      "source": [
        "df.columns"
      ],
      "execution_count": null,
      "outputs": [
        {
          "output_type": "execute_result",
          "data": {
            "text/plain": [
              "Index(['total_bill', 'tip', 'sex', 'smoker', 'day', 'time', 'size'], dtype='object')"
            ]
          },
          "metadata": {
            "tags": []
          },
          "execution_count": 10
        }
      ]
    },
    {
      "cell_type": "code",
      "metadata": {
        "colab": {
          "base_uri": "https://localhost:8080/",
          "height": 419
        },
        "id": "lU8JkdGxnUYv",
        "outputId": "a6f76e12-e1a2-49c0-92a4-900dc7f26bbd"
      },
      "source": [
        "df[ ['total_bill', 'tip', 'smoker'] ]   # repare que empregamos uma lista [ ] para indicar a seleção dos atributos"
      ],
      "execution_count": null,
      "outputs": [
        {
          "output_type": "execute_result",
          "data": {
            "text/html": [
              "<div>\n",
              "<style scoped>\n",
              "    .dataframe tbody tr th:only-of-type {\n",
              "        vertical-align: middle;\n",
              "    }\n",
              "\n",
              "    .dataframe tbody tr th {\n",
              "        vertical-align: top;\n",
              "    }\n",
              "\n",
              "    .dataframe thead th {\n",
              "        text-align: right;\n",
              "    }\n",
              "</style>\n",
              "<table border=\"1\" class=\"dataframe\">\n",
              "  <thead>\n",
              "    <tr style=\"text-align: right;\">\n",
              "      <th></th>\n",
              "      <th>total_bill</th>\n",
              "      <th>tip</th>\n",
              "      <th>smoker</th>\n",
              "    </tr>\n",
              "  </thead>\n",
              "  <tbody>\n",
              "    <tr>\n",
              "      <th>0</th>\n",
              "      <td>16.99</td>\n",
              "      <td>1.01</td>\n",
              "      <td>No</td>\n",
              "    </tr>\n",
              "    <tr>\n",
              "      <th>1</th>\n",
              "      <td>10.34</td>\n",
              "      <td>1.66</td>\n",
              "      <td>No</td>\n",
              "    </tr>\n",
              "    <tr>\n",
              "      <th>2</th>\n",
              "      <td>21.01</td>\n",
              "      <td>3.50</td>\n",
              "      <td>No</td>\n",
              "    </tr>\n",
              "    <tr>\n",
              "      <th>3</th>\n",
              "      <td>23.68</td>\n",
              "      <td>3.31</td>\n",
              "      <td>No</td>\n",
              "    </tr>\n",
              "    <tr>\n",
              "      <th>4</th>\n",
              "      <td>24.59</td>\n",
              "      <td>3.61</td>\n",
              "      <td>No</td>\n",
              "    </tr>\n",
              "    <tr>\n",
              "      <th>...</th>\n",
              "      <td>...</td>\n",
              "      <td>...</td>\n",
              "      <td>...</td>\n",
              "    </tr>\n",
              "    <tr>\n",
              "      <th>239</th>\n",
              "      <td>29.03</td>\n",
              "      <td>5.92</td>\n",
              "      <td>No</td>\n",
              "    </tr>\n",
              "    <tr>\n",
              "      <th>240</th>\n",
              "      <td>27.18</td>\n",
              "      <td>2.00</td>\n",
              "      <td>Yes</td>\n",
              "    </tr>\n",
              "    <tr>\n",
              "      <th>241</th>\n",
              "      <td>22.67</td>\n",
              "      <td>2.00</td>\n",
              "      <td>Yes</td>\n",
              "    </tr>\n",
              "    <tr>\n",
              "      <th>242</th>\n",
              "      <td>17.82</td>\n",
              "      <td>1.75</td>\n",
              "      <td>No</td>\n",
              "    </tr>\n",
              "    <tr>\n",
              "      <th>243</th>\n",
              "      <td>18.78</td>\n",
              "      <td>3.00</td>\n",
              "      <td>No</td>\n",
              "    </tr>\n",
              "  </tbody>\n",
              "</table>\n",
              "<p>244 rows × 3 columns</p>\n",
              "</div>"
            ],
            "text/plain": [
              "     total_bill   tip smoker\n",
              "0         16.99  1.01     No\n",
              "1         10.34  1.66     No\n",
              "2         21.01  3.50     No\n",
              "3         23.68  3.31     No\n",
              "4         24.59  3.61     No\n",
              "..          ...   ...    ...\n",
              "239       29.03  5.92     No\n",
              "240       27.18  2.00    Yes\n",
              "241       22.67  2.00    Yes\n",
              "242       17.82  1.75     No\n",
              "243       18.78  3.00     No\n",
              "\n",
              "[244 rows x 3 columns]"
            ]
          },
          "metadata": {
            "tags": []
          },
          "execution_count": 12
        }
      ]
    },
    {
      "cell_type": "code",
      "metadata": {
        "colab": {
          "base_uri": "https://localhost:8080/"
        },
        "id": "yzfgKEuPAsYB",
        "outputId": "6e77e128-6ff2-4e8c-d311-aea6bb6a035d"
      },
      "source": [
        "df[['total_bill', 'tip', 'smoker']].mean()"
      ],
      "execution_count": null,
      "outputs": [
        {
          "output_type": "execute_result",
          "data": {
            "text/plain": [
              "total_bill    19.785943\n",
              "tip            2.998279\n",
              "dtype: float64"
            ]
          },
          "metadata": {
            "tags": []
          },
          "execution_count": 11
        }
      ]
    },
    {
      "cell_type": "markdown",
      "metadata": {
        "id": "tYmh_2ruBS2s"
      },
      "source": [
        "Por exemplo, se você estiver interessado em explorar os valores de conta e gorjetas com relação somente sobre o habito de fumar ou não fumar, você pode simplesmente selecionar:"
      ]
    },
    {
      "cell_type": "code",
      "metadata": {
        "colab": {
          "base_uri": "https://localhost:8080/",
          "height": 204
        },
        "id": "eJAEoweOlvWG",
        "outputId": "9a982dc0-4c3e-4b1f-f7aa-c2d225f1831f"
      },
      "source": [
        "tips_fumantes = df[['total_bill', 'tip', 'smoker']]   \n",
        "tips_fumantes.head()                                                         "
      ],
      "execution_count": null,
      "outputs": [
        {
          "output_type": "execute_result",
          "data": {
            "text/html": [
              "<div>\n",
              "<style scoped>\n",
              "    .dataframe tbody tr th:only-of-type {\n",
              "        vertical-align: middle;\n",
              "    }\n",
              "\n",
              "    .dataframe tbody tr th {\n",
              "        vertical-align: top;\n",
              "    }\n",
              "\n",
              "    .dataframe thead th {\n",
              "        text-align: right;\n",
              "    }\n",
              "</style>\n",
              "<table border=\"1\" class=\"dataframe\">\n",
              "  <thead>\n",
              "    <tr style=\"text-align: right;\">\n",
              "      <th></th>\n",
              "      <th>total_bill</th>\n",
              "      <th>tip</th>\n",
              "      <th>smoker</th>\n",
              "    </tr>\n",
              "  </thead>\n",
              "  <tbody>\n",
              "    <tr>\n",
              "      <th>0</th>\n",
              "      <td>16.99</td>\n",
              "      <td>1.01</td>\n",
              "      <td>No</td>\n",
              "    </tr>\n",
              "    <tr>\n",
              "      <th>1</th>\n",
              "      <td>10.34</td>\n",
              "      <td>1.66</td>\n",
              "      <td>No</td>\n",
              "    </tr>\n",
              "    <tr>\n",
              "      <th>2</th>\n",
              "      <td>21.01</td>\n",
              "      <td>3.50</td>\n",
              "      <td>No</td>\n",
              "    </tr>\n",
              "    <tr>\n",
              "      <th>3</th>\n",
              "      <td>23.68</td>\n",
              "      <td>3.31</td>\n",
              "      <td>No</td>\n",
              "    </tr>\n",
              "    <tr>\n",
              "      <th>4</th>\n",
              "      <td>24.59</td>\n",
              "      <td>3.61</td>\n",
              "      <td>No</td>\n",
              "    </tr>\n",
              "  </tbody>\n",
              "</table>\n",
              "</div>"
            ],
            "text/plain": [
              "   total_bill   tip smoker\n",
              "0       16.99  1.01     No\n",
              "1       10.34  1.66     No\n",
              "2       21.01  3.50     No\n",
              "3       23.68  3.31     No\n",
              "4       24.59  3.61     No"
            ]
          },
          "metadata": {
            "tags": []
          },
          "execution_count": 32
        }
      ]
    },
    {
      "cell_type": "code",
      "metadata": {
        "colab": {
          "base_uri": "https://localhost:8080/"
        },
        "id": "qGnnVd-ZmdSa",
        "outputId": "45e9ba41-389c-4c85-d366-ee4159985dae"
      },
      "source": [
        "type(tips_fumantes)"
      ],
      "execution_count": null,
      "outputs": [
        {
          "output_type": "execute_result",
          "data": {
            "text/plain": [
              "pandas.core.frame.DataFrame"
            ]
          },
          "metadata": {
            "tags": []
          },
          "execution_count": 41
        }
      ]
    },
    {
      "cell_type": "code",
      "metadata": {
        "colab": {
          "base_uri": "https://localhost:8080/",
          "height": 297
        },
        "id": "lO_h0MHbmW6O",
        "outputId": "f59ccfdd-7b73-4b40-dfe4-7de34df50c6d"
      },
      "source": [
        "tips_fumantes.describe()"
      ],
      "execution_count": null,
      "outputs": [
        {
          "output_type": "execute_result",
          "data": {
            "text/html": [
              "<div>\n",
              "<style scoped>\n",
              "    .dataframe tbody tr th:only-of-type {\n",
              "        vertical-align: middle;\n",
              "    }\n",
              "\n",
              "    .dataframe tbody tr th {\n",
              "        vertical-align: top;\n",
              "    }\n",
              "\n",
              "    .dataframe thead th {\n",
              "        text-align: right;\n",
              "    }\n",
              "</style>\n",
              "<table border=\"1\" class=\"dataframe\">\n",
              "  <thead>\n",
              "    <tr style=\"text-align: right;\">\n",
              "      <th></th>\n",
              "      <th>total_bill</th>\n",
              "      <th>tip</th>\n",
              "    </tr>\n",
              "  </thead>\n",
              "  <tbody>\n",
              "    <tr>\n",
              "      <th>count</th>\n",
              "      <td>244.000000</td>\n",
              "      <td>244.000000</td>\n",
              "    </tr>\n",
              "    <tr>\n",
              "      <th>mean</th>\n",
              "      <td>19.785943</td>\n",
              "      <td>2.998279</td>\n",
              "    </tr>\n",
              "    <tr>\n",
              "      <th>std</th>\n",
              "      <td>8.902412</td>\n",
              "      <td>1.383638</td>\n",
              "    </tr>\n",
              "    <tr>\n",
              "      <th>min</th>\n",
              "      <td>3.070000</td>\n",
              "      <td>1.000000</td>\n",
              "    </tr>\n",
              "    <tr>\n",
              "      <th>25%</th>\n",
              "      <td>13.347500</td>\n",
              "      <td>2.000000</td>\n",
              "    </tr>\n",
              "    <tr>\n",
              "      <th>50%</th>\n",
              "      <td>17.795000</td>\n",
              "      <td>2.900000</td>\n",
              "    </tr>\n",
              "    <tr>\n",
              "      <th>75%</th>\n",
              "      <td>24.127500</td>\n",
              "      <td>3.562500</td>\n",
              "    </tr>\n",
              "    <tr>\n",
              "      <th>max</th>\n",
              "      <td>50.810000</td>\n",
              "      <td>10.000000</td>\n",
              "    </tr>\n",
              "  </tbody>\n",
              "</table>\n",
              "</div>"
            ],
            "text/plain": [
              "       total_bill         tip\n",
              "count  244.000000  244.000000\n",
              "mean    19.785943    2.998279\n",
              "std      8.902412    1.383638\n",
              "min      3.070000    1.000000\n",
              "25%     13.347500    2.000000\n",
              "50%     17.795000    2.900000\n",
              "75%     24.127500    3.562500\n",
              "max     50.810000   10.000000"
            ]
          },
          "metadata": {
            "tags": []
          },
          "execution_count": 40
        }
      ]
    },
    {
      "cell_type": "markdown",
      "metadata": {
        "id": "nbqFZMBMCBnT"
      },
      "source": [
        "Note que a seleção de **um único atributo a partir de uma lista** produz um DataFrame, enquanto a partir **somente do nome** do produz uma Série do Pandas. Repare a diferença das duas estruturas."
      ]
    },
    {
      "cell_type": "code",
      "metadata": {
        "colab": {
          "base_uri": "https://localhost:8080/"
        },
        "id": "xLyu2B5XmnT5",
        "outputId": "33466ff7-6bea-4240-fc90-388a41c3fd8a"
      },
      "source": [
        "tip_DataFrame = df[ ['tip'] ]\n",
        "print( type(tip_DataFrame) )\n",
        "print( tip_DataFrame )\n"
      ],
      "execution_count": null,
      "outputs": [
        {
          "output_type": "stream",
          "text": [
            "<class 'pandas.core.frame.DataFrame'>\n",
            "      tip\n",
            "0    1.01\n",
            "1    1.66\n",
            "2    3.50\n",
            "3    3.31\n",
            "4    3.61\n",
            "..    ...\n",
            "239  5.92\n",
            "240  2.00\n",
            "241  2.00\n",
            "242  1.75\n",
            "243  3.00\n",
            "\n",
            "[244 rows x 1 columns]\n"
          ],
          "name": "stdout"
        }
      ]
    },
    {
      "cell_type": "code",
      "metadata": {
        "colab": {
          "base_uri": "https://localhost:8080/"
        },
        "id": "Ste1scLcm2Xl",
        "outputId": "2adccd59-a724-497e-aebe-84fd4b7c737b"
      },
      "source": [
        "tip_Series = df['tip']\n",
        "print( type(tip_Series) )\n",
        "print( tip_Series )"
      ],
      "execution_count": null,
      "outputs": [
        {
          "output_type": "stream",
          "text": [
            "<class 'pandas.core.series.Series'>\n",
            "0      1.01\n",
            "1      1.66\n",
            "2      3.50\n",
            "3      3.31\n",
            "4      3.61\n",
            "       ... \n",
            "239    5.92\n",
            "240    2.00\n",
            "241    2.00\n",
            "242    1.75\n",
            "243    3.00\n",
            "Name: tip, Length: 244, dtype: float64\n"
          ],
          "name": "stdout"
        }
      ]
    },
    {
      "cell_type": "markdown",
      "metadata": {
        "id": "_-6mjY7OGG1y"
      },
      "source": [
        "E algumas operações são específicas para DataFrames, não sendo portanto aplicáveis a Séries, enquanto outras são específicas para Séries do Pandas."
      ]
    },
    {
      "cell_type": "code",
      "metadata": {
        "colab": {
          "base_uri": "https://localhost:8080/"
        },
        "id": "28YS5swrFQ-7",
        "outputId": "92be97fb-e8ca-43ab-e83f-eb646c3c7ab7"
      },
      "source": [
        "print( tip_DataFrame.info() )             # info() é um método só para DataFrames  \n",
        "try:\n",
        "  print( tip_Series.info() )\n",
        "except AttributeError as err:\n",
        "  print('Handling run-time error:', err) "
      ],
      "execution_count": null,
      "outputs": [
        {
          "output_type": "stream",
          "text": [
            "<class 'pandas.core.frame.DataFrame'>\n",
            "RangeIndex: 244 entries, 0 to 243\n",
            "Data columns (total 1 columns):\n",
            " #   Column  Non-Null Count  Dtype  \n",
            "---  ------  --------------  -----  \n",
            " 0   tip     244 non-null    float64\n",
            "dtypes: float64(1)\n",
            "memory usage: 2.0 KB\n",
            "None\n",
            "Handling run-time error: 'Series' object has no attribute 'info'\n"
          ],
          "name": "stdout"
        }
      ]
    },
    {
      "cell_type": "code",
      "metadata": {
        "colab": {
          "base_uri": "https://localhost:8080/"
        },
        "id": "E3fcS5N7C8wD",
        "outputId": "0d7a35e3-9936-4ff4-f370-7e65be1ea323"
      },
      "source": [
        "print( tip_Series.to_list() )            # to_list() é um método só para Series\n",
        "try:\n",
        "  print( tip_DataFrame.to_list() )\n",
        "except AttributeError as err:\n",
        "  print('Handling run-time error:', err)"
      ],
      "execution_count": null,
      "outputs": [
        {
          "output_type": "stream",
          "text": [
            "Handling run-time error: 'DataFrame' object has no attribute 'to_list'\n"
          ],
          "name": "stdout"
        }
      ]
    },
    {
      "cell_type": "markdown",
      "metadata": {
        "id": "vaB7jlLeGlGJ"
      },
      "source": [
        "**Dica** Para um único atributo, de forma geral, empregue a seleção de `pd.Series` quando estiver interessado apenas em selecionar um atributo e a seleção `pd.DataFrame` quando essa seleção será empregada para criação de outros conjuntos de dados (merge de tabelas, novos conjuntos de dados etc.)."
      ]
    },
    {
      "cell_type": "markdown",
      "metadata": {
        "id": "tdhcbRo5ntzV"
      },
      "source": [
        "# Selecionar Linhas \n",
        "\n",
        "<img src=\"https://pandas.pydata.org/docs/_images/03_subset_rows.svg\" width=320, align=\"center\">\n",
        "\n",
        "A seleção de linhas é mais interessante por que podemos especificar condições para os valores que buscamos. Por exemplo, você poderia indicar o tipo de peças que deseja ver em um DataFrame com dados de vários componentes, ou indicar a cidade das unidades de fábrica que você tem os dados de produção.\n",
        "\n",
        "Seu critério de seleção é um predicado lógico e você deve empregar a seguinte sintaxe: \n",
        "\n",
        "```\n",
        "df [ <critério de seleção> ]\n",
        "```\n",
        "\n",
        "Exemplos\n",
        "\n",
        "```\n",
        "df [ nome_coluna == valor ]\n",
        "df [ nome_coluna != valor ]\n",
        "df [ nome_coluna > valor ]\n",
        "```"
      ]
    },
    {
      "cell_type": "markdown",
      "metadata": {
        "id": "MDLzlemMIOcB"
      },
      "source": [
        "Assim, podemos selecionar os dados somente dos não fumantes,"
      ]
    },
    {
      "cell_type": "code",
      "metadata": {
        "colab": {
          "base_uri": "https://localhost:8080/",
          "height": 419
        },
        "id": "eaOZRmZWns9a",
        "outputId": "661dca70-0f9e-4a8c-8c54-1f103130c066"
      },
      "source": [
        "tips_fumantes[ tips_fumantes.smoker == 'No' ]"
      ],
      "execution_count": null,
      "outputs": [
        {
          "output_type": "execute_result",
          "data": {
            "text/html": [
              "<div>\n",
              "<style scoped>\n",
              "    .dataframe tbody tr th:only-of-type {\n",
              "        vertical-align: middle;\n",
              "    }\n",
              "\n",
              "    .dataframe tbody tr th {\n",
              "        vertical-align: top;\n",
              "    }\n",
              "\n",
              "    .dataframe thead th {\n",
              "        text-align: right;\n",
              "    }\n",
              "</style>\n",
              "<table border=\"1\" class=\"dataframe\">\n",
              "  <thead>\n",
              "    <tr style=\"text-align: right;\">\n",
              "      <th></th>\n",
              "      <th>total_bill</th>\n",
              "      <th>tip</th>\n",
              "      <th>smoker</th>\n",
              "    </tr>\n",
              "  </thead>\n",
              "  <tbody>\n",
              "    <tr>\n",
              "      <th>0</th>\n",
              "      <td>16.99</td>\n",
              "      <td>1.01</td>\n",
              "      <td>No</td>\n",
              "    </tr>\n",
              "    <tr>\n",
              "      <th>1</th>\n",
              "      <td>10.34</td>\n",
              "      <td>1.66</td>\n",
              "      <td>No</td>\n",
              "    </tr>\n",
              "    <tr>\n",
              "      <th>2</th>\n",
              "      <td>21.01</td>\n",
              "      <td>3.50</td>\n",
              "      <td>No</td>\n",
              "    </tr>\n",
              "    <tr>\n",
              "      <th>3</th>\n",
              "      <td>23.68</td>\n",
              "      <td>3.31</td>\n",
              "      <td>No</td>\n",
              "    </tr>\n",
              "    <tr>\n",
              "      <th>4</th>\n",
              "      <td>24.59</td>\n",
              "      <td>3.61</td>\n",
              "      <td>No</td>\n",
              "    </tr>\n",
              "    <tr>\n",
              "      <th>...</th>\n",
              "      <td>...</td>\n",
              "      <td>...</td>\n",
              "      <td>...</td>\n",
              "    </tr>\n",
              "    <tr>\n",
              "      <th>235</th>\n",
              "      <td>10.07</td>\n",
              "      <td>1.25</td>\n",
              "      <td>No</td>\n",
              "    </tr>\n",
              "    <tr>\n",
              "      <th>238</th>\n",
              "      <td>35.83</td>\n",
              "      <td>4.67</td>\n",
              "      <td>No</td>\n",
              "    </tr>\n",
              "    <tr>\n",
              "      <th>239</th>\n",
              "      <td>29.03</td>\n",
              "      <td>5.92</td>\n",
              "      <td>No</td>\n",
              "    </tr>\n",
              "    <tr>\n",
              "      <th>242</th>\n",
              "      <td>17.82</td>\n",
              "      <td>1.75</td>\n",
              "      <td>No</td>\n",
              "    </tr>\n",
              "    <tr>\n",
              "      <th>243</th>\n",
              "      <td>18.78</td>\n",
              "      <td>3.00</td>\n",
              "      <td>No</td>\n",
              "    </tr>\n",
              "  </tbody>\n",
              "</table>\n",
              "<p>151 rows × 3 columns</p>\n",
              "</div>"
            ],
            "text/plain": [
              "     total_bill   tip smoker\n",
              "0         16.99  1.01     No\n",
              "1         10.34  1.66     No\n",
              "2         21.01  3.50     No\n",
              "3         23.68  3.31     No\n",
              "4         24.59  3.61     No\n",
              "..          ...   ...    ...\n",
              "235       10.07  1.25     No\n",
              "238       35.83  4.67     No\n",
              "239       29.03  5.92     No\n",
              "242       17.82  1.75     No\n",
              "243       18.78  3.00     No\n",
              "\n",
              "[151 rows x 3 columns]"
            ]
          },
          "metadata": {
            "tags": []
          },
          "execution_count": 33
        }
      ]
    },
    {
      "cell_type": "markdown",
      "metadata": {
        "id": "HrBMjXbmIUK4"
      },
      "source": [
        "Ou somente dos fumantes,"
      ]
    },
    {
      "cell_type": "code",
      "metadata": {
        "colab": {
          "base_uri": "https://localhost:8080/",
          "height": 419
        },
        "id": "be6MTtrbovUJ",
        "outputId": "a3dcbcfe-3522-4222-e870-0bcc3a49e0a4"
      },
      "source": [
        "tips_fumantes[ tips_fumantes.smoker == 'Yes' ]"
      ],
      "execution_count": null,
      "outputs": [
        {
          "output_type": "execute_result",
          "data": {
            "text/html": [
              "<div>\n",
              "<style scoped>\n",
              "    .dataframe tbody tr th:only-of-type {\n",
              "        vertical-align: middle;\n",
              "    }\n",
              "\n",
              "    .dataframe tbody tr th {\n",
              "        vertical-align: top;\n",
              "    }\n",
              "\n",
              "    .dataframe thead th {\n",
              "        text-align: right;\n",
              "    }\n",
              "</style>\n",
              "<table border=\"1\" class=\"dataframe\">\n",
              "  <thead>\n",
              "    <tr style=\"text-align: right;\">\n",
              "      <th></th>\n",
              "      <th>total_bill</th>\n",
              "      <th>tip</th>\n",
              "      <th>smoker</th>\n",
              "    </tr>\n",
              "  </thead>\n",
              "  <tbody>\n",
              "    <tr>\n",
              "      <th>56</th>\n",
              "      <td>38.01</td>\n",
              "      <td>3.00</td>\n",
              "      <td>Yes</td>\n",
              "    </tr>\n",
              "    <tr>\n",
              "      <th>58</th>\n",
              "      <td>11.24</td>\n",
              "      <td>1.76</td>\n",
              "      <td>Yes</td>\n",
              "    </tr>\n",
              "    <tr>\n",
              "      <th>60</th>\n",
              "      <td>20.29</td>\n",
              "      <td>3.21</td>\n",
              "      <td>Yes</td>\n",
              "    </tr>\n",
              "    <tr>\n",
              "      <th>61</th>\n",
              "      <td>13.81</td>\n",
              "      <td>2.00</td>\n",
              "      <td>Yes</td>\n",
              "    </tr>\n",
              "    <tr>\n",
              "      <th>62</th>\n",
              "      <td>11.02</td>\n",
              "      <td>1.98</td>\n",
              "      <td>Yes</td>\n",
              "    </tr>\n",
              "    <tr>\n",
              "      <th>...</th>\n",
              "      <td>...</td>\n",
              "      <td>...</td>\n",
              "      <td>...</td>\n",
              "    </tr>\n",
              "    <tr>\n",
              "      <th>234</th>\n",
              "      <td>15.53</td>\n",
              "      <td>3.00</td>\n",
              "      <td>Yes</td>\n",
              "    </tr>\n",
              "    <tr>\n",
              "      <th>236</th>\n",
              "      <td>12.60</td>\n",
              "      <td>1.00</td>\n",
              "      <td>Yes</td>\n",
              "    </tr>\n",
              "    <tr>\n",
              "      <th>237</th>\n",
              "      <td>32.83</td>\n",
              "      <td>1.17</td>\n",
              "      <td>Yes</td>\n",
              "    </tr>\n",
              "    <tr>\n",
              "      <th>240</th>\n",
              "      <td>27.18</td>\n",
              "      <td>2.00</td>\n",
              "      <td>Yes</td>\n",
              "    </tr>\n",
              "    <tr>\n",
              "      <th>241</th>\n",
              "      <td>22.67</td>\n",
              "      <td>2.00</td>\n",
              "      <td>Yes</td>\n",
              "    </tr>\n",
              "  </tbody>\n",
              "</table>\n",
              "<p>93 rows × 3 columns</p>\n",
              "</div>"
            ],
            "text/plain": [
              "     total_bill   tip smoker\n",
              "56        38.01  3.00    Yes\n",
              "58        11.24  1.76    Yes\n",
              "60        20.29  3.21    Yes\n",
              "61        13.81  2.00    Yes\n",
              "62        11.02  1.98    Yes\n",
              "..          ...   ...    ...\n",
              "234       15.53  3.00    Yes\n",
              "236       12.60  1.00    Yes\n",
              "237       32.83  1.17    Yes\n",
              "240       27.18  2.00    Yes\n",
              "241       22.67  2.00    Yes\n",
              "\n",
              "[93 rows x 3 columns]"
            ]
          },
          "metadata": {
            "tags": []
          },
          "execution_count": 34
        }
      ]
    },
    {
      "cell_type": "markdown",
      "metadata": {
        "id": "RuHSo-GdIbHJ"
      },
      "source": [
        "E podemos com isso já responder algumas questões interessantes que envolvem a proporção dos dados de fumantes e não fumantes."
      ]
    },
    {
      "cell_type": "markdown",
      "metadata": {
        "id": "qdBiXW2JIjAe"
      },
      "source": [
        "### Qual o percental de fumantes nos nossos dados?"
      ]
    },
    {
      "cell_type": "code",
      "metadata": {
        "colab": {
          "base_uri": "https://localhost:8080/"
        },
        "id": "_1_8EgXApOZE",
        "outputId": "bed7aa8e-6297-4958-a5f4-f24d6abbd09c"
      },
      "source": [
        "len( tips_fumantes[ tips_fumantes.smoker == 'Yes' ] ) / len( tips_fumantes )"
      ],
      "execution_count": null,
      "outputs": [
        {
          "output_type": "execute_result",
          "data": {
            "text/plain": [
              "0.38114754098360654"
            ]
          },
          "metadata": {
            "tags": []
          },
          "execution_count": 35
        }
      ]
    },
    {
      "cell_type": "markdown",
      "metadata": {
        "id": "AWXIM91FrMkH"
      },
      "source": [
        "# Seleção de Linhas e Colunas\n",
        "\n",
        "<img src=\"https://pandas.pydata.org/docs/_images/03_subset_columns_rows.svg\" width=320, align=\"center\">\n",
        "\n",
        "O uso mais geral é quando fazemos seleções de linhas e colunas dos dados, e às vezes nos referimos a esse Sub Conjunto dos Dados de *Slice* (Fatia dos Dados).\n",
        "\n",
        "A boa prática indica que sempre faremos primeiro a seleção das linhas,\n",
        "\n",
        "```\n",
        "df [ <critério de seleção> ] ...\n",
        "\n",
        "...Selecionando uma coluna\n",
        "df [ <critério de seleção> ].nome_coluna                  pd.Series\n",
        "df [ <critério de seleção> ]['nome_coluna']\n",
        "\n",
        "...Selecionando uma ou mais colunas\n",
        "df [ <critério de seleção> ][ [<lista-de-colunas>] ]      pd.DataFrame\n",
        "\n",
        "```\n"
      ]
    },
    {
      "cell_type": "markdown",
      "metadata": {
        "id": "b-yTIEivJv-K"
      },
      "source": [
        "Com isso nossa análise pode fazer muito mais perguntas, que não só sobre o total dos dados e suas proporções."
      ]
    },
    {
      "cell_type": "markdown",
      "metadata": {
        "id": "K0zJ7f0gsDHb"
      },
      "source": [
        "### Fumantes pagam mais gorjeta ou total de contas (em média) que não fumantes? "
      ]
    },
    {
      "cell_type": "code",
      "metadata": {
        "colab": {
          "base_uri": "https://localhost:8080/"
        },
        "id": "pihtXjD1r9Qn",
        "outputId": "f44de4de-8b1d-498a-9a05-66ac375b1650"
      },
      "source": [
        "tips_fumantes[ tips_fumantes.smoker == 'Yes' ]['tip'].mean()  "
      ],
      "execution_count": null,
      "outputs": [
        {
          "output_type": "execute_result",
          "data": {
            "text/plain": [
              "3.008709677419355"
            ]
          },
          "metadata": {
            "tags": []
          },
          "execution_count": 40
        }
      ]
    },
    {
      "cell_type": "code",
      "metadata": {
        "colab": {
          "base_uri": "https://localhost:8080/"
        },
        "id": "YWBMgCYjt-nJ",
        "outputId": "c8fd0c81-279b-4207-899b-f68a3ddd9abf"
      },
      "source": [
        "tips_fumantes[ tips_fumantes.smoker == 'No' ]['tip'].mean()"
      ],
      "execution_count": null,
      "outputs": [
        {
          "output_type": "execute_result",
          "data": {
            "text/plain": [
              "2.9918543046357624"
            ]
          },
          "metadata": {
            "tags": []
          },
          "execution_count": 41
        }
      ]
    },
    {
      "cell_type": "code",
      "metadata": {
        "colab": {
          "base_uri": "https://localhost:8080/"
        },
        "id": "N5ly_hHsLOcn",
        "outputId": "86c15106-2325-42a4-a176-d73018fb1100"
      },
      "source": [
        "tips_fumantes[ tips_fumantes.smoker == 'Yes' ].total_bill.mean()"
      ],
      "execution_count": null,
      "outputs": [
        {
          "output_type": "execute_result",
          "data": {
            "text/plain": [
              "20.756344086021507"
            ]
          },
          "metadata": {
            "tags": []
          },
          "execution_count": 44
        }
      ]
    },
    {
      "cell_type": "code",
      "metadata": {
        "colab": {
          "base_uri": "https://localhost:8080/"
        },
        "id": "XFStMOngLWIH",
        "outputId": "ea33a3bb-4e0e-4648-d89a-c98a57bec2e1"
      },
      "source": [
        "tips_fumantes[ tips_fumantes.smoker == 'No' ].total_bill.mean()"
      ],
      "execution_count": null,
      "outputs": [
        {
          "output_type": "execute_result",
          "data": {
            "text/plain": [
              "19.18827814569537"
            ]
          },
          "metadata": {
            "tags": []
          },
          "execution_count": 43
        }
      ]
    },
    {
      "cell_type": "markdown",
      "metadata": {
        "id": "bQ8Hcu0dLcVQ"
      },
      "source": [
        "### Exercício. Tente você. Qual a diferença percentual do valor de conta pago por fumantes e não fumantes?"
      ]
    },
    {
      "cell_type": "code",
      "metadata": {
        "colab": {
          "base_uri": "https://localhost:8080/"
        },
        "id": "l2hprXk-L0YZ",
        "outputId": "086bb564-d876-4e90-cf0a-fb3eed14c4e9"
      },
      "source": [
        ""
      ],
      "execution_count": null,
      "outputs": [
        {
          "output_type": "execute_result",
          "data": {
            "text/plain": [
              "0.0817199921962728"
            ]
          },
          "metadata": {
            "tags": []
          },
          "execution_count": 49
        }
      ]
    },
    {
      "cell_type": "markdown",
      "metadata": {
        "id": "h85402thLEjH"
      },
      "source": [
        "### Exercício. Tente você. Quem em média paga mais gorjetas, homens ou mulheres?\n",
        "\n",
        "**Dica** Empregue aqui o DataFrame original, pois tips_fumantes` não tem o atributo `sex` para seleção."
      ]
    },
    {
      "cell_type": "code",
      "metadata": {
        "colab": {
          "base_uri": "https://localhost:8080/"
        },
        "id": "kjoz29VuuU7V",
        "outputId": "329125dd-86c9-4fd0-c33f-8845caa52093"
      },
      "source": [
        ""
      ],
      "execution_count": null,
      "outputs": [
        {
          "output_type": "execute_result",
          "data": {
            "text/plain": [
              "2.833448275862069"
            ]
          },
          "metadata": {
            "tags": []
          },
          "execution_count": 50
        }
      ]
    },
    {
      "cell_type": "code",
      "metadata": {
        "colab": {
          "base_uri": "https://localhost:8080/"
        },
        "id": "Zbna7RnTud_w",
        "outputId": "e9ece7d4-2f94-41b5-acb4-b14b1a4a67cf"
      },
      "source": [
        ""
      ],
      "execution_count": null,
      "outputs": [
        {
          "output_type": "execute_result",
          "data": {
            "text/plain": [
              "3.0896178343949052"
            ]
          },
          "metadata": {
            "tags": []
          },
          "execution_count": 51
        }
      ]
    },
    {
      "cell_type": "markdown",
      "metadata": {
        "id": "2JhE9V4lSWnz"
      },
      "source": [
        "# AND, OR, NOT Conditions em Pandas\n",
        "\n",
        "Para combinar critérios de seleção você pode empregar os operadores lógicos `&` (AND), '|' (OR) ou '!' (NOT), sendo necessário a inclusão de parênteses nas seleções. "
      ]
    },
    {
      "cell_type": "code",
      "metadata": {
        "colab": {
          "base_uri": "https://localhost:8080/",
          "height": 1000
        },
        "id": "oZi7zyotSV8M",
        "outputId": "65837ecc-e97e-4275-828e-58e5593531bb"
      },
      "source": [
        "df[ (df.sex == 'Male') & (df.smoker == 'Yes') ]"
      ],
      "execution_count": null,
      "outputs": [
        {
          "output_type": "execute_result",
          "data": {
            "text/html": [
              "<div>\n",
              "<style scoped>\n",
              "    .dataframe tbody tr th:only-of-type {\n",
              "        vertical-align: middle;\n",
              "    }\n",
              "\n",
              "    .dataframe tbody tr th {\n",
              "        vertical-align: top;\n",
              "    }\n",
              "\n",
              "    .dataframe thead th {\n",
              "        text-align: right;\n",
              "    }\n",
              "</style>\n",
              "<table border=\"1\" class=\"dataframe\">\n",
              "  <thead>\n",
              "    <tr style=\"text-align: right;\">\n",
              "      <th></th>\n",
              "      <th>total_bill</th>\n",
              "      <th>tip</th>\n",
              "      <th>sex</th>\n",
              "      <th>smoker</th>\n",
              "      <th>day</th>\n",
              "      <th>time</th>\n",
              "      <th>size</th>\n",
              "    </tr>\n",
              "  </thead>\n",
              "  <tbody>\n",
              "    <tr>\n",
              "      <th>56</th>\n",
              "      <td>38.01</td>\n",
              "      <td>3.00</td>\n",
              "      <td>Male</td>\n",
              "      <td>Yes</td>\n",
              "      <td>Sat</td>\n",
              "      <td>Dinner</td>\n",
              "      <td>4</td>\n",
              "    </tr>\n",
              "    <tr>\n",
              "      <th>58</th>\n",
              "      <td>11.24</td>\n",
              "      <td>1.76</td>\n",
              "      <td>Male</td>\n",
              "      <td>Yes</td>\n",
              "      <td>Sat</td>\n",
              "      <td>Dinner</td>\n",
              "      <td>2</td>\n",
              "    </tr>\n",
              "    <tr>\n",
              "      <th>60</th>\n",
              "      <td>20.29</td>\n",
              "      <td>3.21</td>\n",
              "      <td>Male</td>\n",
              "      <td>Yes</td>\n",
              "      <td>Sat</td>\n",
              "      <td>Dinner</td>\n",
              "      <td>2</td>\n",
              "    </tr>\n",
              "    <tr>\n",
              "      <th>61</th>\n",
              "      <td>13.81</td>\n",
              "      <td>2.00</td>\n",
              "      <td>Male</td>\n",
              "      <td>Yes</td>\n",
              "      <td>Sat</td>\n",
              "      <td>Dinner</td>\n",
              "      <td>2</td>\n",
              "    </tr>\n",
              "    <tr>\n",
              "      <th>62</th>\n",
              "      <td>11.02</td>\n",
              "      <td>1.98</td>\n",
              "      <td>Male</td>\n",
              "      <td>Yes</td>\n",
              "      <td>Sat</td>\n",
              "      <td>Dinner</td>\n",
              "      <td>2</td>\n",
              "    </tr>\n",
              "    <tr>\n",
              "      <th>63</th>\n",
              "      <td>18.29</td>\n",
              "      <td>3.76</td>\n",
              "      <td>Male</td>\n",
              "      <td>Yes</td>\n",
              "      <td>Sat</td>\n",
              "      <td>Dinner</td>\n",
              "      <td>4</td>\n",
              "    </tr>\n",
              "    <tr>\n",
              "      <th>69</th>\n",
              "      <td>15.01</td>\n",
              "      <td>2.09</td>\n",
              "      <td>Male</td>\n",
              "      <td>Yes</td>\n",
              "      <td>Sat</td>\n",
              "      <td>Dinner</td>\n",
              "      <td>2</td>\n",
              "    </tr>\n",
              "    <tr>\n",
              "      <th>76</th>\n",
              "      <td>17.92</td>\n",
              "      <td>3.08</td>\n",
              "      <td>Male</td>\n",
              "      <td>Yes</td>\n",
              "      <td>Sat</td>\n",
              "      <td>Dinner</td>\n",
              "      <td>2</td>\n",
              "    </tr>\n",
              "    <tr>\n",
              "      <th>80</th>\n",
              "      <td>19.44</td>\n",
              "      <td>3.00</td>\n",
              "      <td>Male</td>\n",
              "      <td>Yes</td>\n",
              "      <td>Thur</td>\n",
              "      <td>Lunch</td>\n",
              "      <td>2</td>\n",
              "    </tr>\n",
              "    <tr>\n",
              "      <th>83</th>\n",
              "      <td>32.68</td>\n",
              "      <td>5.00</td>\n",
              "      <td>Male</td>\n",
              "      <td>Yes</td>\n",
              "      <td>Thur</td>\n",
              "      <td>Lunch</td>\n",
              "      <td>2</td>\n",
              "    </tr>\n",
              "    <tr>\n",
              "      <th>90</th>\n",
              "      <td>28.97</td>\n",
              "      <td>3.00</td>\n",
              "      <td>Male</td>\n",
              "      <td>Yes</td>\n",
              "      <td>Fri</td>\n",
              "      <td>Dinner</td>\n",
              "      <td>2</td>\n",
              "    </tr>\n",
              "    <tr>\n",
              "      <th>95</th>\n",
              "      <td>40.17</td>\n",
              "      <td>4.73</td>\n",
              "      <td>Male</td>\n",
              "      <td>Yes</td>\n",
              "      <td>Fri</td>\n",
              "      <td>Dinner</td>\n",
              "      <td>4</td>\n",
              "    </tr>\n",
              "    <tr>\n",
              "      <th>96</th>\n",
              "      <td>27.28</td>\n",
              "      <td>4.00</td>\n",
              "      <td>Male</td>\n",
              "      <td>Yes</td>\n",
              "      <td>Fri</td>\n",
              "      <td>Dinner</td>\n",
              "      <td>2</td>\n",
              "    </tr>\n",
              "    <tr>\n",
              "      <th>97</th>\n",
              "      <td>12.03</td>\n",
              "      <td>1.50</td>\n",
              "      <td>Male</td>\n",
              "      <td>Yes</td>\n",
              "      <td>Fri</td>\n",
              "      <td>Dinner</td>\n",
              "      <td>2</td>\n",
              "    </tr>\n",
              "    <tr>\n",
              "      <th>98</th>\n",
              "      <td>21.01</td>\n",
              "      <td>3.00</td>\n",
              "      <td>Male</td>\n",
              "      <td>Yes</td>\n",
              "      <td>Fri</td>\n",
              "      <td>Dinner</td>\n",
              "      <td>2</td>\n",
              "    </tr>\n",
              "    <tr>\n",
              "      <th>105</th>\n",
              "      <td>15.36</td>\n",
              "      <td>1.64</td>\n",
              "      <td>Male</td>\n",
              "      <td>Yes</td>\n",
              "      <td>Sat</td>\n",
              "      <td>Dinner</td>\n",
              "      <td>2</td>\n",
              "    </tr>\n",
              "    <tr>\n",
              "      <th>106</th>\n",
              "      <td>20.49</td>\n",
              "      <td>4.06</td>\n",
              "      <td>Male</td>\n",
              "      <td>Yes</td>\n",
              "      <td>Sat</td>\n",
              "      <td>Dinner</td>\n",
              "      <td>2</td>\n",
              "    </tr>\n",
              "    <tr>\n",
              "      <th>107</th>\n",
              "      <td>25.21</td>\n",
              "      <td>4.29</td>\n",
              "      <td>Male</td>\n",
              "      <td>Yes</td>\n",
              "      <td>Sat</td>\n",
              "      <td>Dinner</td>\n",
              "      <td>2</td>\n",
              "    </tr>\n",
              "    <tr>\n",
              "      <th>138</th>\n",
              "      <td>16.00</td>\n",
              "      <td>2.00</td>\n",
              "      <td>Male</td>\n",
              "      <td>Yes</td>\n",
              "      <td>Thur</td>\n",
              "      <td>Lunch</td>\n",
              "      <td>2</td>\n",
              "    </tr>\n",
              "    <tr>\n",
              "      <th>170</th>\n",
              "      <td>50.81</td>\n",
              "      <td>10.00</td>\n",
              "      <td>Male</td>\n",
              "      <td>Yes</td>\n",
              "      <td>Sat</td>\n",
              "      <td>Dinner</td>\n",
              "      <td>3</td>\n",
              "    </tr>\n",
              "    <tr>\n",
              "      <th>171</th>\n",
              "      <td>15.81</td>\n",
              "      <td>3.16</td>\n",
              "      <td>Male</td>\n",
              "      <td>Yes</td>\n",
              "      <td>Sat</td>\n",
              "      <td>Dinner</td>\n",
              "      <td>2</td>\n",
              "    </tr>\n",
              "    <tr>\n",
              "      <th>172</th>\n",
              "      <td>7.25</td>\n",
              "      <td>5.15</td>\n",
              "      <td>Male</td>\n",
              "      <td>Yes</td>\n",
              "      <td>Sun</td>\n",
              "      <td>Dinner</td>\n",
              "      <td>2</td>\n",
              "    </tr>\n",
              "    <tr>\n",
              "      <th>173</th>\n",
              "      <td>31.85</td>\n",
              "      <td>3.18</td>\n",
              "      <td>Male</td>\n",
              "      <td>Yes</td>\n",
              "      <td>Sun</td>\n",
              "      <td>Dinner</td>\n",
              "      <td>2</td>\n",
              "    </tr>\n",
              "    <tr>\n",
              "      <th>174</th>\n",
              "      <td>16.82</td>\n",
              "      <td>4.00</td>\n",
              "      <td>Male</td>\n",
              "      <td>Yes</td>\n",
              "      <td>Sun</td>\n",
              "      <td>Dinner</td>\n",
              "      <td>2</td>\n",
              "    </tr>\n",
              "    <tr>\n",
              "      <th>175</th>\n",
              "      <td>32.90</td>\n",
              "      <td>3.11</td>\n",
              "      <td>Male</td>\n",
              "      <td>Yes</td>\n",
              "      <td>Sun</td>\n",
              "      <td>Dinner</td>\n",
              "      <td>2</td>\n",
              "    </tr>\n",
              "    <tr>\n",
              "      <th>176</th>\n",
              "      <td>17.89</td>\n",
              "      <td>2.00</td>\n",
              "      <td>Male</td>\n",
              "      <td>Yes</td>\n",
              "      <td>Sun</td>\n",
              "      <td>Dinner</td>\n",
              "      <td>2</td>\n",
              "    </tr>\n",
              "    <tr>\n",
              "      <th>177</th>\n",
              "      <td>14.48</td>\n",
              "      <td>2.00</td>\n",
              "      <td>Male</td>\n",
              "      <td>Yes</td>\n",
              "      <td>Sun</td>\n",
              "      <td>Dinner</td>\n",
              "      <td>2</td>\n",
              "    </tr>\n",
              "    <tr>\n",
              "      <th>179</th>\n",
              "      <td>34.63</td>\n",
              "      <td>3.55</td>\n",
              "      <td>Male</td>\n",
              "      <td>Yes</td>\n",
              "      <td>Sun</td>\n",
              "      <td>Dinner</td>\n",
              "      <td>2</td>\n",
              "    </tr>\n",
              "    <tr>\n",
              "      <th>180</th>\n",
              "      <td>34.65</td>\n",
              "      <td>3.68</td>\n",
              "      <td>Male</td>\n",
              "      <td>Yes</td>\n",
              "      <td>Sun</td>\n",
              "      <td>Dinner</td>\n",
              "      <td>4</td>\n",
              "    </tr>\n",
              "    <tr>\n",
              "      <th>181</th>\n",
              "      <td>23.33</td>\n",
              "      <td>5.65</td>\n",
              "      <td>Male</td>\n",
              "      <td>Yes</td>\n",
              "      <td>Sun</td>\n",
              "      <td>Dinner</td>\n",
              "      <td>2</td>\n",
              "    </tr>\n",
              "    <tr>\n",
              "      <th>182</th>\n",
              "      <td>45.35</td>\n",
              "      <td>3.50</td>\n",
              "      <td>Male</td>\n",
              "      <td>Yes</td>\n",
              "      <td>Sun</td>\n",
              "      <td>Dinner</td>\n",
              "      <td>3</td>\n",
              "    </tr>\n",
              "    <tr>\n",
              "      <th>183</th>\n",
              "      <td>23.17</td>\n",
              "      <td>6.50</td>\n",
              "      <td>Male</td>\n",
              "      <td>Yes</td>\n",
              "      <td>Sun</td>\n",
              "      <td>Dinner</td>\n",
              "      <td>4</td>\n",
              "    </tr>\n",
              "    <tr>\n",
              "      <th>184</th>\n",
              "      <td>40.55</td>\n",
              "      <td>3.00</td>\n",
              "      <td>Male</td>\n",
              "      <td>Yes</td>\n",
              "      <td>Sun</td>\n",
              "      <td>Dinner</td>\n",
              "      <td>2</td>\n",
              "    </tr>\n",
              "    <tr>\n",
              "      <th>187</th>\n",
              "      <td>30.46</td>\n",
              "      <td>2.00</td>\n",
              "      <td>Male</td>\n",
              "      <td>Yes</td>\n",
              "      <td>Sun</td>\n",
              "      <td>Dinner</td>\n",
              "      <td>5</td>\n",
              "    </tr>\n",
              "    <tr>\n",
              "      <th>189</th>\n",
              "      <td>23.10</td>\n",
              "      <td>4.00</td>\n",
              "      <td>Male</td>\n",
              "      <td>Yes</td>\n",
              "      <td>Sun</td>\n",
              "      <td>Dinner</td>\n",
              "      <td>3</td>\n",
              "    </tr>\n",
              "    <tr>\n",
              "      <th>190</th>\n",
              "      <td>15.69</td>\n",
              "      <td>1.50</td>\n",
              "      <td>Male</td>\n",
              "      <td>Yes</td>\n",
              "      <td>Sun</td>\n",
              "      <td>Dinner</td>\n",
              "      <td>2</td>\n",
              "    </tr>\n",
              "    <tr>\n",
              "      <th>192</th>\n",
              "      <td>28.44</td>\n",
              "      <td>2.56</td>\n",
              "      <td>Male</td>\n",
              "      <td>Yes</td>\n",
              "      <td>Thur</td>\n",
              "      <td>Lunch</td>\n",
              "      <td>2</td>\n",
              "    </tr>\n",
              "    <tr>\n",
              "      <th>193</th>\n",
              "      <td>15.48</td>\n",
              "      <td>2.02</td>\n",
              "      <td>Male</td>\n",
              "      <td>Yes</td>\n",
              "      <td>Thur</td>\n",
              "      <td>Lunch</td>\n",
              "      <td>2</td>\n",
              "    </tr>\n",
              "    <tr>\n",
              "      <th>194</th>\n",
              "      <td>16.58</td>\n",
              "      <td>4.00</td>\n",
              "      <td>Male</td>\n",
              "      <td>Yes</td>\n",
              "      <td>Thur</td>\n",
              "      <td>Lunch</td>\n",
              "      <td>2</td>\n",
              "    </tr>\n",
              "    <tr>\n",
              "      <th>196</th>\n",
              "      <td>10.34</td>\n",
              "      <td>2.00</td>\n",
              "      <td>Male</td>\n",
              "      <td>Yes</td>\n",
              "      <td>Thur</td>\n",
              "      <td>Lunch</td>\n",
              "      <td>2</td>\n",
              "    </tr>\n",
              "    <tr>\n",
              "      <th>199</th>\n",
              "      <td>13.51</td>\n",
              "      <td>2.00</td>\n",
              "      <td>Male</td>\n",
              "      <td>Yes</td>\n",
              "      <td>Thur</td>\n",
              "      <td>Lunch</td>\n",
              "      <td>2</td>\n",
              "    </tr>\n",
              "    <tr>\n",
              "      <th>200</th>\n",
              "      <td>18.71</td>\n",
              "      <td>4.00</td>\n",
              "      <td>Male</td>\n",
              "      <td>Yes</td>\n",
              "      <td>Thur</td>\n",
              "      <td>Lunch</td>\n",
              "      <td>3</td>\n",
              "    </tr>\n",
              "    <tr>\n",
              "      <th>204</th>\n",
              "      <td>20.53</td>\n",
              "      <td>4.00</td>\n",
              "      <td>Male</td>\n",
              "      <td>Yes</td>\n",
              "      <td>Thur</td>\n",
              "      <td>Lunch</td>\n",
              "      <td>4</td>\n",
              "    </tr>\n",
              "    <tr>\n",
              "      <th>206</th>\n",
              "      <td>26.59</td>\n",
              "      <td>3.41</td>\n",
              "      <td>Male</td>\n",
              "      <td>Yes</td>\n",
              "      <td>Sat</td>\n",
              "      <td>Dinner</td>\n",
              "      <td>3</td>\n",
              "    </tr>\n",
              "    <tr>\n",
              "      <th>207</th>\n",
              "      <td>38.73</td>\n",
              "      <td>3.00</td>\n",
              "      <td>Male</td>\n",
              "      <td>Yes</td>\n",
              "      <td>Sat</td>\n",
              "      <td>Dinner</td>\n",
              "      <td>4</td>\n",
              "    </tr>\n",
              "    <tr>\n",
              "      <th>208</th>\n",
              "      <td>24.27</td>\n",
              "      <td>2.03</td>\n",
              "      <td>Male</td>\n",
              "      <td>Yes</td>\n",
              "      <td>Sat</td>\n",
              "      <td>Dinner</td>\n",
              "      <td>2</td>\n",
              "    </tr>\n",
              "    <tr>\n",
              "      <th>210</th>\n",
              "      <td>30.06</td>\n",
              "      <td>2.00</td>\n",
              "      <td>Male</td>\n",
              "      <td>Yes</td>\n",
              "      <td>Sat</td>\n",
              "      <td>Dinner</td>\n",
              "      <td>3</td>\n",
              "    </tr>\n",
              "    <tr>\n",
              "      <th>211</th>\n",
              "      <td>25.89</td>\n",
              "      <td>5.16</td>\n",
              "      <td>Male</td>\n",
              "      <td>Yes</td>\n",
              "      <td>Sat</td>\n",
              "      <td>Dinner</td>\n",
              "      <td>4</td>\n",
              "    </tr>\n",
              "    <tr>\n",
              "      <th>216</th>\n",
              "      <td>28.15</td>\n",
              "      <td>3.00</td>\n",
              "      <td>Male</td>\n",
              "      <td>Yes</td>\n",
              "      <td>Sat</td>\n",
              "      <td>Dinner</td>\n",
              "      <td>5</td>\n",
              "    </tr>\n",
              "    <tr>\n",
              "      <th>217</th>\n",
              "      <td>11.59</td>\n",
              "      <td>1.50</td>\n",
              "      <td>Male</td>\n",
              "      <td>Yes</td>\n",
              "      <td>Sat</td>\n",
              "      <td>Dinner</td>\n",
              "      <td>2</td>\n",
              "    </tr>\n",
              "    <tr>\n",
              "      <th>218</th>\n",
              "      <td>7.74</td>\n",
              "      <td>1.44</td>\n",
              "      <td>Male</td>\n",
              "      <td>Yes</td>\n",
              "      <td>Sat</td>\n",
              "      <td>Dinner</td>\n",
              "      <td>2</td>\n",
              "    </tr>\n",
              "    <tr>\n",
              "      <th>220</th>\n",
              "      <td>12.16</td>\n",
              "      <td>2.20</td>\n",
              "      <td>Male</td>\n",
              "      <td>Yes</td>\n",
              "      <td>Fri</td>\n",
              "      <td>Lunch</td>\n",
              "      <td>2</td>\n",
              "    </tr>\n",
              "    <tr>\n",
              "      <th>222</th>\n",
              "      <td>8.58</td>\n",
              "      <td>1.92</td>\n",
              "      <td>Male</td>\n",
              "      <td>Yes</td>\n",
              "      <td>Fri</td>\n",
              "      <td>Lunch</td>\n",
              "      <td>1</td>\n",
              "    </tr>\n",
              "    <tr>\n",
              "      <th>224</th>\n",
              "      <td>13.42</td>\n",
              "      <td>1.58</td>\n",
              "      <td>Male</td>\n",
              "      <td>Yes</td>\n",
              "      <td>Fri</td>\n",
              "      <td>Lunch</td>\n",
              "      <td>2</td>\n",
              "    </tr>\n",
              "    <tr>\n",
              "      <th>230</th>\n",
              "      <td>24.01</td>\n",
              "      <td>2.00</td>\n",
              "      <td>Male</td>\n",
              "      <td>Yes</td>\n",
              "      <td>Sat</td>\n",
              "      <td>Dinner</td>\n",
              "      <td>4</td>\n",
              "    </tr>\n",
              "    <tr>\n",
              "      <th>231</th>\n",
              "      <td>15.69</td>\n",
              "      <td>3.00</td>\n",
              "      <td>Male</td>\n",
              "      <td>Yes</td>\n",
              "      <td>Sat</td>\n",
              "      <td>Dinner</td>\n",
              "      <td>3</td>\n",
              "    </tr>\n",
              "    <tr>\n",
              "      <th>234</th>\n",
              "      <td>15.53</td>\n",
              "      <td>3.00</td>\n",
              "      <td>Male</td>\n",
              "      <td>Yes</td>\n",
              "      <td>Sat</td>\n",
              "      <td>Dinner</td>\n",
              "      <td>2</td>\n",
              "    </tr>\n",
              "    <tr>\n",
              "      <th>236</th>\n",
              "      <td>12.60</td>\n",
              "      <td>1.00</td>\n",
              "      <td>Male</td>\n",
              "      <td>Yes</td>\n",
              "      <td>Sat</td>\n",
              "      <td>Dinner</td>\n",
              "      <td>2</td>\n",
              "    </tr>\n",
              "    <tr>\n",
              "      <th>237</th>\n",
              "      <td>32.83</td>\n",
              "      <td>1.17</td>\n",
              "      <td>Male</td>\n",
              "      <td>Yes</td>\n",
              "      <td>Sat</td>\n",
              "      <td>Dinner</td>\n",
              "      <td>2</td>\n",
              "    </tr>\n",
              "    <tr>\n",
              "      <th>241</th>\n",
              "      <td>22.67</td>\n",
              "      <td>2.00</td>\n",
              "      <td>Male</td>\n",
              "      <td>Yes</td>\n",
              "      <td>Sat</td>\n",
              "      <td>Dinner</td>\n",
              "      <td>2</td>\n",
              "    </tr>\n",
              "  </tbody>\n",
              "</table>\n",
              "</div>"
            ],
            "text/plain": [
              "     total_bill    tip   sex smoker   day    time  size\n",
              "56        38.01   3.00  Male    Yes   Sat  Dinner     4\n",
              "58        11.24   1.76  Male    Yes   Sat  Dinner     2\n",
              "60        20.29   3.21  Male    Yes   Sat  Dinner     2\n",
              "61        13.81   2.00  Male    Yes   Sat  Dinner     2\n",
              "62        11.02   1.98  Male    Yes   Sat  Dinner     2\n",
              "63        18.29   3.76  Male    Yes   Sat  Dinner     4\n",
              "69        15.01   2.09  Male    Yes   Sat  Dinner     2\n",
              "76        17.92   3.08  Male    Yes   Sat  Dinner     2\n",
              "80        19.44   3.00  Male    Yes  Thur   Lunch     2\n",
              "83        32.68   5.00  Male    Yes  Thur   Lunch     2\n",
              "90        28.97   3.00  Male    Yes   Fri  Dinner     2\n",
              "95        40.17   4.73  Male    Yes   Fri  Dinner     4\n",
              "96        27.28   4.00  Male    Yes   Fri  Dinner     2\n",
              "97        12.03   1.50  Male    Yes   Fri  Dinner     2\n",
              "98        21.01   3.00  Male    Yes   Fri  Dinner     2\n",
              "105       15.36   1.64  Male    Yes   Sat  Dinner     2\n",
              "106       20.49   4.06  Male    Yes   Sat  Dinner     2\n",
              "107       25.21   4.29  Male    Yes   Sat  Dinner     2\n",
              "138       16.00   2.00  Male    Yes  Thur   Lunch     2\n",
              "170       50.81  10.00  Male    Yes   Sat  Dinner     3\n",
              "171       15.81   3.16  Male    Yes   Sat  Dinner     2\n",
              "172        7.25   5.15  Male    Yes   Sun  Dinner     2\n",
              "173       31.85   3.18  Male    Yes   Sun  Dinner     2\n",
              "174       16.82   4.00  Male    Yes   Sun  Dinner     2\n",
              "175       32.90   3.11  Male    Yes   Sun  Dinner     2\n",
              "176       17.89   2.00  Male    Yes   Sun  Dinner     2\n",
              "177       14.48   2.00  Male    Yes   Sun  Dinner     2\n",
              "179       34.63   3.55  Male    Yes   Sun  Dinner     2\n",
              "180       34.65   3.68  Male    Yes   Sun  Dinner     4\n",
              "181       23.33   5.65  Male    Yes   Sun  Dinner     2\n",
              "182       45.35   3.50  Male    Yes   Sun  Dinner     3\n",
              "183       23.17   6.50  Male    Yes   Sun  Dinner     4\n",
              "184       40.55   3.00  Male    Yes   Sun  Dinner     2\n",
              "187       30.46   2.00  Male    Yes   Sun  Dinner     5\n",
              "189       23.10   4.00  Male    Yes   Sun  Dinner     3\n",
              "190       15.69   1.50  Male    Yes   Sun  Dinner     2\n",
              "192       28.44   2.56  Male    Yes  Thur   Lunch     2\n",
              "193       15.48   2.02  Male    Yes  Thur   Lunch     2\n",
              "194       16.58   4.00  Male    Yes  Thur   Lunch     2\n",
              "196       10.34   2.00  Male    Yes  Thur   Lunch     2\n",
              "199       13.51   2.00  Male    Yes  Thur   Lunch     2\n",
              "200       18.71   4.00  Male    Yes  Thur   Lunch     3\n",
              "204       20.53   4.00  Male    Yes  Thur   Lunch     4\n",
              "206       26.59   3.41  Male    Yes   Sat  Dinner     3\n",
              "207       38.73   3.00  Male    Yes   Sat  Dinner     4\n",
              "208       24.27   2.03  Male    Yes   Sat  Dinner     2\n",
              "210       30.06   2.00  Male    Yes   Sat  Dinner     3\n",
              "211       25.89   5.16  Male    Yes   Sat  Dinner     4\n",
              "216       28.15   3.00  Male    Yes   Sat  Dinner     5\n",
              "217       11.59   1.50  Male    Yes   Sat  Dinner     2\n",
              "218        7.74   1.44  Male    Yes   Sat  Dinner     2\n",
              "220       12.16   2.20  Male    Yes   Fri   Lunch     2\n",
              "222        8.58   1.92  Male    Yes   Fri   Lunch     1\n",
              "224       13.42   1.58  Male    Yes   Fri   Lunch     2\n",
              "230       24.01   2.00  Male    Yes   Sat  Dinner     4\n",
              "231       15.69   3.00  Male    Yes   Sat  Dinner     3\n",
              "234       15.53   3.00  Male    Yes   Sat  Dinner     2\n",
              "236       12.60   1.00  Male    Yes   Sat  Dinner     2\n",
              "237       32.83   1.17  Male    Yes   Sat  Dinner     2\n",
              "241       22.67   2.00  Male    Yes   Sat  Dinner     2"
            ]
          },
          "metadata": {
            "tags": []
          },
          "execution_count": 93
        }
      ]
    },
    {
      "cell_type": "markdown",
      "metadata": {
        "id": "C07u9IM4T91E"
      },
      "source": [
        "E ainda pode ser útil o operador `.isin()` que verifica a pertinência de um valor a uma lista,"
      ]
    },
    {
      "cell_type": "code",
      "metadata": {
        "colab": {
          "base_uri": "https://localhost:8080/",
          "height": 419
        },
        "id": "s4k7uHScUGhi",
        "outputId": "fe5a83f9-6527-4a76-df89-31a5a7e7d781"
      },
      "source": [
        "df[ (df.sex == 'Male') & (df.day.isin(['Sat','Sun'])) ]"
      ],
      "execution_count": null,
      "outputs": [
        {
          "output_type": "execute_result",
          "data": {
            "text/html": [
              "<div>\n",
              "<style scoped>\n",
              "    .dataframe tbody tr th:only-of-type {\n",
              "        vertical-align: middle;\n",
              "    }\n",
              "\n",
              "    .dataframe tbody tr th {\n",
              "        vertical-align: top;\n",
              "    }\n",
              "\n",
              "    .dataframe thead th {\n",
              "        text-align: right;\n",
              "    }\n",
              "</style>\n",
              "<table border=\"1\" class=\"dataframe\">\n",
              "  <thead>\n",
              "    <tr style=\"text-align: right;\">\n",
              "      <th></th>\n",
              "      <th>total_bill</th>\n",
              "      <th>tip</th>\n",
              "      <th>sex</th>\n",
              "      <th>smoker</th>\n",
              "      <th>day</th>\n",
              "      <th>time</th>\n",
              "      <th>size</th>\n",
              "    </tr>\n",
              "  </thead>\n",
              "  <tbody>\n",
              "    <tr>\n",
              "      <th>1</th>\n",
              "      <td>10.34</td>\n",
              "      <td>1.66</td>\n",
              "      <td>Male</td>\n",
              "      <td>No</td>\n",
              "      <td>Sun</td>\n",
              "      <td>Dinner</td>\n",
              "      <td>3</td>\n",
              "    </tr>\n",
              "    <tr>\n",
              "      <th>2</th>\n",
              "      <td>21.01</td>\n",
              "      <td>3.50</td>\n",
              "      <td>Male</td>\n",
              "      <td>No</td>\n",
              "      <td>Sun</td>\n",
              "      <td>Dinner</td>\n",
              "      <td>3</td>\n",
              "    </tr>\n",
              "    <tr>\n",
              "      <th>3</th>\n",
              "      <td>23.68</td>\n",
              "      <td>3.31</td>\n",
              "      <td>Male</td>\n",
              "      <td>No</td>\n",
              "      <td>Sun</td>\n",
              "      <td>Dinner</td>\n",
              "      <td>2</td>\n",
              "    </tr>\n",
              "    <tr>\n",
              "      <th>5</th>\n",
              "      <td>25.29</td>\n",
              "      <td>4.71</td>\n",
              "      <td>Male</td>\n",
              "      <td>No</td>\n",
              "      <td>Sun</td>\n",
              "      <td>Dinner</td>\n",
              "      <td>4</td>\n",
              "    </tr>\n",
              "    <tr>\n",
              "      <th>6</th>\n",
              "      <td>8.77</td>\n",
              "      <td>2.00</td>\n",
              "      <td>Male</td>\n",
              "      <td>No</td>\n",
              "      <td>Sun</td>\n",
              "      <td>Dinner</td>\n",
              "      <td>2</td>\n",
              "    </tr>\n",
              "    <tr>\n",
              "      <th>...</th>\n",
              "      <td>...</td>\n",
              "      <td>...</td>\n",
              "      <td>...</td>\n",
              "      <td>...</td>\n",
              "      <td>...</td>\n",
              "      <td>...</td>\n",
              "      <td>...</td>\n",
              "    </tr>\n",
              "    <tr>\n",
              "      <th>236</th>\n",
              "      <td>12.60</td>\n",
              "      <td>1.00</td>\n",
              "      <td>Male</td>\n",
              "      <td>Yes</td>\n",
              "      <td>Sat</td>\n",
              "      <td>Dinner</td>\n",
              "      <td>2</td>\n",
              "    </tr>\n",
              "    <tr>\n",
              "      <th>237</th>\n",
              "      <td>32.83</td>\n",
              "      <td>1.17</td>\n",
              "      <td>Male</td>\n",
              "      <td>Yes</td>\n",
              "      <td>Sat</td>\n",
              "      <td>Dinner</td>\n",
              "      <td>2</td>\n",
              "    </tr>\n",
              "    <tr>\n",
              "      <th>239</th>\n",
              "      <td>29.03</td>\n",
              "      <td>5.92</td>\n",
              "      <td>Male</td>\n",
              "      <td>No</td>\n",
              "      <td>Sat</td>\n",
              "      <td>Dinner</td>\n",
              "      <td>3</td>\n",
              "    </tr>\n",
              "    <tr>\n",
              "      <th>241</th>\n",
              "      <td>22.67</td>\n",
              "      <td>2.00</td>\n",
              "      <td>Male</td>\n",
              "      <td>Yes</td>\n",
              "      <td>Sat</td>\n",
              "      <td>Dinner</td>\n",
              "      <td>2</td>\n",
              "    </tr>\n",
              "    <tr>\n",
              "      <th>242</th>\n",
              "      <td>17.82</td>\n",
              "      <td>1.75</td>\n",
              "      <td>Male</td>\n",
              "      <td>No</td>\n",
              "      <td>Sat</td>\n",
              "      <td>Dinner</td>\n",
              "      <td>2</td>\n",
              "    </tr>\n",
              "  </tbody>\n",
              "</table>\n",
              "<p>117 rows × 7 columns</p>\n",
              "</div>"
            ],
            "text/plain": [
              "     total_bill   tip   sex smoker  day    time  size\n",
              "1         10.34  1.66  Male     No  Sun  Dinner     3\n",
              "2         21.01  3.50  Male     No  Sun  Dinner     3\n",
              "3         23.68  3.31  Male     No  Sun  Dinner     2\n",
              "5         25.29  4.71  Male     No  Sun  Dinner     4\n",
              "6          8.77  2.00  Male     No  Sun  Dinner     2\n",
              "..          ...   ...   ...    ...  ...     ...   ...\n",
              "236       12.60  1.00  Male    Yes  Sat  Dinner     2\n",
              "237       32.83  1.17  Male    Yes  Sat  Dinner     2\n",
              "239       29.03  5.92  Male     No  Sat  Dinner     3\n",
              "241       22.67  2.00  Male    Yes  Sat  Dinner     2\n",
              "242       17.82  1.75  Male     No  Sat  Dinner     2\n",
              "\n",
              "[117 rows x 7 columns]"
            ]
          },
          "metadata": {
            "tags": []
          },
          "execution_count": 95
        }
      ]
    },
    {
      "cell_type": "markdown",
      "metadata": {
        "id": "hfdXvfJjZp4y"
      },
      "source": [
        "# Exercícios"
      ]
    },
    {
      "cell_type": "markdown",
      "metadata": {
        "id": "kZJJx_XxUcIi"
      },
      "source": [
        "## Q0. Considere nossa base exemplo Tips. Considerando somente os finais de semana, quem tem média de participantes na mesa maior, fumantes ou não fumantes?\n",
        "\n"
      ]
    },
    {
      "cell_type": "markdown",
      "metadata": {
        "id": "k0HzcIvWZ6Vp"
      },
      "source": [
        "## Exercício: **CASE Insurance** \n",
        "\n",
        "Acesse a base de dados http://meusite.mackenzie.br/rogerio/data_load/insurance.csv para as questões a seguir."
      ]
    },
    {
      "cell_type": "code",
      "metadata": {
        "id": "LRND8mdAZ5of",
        "colab": {
          "base_uri": "https://localhost:8080/",
          "height": 204
        },
        "outputId": "2b33f8a2-21c7-4e34-9a2a-f59348b17202"
      },
      "source": [
        "df = pd.read_csv('http://meusite.mackenzie.br/rogerio/data_load/insurance.csv')\n",
        "df.head()"
      ],
      "execution_count": null,
      "outputs": [
        {
          "output_type": "execute_result",
          "data": {
            "text/html": [
              "<div>\n",
              "<style scoped>\n",
              "    .dataframe tbody tr th:only-of-type {\n",
              "        vertical-align: middle;\n",
              "    }\n",
              "\n",
              "    .dataframe tbody tr th {\n",
              "        vertical-align: top;\n",
              "    }\n",
              "\n",
              "    .dataframe thead th {\n",
              "        text-align: right;\n",
              "    }\n",
              "</style>\n",
              "<table border=\"1\" class=\"dataframe\">\n",
              "  <thead>\n",
              "    <tr style=\"text-align: right;\">\n",
              "      <th></th>\n",
              "      <th>age</th>\n",
              "      <th>sex</th>\n",
              "      <th>bmi</th>\n",
              "      <th>children</th>\n",
              "      <th>smoker</th>\n",
              "      <th>region</th>\n",
              "      <th>charges</th>\n",
              "    </tr>\n",
              "  </thead>\n",
              "  <tbody>\n",
              "    <tr>\n",
              "      <th>0</th>\n",
              "      <td>19</td>\n",
              "      <td>female</td>\n",
              "      <td>27.900</td>\n",
              "      <td>0</td>\n",
              "      <td>yes</td>\n",
              "      <td>southwest</td>\n",
              "      <td>16884.92400</td>\n",
              "    </tr>\n",
              "    <tr>\n",
              "      <th>1</th>\n",
              "      <td>18</td>\n",
              "      <td>male</td>\n",
              "      <td>33.770</td>\n",
              "      <td>1</td>\n",
              "      <td>no</td>\n",
              "      <td>southeast</td>\n",
              "      <td>1725.55230</td>\n",
              "    </tr>\n",
              "    <tr>\n",
              "      <th>2</th>\n",
              "      <td>28</td>\n",
              "      <td>male</td>\n",
              "      <td>33.000</td>\n",
              "      <td>3</td>\n",
              "      <td>no</td>\n",
              "      <td>southeast</td>\n",
              "      <td>4449.46200</td>\n",
              "    </tr>\n",
              "    <tr>\n",
              "      <th>3</th>\n",
              "      <td>33</td>\n",
              "      <td>male</td>\n",
              "      <td>22.705</td>\n",
              "      <td>0</td>\n",
              "      <td>no</td>\n",
              "      <td>northwest</td>\n",
              "      <td>21984.47061</td>\n",
              "    </tr>\n",
              "    <tr>\n",
              "      <th>4</th>\n",
              "      <td>32</td>\n",
              "      <td>male</td>\n",
              "      <td>28.880</td>\n",
              "      <td>0</td>\n",
              "      <td>no</td>\n",
              "      <td>northwest</td>\n",
              "      <td>3866.85520</td>\n",
              "    </tr>\n",
              "  </tbody>\n",
              "</table>\n",
              "</div>"
            ],
            "text/plain": [
              "   age     sex     bmi  children smoker     region      charges\n",
              "0   19  female  27.900         0    yes  southwest  16884.92400\n",
              "1   18    male  33.770         1     no  southeast   1725.55230\n",
              "2   28    male  33.000         3     no  southeast   4449.46200\n",
              "3   33    male  22.705         0     no  northwest  21984.47061\n",
              "4   32    male  28.880         0     no  northwest   3866.85520"
            ]
          },
          "metadata": {
            "tags": []
          },
          "execution_count": 99
        }
      ]
    },
    {
      "cell_type": "markdown",
      "metadata": {
        "id": "GC2yWSkjNwY8"
      },
      "source": [
        "## Q1. Qual percentual de homens e mulheres assegurados na base? "
      ]
    },
    {
      "cell_type": "markdown",
      "metadata": {
        "id": "__VBwOtBQIHR"
      },
      "source": [
        "## Q2. Qual o total dos valor de seguros pago por homens e mulheres segurados na base? "
      ]
    },
    {
      "cell_type": "markdown",
      "metadata": {
        "id": "qgs0dgQ3RTVw"
      },
      "source": [
        "## Q3. Qual o precentual de valor de seguros pagos por homens e mulheres segurados na base? "
      ]
    },
    {
      "cell_type": "markdown",
      "metadata": {
        "id": "M_Zokf5QRp3b"
      },
      "source": [
        "## Q4. Não fumantes apresentam em média mais filhos? "
      ]
    },
    {
      "cell_type": "markdown",
      "metadata": {
        "id": "jFUFT8VAWV88"
      },
      "source": [
        "## Q5. Qual a média e maior de idade dentre os segurados homem, das regiões northwest ou northeast?"
      ]
    },
    {
      "cell_type": "markdown",
      "metadata": {
        "id": "dokziaB0XLtj"
      },
      "source": [
        "\n",
        "\n",
        "## Exercício: **CASE:** **European Energy:** \n",
        "\n",
        "Qual o tipo de Energia mais produzido na Europa? O uso de fontes renováveis já é significativo? \n",
        "\n",
        "[European Energy link](https://github.com/rfordatascience/tidytuesday/blob/master/data/2020/2020-08-04/readme.md)\n",
        "\n",
        "Explore aqui como é a produção de Energia na Europa empregando a base de dados abaixo. Você pode achar útil fazer uma exploração inicial dos dados antes de começar."
      ]
    },
    {
      "cell_type": "code",
      "metadata": {
        "colab": {
          "base_uri": "https://localhost:8080/",
          "height": 204
        },
        "id": "1SMkGyMYXga8",
        "outputId": "47a4667f-3562-4636-c3d3-17d58907c232"
      },
      "source": [
        "import pandas as pd\n",
        "df = pd.read_csv('https://raw.githubusercontent.com/rfordatascience/tidytuesday/master/data/2020/2020-08-04/energy_types.csv') \n",
        "\n",
        "df.head()"
      ],
      "execution_count": null,
      "outputs": [
        {
          "output_type": "execute_result",
          "data": {
            "text/html": [
              "<div>\n",
              "<style scoped>\n",
              "    .dataframe tbody tr th:only-of-type {\n",
              "        vertical-align: middle;\n",
              "    }\n",
              "\n",
              "    .dataframe tbody tr th {\n",
              "        vertical-align: top;\n",
              "    }\n",
              "\n",
              "    .dataframe thead th {\n",
              "        text-align: right;\n",
              "    }\n",
              "</style>\n",
              "<table border=\"1\" class=\"dataframe\">\n",
              "  <thead>\n",
              "    <tr style=\"text-align: right;\">\n",
              "      <th></th>\n",
              "      <th>country</th>\n",
              "      <th>country_name</th>\n",
              "      <th>type</th>\n",
              "      <th>level</th>\n",
              "      <th>2016</th>\n",
              "      <th>2017</th>\n",
              "      <th>2018</th>\n",
              "    </tr>\n",
              "  </thead>\n",
              "  <tbody>\n",
              "    <tr>\n",
              "      <th>0</th>\n",
              "      <td>BE</td>\n",
              "      <td>Belgium</td>\n",
              "      <td>Conventional thermal</td>\n",
              "      <td>Level 1</td>\n",
              "      <td>30728.0</td>\n",
              "      <td>31316.0</td>\n",
              "      <td>30092.635</td>\n",
              "    </tr>\n",
              "    <tr>\n",
              "      <th>1</th>\n",
              "      <td>BE</td>\n",
              "      <td>Belgium</td>\n",
              "      <td>Nuclear</td>\n",
              "      <td>Level 1</td>\n",
              "      <td>41430.0</td>\n",
              "      <td>40128.5</td>\n",
              "      <td>26995.628</td>\n",
              "    </tr>\n",
              "    <tr>\n",
              "      <th>2</th>\n",
              "      <td>BE</td>\n",
              "      <td>Belgium</td>\n",
              "      <td>Hydro</td>\n",
              "      <td>Level 1</td>\n",
              "      <td>1476.0</td>\n",
              "      <td>1360.9</td>\n",
              "      <td>1239.248</td>\n",
              "    </tr>\n",
              "    <tr>\n",
              "      <th>3</th>\n",
              "      <td>BE</td>\n",
              "      <td>Belgium</td>\n",
              "      <td>Pumped hydro power</td>\n",
              "      <td>Level 2</td>\n",
              "      <td>1110.0</td>\n",
              "      <td>1093.2</td>\n",
              "      <td>983.190</td>\n",
              "    </tr>\n",
              "    <tr>\n",
              "      <th>4</th>\n",
              "      <td>BE</td>\n",
              "      <td>Belgium</td>\n",
              "      <td>Wind</td>\n",
              "      <td>Level 1</td>\n",
              "      <td>5340.0</td>\n",
              "      <td>6387.9</td>\n",
              "      <td>7177.346</td>\n",
              "    </tr>\n",
              "  </tbody>\n",
              "</table>\n",
              "</div>"
            ],
            "text/plain": [
              "  country country_name                  type  ...     2016     2017       2018\n",
              "0      BE      Belgium  Conventional thermal  ...  30728.0  31316.0  30092.635\n",
              "1      BE      Belgium               Nuclear  ...  41430.0  40128.5  26995.628\n",
              "2      BE      Belgium                 Hydro  ...   1476.0   1360.9   1239.248\n",
              "3      BE      Belgium    Pumped hydro power  ...   1110.0   1093.2    983.190\n",
              "4      BE      Belgium                  Wind  ...   5340.0   6387.9   7177.346\n",
              "\n",
              "[5 rows x 7 columns]"
            ]
          },
          "metadata": {
            "tags": []
          },
          "execution_count": 105
        }
      ]
    },
    {
      "cell_type": "markdown",
      "metadata": {
        "id": "lY7B1YMKNVB9"
      },
      "source": [
        "## Q6. Quantos tipos de energia e países diferentes há na base?"
      ]
    },
    {
      "cell_type": "markdown",
      "metadata": {
        "id": "GypmvP3lZEWR"
      },
      "source": [
        "## Q7. Qual o percentual de energia nuclear produzido na Europa no ano de 2018?"
      ]
    },
    {
      "cell_type": "markdown",
      "metadata": {
        "id": "1cIu6LriZ1N7"
      },
      "source": [
        "## Q8. Qual o percentual de energia nuclear produzido na França no ano de 2018?"
      ]
    },
    {
      "cell_type": "markdown",
      "metadata": {
        "id": "rEnUCFVtaNTa"
      },
      "source": [
        "## Q9. Qual o percentual de energias limpas produzida na Europa no ano de 2018?\n",
        "\n",
        "*Energias limpas somente Hidroelétrica, Eólica, Solar e Geotérmica.*"
      ]
    },
    {
      "cell_type": "markdown",
      "metadata": {
        "id": "7pY3c6iabNag"
      },
      "source": [
        "## Q10. Considerando os anos de 2016, 2017 e 2018, a produção de energias limpas tem aumentado na Europa? Verifique em termos absolutos e percentuais.\n",
        "\n",
        "*Energias limpas somente Hidroelétrica, Eólica, Solar e Geotérmica.*"
      ]
    }
  ]
}