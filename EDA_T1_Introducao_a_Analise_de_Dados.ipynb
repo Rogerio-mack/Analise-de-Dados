{
  "nbformat": 4,
  "nbformat_minor": 0,
  "metadata": {
    "kernelspec": {
      "display_name": "Python 3",
      "language": "python",
      "name": "python3"
    },
    "language_info": {
      "codemirror_mode": {
        "name": "ipython",
        "version": 3
      },
      "file_extension": ".py",
      "mimetype": "text/x-python",
      "name": "python",
      "nbconvert_exporter": "python",
      "pygments_lexer": "ipython3",
      "version": "3.7.4"
    },
    "colab": {
      "name": "EDA_T1_Introducao_a_Analise_de_Dados.ipynb",
      "provenance": [],
      "include_colab_link": true
    }
  },
  "cells": [
    {
      "cell_type": "markdown",
      "metadata": {
        "id": "view-in-github",
        "colab_type": "text"
      },
      "source": [
        "<a href=\"https://colab.research.google.com/github/Rogerio-mack/Analise-de-Dados/blob/main/EDA_T1_Introducao_a_Analise_de_Dados.ipynb\" target=\"_parent\"><img src=\"https://colab.research.google.com/assets/colab-badge.svg\" alt=\"Open In Colab\"/></a>"
      ]
    },
    {
      "cell_type": "markdown",
      "metadata": {
        "id": "J3LMBfpeHTwb"
      },
      "source": [
        "<head>\n",
        "  <meta name=\"author\" content=\"Rogério de Oliveira\">\n",
        "  <meta institution=\"author\" content=\"Universidade Presbiteriana Mackenzie\">\n",
        "</head>\n",
        "\n",
        "<img src=\"http://meusite.mackenzie.br/rogerio/mackenzie_logo/UPM.2_horizontal_vermelho.jpg\" width=300, align=\"right\">\n",
        "<!-- <h1 align=left><font size = 6, style=\"color:rgb(200,0,0)\"> optional title </font></h1> -->\n"
      ]
    },
    {
      "cell_type": "markdown",
      "metadata": {
        "id": "zQX8WQPeHTwc"
      },
      "source": [
        "<h1 align=left><font size = 6, style=\"color:rgb(200,0,0)\">T1 Introdução</font></h1>\n",
        "<hr>"
      ]
    },
    {
      "cell_type": "markdown",
      "metadata": {
        "id": "7z_FmHQcHTwc"
      },
      "source": [
        "# **Bem vindo!** \n",
        "\n",
        "**Antes de entrar nos conteúdos aqui...**\n",
        "\n",
        "Ou ao longo desse conteúdo, não deixe de explorar a programação completa do curso, o livro indicado etc. Essa exploração ajudará você a entender o caminho que vamos percorrer curso.\n",
        "\n",
        "> Sua Trilha de Aprendizado \n",
        "\n",
        "> Nesta aula faremos uma Introdução à Ciência de Dados e ao ambiente de programação `Python` que você empregará neste curso de Análise de Dados, e depois em Tecnologias da Informação e Comunicação, como parte da sua trilha de Análise de Dados complementando sua formação Estatística na Engenharia de Produção.\n",
        "\n",
        "\n"
      ]
    },
    {
      "cell_type": "markdown",
      "metadata": {
        "id": "Jqh0rqk8s1OO"
      },
      "source": [
        "# Motivação\n",
        "\n",
        "A transformação digital está trazendo uma série de mudanças nos negócios e na vida da pessoas em geral. Você já percebeu o impacto dessas mudanças para a indústria? Para a tomada de decisão nas empresas? Este curso fala um pouco dessas transformações e tenta avançar no sentido de prepará-lo para essa mudança.\n",
        "\n",
        "<br>\n",
        "<img src=\"http://meusite.mackenzie.br/rogerio/TIC2021S1/T1/industria40.png\" width=800, align=\"center\">\n",
        "<br>\n",
        "<h8 align=\"center\">\n",
        "Smart Production Planning and Control: Concept,\n",
        "Use-Cases and Sustainability Implications\n",
        "Olumide Emmanuel Oluyisola * , Fabio Sgarbossa and Jan Ola Strandhagen</h8>\n",
        "<br>\n",
        "\n",
        "Acesse [THE AGE OF ANALYTICS: COMPETING IN A DATA-DRIVEN WORLD (2016)](http://meusite.mackenzie.br/rogerio/TIC2021S1/T1/MGI-The-Age-of-Analytics-Executive-summary.pdf)\n",
        "\n",
        "<br>\n",
        "<img src=\"http://meusite.mackenzie.br/rogerio/TIC2021S1/T1/mckinsey.png\" width=500, align=\"center\">\n",
        "<br>\n",
        "<h8 align=\"center\">\n",
        "THE AGE OF ANALYTICS: COMPETING IN A DATA-DRIVEN WORLD (2016)</h8>\n",
        "<br>\n",
        "\n",
        "\n",
        "\n"
      ]
    },
    {
      "cell_type": "markdown",
      "metadata": {
        "id": "jXZGMYhSHTwd"
      },
      "source": [
        "# O que é a Ciência de Dados?"
      ]
    },
    {
      "cell_type": "markdown",
      "metadata": {
        "id": "yLdBqeN6HTwe"
      },
      "source": [
        "A **Ciência de Dados é uma disciplina que trata de como extrair e aplicar insights de informações à partir de dados**. É uma ciência interdisciplinar que emprega conceitos de Estatística, Aprendizado Máquina e diferentes técnicas Computacionais de obtenção e armazenamento de dados para obter esses insights dando suporte a decisões que podem ser automatizadas ou não.  \n",
        "\n",
        "Ciência de Dados, Aprendizado de Máquina, Mineração e Análise de Dados são normalmente empregados de forma similar. \n",
        "O quê todos trazem em comum? Todos estão relacionadas a fornecer um maior suporte à decisão através de dados.  \n",
        "\n",
        "O `Aprendizado de Máquina` concentra-se em criar algoritmos para extração de padrões dos dados.\n",
        "\n",
        "A `Mineração e Análise de Dados` está em geral associada à análise de dados estruturados com aplicações comerciais.\n",
        "\n",
        "A `Ciência de Dados` inclui todos esses aspectos e incorpora outros desafios como a captura e transformação de grandes volumes de dados (big data), manipulação de dados não estruturados (web, social networks), serviços de computação em nuvem, aspectos de segurança e privacidade etc.\n",
        "\n",
        "Sendo uma abordagem mais atual, damos aqui mais ênfase na Ciência de Dados, com a aplicação de algoritmos de aprendizado de máquina, que a Mineração e Análise de dados tradicionais de dados. \n"
      ]
    },
    {
      "cell_type": "markdown",
      "metadata": {
        "id": "XlHlnG3HHTwe"
      },
      "source": [
        "| Tipo  | Ciência de Dados | Análise Tradicional | \n",
        "| --- | --- | --- |\n",
        "Tipo de Dados | Não estruturados | Estruturados (linhas e colunas) | \n",
        "Volume de Dados | Big Data (centenas de Terabytes) | Dezenas de Terabytes ou menos | \n",
        "Fluxo de Dados | Contínuo, Big Data | Estático |\n",
        "Métodos de Análise | Machine Learning | Visual, Hypothesis-Based |\n",
        "Propósito | Data-base Products | Internal Support Decision | "
      ]
    },
    {
      "cell_type": "markdown",
      "metadata": {
        "id": "khuoEfh8HTwf"
      },
      "source": [
        "# Inteligência Artificial e Ciência de Dados \n",
        "\n",
        "Um têrmo que aparece bastante relacionado a Ciência de Dados é o termo Inteligência Artificial. Embora Inteligência Artificial, Ciência de Dados e Machine Learning tenham muito em comum não são exatamente disciplinas idênticas. A figura abaixo busca mostrar como essas disciplinas se relacionam.\n",
        "\n",
        "<br>\n",
        "<img src=\"http://meusite.mackenzie.br/rogerio/TIC2021S1/T1/Data_Science_VD.png\" width=500, align=\"center\">\n",
        "<h4 align=\"center\">AI, ML, DS e DL</h4>\n",
        "<br>\n",
        "\n",
        "A Inteligência Artificial envolve temas mais abrangentes como Visão Computacional, Robótica, Processamento de Linguagem Natural e outros paradigmas e linguagens de aprendizado. Recentemente muitas dessas tarefas vêem empregando algoritmos de Redes Neurais profundas (´Deep Learning´), modelos de Aprendizado de Máquinas baseados em redes neurais artificiais.\n",
        "\n",
        "\n"
      ]
    },
    {
      "cell_type": "markdown",
      "metadata": {
        "id": "PxLKMAeZHTwg"
      },
      "source": [
        "# Breve Histórico da Ciência de Dados\n",
        "\n",
        "Veja alguns *milestones* da Ciência de Dados.\n",
        "\n",
        "1. **17xx - 18xx** - Summary (desciptive) statistics. Fundamentos da Teoria das Probabilidades (Bernoulli, Bayes, Pascal). Distribuição de Probabilidades, Bayes's Rule (Laplace, Gauss). Least Square Method (Gauss). Bar, line, area and pie charts (William Playfair). \n",
        "\n",
        "1. **19xx - 20xx** - Hypothesis Test (Pearson). Multivariate Analysis (Fisher). Relational Data Model, SQL (Edgar F. Codd, 1970). Turing Machine (Allan Turing). Information Theory (Shannon, 1948). Artificial Neural Model (MCCulloch & Pitts, 1943). Discriminatory Analysis (=classification, Evelyn Fix & Hodges, 1951). First AI Workshop (1956, Dartmouth College).Machine Learning (kmeans, knn, Decision Trees, 1960-70). Computers. Early Internet. Early AI. Perceptron\n",
        "\n",
        "1. **20xx - 20xx** - Humans generate and store the same amount of data produced since inventing of writing every day. Search Engines. Social Networks. Google, Facebook, Spotify, Netflix. SmartPhones. IoT. Big Data (HDFS, Mapreduce). Deep Learning. t-SNE. Indústria 4.0. NoSQL databases. Cloud Computing. GPU. **Pela primeira vez o valor das Empresas de Informação (Google, Facebook etc.) superam o valor das empresas de Petróleo (2018)**\n",
        "\n",
        "\n",
        "Acesse [Data Science Timeline](https://medium.com/@zakharkhrystych/data-science-timeline-305ef75dceb6) para o timeline completo.\n",
        "\n",
        "\n",
        "\n",
        "\n",
        "\n",
        "\n",
        "\n",
        "\n"
      ]
    },
    {
      "cell_type": "markdown",
      "metadata": {
        "id": "8dJiYIuTHTwn"
      },
      "source": [
        "# Padrões e Tipos Aplicações\n",
        "\n",
        "Para obter esses \"insights\" sobre os dados a Ciência de Dados busca extrair `padrões` válidos, novos, potencialmente úteis e  compreensíveis sobre os dados.\n",
        "\n",
        "Podemos por exemplo identificar grupos de Clientes com os mesmos *padrões* de comportamento e gostos (**Customer Segmentation**), produtos que são adquiridos frequentemente juntos (**Association-rule Mining**), comportamentos anômalos, como uma operação de crédito fraudulenta, um tráfeco de internet anormal ou o mal comportamento de uma planta de produção (**Anomaly Detection**). Esses padrões podem classificar Clientes sujeitos a Crédito/ou Não Crédito, emails como Spam/Not Spam,  Apólices de Seguro em diferentes classes de risco, ou Peças produzidas com diferentes níveis de qualidade (**Classification**). Um padrão também pode fornecer uma estimativa de valores para formação de preços, como preços de Máquinas produzidas com peças de diferentes fornecedores, e previsão de valores como volumes de Produção e Consumo (**Regressão**).  \n",
        "\n",
        "Embora possamos extrair diferentes tipos de padrões, você sempre vai querer extrair padrões **não óbvios** e **úteis**. Além disso se existe um padrão já conhecido (por exemplo, um modelo físico para prever a velocidade de objeto) não há sentido em buscá-lo à partir dos dados.  \n",
        "\n",
        "\n",
        "<br>\n",
        "<img src=\"http://meusite.mackenzie.br/rogerio/TIC2021S1/T1/ML.png\" width=500, align=\"center\">\n",
        "<br>\n",
        "<h8 align=\"center\">\n",
        "Vasant Dhar. Data Science and Prediction (ACM 2013)</h8>\n",
        "<br>\n",
        "\n",
        "\n"
      ]
    },
    {
      "cell_type": "markdown",
      "metadata": {
        "id": "TJS1HgEbHTwo"
      },
      "source": [
        "# Exemplos de Aplicações\n",
        "\n",
        "Se você usa um celular, faz compras pela Internet, emprega redes sociais ou faz transações com um cartão de crédito você certamente já teve contato com aplicações de Ciência de Dados. Elas estão presentes quase todos os segmentos Finanças, Robótica, Marketing, Vendas, Indústria, Medicina, Ciências em geral, Governo etc.\n",
        "\n",
        "Um grande número de fatores tem contribuído para o recente crescimento do uso da Ciência de Dados sejam do lado da demanda, com novas aplicações (aplicações móveis, IoT, redes sociais, games, marketing digital, diagnósticos por imagem, aplicações geoespaciais), ou do lado da capacidade das soluções (aumento da capacidade computacional com o uso da computação em nuvem, tecnologias de armazenamento, GPU; grandes avanços no aprendizado de máquinas - *deep learning*, *graphical models*). *Deep Learning* vem trazendo um impacto massivo no segmento de tecnologias de consumo. Google e Baidu empregam DL para o reconhecimento de imagens, em search engines e em soluções de tradução automática. Apple Siri, Amazon Alexa, Microsoft Cortana e Samsung Bixby empregam DL para *speech recognition*.  \n",
        "\n",
        "Você encontrar abaixo alguns casos clássicos da aplicação da Ciência de Dados, aplicações em diferentes áreas, como *Smart Cities* e Eleições, e aplicações no Setor da Manufatura. \n"
      ]
    },
    {
      "cell_type": "markdown",
      "metadata": {
        "id": "m2Njvh8H_hPd"
      },
      "source": [
        "# Clássicos da Análise de Dados\n",
        "\n",
        "Esses cases constituem casos clássicos que passaram a fazer parte da história e mesmo do folclore da Ciência de Dados dando origem livros, filmes e uma série de estórias nem sempre fiéis. Mas eles ainda ilustram casos de bastante interesse."
      ]
    },
    {
      "cell_type": "markdown",
      "metadata": {
        "id": "V31xyN_rHTwo"
      },
      "source": [
        "* [How Target Figured Out A Teen Girl Was Pregnant Before Her Father Did](https://www.forbes.com/sites/kashmirhill/2012/02/16/how-target-figured-out-a-teen-girl-was-pregnant-before-her-father-did/#52ff65166668)\n",
        "\n",
        "* [Beer and Diapers (Nappies)](https://bigdatabigworld.wordpress.com/2014/11/25/beer-and-nappies/)\n",
        "\n",
        "* [The Story of Moneyball Proves Importance of Both Big Data and Big Ideas](https://datasciencedegree.wisconsin.edu/blog/moneyball-proves-importance-big-data-big-ideas/)\n",
        "\n",
        "* [You’ll Never Guess What Surprising Product Walmart Stocks up on Before Big Storms](https://www.southernliving.com/news/walmart-strawberry-pop-tarts-hurricane)\n"
      ]
    },
    {
      "cell_type": "markdown",
      "metadata": {
        "id": "p2TOw658HZa-"
      },
      "source": [
        "# Casos Gerais\n",
        "\n",
        "Basta dar um Google com 'Data Science' ou 'Ciência de Dados' e você encontrará inúmeros cases. Aqui vão alguns casos gerais, mas podemos discutir muitos outros em sala. Participe!\n",
        "\n",
        "* [casos gerais](https://data-flair.training/blogs/data-science-case-studies/)\n",
        "\n",
        "<img src=\"https://d2h0cx97tjks2p.cloudfront.net/blogs/wp-content/uploads/sites/2/2019/05/data-science-case-studies.jpg\" width=500, align=\"center\">\n",
        "\n",
        "* [Netflix](https://data-flair.training/blogs/data-science-at-netflix/)\n",
        "\n",
        "* [Twitter](https://data-flair.training/blogs/data-science-at-twitter/)\n",
        "\n",
        "* [Facebook](https://data-flair.training/blogs/data-science-at-facebook/)\n",
        "\n",
        "\n",
        "\n",
        "\n"
      ]
    },
    {
      "cell_type": "markdown",
      "metadata": {
        "id": "n4r4NfgAHTw3"
      },
      "source": [
        "# Ciência de Dados na Indústria? \n",
        "\n",
        "Acesse [Machine Learning and Data Science Applications in Industry](https://github.com/ashishpatel26/Real-time-ML-Project)\n",
        "\n",
        "<img src=\"https://github.com/firmai/industry-machine-learning/raw/master/assets/industry.png\" width=500, align=\"center\">\n",
        "\n",
        "- Desempenho, garantia de qualidade e rastreamento de defeitos\n",
        "- Manutenção preditiva e condicional\n",
        "- Previsão de demanda e rendimento\n",
        "- Cadeia de suprimentos e relações com fornecedores\n",
        "- Preços de mercado global\n",
        "- Automação e projeto de novas instalações\n",
        "- Novos processos e materiais para desenvolvimento de produtos e técnicas de produção\n",
        "- Sustentabilidade e maior eficiência energética\n",
        "\n",
        "Acesse [How is Data Science Used in Manufacturing?](https://www.sensrtrx.com/how-is-data-science-used-in-manufacturing-companies)"
      ]
    },
    {
      "cell_type": "markdown",
      "metadata": {
        "id": "1VBDnLzgHTxD"
      },
      "source": [
        "# O Processo de Ciência de Dados: **CRISP DM, Reference Model**\n",
        "\n",
        "O modelo de processo mais comumente empregado pelas empresas para análise de dados é o **CRISP-DM** (Cross Industry Standard Process for Dataming, 2000). Além do mais comum é um modelo independente de qualquer software, fornecedor ou técnica de análise.\n",
        "\n",
        "* [CRISP Visual Guide](http://meusite.mackenzie.br/rogerio/TIC2021S1/T1/crisp_visualguide.pdf)\n",
        "* [CRISP DM 1.0](http://meusite.mackenzie.br/rogerio/TIC2021S1/T1/crisp-dm.pdf)\n",
        "\n",
        "<br>\n",
        "<br>\n",
        "<img src=\"http://meusite.mackenzie.br/rogerio/TIC2021S1/T1/crispvg.png\" width=1000, align=\"center\">\n",
        "<br>\n",
        "<br>\n",
        "\n",
        "## Entendimento do negócio \n",
        "\n",
        "Esta fase inicial concentra-se em compreender os **objetivos e requisitos do projeto ou problema** de uma perspectiva de negócios, em seguida, convertendo este conhecimento em uma definição de problema de mineração de dados e um plano preliminar projetado para alcançar os objetivos.\n",
        "\n",
        "Como qualquer projeto é uma fase fundamental para o sucesso do projeto, com o alinhamento das expectativas, definição dos recursos etc.\n",
        "\n",
        "## Entendimento dos dados \n",
        "\n",
        "A fase de entendimento dos dados começa com a coleta de dados e segue com atividades que permitem que você familiarizar-se com os dados, identificar problemas de qualidade de dados, os primeiros insights sobre os dados e / ou detectar subconjuntos interessantes para formar hipóteses sobre informações ocultas.\n",
        "\n",
        "É uma fase de modelos e hipóteses simples, mas que podem já fornecer muitas respostas relevantes ao problema tratado. Seu resultado pode ser tão importante que muitas vezes atribuímos  o nome  **EDA Exploratory Data Analysis** ao seu resultado, destacando como um produto final de análise.\n",
        "\n",
        "## Preparação de dados\n",
        "\n",
        "A fase de preparação de dados incluir todas as atividades necessárias para tornar os dados adequados para a modelagem. As tarefas de preparação de dados provavelmente serão realizadas várias vezes e não em qualquer ordem prescrita. As tarefas incluem seleção de dados e atributos, transformações como normalização e recodificação dos dados, limpeza de dados (dados faltantes, ruídos, *outliers* etc.), merge de dados etc.\n",
        "\n",
        "É importante destacar que, na prática, a atividade de modelagem tem **80% do esforço concentrado nas fases de Entendimento e Preparação dos Dados**. Isto é, não obstante o eventual *glamour* do Cientista de Dados, seu trabalho consiste, na maior parte do tempo, em coletar e manusear grandes conjuntos de dados.\n",
        "\n",
        "## Modelagem\n",
        "\n",
        "Nesta fase, várias técnicas de modelagem são selecionadas e aplicadas, e seus parâmetros são calibrados para otimizar valores. Normalmente, existem várias técnicas para o mesmo tipo de problema de mineração de dados. Algumas técnicas têm requisitos na forma de dados. Portanto, voltar à fase de preparação de dados geralmente é necessário. Essa é uma característica importante desse modelo de referência: **as fases não necessariamente seguem sempre em uma única direção**, pois achados em uma etapa posterior podem sempre implicar na necessidade de voltar em tarefas das etapas anteriores.\n",
        "\n",
        "## Avaliação\n",
        "\n",
        "Nesta fase do projeto, você construiu um modelo (ou modelos) que parece ter alta qualidade a partir de uma análise de dados perspectiva. Antes de prosseguir para a implantação final do modelo, é importante avaliá-lo completamente e revisar as etapas executadas para criá-lo, para ter certeza de que o modelo atinja adequadamente os objetivos de negócios. \n",
        "\n",
        "Para isso é necessário **empregar métricas** que permitam avaliar os modelos. Um exemplo conhecido é o empregar o coeficiente de determinação ($R2$) para avaliação de diferentes modelos de regressão linear, existindo métricas como acuracidade, erro etc. para outros tipos de modelos.  \n",
        "\n",
        "## Distribuição\n",
        "\n",
        "A criação do modelo geralmente não é o fim do projeto. Os resultados do modelo precisa ser organizado e apresentado de forma que possa ser usado. Isso\n",
        "frequentemente envolve a inclusão de modelos dentro dos processos de tomada de decisão de uma organização. \n",
        "\n",
        "Isso pode envolver uma atividade simples de geração de um relatório em uma página Web até a implantação de diversos artefatos de software para coletar dados de compras de clientes e gerar recomendações automáticas no aplicativo de vendas para outros clientes. "
      ]
    },
    {
      "cell_type": "markdown",
      "metadata": {
        "id": "Xg_nH3JoHTxI"
      },
      "source": [
        "# Comunicação e Dados corretos \n",
        "\n",
        "Dois esforços nesse processo precisam ser destacados: a necessidade de uma boa comunicação e esforço desproporcional que temos para a obtenção dos dados corretos. \n",
        "\n",
        "Um aspecto chave no sucesso de projeto de Ciência de Dados é ser capaz de comunicar a estória dos dados. Não há nenhum retorno do projeto se seus resultados, modelo e padrões não são comunicados de modo que os colegas não técnicos da organização não possam entender e estarem confortáveis com eles.\n",
        "\n",
        "O outro aspecto refere-se a obtenção dos dados corretos.\n",
        "\n",
        "**\"The key to sucess is getting the right data and finding the right attributes\"** (Kelleher, Tierney, 2018).\n",
        "\n",
        "Você não irá identificar padrões úteis a menos que empregue dados corretos (*Garbage in, Garbage out*). É por isso que boa parte do esforço de um projeto de Ciência de Dados está concentrado em obter os dados corretos. Uma pesquisa de 2016 mostra que **78% é dispendido na preparação dos dados**.\n",
        "\n"
      ]
    },
    {
      "cell_type": "markdown",
      "metadata": {
        "id": "QpLWiz9I-Wo8"
      },
      "source": [
        "# Big Data e Ciência de Dados \n",
        "\n",
        "Também é frequente associarmos a Ciência de Dados a Big Data. A Ciência de Dados pode estar ou não associada a um grande volume de dados (Big Data). Embora ela seja essencial para grandes volumes de dados, ela pode ser aplicada a quaiquer conjuntos de dados independentemente do volume. \n",
        "\n",
        "<br>\n",
        "<br>\n",
        "<img src=\"https://www.ibmbigdatahub.com/sites/default/files/infographic_file/4-Vs-of-big-data.jpg\" width=800, align=\"center\">\n",
        "<br>\n",
        "<br>"
      ]
    },
    {
      "cell_type": "markdown",
      "metadata": {
        "id": "owygj89sHTxO"
      },
      "source": [
        "(*NIST Big Data Interoperability Framework: Volume 1*) Dados Big Data se caracterizam por:\n",
        "\n",
        "> - **Volume** (o tamanho dos arquivos de dados);\n",
        "> - **Velocidade** (a taxa em que são produzidos);\n",
        "> - **Variedade** (tipos de dados, domínios, formatos); \n",
        "> - **Veracidade** (refere-se aos dados serem confiáveis ou não). \n",
        "\n",
        "Mesmo com essas características a ideia é que esses dados ainda tenham uma organização que permita o seu processamento. É um desafio dos sistemas de Ciência de Dados fazer frente ao enorme volume de dados produzido. \n",
        "\n"
      ]
    },
    {
      "cell_type": "markdown",
      "metadata": {
        "id": "XMi-4-Jamxvo"
      },
      "source": [
        "# Análise exploratória dos dados\n",
        "\n",
        "> Este será o foco do nosso curso e iremos instrumentá-lo para que você esteja habilitado a realizar e compreender análises exploratórias de dados (EDA) de forma profissional.\n",
        "\n",
        "A análise exploratória de dados (EDA) é usada por cientistas de dados para analisar e investigar conjuntos de dados e resumir suas características principais, muitas vezes empregando métodos de visualização de dados. Ajuda a determinar a melhor maneira de manipular as fontes de dados para obter as respostas de que você precisa, tornando mais fácil para os cientistas de dados descobrir padrões, detectar anomalias, testar uma hipótese ou verificar suposições.\n",
        "\n",
        "A EDA é usado principalmente para ver o que os dados podem revelar além da modelagem formal ou tarefa de teste de hipótese. Busca também fornecer um melhor entendimento das variáveis relações entre elas. \n",
        "\n",
        "A EDA permite analisar os dados antes de fazer quaisquer suposições. Pode ajudar a identificar erros óbvios, bem como compreender melhor os padrões dentro dos dados, detectar outliers ou eventos anômalos, encontrar relações interessantes entre as variáveis. Os cientistas de dados empregam, então, a análise exploratória para garantir que os resultados que produzem sejam válidos e aplicáveis, antes mesmo de aplicá-los a modelos mais sofisticados de Aprendizado de Máquina. \n",
        "\n"
      ]
    },
    {
      "cell_type": "markdown",
      "metadata": {
        "id": "yMJyxZOSo27a"
      },
      "source": [
        "# Técnicas de análise exploratória \n",
        "\n",
        "Entre as Técnicas de EDA encontram-se: \n",
        "\n",
        "* **Visualização univariada de cada campo no conjunto de dados, com estatísticas resumidas.**\n",
        "* **Visualizações bivariadas e estatísticas resumidas** que permitem avaliar a relação entre cada variável no conjunto de dados e uma variável objetivo.\n",
        "* **Visualizações multivariadas**, para mapear e compreender as interações entre os diferentes dados.\n",
        "* Modelos preditivos simples, como regressão linear\n",
        "* **Agrupamentos**, redução de dimensão e clusterização \n",
        "\n",
        "> Os itens em negritos faram parte do nosso curso e vocês aprenderá a aplicar algumas dessas técnicas com Python."
      ]
    },
    {
      "cell_type": "markdown",
      "metadata": {
        "id": "0iVOKEqqHTxQ"
      },
      "source": [
        "# Ambientes Python e R\n",
        "\n",
        "Há uma ampla discussão sobre qual a melhor linguagem para Ciência de Dados. Mas essa é uma discussão que parece mais próxima de *qual é o melhor vinho? é o que você gosta*. Alguns critérios podem ajudam a definir Python & R como melhores linguagens que outras a Ciência de Dados, como curva de aprendizado, velocidade de processamento, capacidades de tratamento dos dados, capacidades gráficas e de visualização, confiabilidade no código, uso no mercado e comunidades etc. Todas essas características, embora no conjunto tornem Python e R mais adequadas para Ciência de Dados que outras linguagens de propósito geral (C, C++, Java, PHP, Pearl etc.), aparecem como muito similares quando comparadas as duas linguagens ou sem um consenso. Para dizer um mínimo, R tem capacidades gráficas e de visualização, e uma curva de aprendizado superiores para não programadores; Python, entretanto, vem sendo uma linguagem extremamente popular e grandes desenvolvimentos no aprendizado de máquina na última década, como *deep learning*, são desenvolvidos em Pyhton. O mais correto parece então decidir a *\"melhor linguagem\"* de acordo com a organização e propósito que será empregado.\n",
        "\n",
        "Ainda existem ferramentas do tipo **spreadsheet view of data**, ferramentas que acessam os dados em planilhas que podem ser imediatamente manipuladas pelos usuários (como Tableau, Qlik e outros) e ferramentas do tipo **drag-and-drop**, em que funções pré definidas podem ser arrastadas e coladas para compor um fluxo de processamento (como disponível em ferramentas como o SAS, SAS VA, Tableau, RapidMiner, Weka). Isso tem suas vantagens e desvantagens. Ferramentas visuais buscam aumentar a produtividade, mas o uso de linguagens de programação (código) em geral dá maior flexibilidade e permite maior reuso das soluções. Assim como no caso anterior o uso de uma solução ou outra deve ser analisada caso a caso, de acordo com a organização e propósito para que será empregada, sem necessariamente assumirmos que uma ou outra é a melhor solução.\n",
        "\n",
        "Além disso vamos lembrar que o mercado demanda, além das linguagens, skills que incluem SQL, Spark, Hadoop, Java, Serviços em Nuvem, Scala, Kafka etc.\n",
        "\n",
        "[comment]:<> (1. A análise de dados tem algumas características que a diferem do desenvolvimento mais tradicional de aplicações. Capacidades para desenvolvimento Web - frameworks, páginas responsivas, suporte Ajax etc. - ou aplicações Mobile, presentes em muitas linguagens, são em geral pouco necessárias para aplicações de Ciência de Dados. 2. É uma característica fundamental, presente no Python e no R, serem linguagens interpretadas e Open Source.)\n",
        "\n",
        "# Acessando Google Colab\n",
        "\n",
        "Em Ciência de Dados, e no desenvolvimento com Python e R, é comum o emprego de ambientes do tipo notebook para o desenvolvimento de código aberto e serviços para computação interativa. \n",
        "\n",
        "Empregaremos aqui o ambiente [*Google Colab*](https://colab.research.google.com/).\n",
        "\n",
        "**Opcionalmente você pode empregar notebooks Jupyter e apresentaremos para você como  instalar e empregar o Jupyter Notebook em seu computador como também empregar o editor Spyder.**\n",
        "\n"
      ]
    },
    {
      "cell_type": "markdown",
      "metadata": {
        "id": "flIwL6GCZbMh"
      },
      "source": [
        "# Atividades"
      ]
    },
    {
      "cell_type": "markdown",
      "metadata": {
        "_uuid": "3e410c3508beb0ff1c681badbacb4e0d32ceeb0a",
        "id": "6aVVqK9iZJnS"
      },
      "source": [
        "# **Parte I** Trabalhando com Notebooks\n",
        "\n"
      ]
    },
    {
      "cell_type": "markdown",
      "metadata": {
        "_uuid": "3e410c3508beb0ff1c681badbacb4e0d32ceeb0a",
        "id": "EKZ87HaaZJnT"
      },
      "source": [
        "## Atividade \n",
        "Empregue as duas células abaixo para você se familiarize em copiar, recortar, colar e mover células. Crie, altere e execute células do tipos `Markdown` (ou `Text`) e `Code`.  "
      ]
    },
    {
      "cell_type": "code",
      "metadata": {
        "id": "4eQW5FpKZJnT",
        "outputId": "b6ce6445-7a77-4313-ffb2-bf470463e25e"
      },
      "source": [
        "#\n",
        "# Esta é uma célula de código Python 3\n",
        "\n",
        "print('Ola! ')\n",
        "\n",
        "nome=input('Entre com o seu nome:')\n",
        "print('Bem vindo ', nome, '!' )\n",
        "\n",
        "#\n",
        "# Os índices em Python começam com 0\n",
        "\n",
        "inteiro=int(input('Entre com um inteiro entre 1 e 10:'))\n",
        "for i in range(inteiro):\n",
        "    print(i,nome)\n"
      ],
      "execution_count": null,
      "outputs": [
        {
          "output_type": "stream",
          "text": [
            "Ola! \n",
            "Entre com o seu nome:Rogerio\n",
            "Bem vindo  Rogerio !\n",
            "Entre com um inteiro entre 1 e 10:3\n",
            "0 Rogerio\n",
            "1 Rogerio\n",
            "2 Rogerio\n"
          ],
          "name": "stdout"
        }
      ]
    },
    {
      "cell_type": "markdown",
      "metadata": {
        "_uuid": "5b902e77df56a03ee28a1e052efba3319ebc7391",
        "id": "sX1_n8RGZJnW"
      },
      "source": [
        "# Esta é uma célula de texto\n",
        "## Esses são diferentes tipos de títulos\n",
        "### Que você pode criar\n",
        "#### Experimente\n",
        "\n",
        "Esses são diferentes tipos de **highlight**, *highlight*, `highlight`. \n",
        "\n",
        "Você pode incluir expressões matemáticas elaboradas em `Latex`: $e^{i\\pi} + 1 = 0$ \n",
        "\n",
        "E códigos fontes como texto (use *Tab*):\n",
        "\n",
        "    # Python code\n",
        "    print('Ola! ')\n",
        "    nome=input('Entre com o seu nome:')\n",
        "    print('Bem vindo ', nome, '!' )\n",
        "    \n",
        "**Para incluir Listas empregue \\* , \\\\ ou se preferir listas numeradas.**\n",
        "\n",
        "* One\n",
        "    - Sublist\n",
        "        - This\n",
        "* Two\n",
        "  - Sublist\n",
        "* Three\n",
        "  - Sublist\n",
        "\n",
        "1. Here we go\n",
        "    1. Sublist\n",
        "    2. Sublist\n",
        "2. There we go\n",
        "3. Now this\n",
        "\n",
        "> Empregue \\> para identar o texto\n",
        ">> Ou \\>>\n",
        "\n",
        "\n",
        "\n",
        "Os `Markdown` permitem ainda incluir textos em formato `HTML` incluindo imagens, tabelas etc. \n",
        "\n",
        "<h10 align=left><font size = 6, style=\"color:rgb(200,0,0)\">Para construir textos mais elaborados em HTML</font>\n",
        "\n",
        "<h10 align=left><font size = 5, style=\"color:rgb(200,0,0)\">Para construir textos mais elaborados em HTML</font>\n",
        "    \n",
        "<h10 align=left><font size = 4, style=\"color:rgb(200,0,0)\">Para construir textos mais elaborados em HTML</font>\n",
        "\n"
      ]
    },
    {
      "cell_type": "markdown",
      "metadata": {
        "id": "_FrFR177ZJnW"
      },
      "source": [
        "Isso já suficiente para você começar. Você ainda pode querer consultar a documentação do Jupyter ou do Colab para a criação de notebooks mais elaborados."
      ]
    },
    {
      "cell_type": "markdown",
      "metadata": {
        "id": "KPhCmf3keFgf"
      },
      "source": [
        "# **Parte II** Empregando exemplos para programar\n",
        "\n",
        "Uma forma fácil de criar programas é a partir de exemplos. Isso será muito útil para nós no curso quando, para muitas funções, não precisamos entrar em todos os detalhes do código. \n",
        "\n",
        "Isso funciona de forma semelhante a muitas tarefas do seu dia a dia. As substituições permitem você chegar aos resultado *abstraindo*  uma série de detalhes."
      ]
    },
    {
      "cell_type": "markdown",
      "metadata": {
        "id": "M1ekOPCqmcxk"
      },
      "source": [
        "## Em expressões matemáticas"
      ]
    },
    {
      "cell_type": "markdown",
      "metadata": {
        "id": "Nh0YPTvSmZ74"
      },
      "source": [
        "$$ f(x) = x^2 + 1 $$\n",
        "$$ x = a \\rightarrow f(a) = a^2 + 1 $$\n",
        "$$ x = (a - b) \\rightarrow f(a-b) = (a - b)^2 + 1 $$\n",
        "ou\n",
        "$$ f(x,y) = x^2 + y^2 + xy $$ \n",
        "$$ x = 1, y = a \\rightarrow f(1,a) = 1 + a^2 + a $$\n",
        "ou\n",
        "$$ f(x) = e^{2x^i - \\pi}$$ \n",
        "$$ x = \\beta \\rightarrow f(\\beta) = e^{2\\beta^i - \\pi} $$\n"
      ]
    },
    {
      "cell_type": "markdown",
      "metadata": {
        "id": "PZ0vVrtvmm1_"
      },
      "source": [
        "## Em textos"
      ]
    },
    {
      "cell_type": "markdown",
      "metadata": {
        "id": "sih_tLI6hcHQ"
      },
      "source": [
        "\n",
        "**Segue requerimento do aluno(a)** `nome do aluno`, **CPF** `cpf`, **para transferência da universidade** `nome da universidade de origem` **para a Universidade Presbiteriana Mackenzie...** ... `DD-MM-YYYY`.\n",
        "\n",
        "\n",
        "Requerimento = 'Ana Luiza' $\\rightarrow$\n",
        "\n",
        "**Segue requerimento do aluno(a)** Ana Luiza, **CPF** 182.128.993-24, **para transferência da universidade** UPM Campus Campinas **para a Universidade Presbiteriana Mackenzie...** ... 20-08-2020.\n",
        "\n"
      ]
    },
    {
      "cell_type": "markdown",
      "metadata": {
        "id": "PmhxISGcnBtV"
      },
      "source": [
        "## Em códigos\n",
        "\n",
        "\n",
        "Mostra imagem com tamanho (`width`) 300\n",
        "```\n",
        "<img src=\"http://meusite.mackenzie.br/rogerio/mackenzie_logo/UPM.2_horizontal_vermelho.jpg\" width=300, align=\"center\">\n",
        "\n",
        "```\n",
        "`width`= $\\rightarrow$ 100\n",
        "```\n",
        "<img src=\"http://meusite.mackenzie.br/rogerio/mackenzie_logo/UPM.2_horizontal_vermelho.jpg\" width=100, align=\"center\">\n",
        "```\n",
        "\n",
        "\n",
        "<img src=\"http://meusite.mackenzie.br/rogerio/mackenzie_logo/UPM.2_horizontal_vermelho.jpg\" width=300, align=\"center\">\n",
        "\n",
        "</br>\n",
        "\n",
        "<img src=\"http://meusite.mackenzie.br/rogerio/mackenzie_logo/UPM.2_horizontal_vermelho.jpg\" width=100, align=\"center\">\n",
        "\n",
        "\n",
        "\n"
      ]
    },
    {
      "cell_type": "markdown",
      "metadata": {
        "id": "7p10zuMuz4cR"
      },
      "source": [
        "<img src=\"http://meusite.mackenzie.br/rogerio/codesub1.png\" width=1000, align=\"center\">"
      ]
    },
    {
      "cell_type": "markdown",
      "metadata": {
        "id": "kRtYc5S4ovip"
      },
      "source": [
        "## Em um programa"
      ]
    },
    {
      "cell_type": "code",
      "metadata": {
        "id": "jiglSClgbuu4",
        "colab": {
          "base_uri": "https://localhost:8080/",
          "height": 34
        },
        "outputId": "297224cc-2be3-4b27-a4e8-ca1d32ac8bb9"
      },
      "source": [
        "# gera uma lista de 5 valores aleatórios entre 10 e 30\n",
        "import random\n",
        "random.seed(1984)\n",
        "lista = random.sample(range(10, 30), 5)\n",
        "print(lista)"
      ],
      "execution_count": null,
      "outputs": [
        {
          "output_type": "stream",
          "text": [
            "[21, 25, 20, 19, 16]\n"
          ],
          "name": "stdout"
        }
      ]
    },
    {
      "cell_type": "markdown",
      "metadata": {
        "id": "2AvyrnAEpK1i"
      },
      "source": [
        "Gere uma lista de 3 valores aleatórios entre 5 e 100"
      ]
    },
    {
      "cell_type": "code",
      "metadata": {
        "id": "FdFKyceMpJcO",
        "colab": {
          "base_uri": "https://localhost:8080/",
          "height": 34
        },
        "outputId": "6b79e2de-cdaf-4657-9057-850eb17772bf"
      },
      "source": [
        "# gera uma lista de 3 valores aleatórios entre 5 e 100\n",
        "import random\n",
        "random.seed(1984)\n",
        "lista = random.sample(range(5, 100), 3)\n",
        "print(lista)"
      ],
      "execution_count": null,
      "outputs": [
        {
          "output_type": "stream",
          "text": [
            "[51, 68, 48]\n"
          ],
          "name": "stdout"
        }
      ]
    },
    {
      "cell_type": "markdown",
      "metadata": {
        "id": "VggzAgMA0I-_"
      },
      "source": [
        "<img src=\"http://meusite.mackenzie.br/rogerio/codesub2.png\" width=1000, align=\"center\">"
      ]
    },
    {
      "cell_type": "code",
      "metadata": {
        "id": "8Jlvl4sJap_X",
        "colab": {
          "base_uri": "https://localhost:8080/",
          "height": 68
        },
        "outputId": "1282072e-340d-4445-fd3c-2b7c9d7f9836"
      },
      "source": [
        "# imprime os elementos de uma lista\n",
        "lista = [1,2,3]\n",
        "\n",
        "for elemento in lista:\n",
        "  print(elemento)"
      ],
      "execution_count": null,
      "outputs": [
        {
          "output_type": "stream",
          "text": [
            "1\n",
            "2\n",
            "3\n"
          ],
          "name": "stdout"
        }
      ]
    },
    {
      "cell_type": "code",
      "metadata": {
        "id": "FZnLMiyvcMqb",
        "colab": {
          "base_uri": "https://localhost:8080/",
          "height": 34
        },
        "outputId": "98b0ea54-5d16-490f-a3e1-d69884a2d643"
      },
      "source": [
        "# imprime os elementos pares de uma lista\n",
        "import numpy as np\n",
        "lista = [1,2,3]\n",
        "\n",
        "for elemento in lista:\n",
        "  if np.mod(elemento,2) == 0:\n",
        "    print(elemento)\n",
        "\n"
      ],
      "execution_count": null,
      "outputs": [
        {
          "output_type": "stream",
          "text": [
            "2\n"
          ],
          "name": "stdout"
        }
      ]
    },
    {
      "cell_type": "markdown",
      "metadata": {
        "id": "tSnF0p3FvPX6"
      },
      "source": [
        "## Experimente você \n",
        "\n",
        "Faça um programa da iterar sobre uma lista e fazer a soma do dos valores em uma variável inicial.\n",
        "\n",
        "```\n",
        "soma = 0\n",
        "\n",
        "```"
      ]
    },
    {
      "cell_type": "code",
      "metadata": {
        "id": "2UCDCzfDbKXg"
      },
      "source": [
        "# Seu código aqui\n"
      ],
      "execution_count": null,
      "outputs": []
    },
    {
      "cell_type": "markdown",
      "metadata": {
        "id": "VqEBdvI4vhDk"
      },
      "source": [
        "Double-click **aqui** para ver a resposta.\n",
        "<!-- Resposta:\n",
        "\n",
        "lista = [1,2,3]\n",
        "\n",
        "soma = 0\n",
        "for elemento in lista:\n",
        "  soma = soma + elemento\n",
        " \n",
        "print(soma) \n",
        "\n",
        "-->"
      ]
    },
    {
      "cell_type": "markdown",
      "metadata": {
        "id": "vnseff4uv27A"
      },
      "source": [
        "# **Exercício**\n",
        "\n",
        "Empregue os exemplos de código anteriores para:\n",
        "\n",
        "1. Gerar uma lista de 200 valores aleatórios entre 1 e 1000 (mantenha o `seed(1984)`).\n",
        "2. Some valores pares e exiba os resultados.\n",
        "\n",
        "Em seguida responda ao questionário no **Moodle**."
      ]
    },
    {
      "cell_type": "code",
      "metadata": {
        "id": "ba5YovAiaPPL"
      },
      "source": [
        "# gera uma lista de 200 valores aleatórios entre 1 e 1000\n",
        "\n",
        "\n",
        "# soma os valores pares da lista\n",
        "\n",
        "\n",
        "\n"
      ],
      "execution_count": null,
      "outputs": []
    }
  ]
}